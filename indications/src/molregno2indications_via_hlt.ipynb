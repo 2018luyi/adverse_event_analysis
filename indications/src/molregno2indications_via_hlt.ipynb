{
 "cells": [
  {
   "cell_type": "code",
   "execution_count": null,
   "metadata": {},
   "outputs": [],
   "source": [
    "\"\"\"After MedDRA hierarchy analysis on indication terms, extract HLT and retrieve other PTs/LLT in that HLT. Save dictionary with molregno to MedDRA PT/LLT indications, expanded via HLT. \"\"\""
   ]
  },
  {
   "cell_type": "code",
   "execution_count": null,
   "metadata": {},
   "outputs": [],
   "source": [
    "import pandas as pd\n",
    "import argparse\n",
    "import sqlite3 as sqlite\n",
    "import pickle\n",
    "import itertools"
   ]
  },
  {
   "cell_type": "code",
   "execution_count": null,
   "metadata": {},
   "outputs": [],
   "source": [
    "# Command line argparse arguments\n",
    "\n",
    "parser = argparse.ArgumentParser()\n",
    "parser.add_argument(\"--project_dir\", help=\"directory\")\n",
    "parser.add_argument(\"--mapped_compounds_db\", type=str, help=\"database with mapped compounds (from compound_mapping dir)\")\n",
    "parser.add_argument(\"--mesh2meddra_df\")\n",
    "parser.add_argument(\"--meddra_hier_output\")\n",
    "parser.add_argument(\"--all_aes_meddra_hier_file\", type=str, help='meddra output file from hierarchy analysis on all adverse events in dataset')\n",
    "parser.add_argument(\"--may_prevent_dict\")\n",
    "parser.add_argument('--may_treat_dict')\n",
    "\n",
    "args = parser.parse_args()\n",
    "project_dir = args.project_dir"
   ]
  },
  {
   "cell_type": "code",
   "execution_count": null,
   "metadata": {},
   "outputs": [],
   "source": [
    "# Open pickled indications\n",
    "\n",
    "# Pickle dictionaries\n",
    "\n",
    "with open(args.may_prevent_dict, 'rb') as f:\n",
    "    may_prevent_rxnorm2disease = pickle.load(f)\n",
    "with open(args.may_treat_dict, 'rb') as f:\n",
    "    may_treat_rxnorm2disease = pickle.load(f)"
   ]
  },
  {
   "cell_type": "code",
   "execution_count": null,
   "metadata": {},
   "outputs": [],
   "source": [
    "# Open previous mesh2meddra file\n",
    "mesh2meddra_df = pd.read_csv(args.mesh2meddra_df, sep='\\t')"
   ]
  },
  {
   "cell_type": "code",
   "execution_count": null,
   "metadata": {},
   "outputs": [],
   "source": [
    "# Need to make Mesh ID to Meddra dictionary\n",
    "# Checked that there is a meddra per mesh\n",
    "\n",
    "mesh2meddra = dict()\n",
    "for row in mesh2meddra_df[['MEDDRA','MESH_ID']].drop_duplicates().iterrows():\n",
    "    meddra = row[1]['MEDDRA']\n",
    "    mesh_id = row[1]['MESH_ID']\n",
    "    mesh2meddra[mesh_id] = meddra"
   ]
  },
  {
   "cell_type": "code",
   "execution_count": null,
   "metadata": {},
   "outputs": [],
   "source": [
    "# Open meddra hierarchy analysis output\n",
    "inds_hlgt = pd.read_excel(args.meddra_hier_output,skiprows=4)\n",
    "inds_hlgt.columns = ['Row ID', 'Term', ' Code', 'Level', 'PT', 'PT Code', 'HLT', 'HLT Code',\n",
    "       'HLGT', 'HLGT Code', 'SOC', 'SOC Code', 'Primary SOC']\n",
    "inds_hlgt['Term'] = [i.upper() for i in inds_hlgt['Term']]"
   ]
  },
  {
   "cell_type": "code",
   "execution_count": null,
   "metadata": {},
   "outputs": [],
   "source": [
    "# Open sqlite database with rxnorm to molregno mappings\n",
    "conn = sqlite.connect(args.mapped_compounds_db)\n",
    "cur = conn.cursor()\n",
    "\n",
    "# Find all RxNorm IDs that have a mapped molregno\n",
    "\n",
    "compound_query = \"\"\"select mapped_parent_molregno, rxnorm_concept\n",
    "from compound_structures\n",
    "where mapped_parent_molregno is not null\n",
    "\"\"\"\n",
    "molregno_rxnorm = cur.execute(compound_query).fetchall()\n",
    "\n",
    "conn.close()"
   ]
  },
  {
   "cell_type": "code",
   "execution_count": null,
   "metadata": {},
   "outputs": [],
   "source": [
    "# There is one molregno for each Rxnorm id\n",
    "\n",
    "rxnorm2molregno = dict()\n",
    "for i in molregno_rxnorm:\n",
    "    molregno = i[0]\n",
    "    rxnorm = i[1]\n",
    "    rxnorm2molregno[rxnorm] = molregno"
   ]
  },
  {
   "cell_type": "code",
   "execution_count": null,
   "metadata": {},
   "outputs": [],
   "source": [
    "# Open file with HLTs for all AE meddra terms\n",
    "meddra_hlgt = pd.read_excel(args.all_aes_meddra_hier_file,skiprows=4)\n",
    "meddra_hlgt.columns = ['Row ID', 'Term', ' Code', 'Level', 'PT', 'PT Code', 'HLT', 'HLT Code',\n",
    "       'HLGT', 'HLGT Code', 'SOC', 'SOC Code', 'Primary SOC']\n",
    "meddra_hlgt['Term'] = [i.upper() for i in meddra_hlgt['Term']]\n",
    "meddra_hlgt['PT'] = [i.upper() for i in meddra_hlgt['PT']]"
   ]
  },
  {
   "cell_type": "code",
   "execution_count": null,
   "metadata": {},
   "outputs": [],
   "source": [
    "all_hlgt = pd.concat([inds_hlgt, meddra_hlgt])\n",
    "\n",
    "term2hlt = dict()\n",
    "hlt2terms = dict()\n",
    "for hlt in set(all_hlgt['HLT'].drop_duplicates()):\n",
    "    hlt2terms[hlt] = set()"
   ]
  },
  {
   "cell_type": "code",
   "execution_count": null,
   "metadata": {},
   "outputs": [],
   "source": [
    "# If there is a PT, add to dict\n",
    "for row in all_hlgt.loc[~all_hlgt['PT'].isnull(),['Term','HLT']].iterrows():\n",
    "    term = row[1]['Term']\n",
    "    hlt = row[1]['HLT']\n",
    "    term2hlt[term] = hlt\n",
    "    hlt2terms[hlt].add(term)"
   ]
  },
  {
   "cell_type": "code",
   "execution_count": null,
   "metadata": {},
   "outputs": [],
   "source": [
    "# Sometimes the ind is a HLT, not PT\n",
    "# In those cases add the occurring terms for that HLT from all_se file instead\n",
    "for row in all_hlgt.loc[all_hlgt['PT'].isnull(),['Term','HLT']].iterrows():\n",
    "    term = row[1]['Term']\n",
    "    hlt = row[1]['HLT']\n",
    "    term2hlt[term] = hlt\n",
    "    \n",
    "    occuring_terms = list(meddra_hlgt.loc[meddra_hlgt['HLT']==hlt,'Term'].drop_duplicates())\n",
    "    for se_term in occuring_terms:\n",
    "        hlt2terms[hlt].add(se_term)"
   ]
  },
  {
   "cell_type": "code",
   "execution_count": null,
   "metadata": {},
   "outputs": [],
   "source": [
    "# Start adding meddra inds"
   ]
  },
  {
   "cell_type": "code",
   "execution_count": null,
   "metadata": {},
   "outputs": [],
   "source": [
    "# Make empty molregno dictionary based on RxNorm ids with indications\n",
    "\n",
    "rxnorm_ids_w_indications = may_prevent_rxnorm2disease.keys() | may_treat_rxnorm2disease.keys()\n",
    "molregnos_w_indications = [rxnorm2molregno[rxnorm_id] for rxnorm_id in rxnorm_ids_w_indications]\n",
    "\n",
    "molregno2meddra_inds_via_hlt = dict()\n",
    "for molregno in molregnos_w_indications:\n",
    "    molregno2meddra_inds_via_hlt[molregno] = set()"
   ]
  },
  {
   "cell_type": "code",
   "execution_count": null,
   "metadata": {},
   "outputs": [],
   "source": [
    "# Loop over indications and add to dictionary\n",
    "def add_indications(my_dict):\n",
    "\n",
    "    for rxnorm_id in my_dict.keys():\n",
    "        molregno = rxnorm2molregno[rxnorm_id]\n",
    "        mesh_indications = my_dict[rxnorm_id]\n",
    "\n",
    "        meddra_indications = set()\n",
    "        for ind in mesh_indications:\n",
    "            try:\n",
    "                meddra_ind = mesh2meddra[ind[1]]\n",
    "                meddra_indications.add(meddra_ind)\n",
    "            except KeyError:\n",
    "                continue\n",
    "        meddra_indications_hlt = [term2hlt[term] for term in meddra_indications]\n",
    "        all_meddra_indication_terms = set([i for i in itertools.chain(*[hlt2terms[hlt] for hlt in meddra_indications_hlt])])\n",
    "    \n",
    "        for meddra_ind in all_meddra_indication_terms:\n",
    "            molregno2meddra_inds_via_hlt[molregno].add(meddra_ind)\n",
    "\n",
    "add_indications(my_dict=may_prevent_rxnorm2disease)\n",
    "add_indications(my_dict=may_treat_rxnorm2disease)"
   ]
  },
  {
   "cell_type": "code",
   "execution_count": null,
   "metadata": {},
   "outputs": [],
   "source": [
    "with open(project_dir + '/results/molregno2meddra_inds_via_hlt.pkl', 'wb') as f:\n",
    "    pickle.dump(molregno2meddra_inds_via_hlt, f)"
   ]
  }
 ],
 "metadata": {
  "kernelspec": {
   "display_name": "Python 3",
   "language": "python",
   "name": "python3"
  },
  "language_info": {
   "codemirror_mode": {
    "name": "ipython",
    "version": 3
   },
   "file_extension": ".py",
   "mimetype": "text/x-python",
   "name": "python",
   "nbconvert_exporter": "python",
   "pygments_lexer": "ipython3",
   "version": "3.6.7"
  }
 },
 "nbformat": 4,
 "nbformat_minor": 4
}
