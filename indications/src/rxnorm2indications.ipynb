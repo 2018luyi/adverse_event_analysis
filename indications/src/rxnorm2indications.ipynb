{
 "cells": [
  {
   "cell_type": "code",
   "execution_count": null,
   "metadata": {},
   "outputs": [],
   "source": [
    "\"\"\"For each RxNorm id, get drug indications from RxClass API. Use MRCONSO file from UMLS to map to MedDRA terms. Save file with MedDRA terms for hierarchy analysis.\"\"\""
   ]
  },
  {
   "cell_type": "code",
   "execution_count": null,
   "metadata": {},
   "outputs": [],
   "source": [
    "import pandas as pd\n",
    "import sqlite3 as sqlite\n",
    "import argparse\n",
    "import requests\n",
    "import time\n",
    "import pickle\n",
    "import datetime\n",
    "import itertools\n",
    "from pandas import ExcelWriter"
   ]
  },
  {
   "cell_type": "code",
   "execution_count": null,
   "metadata": {},
   "outputs": [],
   "source": [
    "# Command line argparse arguments\n",
    "\n",
    "parser = argparse.ArgumentParser()\n",
    "parser.add_argument(\"--project_dir\", help=\"directory\")\n",
    "parser.add_argument(\"--mapped_compounds_db\", type=str, help=\"database with mapped compounds (from compound_mapping dir)\")\n",
    "parser.add_argument(\"--mrconso_file\", type=str, help=\"MRCONSO.RRF file downloaded from UMLS\")\n",
    "\n",
    "args = parser.parse_args()\n",
    "project_dir = args.project_dir"
   ]
  },
  {
   "cell_type": "code",
   "execution_count": null,
   "metadata": {},
   "outputs": [],
   "source": [
    "# Open sqlite database with rxnorm to molregno mappings\n",
    "conn = sqlite.connect(args.mapped_compounds_db)\n",
    "cur = conn.cursor()\n",
    "\n",
    "# Find all RxNorm IDs that have a mapped molregno\n",
    "compound_query = \"\"\"select distinct rxnorm_concept\n",
    "from compound_structures\n",
    "where mapped_parent_molregno is not null\n",
    "\"\"\"\n",
    "rxnorm_ids = [i[0] for i in cur.execute(compound_query).fetchall()]\n",
    "print('Nr of RxNorm ids: {}'.format(len(rxnorm_ids)))\n",
    "conn.close()"
   ]
  },
  {
   "cell_type": "code",
   "execution_count": null,
   "metadata": {},
   "outputs": [],
   "source": [
    "# RxNorm version in the current RxNorm API # Ideally this is the same as the RxNorn downloaded files\n",
    "response = requests.get('https://rxnav.nlm.nih.gov/REST/version.json')\n",
    "\n",
    "with open(project_dir + '/results/RxNorm_API_version.txt', 'w') as f:\n",
    "    f.write(response.content.decode())"
   ]
  },
  {
   "cell_type": "code",
   "execution_count": null,
   "metadata": {},
   "outputs": [],
   "source": [
    "base = 'https://rxnav.nlm.nih.gov/REST/rxclass'\n",
    "def do_request(cui, rel):\n",
    "    r = requests.get(base + f'/class/byRxcui.json?rxcui={cui}&relaSource=MEDRT&relas={rel}')\n",
    "    if r.status_code == 200:\n",
    "        return r\n",
    "    else:\n",
    "        print(cui, r.status_code)"
   ]
  },
  {
   "cell_type": "code",
   "execution_count": null,
   "metadata": {},
   "outputs": [],
   "source": [
    "may_treat_rxnorm2disease = dict()\n",
    "\n",
    "for cui in rxnorm_ids:\n",
    "    r = do_request(cui, rel='may_treat')\n",
    "    time.sleep(0.1)\n",
    "\n",
    "    indications = set()\n",
    "\n",
    "    try:\n",
    "        for item in r.json()['rxclassDrugInfoList']['rxclassDrugInfo']:\n",
    "            disease = item['rxclassMinConceptItem']['className']\n",
    "            mesh_id = item['rxclassMinConceptItem']['classId']\n",
    "            indications.add((disease, mesh_id))\n",
    "        if len(indications) > 0:\n",
    "            may_treat_rxnorm2disease[cui] = indications\n",
    "    except KeyError:\n",
    "        continue"
   ]
  },
  {
   "cell_type": "code",
   "execution_count": null,
   "metadata": {},
   "outputs": [],
   "source": [
    "print(datetime.datetime.now().strftime(\"%H:%M:%S\") + ' Finished retrieving \"may_treat\" relationships')"
   ]
  },
  {
   "cell_type": "code",
   "execution_count": null,
   "metadata": {},
   "outputs": [],
   "source": [
    "may_prevent_rxnorm2disease = dict()\n",
    "\n",
    "for cui in rxnorm_ids:\n",
    "    r = do_request(cui, rel='may_prevent')\n",
    "    time.sleep(0.1)\n",
    "\n",
    "    indications = set()\n",
    "\n",
    "    try:\n",
    "        for item in r.json()['rxclassDrugInfoList']['rxclassDrugInfo']:\n",
    "            disease = item['rxclassMinConceptItem']['className']\n",
    "            mesh_id = item['rxclassMinConceptItem']['classId']\n",
    "            indications.add((disease, mesh_id))\n",
    "        if len(indications) > 0:\n",
    "            may_prevent_rxnorm2disease[cui] = indications\n",
    "    except KeyError:\n",
    "        continue"
   ]
  },
  {
   "cell_type": "code",
   "execution_count": null,
   "metadata": {},
   "outputs": [],
   "source": [
    "print(datetime.datetime.now().strftime(\"%H:%M:%S\") + ' Finished retrieving \"may_prevent\" relationships')"
   ]
  },
  {
   "cell_type": "code",
   "execution_count": null,
   "metadata": {},
   "outputs": [],
   "source": [
    "# Pickle dictionaries\n",
    "\n",
    "with open(project_dir + '/data/rxnorm2may_treat.pkl', 'wb') as f:\n",
    "    pickle.dump(may_treat_rxnorm2disease, f)\n",
    "with open(project_dir + '/data/rxnorm2may_prevent.pkl', 'wb') as f:\n",
    "    pickle.dump(may_prevent_rxnorm2disease, f)\n",
    "print('Pickled dictionaries in /data...')"
   ]
  },
  {
   "cell_type": "code",
   "execution_count": null,
   "metadata": {},
   "outputs": [],
   "source": [
    "print(datetime.datetime.now().strftime(\"%H:%M:%S\") + ' Starting to load MRCONSO file... ')\n",
    "# Open MRCONSO file from UMLS, to map between vocabularies\n",
    "umls_conso_loc = args.mrconso_file\n",
    "umls_conso = pd.read_csv(umls_conso_loc, sep='|', header=None, names=['CUI','LAT', 'TS', 'LUI', 'STT', 'SUI', 'ISPREF', 'AUI', 'SAUI', 'SCUI', 'SDUI', 'SAB', 'TTY', 'CODE', 'STR', 'SRL', 'SUPPRESS', 'CVF'], index_col=False)\n",
    "umls_conso['STR'] = umls_conso['STR'].apply(lambda x: str(x).upper())"
   ]
  },
  {
   "cell_type": "code",
   "execution_count": null,
   "metadata": {},
   "outputs": [],
   "source": [
    "# Locate the rows with indications for the compounds above\n",
    "all_indications = set([i[1] for i in itertools.chain(*may_prevent_rxnorm2disease.values())]) | set([i[1] for i in itertools.chain(*may_treat_rxnorm2disease.values())])\n",
    "umls_indications = umls_conso.loc[(umls_conso['SAB']=='MSH')&(umls_conso['SDUI'].isin(all_indications)),['CUI','STR', 'CODE','TTY']].drop_duplicates()\n",
    "umls_indications.columns = ['CUI', 'MESH', 'MESH_ID', 'MESH TYPE']"
   ]
  },
  {
   "cell_type": "code",
   "execution_count": null,
   "metadata": {},
   "outputs": [],
   "source": [
    "# Find MedDRA terms corresponding to downloaded indications in MeSH terminology\n",
    "umls_indications_meddra = umls_conso.loc[(umls_conso['SAB']=='MDR')&(umls_conso['CUI'].isin(umls_indications['CUI'].drop_duplicates())),['CUI','STR','SDUI','TTY']].drop_duplicates()\n",
    "umls_indications_meddra.columns = ['CUI', 'MEDDRA','MEDDRA_ID', 'MEDDRA TYPE']\n",
    "conso_merged = umls_indications_meddra.merge(umls_indications, on='CUI', suffixes = ['',''])"
   ]
  },
  {
   "cell_type": "code",
   "execution_count": null,
   "metadata": {},
   "outputs": [],
   "source": [
    "conso_merged.to_csv(project_dir + '/data/mesh2meddra_df.txt', sep='\\t', index=False)\n",
    "print(datetime.datetime.now().strftime(\"%H:%M:%S\") + ' Wrote file with MeSH and MedDRA terms to /data.')"
   ]
  },
  {
   "cell_type": "code",
   "execution_count": null,
   "metadata": {},
   "outputs": [],
   "source": [
    "# Need to do MedDRA hierarchy analysis for all these terms\n",
    "inds_df = pd.DataFrame({'Term': list(conso_merged['MEDDRA'].drop_duplicates())})\n",
    "inds_df.reset_index(inplace=True)\n",
    "inds_df.columns = ['Row ID', 'Term']"
   ]
  },
  {
   "cell_type": "code",
   "execution_count": null,
   "metadata": {},
   "outputs": [],
   "source": [
    "writer = ExcelWriter(project_dir + '/data/meddra_terms_indications_hierarchy_input.xlsx')\n",
    "inds_df.to_excel(writer,'Sheet1', index=False)\n",
    "writer.save()\n",
    "print(datetime.datetime.now().strftime(\"%H:%M:%S\") + ' Wrote input file with MedDRA terms (total {}) to /data for hierarchy analysis.'.format(len(inds_df)))"
   ]
  }
 ],
 "metadata": {
  "kernelspec": {
   "display_name": "Python 3",
   "language": "python",
   "name": "python3"
  },
  "language_info": {
   "codemirror_mode": {
    "name": "ipython",
    "version": 3
   },
   "file_extension": ".py",
   "mimetype": "text/x-python",
   "name": "python",
   "nbconvert_exporter": "python",
   "pygments_lexer": "ipython3",
   "version": "3.7.0"
  }
 },
 "nbformat": 4,
 "nbformat_minor": 4
}
