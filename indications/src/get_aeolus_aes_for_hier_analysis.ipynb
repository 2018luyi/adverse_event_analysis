{
 "cells": [
  {
   "cell_type": "code",
   "execution_count": null,
   "metadata": {},
   "outputs": [],
   "source": [
    "\"\"\"Get all MedDRA terms occurring in FAERS AEOLUS and save to excel file for hierarchy analysis in MedDRA web-based browser.\"\"\""
   ]
  },
  {
   "cell_type": "code",
   "execution_count": null,
   "metadata": {},
   "outputs": [],
   "source": [
    "import argparse\n",
    "import pymysql\n",
    "import pandas as pd\n",
    "from pandas import ExcelWriter"
   ]
  },
  {
   "cell_type": "code",
   "execution_count": null,
   "metadata": {},
   "outputs": [],
   "source": [
    "parser = argparse.ArgumentParser()\n",
    "parser.add_argument(\"--mysql_defaults\", type=str, help=\"file to mysql details\")\n",
    "parser.add_argument(\"--project_dir\", help=\"directory\")\n",
    "\n",
    "args = parser.parse_args()\n",
    "project_dir = args.project_dir"
   ]
  },
  {
   "cell_type": "code",
   "execution_count": null,
   "metadata": {},
   "outputs": [],
   "source": [
    "aeolus_conn = pymysql.connect(read_default_file=args.mysql_defaults, unix_socket='/var/run/mysqld/mysqld.sock')\n",
    "cursor = aeolus_conn.cursor()\n",
    "my_query = \"\"\"select distinct upper(pt) from standard_case_outcome\"\"\"\n",
    "cursor.execute(my_query)\n",
    "result = [i[0] for i in cursor.fetchall()]\n",
    "aeolus_conn.close()"
   ]
  },
  {
   "cell_type": "code",
   "execution_count": null,
   "metadata": {},
   "outputs": [],
   "source": [
    "# Need to do MedDRA hierarchy analysis for all these terms\n",
    "aes_df = pd.DataFrame(result)\n",
    "aes_df.reset_index(inplace=True)\n",
    "aes_df.columns = ['Row ID', 'Term']"
   ]
  },
  {
   "cell_type": "code",
   "execution_count": null,
   "metadata": {},
   "outputs": [],
   "source": [
    "writer = ExcelWriter(project_dir + '/data/all_aeolus_aes_hierarchy_input.xlsx')\n",
    "aes_df.to_excel(writer,'Sheet1', index=False)\n",
    "writer.save()\n",
    "print('Wrote input file with MedDRA terms (total {}) to /data for hierarchy analysis.'.format(len(aes_df)))"
   ]
  }
 ],
 "metadata": {
  "kernelspec": {
   "display_name": "Python 3",
   "language": "python",
   "name": "python3"
  },
  "language_info": {
   "codemirror_mode": {
    "name": "ipython",
    "version": 3
   },
   "file_extension": ".py",
   "mimetype": "text/x-python",
   "name": "python",
   "nbconvert_exporter": "python",
   "pygments_lexer": "ipython3",
   "version": "3.6.7"
  }
 },
 "nbformat": 4,
 "nbformat_minor": 4
}
