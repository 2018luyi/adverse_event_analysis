{
 "cells": [
  {
   "cell_type": "code",
   "execution_count": 1,
   "metadata": {},
   "outputs": [],
   "source": [
    "import sqlite3 as sqlite\n",
    "import pandas as pd"
   ]
  },
  {
   "cell_type": "code",
   "execution_count": 9,
   "metadata": {},
   "outputs": [
    {
     "name": "stderr",
     "output_type": "stream",
     "text": [
      "/usr/local/shared/anaconda/python3/5.3.1/lib/python3.7/site-packages/IPython/core/interactiveshell.py:2785: DtypeWarning: Columns (13) have mixed types. Specify dtype option on import or set low_memory=False.\n",
      "  interactivity=interactivity, compiler=compiler, result=result)\n"
     ]
    }
   ],
   "source": [
    "chembl_query_results = pd.read_csv('/scratch/ias41/FAERS_y3/ae_target_links/data/faers_sider_chembl_processed.txt', sep = '\\t')"
   ]
  },
  {
   "cell_type": "code",
   "execution_count": 10,
   "metadata": {},
   "outputs": [],
   "source": [
    "chembl_query_results_human = chembl_query_results.loc[chembl_query_results['target_organism']=='Homo sapiens',]"
   ]
  },
  {
   "cell_type": "code",
   "execution_count": 11,
   "metadata": {},
   "outputs": [],
   "source": [
    "result_molregnos = list(chembl_query_results_human['parent_molregno'].drop_duplicates())"
   ]
  },
  {
   "cell_type": "code",
   "execution_count": 12,
   "metadata": {},
   "outputs": [],
   "source": [
    "# Open sqlite database with \n",
    "conn = sqlite.connect('/scratch/ias41/FAERS_y3/compound_mapping/output/201903_mapped_compounds_calculon.db')\n",
    "cur = conn.cursor()"
   ]
  },
  {
   "cell_type": "code",
   "execution_count": 13,
   "metadata": {},
   "outputs": [],
   "source": [
    "parent_query = \"\"\"\n",
    "select distinct aeolus_concept\n",
    "from compound_structures\n",
    "where mapped_parent_molregno in ({})\"\"\".format(', '.join([str(i) for i in result_molregnos]))"
   ]
  },
  {
   "cell_type": "code",
   "execution_count": 14,
   "metadata": {},
   "outputs": [],
   "source": [
    "aeolus_concepts_for_ae_detection = [i[0] for i in cur.execute(parent_query).fetchall()]"
   ]
  },
  {
   "cell_type": "code",
   "execution_count": 15,
   "metadata": {},
   "outputs": [
    {
     "name": "stdout",
     "output_type": "stream",
     "text": [
      "[700253, 700299, 700465, 701322, 702685, 702774, 702865, 703083, 703244, 703547]\n"
     ]
    },
    {
     "data": {
      "text/plain": [
       "1348"
      ]
     },
     "execution_count": 15,
     "metadata": {},
     "output_type": "execute_result"
    }
   ],
   "source": [
    "print(aeolus_concepts_for_ae_detection[:10])\n",
    "len(aeolus_concepts_for_ae_detection)"
   ]
  },
  {
   "cell_type": "code",
   "execution_count": 17,
   "metadata": {},
   "outputs": [],
   "source": [
    "with open('/scratch/ias41/ae_code/psm_aeolus/data/aeolus_ids_with_bioact_for_ae_detection.txt', 'w') as f:\n",
    "    f.write('\\n'.join(str(i) for i in aeolus_concepts_for_ae_detection))"
   ]
  },
  {
   "cell_type": "code",
   "execution_count": 18,
   "metadata": {},
   "outputs": [],
   "source": [
    "conn.close()"
   ]
  },
  {
   "cell_type": "code",
   "execution_count": 25,
   "metadata": {},
   "outputs": [],
   "source": [
    "# Make file with rest to run\n",
    "with open('/scratch/ias41/ae_code/psm_aeolus/data/aeolus_ids_with_bioact_for_ae_detection.txt', 'r') as f:\n",
    "    drugs_w_bioact = [int(i) for i in f.read().split('\\n')]"
   ]
  },
  {
   "cell_type": "code",
   "execution_count": 29,
   "metadata": {},
   "outputs": [],
   "source": [
    "# Make file with rest to run\n",
    "with open('/scratch/ias41/ae_code/psm_aeolus/data/aeolus_ids_for_ae_detection.txt', 'r') as f:\n",
    "    all_drugs = [int(i) for i in f.read().split('\\n')]"
   ]
  },
  {
   "cell_type": "code",
   "execution_count": 30,
   "metadata": {},
   "outputs": [
    {
     "data": {
      "text/plain": [
       "(1348, 3526)"
      ]
     },
     "execution_count": 30,
     "metadata": {},
     "output_type": "execute_result"
    }
   ],
   "source": [
    "len(drugs_w_bioact), len(all_drugs)"
   ]
  },
  {
   "cell_type": "code",
   "execution_count": 31,
   "metadata": {},
   "outputs": [],
   "source": [
    "rest = list(set(drugs_wo_bioact) - set(drugs_w_bioact))"
   ]
  },
  {
   "cell_type": "code",
   "execution_count": 32,
   "metadata": {},
   "outputs": [
    {
     "data": {
      "text/plain": [
       "2178"
      ]
     },
     "execution_count": 32,
     "metadata": {},
     "output_type": "execute_result"
    }
   ],
   "source": [
    "len(rest)"
   ]
  },
  {
   "cell_type": "code",
   "execution_count": 34,
   "metadata": {},
   "outputs": [],
   "source": [
    "with open('/scratch/ias41/ae_code/psm_aeolus/data/aeolus_ids_wo_bioact.txt', 'w') as f:\n",
    "    f.write('\\n'.join(str(i) for i in rest))"
   ]
  },
  {
   "cell_type": "code",
   "execution_count": null,
   "metadata": {},
   "outputs": [],
   "source": []
  }
 ],
 "metadata": {
  "kernelspec": {
   "display_name": "Python 3",
   "language": "python",
   "name": "python3"
  },
  "language_info": {
   "codemirror_mode": {
    "name": "ipython",
    "version": 3
   },
   "file_extension": ".py",
   "mimetype": "text/x-python",
   "name": "python",
   "nbconvert_exporter": "python",
   "pygments_lexer": "ipython3",
   "version": "3.6.7"
  }
 },
 "nbformat": 4,
 "nbformat_minor": 4
}
