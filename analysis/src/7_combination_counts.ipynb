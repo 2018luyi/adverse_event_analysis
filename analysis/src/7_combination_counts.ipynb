{
 "cells": [
  {
   "cell_type": "code",
   "execution_count": 1,
   "metadata": {},
   "outputs": [],
   "source": [
    "import pandas as pd\n",
    "import pickle\n",
    "import seaborn as sns\n",
    "import matplotlib.pyplot as plt"
   ]
  },
  {
   "cell_type": "code",
   "execution_count": 2,
   "metadata": {},
   "outputs": [],
   "source": [
    "basedir = '/scratch/ias41/ae_code'"
   ]
  },
  {
   "cell_type": "code",
   "execution_count": 3,
   "metadata": {},
   "outputs": [],
   "source": [
    "with open(basedir + '/analysis/data/dirs_info.pkl', 'rb') as f:\n",
    "    dirs = pickle.load(f)"
   ]
  },
  {
   "cell_type": "code",
   "execution_count": 4,
   "metadata": {},
   "outputs": [],
   "source": [
    "faers_data = dirs['20200110_faers_unbound_margin_pred_005_PRR2']\n",
    "sider_data = dirs['20200110_sider_unbound_margin_pred']"
   ]
  },
  {
   "cell_type": "code",
   "execution_count": 5,
   "metadata": {},
   "outputs": [
    {
     "data": {
      "text/plain": [
       "'20200110_faers_unbound_margin_pred_005_PRR2'"
      ]
     },
     "execution_count": 5,
     "metadata": {},
     "output_type": "execute_result"
    }
   ],
   "source": [
    "faers_data['dir']"
   ]
  },
  {
   "cell_type": "code",
   "execution_count": 6,
   "metadata": {},
   "outputs": [],
   "source": [
    "faers_all_combs = pd.read_csv(basedir + '/ae_target_links/output/' + faers_data['dir'] + '/combinations/all_target_combinations.txt', sep='\\t')\n",
    "faers_best_combs = pd.read_csv(basedir + '/ae_target_links/output/' + faers_data['dir'] + '/combinations/best_target_combinations.txt', sep='\\t')"
   ]
  },
  {
   "cell_type": "code",
   "execution_count": 7,
   "metadata": {},
   "outputs": [],
   "source": [
    "sider_all_combs = pd.read_csv(basedir + '/ae_target_links/output/' + sider_data['dir'] + '/combinations/all_target_combinations.txt', sep='\\t')\n",
    "sider_best_combs = pd.read_csv(basedir + '/ae_target_links/output/' + sider_data['dir'] + '/combinations/best_target_combinations.txt', sep='\\t')"
   ]
  },
  {
   "cell_type": "code",
   "execution_count": 8,
   "metadata": {},
   "outputs": [],
   "source": [
    "for df in sider_best_combs, faers_best_combs, faers_all_combs, sider_all_combs:\n",
    "    df['nr targets'] = df['Targets'].apply(lambda x: len(eval(x)))"
   ]
  },
  {
   "cell_type": "code",
   "execution_count": 9,
   "metadata": {},
   "outputs": [
    {
     "data": {
      "text/plain": [
       "(44, 44)"
      ]
     },
     "execution_count": 9,
     "metadata": {},
     "output_type": "execute_result"
    }
   ],
   "source": [
    "len(faers_all_combs['Adverse Event'].drop_duplicates()), len(faers_best_combs['Adverse Event'].drop_duplicates())"
   ]
  },
  {
   "cell_type": "code",
   "execution_count": 10,
   "metadata": {},
   "outputs": [
    {
     "data": {
      "text/plain": [
       "(59, 59)"
      ]
     },
     "execution_count": 10,
     "metadata": {},
     "output_type": "execute_result"
    }
   ],
   "source": [
    "len(sider_all_combs['Adverse Event'].drop_duplicates()), len(sider_best_combs['Adverse Event'].drop_duplicates())"
   ]
  },
  {
   "cell_type": "code",
   "execution_count": 11,
   "metadata": {},
   "outputs": [
    {
     "data": {
      "text/plain": [
       "99"
      ]
     },
     "execution_count": 11,
     "metadata": {},
     "output_type": "execute_result"
    }
   ],
   "source": [
    "len(set(faers_best_combs['Adverse Event'].drop_duplicates()) | set(sider_best_combs['Adverse Event'].drop_duplicates()))"
   ]
  },
  {
   "cell_type": "code",
   "execution_count": 12,
   "metadata": {},
   "outputs": [],
   "source": [
    "faers_counts = pd.DataFrame(faers_best_combs.groupby('nr_targets').nunique())\n",
    "faers_counts['% assoc'] = (faers_counts['Adverse Event'] / 44)*100"
   ]
  },
  {
   "cell_type": "code",
   "execution_count": 13,
   "metadata": {},
   "outputs": [
    {
     "data": {
      "text/html": [
       "<div>\n",
       "<style scoped>\n",
       "    .dataframe tbody tr th:only-of-type {\n",
       "        vertical-align: middle;\n",
       "    }\n",
       "\n",
       "    .dataframe tbody tr th {\n",
       "        vertical-align: top;\n",
       "    }\n",
       "\n",
       "    .dataframe thead th {\n",
       "        text-align: right;\n",
       "    }\n",
       "</style>\n",
       "<table border=\"1\" class=\"dataframe\">\n",
       "  <thead>\n",
       "    <tr style=\"text-align: right;\">\n",
       "      <th></th>\n",
       "      <th>Targets</th>\n",
       "      <th>nr_targets</th>\n",
       "      <th>Adverse Event</th>\n",
       "      <th>Overall_PPV</th>\n",
       "      <th>Overall_recall</th>\n",
       "      <th>Compounds screened</th>\n",
       "      <th>Compounds screened with AE</th>\n",
       "      <th>Compounds found</th>\n",
       "      <th>False positives</th>\n",
       "      <th>nr targets</th>\n",
       "      <th>% assoc</th>\n",
       "    </tr>\n",
       "    <tr>\n",
       "      <th>nr_targets</th>\n",
       "      <th></th>\n",
       "      <th></th>\n",
       "      <th></th>\n",
       "      <th></th>\n",
       "      <th></th>\n",
       "      <th></th>\n",
       "      <th></th>\n",
       "      <th></th>\n",
       "      <th></th>\n",
       "      <th></th>\n",
       "      <th></th>\n",
       "    </tr>\n",
       "  </thead>\n",
       "  <tbody>\n",
       "    <tr>\n",
       "      <th>1</th>\n",
       "      <td>13</td>\n",
       "      <td>1</td>\n",
       "      <td>27</td>\n",
       "      <td>19</td>\n",
       "      <td>15</td>\n",
       "      <td>20</td>\n",
       "      <td>15</td>\n",
       "      <td>6</td>\n",
       "      <td>15</td>\n",
       "      <td>1</td>\n",
       "      <td>61.363636</td>\n",
       "    </tr>\n",
       "    <tr>\n",
       "      <th>2</th>\n",
       "      <td>15</td>\n",
       "      <td>1</td>\n",
       "      <td>17</td>\n",
       "      <td>16</td>\n",
       "      <td>13</td>\n",
       "      <td>14</td>\n",
       "      <td>10</td>\n",
       "      <td>5</td>\n",
       "      <td>15</td>\n",
       "      <td>1</td>\n",
       "      <td>38.636364</td>\n",
       "    </tr>\n",
       "  </tbody>\n",
       "</table>\n",
       "</div>"
      ],
      "text/plain": [
       "            Targets  nr_targets  Adverse Event  Overall_PPV  Overall_recall  \\\n",
       "nr_targets                                                                    \n",
       "1                13           1             27           19              15   \n",
       "2                15           1             17           16              13   \n",
       "\n",
       "            Compounds screened  Compounds screened with AE  Compounds found  \\\n",
       "nr_targets                                                                    \n",
       "1                           20                          15                6   \n",
       "2                           14                          10                5   \n",
       "\n",
       "            False positives  nr targets    % assoc  \n",
       "nr_targets                                          \n",
       "1                        15           1  61.363636  \n",
       "2                        15           1  38.636364  "
      ]
     },
     "execution_count": 13,
     "metadata": {},
     "output_type": "execute_result"
    }
   ],
   "source": [
    "faers_counts"
   ]
  },
  {
   "cell_type": "code",
   "execution_count": 14,
   "metadata": {},
   "outputs": [],
   "source": [
    "sider_counts = pd.DataFrame(sider_best_combs.groupby('nr_targets').nunique())\n",
    "sider_counts['% assoc'] = (sider_counts['Adverse Event'] / 59)*100"
   ]
  },
  {
   "cell_type": "code",
   "execution_count": 15,
   "metadata": {},
   "outputs": [
    {
     "data": {
      "text/html": [
       "<div>\n",
       "<style scoped>\n",
       "    .dataframe tbody tr th:only-of-type {\n",
       "        vertical-align: middle;\n",
       "    }\n",
       "\n",
       "    .dataframe tbody tr th {\n",
       "        vertical-align: top;\n",
       "    }\n",
       "\n",
       "    .dataframe thead th {\n",
       "        text-align: right;\n",
       "    }\n",
       "</style>\n",
       "<table border=\"1\" class=\"dataframe\">\n",
       "  <thead>\n",
       "    <tr style=\"text-align: right;\">\n",
       "      <th></th>\n",
       "      <th>Targets</th>\n",
       "      <th>nr_targets</th>\n",
       "      <th>Adverse Event</th>\n",
       "      <th>Overall_PPV</th>\n",
       "      <th>Overall_recall</th>\n",
       "      <th>Compounds screened</th>\n",
       "      <th>Compounds screened with AE</th>\n",
       "      <th>Compounds found</th>\n",
       "      <th>False positives</th>\n",
       "      <th>nr targets</th>\n",
       "      <th>% assoc</th>\n",
       "    </tr>\n",
       "    <tr>\n",
       "      <th>nr_targets</th>\n",
       "      <th></th>\n",
       "      <th></th>\n",
       "      <th></th>\n",
       "      <th></th>\n",
       "      <th></th>\n",
       "      <th></th>\n",
       "      <th></th>\n",
       "      <th></th>\n",
       "      <th></th>\n",
       "      <th></th>\n",
       "      <th></th>\n",
       "    </tr>\n",
       "  </thead>\n",
       "  <tbody>\n",
       "    <tr>\n",
       "      <th>1</th>\n",
       "      <td>16</td>\n",
       "      <td>1</td>\n",
       "      <td>32</td>\n",
       "      <td>12</td>\n",
       "      <td>23</td>\n",
       "      <td>23</td>\n",
       "      <td>18</td>\n",
       "      <td>4</td>\n",
       "      <td>10</td>\n",
       "      <td>1</td>\n",
       "      <td>54.237288</td>\n",
       "    </tr>\n",
       "    <tr>\n",
       "      <th>2</th>\n",
       "      <td>19</td>\n",
       "      <td>1</td>\n",
       "      <td>22</td>\n",
       "      <td>20</td>\n",
       "      <td>21</td>\n",
       "      <td>20</td>\n",
       "      <td>17</td>\n",
       "      <td>8</td>\n",
       "      <td>14</td>\n",
       "      <td>1</td>\n",
       "      <td>37.288136</td>\n",
       "    </tr>\n",
       "    <tr>\n",
       "      <th>3</th>\n",
       "      <td>7</td>\n",
       "      <td>1</td>\n",
       "      <td>5</td>\n",
       "      <td>5</td>\n",
       "      <td>5</td>\n",
       "      <td>5</td>\n",
       "      <td>5</td>\n",
       "      <td>3</td>\n",
       "      <td>5</td>\n",
       "      <td>1</td>\n",
       "      <td>8.474576</td>\n",
       "    </tr>\n",
       "  </tbody>\n",
       "</table>\n",
       "</div>"
      ],
      "text/plain": [
       "            Targets  nr_targets  Adverse Event  Overall_PPV  Overall_recall  \\\n",
       "nr_targets                                                                    \n",
       "1                16           1             32           12              23   \n",
       "2                19           1             22           20              21   \n",
       "3                 7           1              5            5               5   \n",
       "\n",
       "            Compounds screened  Compounds screened with AE  Compounds found  \\\n",
       "nr_targets                                                                    \n",
       "1                           23                          18                4   \n",
       "2                           20                          17                8   \n",
       "3                            5                           5                3   \n",
       "\n",
       "            False positives  nr targets    % assoc  \n",
       "nr_targets                                          \n",
       "1                        10           1  54.237288  \n",
       "2                        14           1  37.288136  \n",
       "3                         5           1   8.474576  "
      ]
     },
     "execution_count": 15,
     "metadata": {},
     "output_type": "execute_result"
    }
   ],
   "source": [
    "sider_counts"
   ]
  },
  {
   "cell_type": "markdown",
   "metadata": {},
   "source": [
    "#### Want to know the improvement by combinations"
   ]
  },
  {
   "cell_type": "code",
   "execution_count": 16,
   "metadata": {},
   "outputs": [
    {
     "data": {
      "text/html": [
       "<div>\n",
       "<style scoped>\n",
       "    .dataframe tbody tr th:only-of-type {\n",
       "        vertical-align: middle;\n",
       "    }\n",
       "\n",
       "    .dataframe tbody tr th {\n",
       "        vertical-align: top;\n",
       "    }\n",
       "\n",
       "    .dataframe thead th {\n",
       "        text-align: right;\n",
       "    }\n",
       "</style>\n",
       "<table border=\"1\" class=\"dataframe\">\n",
       "  <thead>\n",
       "    <tr style=\"text-align: right;\">\n",
       "      <th></th>\n",
       "      <th>Targets</th>\n",
       "      <th>nr_targets</th>\n",
       "      <th>Adverse Event</th>\n",
       "      <th>Overall_PPV</th>\n",
       "      <th>Overall_recall</th>\n",
       "      <th>Compounds screened</th>\n",
       "      <th>Compounds screened with AE</th>\n",
       "      <th>Compounds found</th>\n",
       "      <th>False positives</th>\n",
       "      <th>nr targets</th>\n",
       "    </tr>\n",
       "  </thead>\n",
       "  <tbody>\n",
       "    <tr>\n",
       "      <th>10</th>\n",
       "      <td>{'P35367'}</td>\n",
       "      <td>1</td>\n",
       "      <td>GLYCOSURIA</td>\n",
       "      <td>0.714286</td>\n",
       "      <td>0.5</td>\n",
       "      <td>134</td>\n",
       "      <td>10</td>\n",
       "      <td>5</td>\n",
       "      <td>2</td>\n",
       "      <td>1</td>\n",
       "    </tr>\n",
       "    <tr>\n",
       "      <th>11</th>\n",
       "      <td>{'P18825'}</td>\n",
       "      <td>1</td>\n",
       "      <td>GLYCOSURIA</td>\n",
       "      <td>0.714286</td>\n",
       "      <td>0.5</td>\n",
       "      <td>134</td>\n",
       "      <td>10</td>\n",
       "      <td>5</td>\n",
       "      <td>2</td>\n",
       "      <td>1</td>\n",
       "    </tr>\n",
       "  </tbody>\n",
       "</table>\n",
       "</div>"
      ],
      "text/plain": [
       "       Targets  nr_targets Adverse Event  Overall_PPV  Overall_recall  \\\n",
       "10  {'P35367'}           1    GLYCOSURIA     0.714286             0.5   \n",
       "11  {'P18825'}           1    GLYCOSURIA     0.714286             0.5   \n",
       "\n",
       "    Compounds screened  Compounds screened with AE  Compounds found  \\\n",
       "10                 134                          10                5   \n",
       "11                 134                          10                5   \n",
       "\n",
       "    False positives  nr targets  \n",
       "10                2           1  \n",
       "11                2           1  "
      ]
     },
     "execution_count": 16,
     "metadata": {},
     "output_type": "execute_result"
    }
   ],
   "source": [
    "faers_best_combs.loc[faers_best_combs['Adverse Event']=='GLYCOSURIA']"
   ]
  },
  {
   "cell_type": "code",
   "execution_count": 17,
   "metadata": {},
   "outputs": [],
   "source": [
    "faers_info = {}\n",
    "for AE in set(faers_best_combs.loc[faers_best_combs['nr targets']>1,'Adverse Event'].drop_duplicates()):\n",
    "    \n",
    "    best_PPV = list(faers_best_combs.loc[faers_best_combs['Adverse Event']==AE,'Overall_PPV'])[0]\n",
    "    best_recall = list(faers_best_combs.loc[faers_best_combs['Adverse Event']==AE,'Overall_recall'])[0]\n",
    "\n",
    "    next_best_PPV = max(faers_all_combs.loc[(faers_all_combs['Adverse Event']==AE)&(faers_all_combs['nr targets']==1),'Overall_PPV'])\n",
    "    next_best_recall = max(faers_all_combs.loc[(faers_all_combs['Adverse Event']==AE)&(faers_all_combs['nr targets']==1),'Overall_recall'])\n",
    "     \n",
    "    perc_change_PPV = ((best_PPV - next_best_PPV) / next_best_PPV) * 100\n",
    "    perc_change_recall = ((best_recall - next_best_recall) / next_best_recall) * 100\n",
    "    \n",
    "    faers_info[AE] = {'Adverse Event': AE, 'PPV change': best_PPV - next_best_PPV, 'Recall change': best_recall - next_best_recall, 'Recall % change': perc_change_recall, 'PPV % change': perc_change_PPV}"
   ]
  },
  {
   "cell_type": "code",
   "execution_count": 18,
   "metadata": {},
   "outputs": [],
   "source": [
    "sider_info = {}\n",
    "for AE in set(sider_best_combs.loc[sider_best_combs['nr targets']>1,'Adverse Event'].drop_duplicates()):\n",
    "    \n",
    "    best_PPV = list(sider_best_combs.loc[sider_best_combs['Adverse Event']==AE,'Overall_PPV'])[0]\n",
    "    best_recall = list(sider_best_combs.loc[sider_best_combs['Adverse Event']==AE,'Overall_recall'])[0]\n",
    "\n",
    "    next_best_PPV = max(sider_all_combs.loc[(sider_all_combs['Adverse Event']==AE)&(sider_all_combs['nr targets']==1),'Overall_PPV'])\n",
    "    next_best_recall = max(sider_all_combs.loc[(sider_all_combs['Adverse Event']==AE)&(sider_all_combs['nr targets']==1),'Overall_recall'])\n",
    "     \n",
    "    perc_change_PPV = ((best_PPV - next_best_PPV) / next_best_PPV) * 100\n",
    "    perc_change_recall = ((best_recall - next_best_recall) / next_best_recall) * 100\n",
    "    \n",
    "    sider_info[AE] = {'Adverse Event': AE, 'PPV change': best_PPV - next_best_PPV, 'Recall change': best_recall - next_best_recall, 'Recall % change': perc_change_recall, 'PPV % change': perc_change_PPV}"
   ]
  },
  {
   "cell_type": "code",
   "execution_count": 19,
   "metadata": {},
   "outputs": [],
   "source": [
    "faers_changes = pd.DataFrame.from_dict(faers_info, orient='index')\n",
    "sider_changes = pd.DataFrame.from_dict(sider_info, orient='index')"
   ]
  },
  {
   "cell_type": "code",
   "execution_count": 30,
   "metadata": {},
   "outputs": [
    {
     "name": "stderr",
     "output_type": "stream",
     "text": [
      "/scratch/ias41/envs/rainpy/lib/python3.6/site-packages/pandas/core/frame.py:4238: SettingWithCopyWarning: \n",
      "A value is trying to be set on a copy of a slice from a DataFrame\n",
      "\n",
      "See the caveats in the documentation: http://pandas.pydata.org/pandas-docs/stable/user_guide/indexing.html#returning-a-view-versus-a-copy\n",
      "  return super().rename(**kwargs)\n",
      "/scratch/ias41/envs/rainpy/lib/python3.6/site-packages/ipykernel_launcher.py:3: SettingWithCopyWarning: \n",
      "A value is trying to be set on a copy of a slice from a DataFrame.\n",
      "Try using .loc[row_indexer,col_indexer] = value instead\n",
      "\n",
      "See the caveats in the documentation: http://pandas.pydata.org/pandas-docs/stable/user_guide/indexing.html#returning-a-view-versus-a-copy\n",
      "  This is separate from the ipykernel package so we can avoid doing imports until\n",
      "/scratch/ias41/envs/rainpy/lib/python3.6/site-packages/ipykernel_launcher.py:4: SettingWithCopyWarning: \n",
      "A value is trying to be set on a copy of a slice from a DataFrame.\n",
      "Try using .loc[row_indexer,col_indexer] = value instead\n",
      "\n",
      "See the caveats in the documentation: http://pandas.pydata.org/pandas-docs/stable/user_guide/indexing.html#returning-a-view-versus-a-copy\n",
      "  after removing the cwd from sys.path.\n",
      "/scratch/ias41/envs/rainpy/lib/python3.6/site-packages/ipykernel_launcher.py:8: SettingWithCopyWarning: \n",
      "A value is trying to be set on a copy of a slice from a DataFrame.\n",
      "Try using .loc[row_indexer,col_indexer] = value instead\n",
      "\n",
      "See the caveats in the documentation: http://pandas.pydata.org/pandas-docs/stable/user_guide/indexing.html#returning-a-view-versus-a-copy\n",
      "  \n",
      "/scratch/ias41/envs/rainpy/lib/python3.6/site-packages/ipykernel_launcher.py:9: SettingWithCopyWarning: \n",
      "A value is trying to be set on a copy of a slice from a DataFrame.\n",
      "Try using .loc[row_indexer,col_indexer] = value instead\n",
      "\n",
      "See the caveats in the documentation: http://pandas.pydata.org/pandas-docs/stable/user_guide/indexing.html#returning-a-view-versus-a-copy\n",
      "  if __name__ == '__main__':\n",
      "/scratch/ias41/envs/rainpy/lib/python3.6/site-packages/ipykernel_launcher.py:13: SettingWithCopyWarning: \n",
      "A value is trying to be set on a copy of a slice from a DataFrame.\n",
      "Try using .loc[row_indexer,col_indexer] = value instead\n",
      "\n",
      "See the caveats in the documentation: http://pandas.pydata.org/pandas-docs/stable/user_guide/indexing.html#returning-a-view-versus-a-copy\n",
      "  del sys.path[0]\n",
      "/scratch/ias41/envs/rainpy/lib/python3.6/site-packages/ipykernel_launcher.py:14: SettingWithCopyWarning: \n",
      "A value is trying to be set on a copy of a slice from a DataFrame.\n",
      "Try using .loc[row_indexer,col_indexer] = value instead\n",
      "\n",
      "See the caveats in the documentation: http://pandas.pydata.org/pandas-docs/stable/user_guide/indexing.html#returning-a-view-versus-a-copy\n",
      "  \n",
      "/scratch/ias41/envs/rainpy/lib/python3.6/site-packages/ipykernel_launcher.py:18: SettingWithCopyWarning: \n",
      "A value is trying to be set on a copy of a slice from a DataFrame.\n",
      "Try using .loc[row_indexer,col_indexer] = value instead\n",
      "\n",
      "See the caveats in the documentation: http://pandas.pydata.org/pandas-docs/stable/user_guide/indexing.html#returning-a-view-versus-a-copy\n",
      "/scratch/ias41/envs/rainpy/lib/python3.6/site-packages/ipykernel_launcher.py:19: SettingWithCopyWarning: \n",
      "A value is trying to be set on a copy of a slice from a DataFrame.\n",
      "Try using .loc[row_indexer,col_indexer] = value instead\n",
      "\n",
      "See the caveats in the documentation: http://pandas.pydata.org/pandas-docs/stable/user_guide/indexing.html#returning-a-view-versus-a-copy\n"
     ]
    }
   ],
   "source": [
    "recall_perc_df_faers = faers_changes[['Recall % change']]\n",
    "recall_perc_df_faers.rename(columns={'Recall % change': 'values'}, inplace=True)\n",
    "recall_perc_df_faers['variable_type'] = 'Fraction of\\nAE-associated drugs\\nthat are active'\n",
    "recall_perc_df_faers['dataset'] = 'FAERS (n={} AEs)'.format(len(recall_perc_df_faers))\n",
    "\n",
    "ppv_perc_df_faers = faers_changes[['PPV % change']]\n",
    "ppv_perc_df_faers.rename(columns={'PPV % change': 'values'}, inplace=True)\n",
    "ppv_perc_df_faers['variable_type'] = 'PPV'\n",
    "ppv_perc_df_faers['dataset'] = 'FAERS (n={} AEs)'.format(len(ppv_perc_df_faers))\n",
    "\n",
    "recall_perc_df_sider = sider_changes[['Recall % change']]\n",
    "recall_perc_df_sider.rename(columns={'Recall % change': 'values'}, inplace=True)\n",
    "recall_perc_df_sider['variable_type'] = 'Fraction of\\nAE-associated drugs\\nthat are active'\n",
    "recall_perc_df_sider['dataset'] = 'SIDER (n={} AEs)'.format(len(recall_perc_df_sider))\n",
    "\n",
    "ppv_perc_df_sider = sider_changes[['PPV % change']]\n",
    "ppv_perc_df_sider.rename(columns={'PPV % change': 'values'}, inplace=True)\n",
    "ppv_perc_df_sider['variable_type'] = 'PPV'\n",
    "ppv_perc_df_sider['dataset'] = 'SIDER (n={} AEs)'.format(len(ppv_perc_df_sider))\n"
   ]
  },
  {
   "cell_type": "code",
   "execution_count": 31,
   "metadata": {},
   "outputs": [],
   "source": [
    "combined_df = pd.concat([recall_perc_df_faers, recall_perc_df_sider, ppv_perc_df_faers, ppv_perc_df_sider])"
   ]
  },
  {
   "cell_type": "code",
   "execution_count": 32,
   "metadata": {},
   "outputs": [
    {
     "data": {
      "text/html": [
       "<div>\n",
       "<style scoped>\n",
       "    .dataframe tbody tr th:only-of-type {\n",
       "        vertical-align: middle;\n",
       "    }\n",
       "\n",
       "    .dataframe tbody tr th {\n",
       "        vertical-align: top;\n",
       "    }\n",
       "\n",
       "    .dataframe thead th {\n",
       "        text-align: right;\n",
       "    }\n",
       "</style>\n",
       "<table border=\"1\" class=\"dataframe\">\n",
       "  <thead>\n",
       "    <tr style=\"text-align: right;\">\n",
       "      <th></th>\n",
       "      <th></th>\n",
       "      <th>values</th>\n",
       "    </tr>\n",
       "    <tr>\n",
       "      <th>variable_type</th>\n",
       "      <th>dataset</th>\n",
       "      <th></th>\n",
       "    </tr>\n",
       "  </thead>\n",
       "  <tbody>\n",
       "    <tr>\n",
       "      <th rowspan=\"2\" valign=\"top\">Fraction of\\nAE-associated drugs\\nthat are active</th>\n",
       "      <th>FAERS (n=17 AEs)</th>\n",
       "      <td>20.000000</td>\n",
       "    </tr>\n",
       "    <tr>\n",
       "      <th>SIDER (n=27 AEs)</th>\n",
       "      <td>33.333333</td>\n",
       "    </tr>\n",
       "    <tr>\n",
       "      <th rowspan=\"2\" valign=\"top\">PPV</th>\n",
       "      <th>FAERS (n=17 AEs)</th>\n",
       "      <td>-16.000000</td>\n",
       "    </tr>\n",
       "    <tr>\n",
       "      <th>SIDER (n=27 AEs)</th>\n",
       "      <td>-21.428571</td>\n",
       "    </tr>\n",
       "  </tbody>\n",
       "</table>\n",
       "</div>"
      ],
      "text/plain": [
       "                                                                       values\n",
       "variable_type                                     dataset                    \n",
       "Fraction of\\nAE-associated drugs\\nthat are active FAERS (n=17 AEs)  20.000000\n",
       "                                                  SIDER (n=27 AEs)  33.333333\n",
       "PPV                                               FAERS (n=17 AEs) -16.000000\n",
       "                                                  SIDER (n=27 AEs) -21.428571"
      ]
     },
     "execution_count": 32,
     "metadata": {},
     "output_type": "execute_result"
    }
   ],
   "source": [
    "medians = combined_df.groupby(['variable_type', 'dataset']).median()\n",
    "medians"
   ]
  },
  {
   "cell_type": "code",
   "execution_count": 33,
   "metadata": {},
   "outputs": [
    {
     "data": {
      "text/html": [
       "<div>\n",
       "<style scoped>\n",
       "    .dataframe tbody tr th:only-of-type {\n",
       "        vertical-align: middle;\n",
       "    }\n",
       "\n",
       "    .dataframe tbody tr th {\n",
       "        vertical-align: top;\n",
       "    }\n",
       "\n",
       "    .dataframe thead th {\n",
       "        text-align: right;\n",
       "    }\n",
       "</style>\n",
       "<table border=\"1\" class=\"dataframe\">\n",
       "  <thead>\n",
       "    <tr style=\"text-align: right;\">\n",
       "      <th></th>\n",
       "      <th></th>\n",
       "      <th>values</th>\n",
       "    </tr>\n",
       "    <tr>\n",
       "      <th>variable_type</th>\n",
       "      <th>dataset</th>\n",
       "      <th></th>\n",
       "    </tr>\n",
       "  </thead>\n",
       "  <tbody>\n",
       "    <tr>\n",
       "      <th rowspan=\"2\" valign=\"top\">Fraction of\\nAE-associated drugs\\nthat are active</th>\n",
       "      <th>FAERS (n=17 AEs)</th>\n",
       "      <td>20.975724</td>\n",
       "    </tr>\n",
       "    <tr>\n",
       "      <th>SIDER (n=27 AEs)</th>\n",
       "      <td>41.609347</td>\n",
       "    </tr>\n",
       "    <tr>\n",
       "      <th rowspan=\"2\" valign=\"top\">PPV</th>\n",
       "      <th>FAERS (n=17 AEs)</th>\n",
       "      <td>-15.793658</td>\n",
       "    </tr>\n",
       "    <tr>\n",
       "      <th>SIDER (n=27 AEs)</th>\n",
       "      <td>-22.599355</td>\n",
       "    </tr>\n",
       "  </tbody>\n",
       "</table>\n",
       "</div>"
      ],
      "text/plain": [
       "                                                                       values\n",
       "variable_type                                     dataset                    \n",
       "Fraction of\\nAE-associated drugs\\nthat are active FAERS (n=17 AEs)  20.975724\n",
       "                                                  SIDER (n=27 AEs)  41.609347\n",
       "PPV                                               FAERS (n=17 AEs) -15.793658\n",
       "                                                  SIDER (n=27 AEs) -22.599355"
      ]
     },
     "execution_count": 33,
     "metadata": {},
     "output_type": "execute_result"
    }
   ],
   "source": [
    "combined_df.groupby(['variable_type','dataset']).mean()"
   ]
  },
  {
   "cell_type": "code",
   "execution_count": 34,
   "metadata": {},
   "outputs": [
    {
     "data": {
      "text/html": [
       "<div>\n",
       "<style scoped>\n",
       "    .dataframe tbody tr th:only-of-type {\n",
       "        vertical-align: middle;\n",
       "    }\n",
       "\n",
       "    .dataframe tbody tr th {\n",
       "        vertical-align: top;\n",
       "    }\n",
       "\n",
       "    .dataframe thead th {\n",
       "        text-align: right;\n",
       "    }\n",
       "</style>\n",
       "<table border=\"1\" class=\"dataframe\">\n",
       "  <thead>\n",
       "    <tr style=\"text-align: right;\">\n",
       "      <th></th>\n",
       "      <th>values</th>\n",
       "      <th>variable_type</th>\n",
       "      <th>dataset</th>\n",
       "    </tr>\n",
       "  </thead>\n",
       "  <tbody>\n",
       "    <tr>\n",
       "      <th>DIABETIC NEPHROPATHY</th>\n",
       "      <td>14.285714</td>\n",
       "      <td>Fraction of\\nAE-associated drugs\\nthat are active</td>\n",
       "      <td>FAERS (n=17 AEs)</td>\n",
       "    </tr>\n",
       "    <tr>\n",
       "      <th>DRUG WITHDRAWAL SYNDROME NEONATAL</th>\n",
       "      <td>20.000000</td>\n",
       "      <td>Fraction of\\nAE-associated drugs\\nthat are active</td>\n",
       "      <td>FAERS (n=17 AEs)</td>\n",
       "    </tr>\n",
       "    <tr>\n",
       "      <th>TYPE 2 DIABETES MELLITUS</th>\n",
       "      <td>25.000000</td>\n",
       "      <td>Fraction of\\nAE-associated drugs\\nthat are active</td>\n",
       "      <td>FAERS (n=17 AEs)</td>\n",
       "    </tr>\n",
       "    <tr>\n",
       "      <th>CARDIOTOXICITY</th>\n",
       "      <td>42.857143</td>\n",
       "      <td>Fraction of\\nAE-associated drugs\\nthat are active</td>\n",
       "      <td>FAERS (n=17 AEs)</td>\n",
       "    </tr>\n",
       "    <tr>\n",
       "      <th>REFLUX OESOPHAGITIS</th>\n",
       "      <td>16.666667</td>\n",
       "      <td>Fraction of\\nAE-associated drugs\\nthat are active</td>\n",
       "      <td>FAERS (n=17 AEs)</td>\n",
       "    </tr>\n",
       "  </tbody>\n",
       "</table>\n",
       "</div>"
      ],
      "text/plain": [
       "                                      values  \\\n",
       "DIABETIC NEPHROPATHY               14.285714   \n",
       "DRUG WITHDRAWAL SYNDROME NEONATAL  20.000000   \n",
       "TYPE 2 DIABETES MELLITUS           25.000000   \n",
       "CARDIOTOXICITY                     42.857143   \n",
       "REFLUX OESOPHAGITIS                16.666667   \n",
       "\n",
       "                                                                       variable_type  \\\n",
       "DIABETIC NEPHROPATHY               Fraction of\\nAE-associated drugs\\nthat are active   \n",
       "DRUG WITHDRAWAL SYNDROME NEONATAL  Fraction of\\nAE-associated drugs\\nthat are active   \n",
       "TYPE 2 DIABETES MELLITUS           Fraction of\\nAE-associated drugs\\nthat are active   \n",
       "CARDIOTOXICITY                     Fraction of\\nAE-associated drugs\\nthat are active   \n",
       "REFLUX OESOPHAGITIS                Fraction of\\nAE-associated drugs\\nthat are active   \n",
       "\n",
       "                                            dataset  \n",
       "DIABETIC NEPHROPATHY               FAERS (n=17 AEs)  \n",
       "DRUG WITHDRAWAL SYNDROME NEONATAL  FAERS (n=17 AEs)  \n",
       "TYPE 2 DIABETES MELLITUS           FAERS (n=17 AEs)  \n",
       "CARDIOTOXICITY                     FAERS (n=17 AEs)  \n",
       "REFLUX OESOPHAGITIS                FAERS (n=17 AEs)  "
      ]
     },
     "execution_count": 34,
     "metadata": {},
     "output_type": "execute_result"
    }
   ],
   "source": [
    "combined_df.head()"
   ]
  },
  {
   "cell_type": "code",
   "execution_count": 48,
   "metadata": {},
   "outputs": [],
   "source": [
    "plt.rcParams.update({'font.size': 19})"
   ]
  },
  {
   "cell_type": "code",
   "execution_count": 49,
   "metadata": {},
   "outputs": [
    {
     "data": {
      "image/png": "[encoded data removed]",
      "text/plain": [
       "<Figure size 504x648 with 1 Axes>"
      ]
     },
     "metadata": {
      "needs_background": "light"
     },
     "output_type": "display_data"
    }
   ],
   "source": [
    "fig = plt.figure(figsize=(7,9))\n",
    "ax = sns.boxplot(y='values', x='variable_type', showfliers=False, data = combined_df, hue='dataset', orient = 'v' ,  dodge = True, boxprops = {'facecolor':'none', \"zorder\":10, 'linewidth':0.9}) # alpha = .65, bw = .5 width_viol = .5,\n",
    "ax1 = sns.stripplot(y='values', x='variable_type', data = combined_df, hue='dataset', orient = 'v' ,  dodge = True, palette=['sandybrown', 'steelblue']) # alpha = .65, bw = .5 width_viol = .5,\n",
    "handles, labels = plt.gca().get_legend_handles_labels()\n",
    "ax.set_ylabel('Changes (%) when using multiple targets\\ncompared to single target ')\n",
    "ax.set_xlabel('')\n",
    "order = [2,3]\n",
    "plt.legend([handles[idx] for idx in order],[labels[idx] for idx in order], fontsize=15, loc=1)\n",
    "\n",
    "plt.savefig(basedir + '/analysis/results/overarching/Improvement_by_target_combinations.png', bbox_inches='tight', dpi=150)"
   ]
  },
  {
   "cell_type": "code",
   "execution_count": 53,
   "metadata": {},
   "outputs": [
    {
     "data": {
      "text/html": [
       "<div>\n",
       "<style scoped>\n",
       "    .dataframe tbody tr th:only-of-type {\n",
       "        vertical-align: middle;\n",
       "    }\n",
       "\n",
       "    .dataframe tbody tr th {\n",
       "        vertical-align: top;\n",
       "    }\n",
       "\n",
       "    .dataframe thead th {\n",
       "        text-align: right;\n",
       "    }\n",
       "</style>\n",
       "<table border=\"1\" class=\"dataframe\">\n",
       "  <thead>\n",
       "    <tr style=\"text-align: right;\">\n",
       "      <th></th>\n",
       "      <th>values</th>\n",
       "      <th>variable_type</th>\n",
       "      <th>dataset</th>\n",
       "    </tr>\n",
       "  </thead>\n",
       "  <tbody>\n",
       "    <tr>\n",
       "      <th>FEELING OF BODY TEMPERATURE CHANGE</th>\n",
       "      <td>16.666667</td>\n",
       "      <td>Recall % change</td>\n",
       "      <td>FAERS</td>\n",
       "    </tr>\n",
       "    <tr>\n",
       "      <th>KETOACIDOSIS</th>\n",
       "      <td>25.000000</td>\n",
       "      <td>Recall % change</td>\n",
       "      <td>FAERS</td>\n",
       "    </tr>\n",
       "    <tr>\n",
       "      <th>CONDUCTION DISORDER</th>\n",
       "      <td>16.666667</td>\n",
       "      <td>Recall % change</td>\n",
       "      <td>FAERS</td>\n",
       "    </tr>\n",
       "    <tr>\n",
       "      <th>CEREBROVASCULAR DISORDER</th>\n",
       "      <td>25.000000</td>\n",
       "      <td>Recall % change</td>\n",
       "      <td>FAERS</td>\n",
       "    </tr>\n",
       "    <tr>\n",
       "      <th>DIABETIC GASTROPARESIS</th>\n",
       "      <td>20.000000</td>\n",
       "      <td>Recall % change</td>\n",
       "      <td>FAERS</td>\n",
       "    </tr>\n",
       "    <tr>\n",
       "      <th>VAGINAL INFECTION</th>\n",
       "      <td>33.333333</td>\n",
       "      <td>Recall % change</td>\n",
       "      <td>FAERS</td>\n",
       "    </tr>\n",
       "    <tr>\n",
       "      <th>GASTRITIS EROSIVE</th>\n",
       "      <td>25.000000</td>\n",
       "      <td>Recall % change</td>\n",
       "      <td>FAERS</td>\n",
       "    </tr>\n",
       "    <tr>\n",
       "      <th>CARDIOTOXICITY</th>\n",
       "      <td>42.857143</td>\n",
       "      <td>Recall % change</td>\n",
       "      <td>FAERS</td>\n",
       "    </tr>\n",
       "    <tr>\n",
       "      <th>REFLUX OESOPHAGITIS</th>\n",
       "      <td>16.666667</td>\n",
       "      <td>Recall % change</td>\n",
       "      <td>FAERS</td>\n",
       "    </tr>\n",
       "    <tr>\n",
       "      <th>DIABETIC NEPHROPATHY</th>\n",
       "      <td>14.285714</td>\n",
       "      <td>Recall % change</td>\n",
       "      <td>FAERS</td>\n",
       "    </tr>\n",
       "    <tr>\n",
       "      <th>TORTICOLLIS</th>\n",
       "      <td>20.000000</td>\n",
       "      <td>Recall % change</td>\n",
       "      <td>FAERS</td>\n",
       "    </tr>\n",
       "    <tr>\n",
       "      <th>ACCIDENTAL DEATH</th>\n",
       "      <td>20.000000</td>\n",
       "      <td>Recall % change</td>\n",
       "      <td>FAERS</td>\n",
       "    </tr>\n",
       "    <tr>\n",
       "      <th>DIABETIC COMPLICATION</th>\n",
       "      <td>0.000000</td>\n",
       "      <td>Recall % change</td>\n",
       "      <td>FAERS</td>\n",
       "    </tr>\n",
       "    <tr>\n",
       "      <th>DRUG WITHDRAWAL SYNDROME NEONATAL</th>\n",
       "      <td>20.000000</td>\n",
       "      <td>Recall % change</td>\n",
       "      <td>FAERS</td>\n",
       "    </tr>\n",
       "    <tr>\n",
       "      <th>TYPE 2 DIABETES MELLITUS</th>\n",
       "      <td>25.000000</td>\n",
       "      <td>Recall % change</td>\n",
       "      <td>FAERS</td>\n",
       "    </tr>\n",
       "    <tr>\n",
       "      <th>GESTATIONAL DIABETES</th>\n",
       "      <td>25.000000</td>\n",
       "      <td>Recall % change</td>\n",
       "      <td>FAERS</td>\n",
       "    </tr>\n",
       "    <tr>\n",
       "      <th>ELECTROCARDIOGRAM QRS COMPLEX PROLONGED</th>\n",
       "      <td>11.111111</td>\n",
       "      <td>Recall % change</td>\n",
       "      <td>FAERS</td>\n",
       "    </tr>\n",
       "  </tbody>\n",
       "</table>\n",
       "</div>"
      ],
      "text/plain": [
       "                                            values    variable_type dataset\n",
       "FEELING OF BODY TEMPERATURE CHANGE       16.666667  Recall % change   FAERS\n",
       "KETOACIDOSIS                             25.000000  Recall % change   FAERS\n",
       "CONDUCTION DISORDER                      16.666667  Recall % change   FAERS\n",
       "CEREBROVASCULAR DISORDER                 25.000000  Recall % change   FAERS\n",
       "DIABETIC GASTROPARESIS                   20.000000  Recall % change   FAERS\n",
       "VAGINAL INFECTION                        33.333333  Recall % change   FAERS\n",
       "GASTRITIS EROSIVE                        25.000000  Recall % change   FAERS\n",
       "CARDIOTOXICITY                           42.857143  Recall % change   FAERS\n",
       "REFLUX OESOPHAGITIS                      16.666667  Recall % change   FAERS\n",
       "DIABETIC NEPHROPATHY                     14.285714  Recall % change   FAERS\n",
       "TORTICOLLIS                              20.000000  Recall % change   FAERS\n",
       "ACCIDENTAL DEATH                         20.000000  Recall % change   FAERS\n",
       "DIABETIC COMPLICATION                     0.000000  Recall % change   FAERS\n",
       "DRUG WITHDRAWAL SYNDROME NEONATAL        20.000000  Recall % change   FAERS\n",
       "TYPE 2 DIABETES MELLITUS                 25.000000  Recall % change   FAERS\n",
       "GESTATIONAL DIABETES                     25.000000  Recall % change   FAERS\n",
       "ELECTROCARDIOGRAM QRS COMPLEX PROLONGED  11.111111  Recall % change   FAERS"
      ]
     },
     "execution_count": 53,
     "metadata": {},
     "output_type": "execute_result"
    }
   ],
   "source": [
    "recall_perc_df_faers"
   ]
  },
  {
   "cell_type": "code",
   "execution_count": 52,
   "metadata": {},
   "outputs": [
    {
     "data": {
      "text/html": [
       "<div>\n",
       "<style scoped>\n",
       "    .dataframe tbody tr th:only-of-type {\n",
       "        vertical-align: middle;\n",
       "    }\n",
       "\n",
       "    .dataframe tbody tr th {\n",
       "        vertical-align: top;\n",
       "    }\n",
       "\n",
       "    .dataframe thead th {\n",
       "        text-align: right;\n",
       "    }\n",
       "</style>\n",
       "<table border=\"1\" class=\"dataframe\">\n",
       "  <thead>\n",
       "    <tr style=\"text-align: right;\">\n",
       "      <th></th>\n",
       "      <th>Targets</th>\n",
       "      <th>nr_targets</th>\n",
       "      <th>Adverse Event</th>\n",
       "      <th>Overall_PPV</th>\n",
       "      <th>Overall_recall</th>\n",
       "      <th>Compounds screened</th>\n",
       "      <th>Compounds screened with AE</th>\n",
       "      <th>Compounds found</th>\n",
       "      <th>False positives</th>\n",
       "      <th>nr targets</th>\n",
       "    </tr>\n",
       "  </thead>\n",
       "  <tbody>\n",
       "    <tr>\n",
       "      <th>369504</th>\n",
       "      <td>{'P08588', 'Q9Y2D0'}</td>\n",
       "      <td>2</td>\n",
       "      <td>ORTHOSTATIC HYPOTENSION</td>\n",
       "      <td>0.428571</td>\n",
       "      <td>0.250</td>\n",
       "      <td>143</td>\n",
       "      <td>24</td>\n",
       "      <td>6</td>\n",
       "      <td>8</td>\n",
       "      <td>2</td>\n",
       "    </tr>\n",
       "    <tr>\n",
       "      <th>369505</th>\n",
       "      <td>{'Q9Y2D0'}</td>\n",
       "      <td>1</td>\n",
       "      <td>ORTHOSTATIC HYPOTENSION</td>\n",
       "      <td>0.750000</td>\n",
       "      <td>0.125</td>\n",
       "      <td>143</td>\n",
       "      <td>24</td>\n",
       "      <td>3</td>\n",
       "      <td>1</td>\n",
       "      <td>1</td>\n",
       "    </tr>\n",
       "    <tr>\n",
       "      <th>369506</th>\n",
       "      <td>{'P08588'}</td>\n",
       "      <td>1</td>\n",
       "      <td>ORTHOSTATIC HYPOTENSION</td>\n",
       "      <td>0.300000</td>\n",
       "      <td>0.125</td>\n",
       "      <td>143</td>\n",
       "      <td>24</td>\n",
       "      <td>3</td>\n",
       "      <td>7</td>\n",
       "      <td>1</td>\n",
       "    </tr>\n",
       "  </tbody>\n",
       "</table>\n",
       "</div>"
      ],
      "text/plain": [
       "                     Targets  nr_targets            Adverse Event  \\\n",
       "369504  {'P08588', 'Q9Y2D0'}           2  ORTHOSTATIC HYPOTENSION   \n",
       "369505            {'Q9Y2D0'}           1  ORTHOSTATIC HYPOTENSION   \n",
       "369506            {'P08588'}           1  ORTHOSTATIC HYPOTENSION   \n",
       "\n",
       "        Overall_PPV  Overall_recall  Compounds screened  \\\n",
       "369504     0.428571           0.250                 143   \n",
       "369505     0.750000           0.125                 143   \n",
       "369506     0.300000           0.125                 143   \n",
       "\n",
       "        Compounds screened with AE  Compounds found  False positives  \\\n",
       "369504                          24                6                8   \n",
       "369505                          24                3                1   \n",
       "369506                          24                3                7   \n",
       "\n",
       "        nr targets  \n",
       "369504           2  \n",
       "369505           1  \n",
       "369506           1  "
      ]
     },
     "execution_count": 52,
     "metadata": {},
     "output_type": "execute_result"
    }
   ],
   "source": [
    "sider_all_combs.loc[sider_all_combs['Adverse Event']=='ORTHOSTATIC HYPOTENSION']"
   ]
  },
  {
   "cell_type": "code",
   "execution_count": null,
   "metadata": {},
   "outputs": [],
   "source": []
  }
 ],
 "metadata": {
  "kernelspec": {
   "display_name": "Python [conda env:ias41-rainpy]",
   "language": "python",
   "name": "conda-env-ias41-rainpy-py"
  },
  "language_info": {
   "codemirror_mode": {
    "name": "ipython",
    "version": 3
   },
   "file_extension": ".py",
   "mimetype": "text/x-python",
   "name": "python",
   "nbconvert_exporter": "python",
   "pygments_lexer": "ipython3",
   "version": "3.6.7"
  }
 },
 "nbformat": 4,
 "nbformat_minor": 4
}
