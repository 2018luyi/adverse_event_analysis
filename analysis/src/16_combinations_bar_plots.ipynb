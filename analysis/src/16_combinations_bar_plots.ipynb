{
 "cells": [
  {
   "cell_type": "code",
   "execution_count": 77,
   "metadata": {},
   "outputs": [],
   "source": [
    "import pandas as pd\n",
    "import pickle\n",
    "import itertools\n",
    "import matplotlib.pyplot as plt\n",
    "import seaborn as sns"
   ]
  },
  {
   "cell_type": "code",
   "execution_count": 2,
   "metadata": {},
   "outputs": [],
   "source": [
    "basedir = '/scratch/ias41/ae_code'"
   ]
  },
  {
   "cell_type": "code",
   "execution_count": 5,
   "metadata": {},
   "outputs": [],
   "source": [
    "with open(basedir + '/analysis/data/dirs_info.pkl', 'rb') as f:\n",
    "    dirs = pickle.load(f)"
   ]
  },
  {
   "cell_type": "code",
   "execution_count": 100,
   "metadata": {},
   "outputs": [],
   "source": [
    "# MedDRA hierchy\n",
    "meddra_hier = pd.read_excel(basedir + '/analysis/data/all_faers_and_sider_aes_hier_output.xlsx', skiprows=4)\n",
    "meddra_hier_selection = meddra_hier.loc[meddra_hier['Primary SOC']=='Y',[' Term','HLT','SOC','PT']].drop_duplicates()\n",
    "meddra_hier_selection['HLT'] = meddra_hier_selection['HLT'].apply(lambda x: x.upper())\n",
    "\n",
    "# Previously reported associations\n",
    "# Known associations, merge with known hierarchy HLT\n",
    "known_associations = pd.read_excel(basedir + '/prev_reported_safety_associations/data/safety_meddra_annotated_effects.xls')\n",
    "known_associations['Annotated MedDRA PT'] = known_associations['Annotated MedDRA PT'].apply(lambda x: x.upper())\n",
    "known_meddra_hier = pd.read_excel(basedir + '/prev_reported_safety_associations/data/safety_meddra_annotated_effects_for_hierarchy_output.xlsx', skiprows=4)\n",
    "known_meddra_hier['PT'] = known_meddra_hier['PT'].apply(lambda x: x.upper())\n",
    "known_meddra_hier[' Term'] = known_meddra_hier[' Term'].apply(lambda x: x.upper())\n",
    "known_meddra_hier['HLT'] = known_meddra_hier['HLT'].apply(lambda x: x.upper())\n",
    "known_meddra_hier_selection = known_meddra_hier.loc[known_meddra_hier['Primary SOC']=='Y',['PT','HLT',' Term']].drop_duplicates()\n",
    "known_merged = known_associations.merge(known_meddra_hier_selection, left_on='Annotated MedDRA PT', right_on=' Term')\n",
    "\n",
    "hlt_manual = pd.read_excel(basedir + '/prev_reported_safety_associations/data/safety_meddra_manually_annotated_hlt_effects.xls', index=False)\n",
    "hlt_manual.rename(columns={'Annotated MedDRA HLT': 'HLT'}, inplace=True)\n",
    "hlt_manual['HLT'] = hlt_manual['HLT'].apply(lambda x: x.upper())\n",
    "hlt_manual.drop(columns=['Annotated MedDRA HLT Code'])\n",
    "\n",
    "known_merged = pd.concat([known_merged, hlt_manual], sort=False).reset_index(drop=True)\n",
    "\n",
    "known_tuples = set([(x[1]['Accession'], x[1]['HLT']) for x in known_merged.iterrows()])"
   ]
  },
  {
   "cell_type": "code",
   "execution_count": 105,
   "metadata": {},
   "outputs": [],
   "source": [
    "known_tuples_terms = set([(x[1]['Accession'], x[1][' Term']) for x in known_merged.iterrows()])\n",
    "safety_targets = set(known_merged['Accession'])"
   ]
  },
  {
   "cell_type": "code",
   "execution_count": 6,
   "metadata": {},
   "outputs": [],
   "source": [
    "faers_data = dirs['20200110_faers_unbound_margin_pred_005_PRR2']\n",
    "sider_data = dirs['20200110_sider_unbound_margin_pred']\n",
    "combined_destination_dir = 'unbound_margin_pred_faers_vs_sider'"
   ]
  },
  {
   "cell_type": "code",
   "execution_count": 9,
   "metadata": {},
   "outputs": [],
   "source": [
    "# Save for later use\n",
    "with open(basedir + '/analysis/data/uniprot2gene_id.pkl', 'rb') as f:\n",
    "    uniprot2gene_id = pickle.load(f)"
   ]
  },
  {
   "cell_type": "code",
   "execution_count": 31,
   "metadata": {},
   "outputs": [],
   "source": [
    "faers_destination_dir = faers_data['dir']\n",
    "faers_all = pd.read_csv(basedir + f'/ae_target_links/output/{faers_destination_dir}/combinations/all_target_combinations.txt', sep='\\t')\n",
    "faers_best = pd.read_csv(basedir + f'/ae_target_links/output/{faers_destination_dir}/combinations/best_target_combinations.txt', sep='\\t')\n",
    "\n",
    "sider_destination_dir = sider_data['dir']\n",
    "sider_all = pd.read_csv(basedir + f'/ae_target_links/output/{sider_destination_dir}/combinations/all_target_combinations.txt', sep='\\t')\n",
    "sider_best = pd.read_csv(basedir + f'/ae_target_links/output/{sider_destination_dir}/combinations/best_target_combinations.txt', sep='\\t')"
   ]
  },
  {
   "cell_type": "code",
   "execution_count": 32,
   "metadata": {},
   "outputs": [],
   "source": [
    "faers_best['Target set with highest recall'] = 1\n",
    "faers_all['Target set with highest recall'] = 0\n",
    "sider_best['Target set with highest recall'] = 1\n",
    "sider_all['Target set with highest recall'] = 0"
   ]
  },
  {
   "cell_type": "code",
   "execution_count": 33,
   "metadata": {},
   "outputs": [],
   "source": [
    "sider_best['Targets'] = sider_best['Targets'].apply(lambda x: eval(x))\n",
    "faers_best['Targets'] = faers_best['Targets'].apply(lambda x: eval(x))\n",
    "sider_all['Targets'] = sider_all['Targets'].apply(lambda x: eval(x))\n",
    "faers_all['Targets'] = faers_all['Targets'].apply(lambda x: eval(x))"
   ]
  },
  {
   "cell_type": "code",
   "execution_count": 102,
   "metadata": {},
   "outputs": [],
   "source": [
    "# Term to HLT dict\n",
    "term2hlt = dict()\n",
    "for row in meddra_hier_selection.iterrows():\n",
    "    term2hlt[row[1][' Term']] = row[1]['HLT']"
   ]
  },
  {
   "cell_type": "code",
   "execution_count": 180,
   "metadata": {},
   "outputs": [],
   "source": [
    "plt.rcdefaults()\n",
    "sns.set_style(\"whitegrid\", {'axes.grid' : False, 'xtick.bottom': True, 'ytick.left': True})\n",
    "plt.rcParams.update({'font.size': 14})\n",
    "plt.rc('axes', labelsize=16)"
   ]
  },
  {
   "cell_type": "code",
   "execution_count": 184,
   "metadata": {},
   "outputs": [],
   "source": [
    "def make_combs_df(ae, best_df, all_df):\n",
    "    cumulative_performances = list()\n",
    "    \n",
    "    best_combination = list(best_df.loc[best_df['Adverse Event']==ae,'Targets'])[0]\n",
    "    \n",
    "    combinations_to_test = set()\n",
    "    for i in range(1, len(best_combination)):\n",
    "        combs = itertools.combinations(best_combination, i)\n",
    "        for comb in combs:\n",
    "            combinations_to_test.add(comb)\n",
    "    \n",
    "    for comb in combinations_to_test:\n",
    "        comb_df = all_df.loc[(all_df['Adverse Event']==ae)&(all_df['Targets']==set(comb))]\n",
    "        cumulative_performances.append(comb_df)\n",
    "    \n",
    "    cumulative_performances.append(best_df.loc[best_df['Adverse Event']==ae])\n",
    "    cumulative_performances_df = pd.concat(cumulative_performances, ignore_index=True).sort_values(by=['Overall_recall', 'Overall_PPV']).reset_index(drop=True).reset_index(drop=False)\n",
    "    \n",
    "    #plt.rcdefaults()\n",
    "    #plt.rcParams.update({'font.size': 13})\n",
    "    #plt.rc('axes', labelsize=16)\n",
    "    \n",
    "    #fig = plt.figure(figsize=(7,7))\n",
    "    #ax = fig.add_subplot(111)\n",
    "    all_texts = []\n",
    "        \n",
    "    my_df = cumulative_performances_df.copy()\n",
    "    if len(my_df)==1:\n",
    "        return\n",
    "    \n",
    "    def find_superscript_symbol(accession, ae):\n",
    "        gene_id = uniprot2gene_id[accession]\n",
    "        \n",
    "        ae_hlt = term2hlt[ae]\n",
    "        superscript1 = ''\n",
    "        superscript2 = ''\n",
    "        if (accession, ae_hlt) in known_tuples:\n",
    "            superscript1 = r'$^\\blacktriangledown$'\n",
    "        if accession in safety_targets:\n",
    "            superscript2 = r'$^\\triangledown$'\n",
    "        return gene_id + superscript1 + superscript2 \n",
    "    \n",
    "    \n",
    "    my_df['gene_ids'] = my_df['Targets'].apply(lambda x: ', '.join([find_superscript_symbol(y,ae) for y in x]))\n",
    "    \n",
    "    fig = plt.figure(figsize=(7,7))\n",
    "\n",
    "    compounds_screened_with_ae = list(my_df['Compounds screened with AE'].drop_duplicates())[0]\n",
    "    compounds_screened = list(my_df['Compounds screened'].drop_duplicates())[0]\n",
    "\n",
    "    my_df.rename(columns = {'Overall_recall': f\"Fraction of AE-associated drugs that are active\\n(out of n = {compounds_screened_with_ae})\", 'Overall_PPV': 'Overall PPV'}, inplace=True)\n",
    "\n",
    "    my_df.index = my_df['gene_ids']\n",
    "    ax = my_df[['Overall PPV', f'Fraction of AE-associated drugs that are active\\n(out of n = {compounds_screened_with_ae})']].plot.bar(rot=0, fontsize=12, color=['#99d8c9','#2ca25f'])\n",
    "\n",
    "    # Define hatches\n",
    "    for i,thisbar in enumerate(ax.patches):\n",
    "        # Set a different hatch for each bar\n",
    "        if i < (len(ax.patches)/2):\n",
    "            thisbar.set_hatch('/')\n",
    "        else:\n",
    "            thisbar.set_hatch('')\n",
    "\n",
    "    for p in ax.patches: \n",
    "        ax.annotate('{:.2}'.format(p.get_height()), (p.get_x()+p.get_width()/2., p.get_height()), ha='center', va='center', xytext=(0, 5), textcoords='offset points', fontsize=11)\n",
    "\n",
    "    ax.legend(loc='upper right', bbox_to_anchor=(1, 1.3), ncol=1)\n",
    "\n",
    "    ax.set_xlabel(f'Target (combinations)\\n\\nn = {compounds_screened} compounds overlapping')\n",
    "    plt.tick_params(axis='both', which='major', labelsize=15)\n",
    "\n",
    "    return plt.gcf()"
   ]
  },
  {
   "cell_type": "code",
   "execution_count": null,
   "metadata": {},
   "outputs": [],
   "source": [
    "for ae in list(faers_best['Adverse Event'].drop_duplicates()):\n",
    "    myplot = make_combs_df(ae, faers_best, faers_all)\n",
    "    ae_formatted = ae.replace(' ', '_').replace('/', '-')\n",
    "    if myplot:\n",
    "        myplot.savefig(basedir + f'/ae_target_links/output/{faers_destination_dir}/combinations/{ae_formatted}_bar.jpg', bbox_inches='tight')\n",
    "    plt.close('all')"
   ]
  },
  {
   "cell_type": "code",
   "execution_count": null,
   "metadata": {},
   "outputs": [],
   "source": [
    "for ae in list(sider_best['Adverse Event'].drop_duplicates()):\n",
    "    myplot = make_combs_df(ae, sider_best, sider_all)\n",
    "    ae_formatted = ae.replace(' ', '_').replace('/', '-')\n",
    "    if myplot:\n",
    "        myplot.savefig(basedir + f'/ae_target_links/output/{sider_destination_dir}/combinations/{ae_formatted}_bar.jpg', bbox_inches='tight')\n",
    "        plt.close()\n",
    "    plt.close('all')"
   ]
  },
  {
   "cell_type": "code",
   "execution_count": null,
   "metadata": {},
   "outputs": [],
   "source": []
  }
 ],
 "metadata": {
  "kernelspec": {
   "display_name": "Python [conda env:ias41-release] *",
   "language": "python",
   "name": "conda-env-ias41-release-py"
  },
  "language_info": {
   "codemirror_mode": {
    "name": "ipython",
    "version": 3
   },
   "file_extension": ".py",
   "mimetype": "text/x-python",
   "name": "python",
   "nbconvert_exporter": "python",
   "pygments_lexer": "ipython3",
   "version": "3.6.7"
  }
 },
 "nbformat": 4,
 "nbformat_minor": 4
}
