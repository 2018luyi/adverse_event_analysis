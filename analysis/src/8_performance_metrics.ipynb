{
 "cells": [
  {
   "cell_type": "code",
   "execution_count": null,
   "metadata": {},
   "outputs": [],
   "source": [
    "\"\"\"In addition to PPV, calculate other performance metrics\"\"\""
   ]
  },
  {
   "cell_type": "code",
   "execution_count": null,
   "metadata": {},
   "outputs": [],
   "source": [
    "import analysis_functions\n",
    "import pickle\n",
    "import pandas as pd\n",
    "import sklearn.metrics"
   ]
  },
  {
   "cell_type": "code",
   "execution_count": null,
   "metadata": {},
   "outputs": [],
   "source": [
    "basedir = '/scratch/ias41/ae_code'"
   ]
  },
  {
   "cell_type": "code",
   "execution_count": null,
   "metadata": {},
   "outputs": [],
   "source": [
    "with open(basedir + '/analysis/data/dirs_info.pkl', 'rb') as f:\n",
    "    dirs = pickle.load(f)"
   ]
  },
  {
   "cell_type": "code",
   "execution_count": null,
   "metadata": {},
   "outputs": [],
   "source": [
    "#faers_data = dirs['20200110_faers_unbound_margin_pred_005_PRR2']\n",
    "#sider_data = dirs['20200110_sider_unbound_margin_pred']\n",
    "faers_data = dirs['20200110_faers_cutoff6_pred_005_PRR2']\n",
    "sider_data = dirs['20200110_sider_cutoff6_pred']"
   ]
  },
  {
   "cell_type": "code",
   "execution_count": null,
   "metadata": {},
   "outputs": [],
   "source": [
    "# Target information\n",
    "target_info_file = basedir + '/ae_target_links/data/target_names.txt'\n",
    "target_info = pd.read_csv(target_info_file, sep='\\t')\n",
    "target_info = target_info.loc[target_info['accession_organism']=='Homo sapiens',:]"
   ]
  },
  {
   "cell_type": "code",
   "execution_count": null,
   "metadata": {},
   "outputs": [],
   "source": [
    "# Load main info from directories\n",
    "faers_pos, faers_sign =  analysis_functions.find_associations(basedir + '/ae_target_links/output/' + faers_data['dir'], min_n=faers_data['min_n'], lr=faers_data['lr'], pv=faers_data['pv'], target_info=target_info)\n",
    "sider_pos, sider_sign = analysis_functions.find_associations(basedir + '/ae_target_links/output/' + sider_data['dir'], min_n=sider_data['min_n'], lr=sider_data['lr'], pv=sider_data['pv'], target_info=target_info)\n",
    "\n",
    "for df in faers_pos, sider_pos, faers_sign, sider_sign:\n",
    "    df['Adverse Event'] = df['Adverse Event'].apply(lambda x: x.upper())\n",
    "    \n",
    "# Calculate Positive predictive value\n",
    "faers_pos['PPV'] = faers_pos.apply(lambda x: analysis_functions.calculate_ppv(x), axis=1)\n",
    "sider_pos['PPV'] = sider_pos.apply(lambda x: analysis_functions.calculate_ppv(x), axis=1)\n",
    "faers_sign['PPV'] = faers_sign.apply(lambda x: analysis_functions.calculate_ppv(x), axis=1)\n",
    "sider_sign['PPV'] = sider_sign.apply(lambda x: analysis_functions.calculate_ppv(x), axis=1)"
   ]
  },
  {
   "cell_type": "code",
   "execution_count": null,
   "metadata": {},
   "outputs": [],
   "source": [
    "def calculate_prevalence(x):\n",
    "    ae_prevalence = (x['nr compounds with AE'] / x['nr compounds'])\n",
    "    return ae_prevalence"
   ]
  },
  {
   "cell_type": "code",
   "execution_count": null,
   "metadata": {},
   "outputs": [],
   "source": [
    "sider_pos['ae_prevalence'] = sider_pos.apply(calculate_prevalence, axis=1)\n",
    "sider_sign['ae_prevalence'] = sider_sign.apply(calculate_prevalence, axis=1)\n",
    "faers_pos['ae_prevalence'] = faers_pos.apply(calculate_prevalence, axis=1)\n",
    "faers_sign['ae_prevalence'] = faers_sign.apply(calculate_prevalence, axis=1)"
   ]
  },
  {
   "cell_type": "code",
   "execution_count": null,
   "metadata": {},
   "outputs": [],
   "source": [
    "# FAERS and SIDER files molregnos are strings, need to turn back into lists to analyse drug overlap\n",
    "def make_into_lists(row):\n",
    "    return [int(float(i)) for i in row.strip('[]').split(', ')]"
   ]
  },
  {
   "cell_type": "code",
   "execution_count": null,
   "metadata": {},
   "outputs": [],
   "source": [
    "for df in [faers_pos, faers_sign, sider_pos, sider_sign]:\n",
    "    for column in ['ae_vector', 'molregnos', 'active_molregnos', 'activity_vector']:\n",
    "        df[column] = df[column].apply(lambda x: make_into_lists(x))"
   ]
  },
  {
   "cell_type": "code",
   "execution_count": null,
   "metadata": {},
   "outputs": [],
   "source": [
    "# AE_hit_rate = recall = sensitivity\n",
    "# PPV = precision"
   ]
  },
  {
   "cell_type": "code",
   "execution_count": null,
   "metadata": {},
   "outputs": [],
   "source": [
    "def calculate_specificity(x):\n",
    "    confusion_result = sklearn.metrics.confusion_matrix(x['ae_vector'], x['activity_vector']).ravel()\n",
    "    tn, fp, fn, tp = confusion_result\n",
    "   \n",
    "    specificity = tn / (tn + fp)\n",
    "\n",
    "    return specificity"
   ]
  },
  {
   "cell_type": "code",
   "execution_count": null,
   "metadata": {},
   "outputs": [],
   "source": [
    "def calculate_pru(x):\n",
    "    PRU = (x['PPV'] - x['ae_prevalence']) / (1 - x['ae_prevalence'])\n",
    "    return PRU"
   ]
  },
  {
   "cell_type": "code",
   "execution_count": null,
   "metadata": {},
   "outputs": [],
   "source": [
    "def calculate_improvement(x): \n",
    "    improvement =x['PPV'] - x['ae_prevalence']\n",
    "    return improvement"
   ]
  },
  {
   "cell_type": "code",
   "execution_count": null,
   "metadata": {},
   "outputs": [],
   "source": [
    "for df in [faers_pos, faers_sign, sider_pos, sider_sign]:\n",
    "\n",
    "    df['specificity'] = df.apply(calculate_specificity, axis=1)\n",
    "    df['PRU'] = df.apply(calculate_pru, axis=1)\n",
    "    df['improvement_over_prevalence'] = df.apply(calculate_improvement, axis=1)"
   ]
  },
  {
   "cell_type": "code",
   "execution_count": null,
   "metadata": {},
   "outputs": [],
   "source": [
    "sider_destination_dir = sider_data['dir']\n",
    "faers_destination_dir = faers_data['dir']"
   ]
  },
  {
   "cell_type": "code",
   "execution_count": null,
   "metadata": {},
   "outputs": [],
   "source": [
    "faers_pos.to_csv(basedir + f'/ae_target_links/output/{faers_destination_dir}/pos_assoc_performance.txt', sep='\\t', index=False)\n",
    "\n",
    "faers_sign.to_csv(basedir + f'/ae_target_links/output/{faers_destination_dir}/sign_assoc_performance.txt', sep='\\t', index=False)\n",
    "\n",
    "sider_pos.to_csv(basedir + f'/ae_target_links/output/{sider_destination_dir}/pos_assoc_performance.txt', sep='\\t', index=False)\n",
    "\n",
    "sider_sign.to_csv(basedir + f'/ae_target_links/output/{sider_destination_dir}/sign_assoc_performance.txt', sep='\\t', index=False)"
   ]
  },
  {
   "cell_type": "code",
   "execution_count": null,
   "metadata": {},
   "outputs": [],
   "source": []
  },
  {
   "cell_type": "code",
   "execution_count": null,
   "metadata": {},
   "outputs": [],
   "source": []
  }
 ],
 "metadata": {
  "kernelspec": {
   "display_name": "Python [conda env:ias41-release] *",
   "language": "python",
   "name": "conda-env-ias41-release-py"
  },
  "language_info": {
   "codemirror_mode": {
    "name": "ipython",
    "version": 3
   },
   "file_extension": ".py",
   "mimetype": "text/x-python",
   "name": "python",
   "nbconvert_exporter": "python",
   "pygments_lexer": "ipython3",
   "version": "3.6.7"
  }
 },
 "nbformat": 4,
 "nbformat_minor": 4
}
