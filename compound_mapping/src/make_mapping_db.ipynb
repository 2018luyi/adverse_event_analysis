{
 "cells": [
  {
   "cell_type": "code",
   "execution_count": 1,
   "metadata": {
    "collapsed": true
   },
   "outputs": [],
   "source": [
    "import sqlite3 as sqlite"
   ]
  },
  {
   "cell_type": "code",
   "execution_count": 2,
   "metadata": {},
   "outputs": [],
   "source": [
    "basedir = '/Users/ines/FAERS_y2'"
   ]
  },
  {
   "cell_type": "code",
   "execution_count": 3,
   "metadata": {},
   "outputs": [],
   "source": [
    "mapping_process_db_name = '201903_drug_mapping_process'"
   ]
  },
  {
   "cell_type": "code",
   "execution_count": 4,
   "metadata": {},
   "outputs": [],
   "source": [
    "conn = sqlite.connect(basedir + f'/data/interim/{mapping_process_db_name}.db')\n",
    "cur = conn.cursor()"
   ]
  },
  {
   "cell_type": "code",
   "execution_count": 5,
   "metadata": {},
   "outputs": [
    {
     "data": {
      "text/plain": [
       "<sqlite3.Cursor at 0x103e6d650>"
      ]
     },
     "execution_count": 5,
     "metadata": {},
     "output_type": "execute_result"
    }
   ],
   "source": [
    "cur.execute(\"\"\"create table drug_concepts (aeolus_concept integer primary key, rxnorm_name text, rxnorm_concept integer, via_rxnorm_concept integer, rxnorm_comment text, drugbank_id text, drugbank_type text, drugbank_comment text, inchi text, inchikey text, mapping_comment text)\"\"\")"
   ]
  },
  {
   "cell_type": "code",
   "execution_count": 6,
   "metadata": {},
   "outputs": [
    {
     "data": {
      "text/plain": [
       "[(0, 'aeolus_concept', 'integer', 0, None, 1),\n",
       " (1, 'rxnorm_name', 'text', 0, None, 0),\n",
       " (2, 'rxnorm_concept', 'integer', 0, None, 0),\n",
       " (3, 'via_rxnorm_concept', 'integer', 0, None, 0),\n",
       " (4, 'rxnorm_comment', 'text', 0, None, 0),\n",
       " (5, 'drugbank_id', 'text', 0, None, 0),\n",
       " (6, 'drugbank_type', 'text', 0, None, 0),\n",
       " (7, 'drugbank_comment', 'text', 0, None, 0),\n",
       " (8, 'inchi', 'text', 0, None, 0),\n",
       " (9, 'inchikey', 'text', 0, None, 0),\n",
       " (10, 'mapping_comment', 'text', 0, None, 0)]"
      ]
     },
     "execution_count": 6,
     "metadata": {},
     "output_type": "execute_result"
    }
   ],
   "source": [
    "cur.execute('pragma table_info(drug_concepts)').fetchall()"
   ]
  },
  {
   "cell_type": "code",
   "execution_count": 7,
   "metadata": {},
   "outputs": [],
   "source": [
    "conn.commit()\n",
    "conn.close()"
   ]
  },
  {
   "cell_type": "code",
   "execution_count": null,
   "metadata": {},
   "outputs": [],
   "source": []
  }
 ],
 "metadata": {
  "kernelspec": {
   "display_name": "Python 3",
   "language": "python",
   "name": "python3"
  },
  "language_info": {
   "codemirror_mode": {
    "name": "ipython",
    "version": 3
   },
   "file_extension": ".py",
   "mimetype": "text/x-python",
   "name": "python",
   "nbconvert_exporter": "python",
   "pygments_lexer": "ipython3",
   "version": "3.6.6"
  }
 },
 "nbformat": 4,
 "nbformat_minor": 2
}
