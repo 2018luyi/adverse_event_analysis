{
 "cells": [
  {
   "cell_type": "code",
   "execution_count": 1,
   "metadata": {
    "collapsed": false
   },
   "outputs": [
    {
     "data": {
      "text/plain": [
       "\"- Insert FAERS AEOLUS concepts in sqlite table.\\n- Find which concepts form AEOLUS are not in current RxNorm release (The concepts used in the AEOLUS database are mapped to the RxNorm vocabulary. However, some of the RxNorm IDs used \\nin AEOLUS publication have since been retired or remapped)\\n- Use RxNorm API to get current status of remapped compounds\\n- Where the status is alien or retired, add this as a comment in the database\\n- If remapped, update the concept id in rxnorm_concept column and move old id to the via_rxnorm_concept column\\n- Update the names of the remapped concepts\\n- Add Drugbank ID to concepts where directly available from RXNorm CONSO file\\n- Next, for concepts without a drugbank_id, see if the forms (salt relationships from RxNorm RELA file) retrieve some more mappings\\n- Update the rows with these 'forms of' salt form concepts such that the original ID (the salt form) is moved to via_rxnorm_concept column, and rxnorm_concept and rxnorm_name are updated to the parent concept, and add comment 'salt form' in rxnorm_comment columns\\n- Add Drugbank ID if available for the salt parent form concept\\n\""
      ]
     },
     "execution_count": 1,
     "metadata": {},
     "output_type": "execute_result"
    }
   ],
   "source": [
    "\"\"\"- Insert FAERS AEOLUS concepts in sqlite table.\n",
    "- Find which concepts form AEOLUS are not in current RxNorm release (The concepts used in the AEOLUS database are mapped to the RxNorm vocabulary. However, some of the RxNorm IDs used \n",
    "in AEOLUS publication have since been retired or remapped)\n",
    "- Use RxNorm API to get current status of remapped compounds\n",
    "- Where the status is alien or retired, add this as a comment in the database\n",
    "- If remapped, update the concept id in rxnorm_concept column and move old id to the via_rxnorm_concept column\n",
    "- Update the names of the remapped concepts\n",
    "- Add Drugbank ID to concepts where directly available from RXNorm CONSO file\n",
    "- Next, for concepts without a drugbank_id, see if the forms (salt relationships from RxNorm RELA file) retrieve some more mappings\n",
    "- Update the rows with these 'forms of' salt form concepts such that the original ID (the salt form) is moved to via_rxnorm_concept column, and rxnorm_concept and rxnorm_name are updated to the parent concept, and add comment 'salt form' in rxnorm_comment columns\n",
    "- Add Drugbank ID if available for the salt parent form concept\n",
    "\"\"\""
   ]
  },
  {
   "cell_type": "code",
   "execution_count": 2,
   "metadata": {},
   "outputs": [],
   "source": [
    "import requests\n",
    "import json\n",
    "import time\n",
    "import sqlite3 as sqlite"
   ]
  },
  {
   "cell_type": "code",
   "execution_count": 26,
   "metadata": {},
   "outputs": [],
   "source": [
    "# Set the following parameters:\n",
    "basedir = '/Users/ines/FAERS_y2'\n",
    "# Location of downloaded RxNorm files\n",
    "rxnorm_conso_location = basedir + '/data/raw/RxNorm_full_03042019/rrf/RXNCONSO.RRF'\n",
    "rxnorm_rela_location = basedir + '/data/raw/RxNorm_full_03042019/rrf/RXNREL.RRF'\n",
    "# Location of the sqlite database used for the mapping process\n",
    "mapping_process_db = basedir + '/data/interim/201903_drug_mapping_process.db'"
   ]
  },
  {
   "cell_type": "code",
   "execution_count": 4,
   "metadata": {},
   "outputs": [],
   "source": [
    "# File with concepts occurring in FAERS AEOLUS database\n",
    "with open(basedir + '/data/raw/faers_drug_concepts.txt') as f:\n",
    "    aeolus_concepts = f.readlines()"
   ]
  },
  {
   "cell_type": "code",
   "execution_count": 5,
   "metadata": {},
   "outputs": [
    {
     "data": {
      "text/plain": [
       "3527"
      ]
     },
     "execution_count": 5,
     "metadata": {},
     "output_type": "execute_result"
    }
   ],
   "source": [
    "len(aeolus_concepts)"
   ]
  },
  {
   "cell_type": "code",
   "execution_count": 6,
   "metadata": {},
   "outputs": [],
   "source": [
    "# Connect to database, empty at this moment\n",
    "conn = sqlite.connect(mapping_process_db)\n",
    "cur = conn.cursor()"
   ]
  },
  {
   "cell_type": "code",
   "execution_count": 7,
   "metadata": {},
   "outputs": [],
   "source": [
    "# Insert FAERS AEOLUS concepts in sqlite table, and close db\n",
    "rxnorm_aeolus = dict()\n",
    "\n",
    "for row in aeolus_concepts[1:]:\n",
    "    elements = row.strip('\\n').split('\\t')\n",
    "    \n",
    "    aeolus_concept = elements[0]\n",
    "    rxnorm_name = elements[1]\n",
    "    rxnorm_concept = elements[2]\n",
    "    rxnorm_aeolus[rxnorm_concept] = {'rxnorm_name': rxnorm_name, 'aeolus_concept': aeolus_concept}\n",
    "    cur.execute(\"\"\"insert or ignore into drug_concepts(aeolus_concept, rxnorm_name, rxnorm_concept) values(?,?,?)\"\"\", (aeolus_concept, rxnorm_name, rxnorm_concept))\n",
    "conn.commit()\n",
    "conn.close()"
   ]
  },
  {
   "cell_type": "code",
   "execution_count": 8,
   "metadata": {},
   "outputs": [
    {
     "data": {
      "text/plain": [
       "'{\"version\":\"04-Mar-2019\"}'"
      ]
     },
     "execution_count": 8,
     "metadata": {},
     "output_type": "execute_result"
    }
   ],
   "source": [
    "# RxNorm version in the current RxNorm API # Ideally this is the same as the RxNorn downloaded files\n",
    "response = requests.get('https://rxnav.nlm.nih.gov/REST/version.json')\n",
    "response.content.decode()"
   ]
  },
  {
   "cell_type": "code",
   "execution_count": 9,
   "metadata": {},
   "outputs": [],
   "source": [
    "# File RXNCONSO provided by RxNorm\n",
    "with open(rxnorm_conso_location) as f:\n",
    "    conso = f.readlines()"
   ]
  },
  {
   "cell_type": "code",
   "execution_count": 10,
   "metadata": {},
   "outputs": [
    {
     "data": {
      "text/plain": [
       "71"
      ]
     },
     "execution_count": 10,
     "metadata": {},
     "output_type": "execute_result"
    }
   ],
   "source": [
    "# Set up two sets of ids, one with all rxnorm concepts from CONSO and one with FAERS AEOLUS concepts\n",
    "rxnorm_all = set()\n",
    "for row in conso:\n",
    "    elements = row.strip('\\n').split('|')\n",
    "    if elements[11] == 'RXNORM':\n",
    "        rxnorm_all.add(int(elements[0]))\n",
    "    else:\n",
    "        next\n",
    "\n",
    "aeolus_all = set()\n",
    "for row in aeolus_concepts[1:]: \n",
    "    elements = row.strip('\\n').split('\\t')\n",
    "    rxnorm_concept = elements[2]\n",
    "    aeolus_all.add(int(rxnorm_concept))\n",
    "    \n",
    "# Number of concept ids have come from aeolus but are not in this rxnorm version\n",
    "missing = aeolus_all - rxnorm_all\n",
    "len(missing)"
   ]
  },
  {
   "cell_type": "code",
   "execution_count": null,
   "metadata": {},
   "outputs": [],
   "source": [
    "%%time\n",
    "# There are some rxnorm concepts that have been retired/remapped. Need to get the new id.\n",
    "# Use RxNorm API to get their statuses or remapped compounds\n",
    "# the RXNCUICHANGES file provided by RxNorm is not cumulative (only has latest version changes),\n",
    "# but API provides status of remapped compounds, so that is useful.\n",
    "# This takes some minutes\n",
    "\n",
    "missing_statuses = {}\n",
    "for id in list(missing):\n",
    "    response = requests.get('https://rxnav.nlm.nih.gov/REST/rxcui/{}/status.json'.format(id))\n",
    "    missing_statuses[id] = json.loads(response.content.decode('utf-8'))['rxcuiStatus']\n",
    "    time.sleep(0.15)"
   ]
  },
  {
   "cell_type": "code",
   "execution_count": 14,
   "metadata": {},
   "outputs": [],
   "source": [
    "# Open db again\n",
    "conn = sqlite.connect(mapping_process_db)\n",
    "cur = conn.cursor()"
   ]
  },
  {
   "cell_type": "code",
   "execution_count": 15,
   "metadata": {},
   "outputs": [],
   "source": [
    "# Where the status is alien or retired, add this as a comment in the database\n",
    "# If remapped, update the concept id in rxnorm_concept column and move old id to the via_rxnorm_concept column\n",
    "\n",
    "for old_id in missing_statuses.keys():\n",
    "    if missing_statuses[old_id]['status'] == 'Remapped':\n",
    "        new_id = missing_statuses[old_id]['minConceptGroup']['minConcept'][0]['rxcui']\n",
    "        cur.execute(\"update drug_concepts set rxnorm_concept = ?, rxnorm_comment='remapped', via_rxnorm_concept = ? where rxnorm_concept = {}\".format(old_id), (new_id, old_id))\n",
    "        \n",
    "    if missing_statuses[old_id]['status'] == 'Retired':\n",
    "        cur.execute(\"update drug_concepts set rxnorm_comment = 'retired' where rxnorm_concept = {}\".format(old_id))\n",
    "\n",
    "    if missing_statuses[old_id]['status'] == 'Alien':\n",
    "        cur.execute(\"update drug_concepts set rxnorm_comment = 'alien' where rxnorm_concept = {}\".format(old_id))\n",
    "\n",
    "conn.commit()"
   ]
  },
  {
   "cell_type": "code",
   "execution_count": 16,
   "metadata": {},
   "outputs": [
    {
     "data": {
      "text/plain": [
       "[]"
      ]
     },
     "execution_count": 16,
     "metadata": {},
     "output_type": "execute_result"
    }
   ],
   "source": [
    "# This should be an empty list, all these IDs should now be replaced\n",
    "cur.execute(\"\"\"select * from drug_concepts where rxnorm_concept in ({}) and rxnorm_comment not in ('alien', 'retired')\"\"\".format(', '.join([str(i) for i in missing]))).fetchall()"
   ]
  },
  {
   "cell_type": "code",
   "execution_count": 17,
   "metadata": {},
   "outputs": [
    {
     "name": "stdout",
     "output_type": "stream",
     "text": [
      "number of retired compounds: [(27,)]\n",
      "number of alien compounds: [(37,)]\n",
      "number of compounds remapped: [(7,)]\n"
     ]
    }
   ],
   "source": [
    "# All missing concepts are accounted for\n",
    "print('number of retired compounds: ' + str(cur.execute(\"\"\"select count(*) from drug_concepts where rxnorm_comment = 'retired'\"\"\".format(', '.join([str(i) for i in missing]))).fetchall()))\n",
    "print('number of alien compounds: ' + str(cur.execute(\"\"\"select count(*) from drug_concepts where rxnorm_comment = 'alien'\"\"\".format(', '.join([str(i) for i in missing]))).fetchall()))\n",
    "print('number of compounds remapped: '+ str(cur.execute(\"\"\"select count(*) from drug_concepts where via_rxnorm_concept in ({})\"\"\".format(', '.join([str(i) for i in missing]))).fetchall()))"
   ]
  },
  {
   "cell_type": "code",
   "execution_count": 18,
   "metadata": {},
   "outputs": [],
   "source": [
    "# Make a dictionary of current rxnorm names from CONSO file \n",
    "\n",
    "conso_names_dict = {}\n",
    "for row in conso:\n",
    "    elements = row.strip('\\n').split('|')\n",
    "    if elements[11] == 'RXNORM':\n",
    "        conso_names_dict[elements[0]] = elements[14]\n",
    "    else:\n",
    "        next\n"
   ]
  },
  {
   "cell_type": "code",
   "execution_count": 19,
   "metadata": {},
   "outputs": [],
   "source": [
    "# Update the names of the remapped concepts\n",
    "\n",
    "for elem in [i[0] for i in cur.execute(\"\"\"select rxnorm_concept from drug_concepts where rxnorm_comment = 'remapped'\"\"\").fetchall()]:\n",
    "    new_name = conso_names_dict[str(elem)]\n",
    "    cur.execute(\"\"\"update drug_concepts set rxnorm_name = ? where rxnorm_concept = {}\"\"\".format(str(elem)), (new_name,))"
   ]
  },
  {
   "cell_type": "code",
   "execution_count": 20,
   "metadata": {},
   "outputs": [],
   "source": [
    "conn.commit()\n",
    "conn.close()"
   ]
  },
  {
   "cell_type": "markdown",
   "metadata": {},
   "source": [
    "### Check RELA file for salt-parent relationships"
   ]
  },
  {
   "cell_type": "code",
   "execution_count": 21,
   "metadata": {},
   "outputs": [],
   "source": [
    "conn = sqlite.connect(mapping_process_db)\n",
    "cur = conn.cursor()"
   ]
  },
  {
   "cell_type": "code",
   "execution_count": 22,
   "metadata": {},
   "outputs": [],
   "source": [
    "current_concepts = [i[0] for i in cur.execute(\"select distinct rxnorm_concept from drug_concepts where rxnorm_comment != 'alien' or rxnorm_comment is NULL\").fetchall()]"
   ]
  },
  {
   "cell_type": "code",
   "execution_count": 23,
   "metadata": {},
   "outputs": [
    {
     "data": {
      "text/plain": [
       "3484"
      ]
     },
     "execution_count": 23,
     "metadata": {},
     "output_type": "execute_result"
    }
   ],
   "source": [
    "len(current_concepts)"
   ]
  },
  {
   "cell_type": "code",
   "execution_count": 24,
   "metadata": {},
   "outputs": [
    {
     "data": {
      "text/plain": [
       "[26744, 124427, 762595, 762817, 763100, 763656, 797635, 797752, 798232, 798266]"
      ]
     },
     "execution_count": 24,
     "metadata": {},
     "output_type": "execute_result"
    }
   ],
   "source": [
    "current_concepts[:10]"
   ]
  },
  {
   "cell_type": "code",
   "execution_count": 27,
   "metadata": {},
   "outputs": [],
   "source": [
    "# File RXNREL provided by RxNorm\n",
    "with open(rxnorm_rela_location) as f:\n",
    "    rela = f.readlines()"
   ]
  },
  {
   "cell_type": "code",
   "execution_count": 28,
   "metadata": {},
   "outputs": [],
   "source": [
    "# this reads over the REL table from RxNorm files and if the concept is among the current_concepts, it's added to the dictionary\n",
    "# This REL table holds the relationships, the direction of (relationship): the REL is the relationship which the SECOND concept HAS TO the FIRST concept\n",
    "# this takes a few minutes\n",
    "salt_dict = []\n",
    "\n",
    "for row in rela:\n",
    "    if 'form_of' in row:\n",
    "        elements = row.strip('\\n').split('|')\n",
    "        concept_1 = elements[0]\n",
    "        concept_2 = elements[4]\n",
    "        relationship = elements[7]\n",
    "        \n",
    "        if concept_2 in [str(i) for i in current_concepts] and relationship == 'form_of':\n",
    "            salt_dict.append({'concept_1': concept_1, 'concept_2': concept_2, 'relationship': relationship})"
   ]
  },
  {
   "cell_type": "code",
   "execution_count": 29,
   "metadata": {},
   "outputs": [
    {
     "data": {
      "text/plain": [
       "24"
      ]
     },
     "execution_count": 29,
     "metadata": {},
     "output_type": "execute_result"
    }
   ],
   "source": [
    "len(salt_dict)"
   ]
  },
  {
   "cell_type": "code",
   "execution_count": 30,
   "metadata": {},
   "outputs": [
    {
     "name": "stdout",
     "output_type": "stream",
     "text": [
      "[(40165377, 'abobotulinumtoxinA', 860168, None, None, None, None, None, None, None, None)]\n",
      "[(40165651, 'onabotulinumtoxinA', 860189, None, None, None, None, None, None, None, None)]\n",
      "[(40224763, 'incobotulinumtoxin A', 1000104, None, None, None, None, None, None, None, None)]\n",
      "[(19055078, 'CLORAZEPIC ACID', 235408, None, None, None, None, None, None, None, None)]\n",
      "[(1701677, 'colistimethate', 2708, None, None, None, None, None, None, None, None)]\n",
      "[(19096877, 'Anhydrous Dextrose', 349730, None, None, None, None, None, None, None, None)]\n",
      "[(19055137, 'heparin, porcine', 235473, None, None, None, None, None, None, None, None)]\n",
      "[(46221354, 'menthol, (+)-', 1648123, None, None, None, None, None, None, None, None)]\n",
      "[(19014218, 'SODIUM PHOSPHATE DIHYDRATE', 314837, None, None, None, None, None, None, None, None)]\n",
      "[(19046939, 'Clavulanic Acid', 21216, None, None, None, None, None, None, None, None)]\n",
      "[(19112899, 'ziconotide acetate', 486126, None, None, None, None, None, None, None, None)]\n",
      "[(19011092, 'Aspartate Magnesium Hydrochloride', 1167, None, None, None, None, None, None, None, None)]\n",
      "[(19020789, 'corticorelin ovine', 74671, None, None, None, None, None, None, None, None)]\n",
      "[(19096880, 'SODIUM PHOSPHATE, MONOBASIC, ANHYDROUS', 349753, None, None, None, None, None, None, None, None)]\n",
      "[(19122134, 'Pegaptanib Sodium', 594119, None, None, None, None, None, None, None, None)]\n",
      "[(1586226, 'Cerivastatin sodium', 221072, None, None, None, None, None, None, None, None)]\n",
      "[(19091311, 'Alexitol sodium', 236340, None, None, None, None, None, None, None, None)]\n",
      "[(19124319, 'Gadoxetate Disodium', 637320, None, None, None, None, None, None, None, None)]\n",
      "[(45892326, 'Sodium glycerophosphate', 1595589, None, None, None, None, None, None, None, None)]\n",
      "[(963353, 'Glycopyrrolate', 4955, None, None, None, None, None, None, None, None)]\n",
      "[(19025115, 'picosulfate sodium', 33688, None, None, None, None, None, None, None, None)]\n",
      "[(40228423, 'Levomefolic Acid', 1025342, None, None, None, None, None, None, None, None)]\n",
      "[(561401, 'Tetanus immune globulin, human', 91603, None, None, None, None, None, None, None, None)]\n",
      "[(19022131, 'Fosaprepitant dimeglumine', 754763, None, None, None, None, None, None, None, None)]\n"
     ]
    }
   ],
   "source": [
    "# Retrieve rows where the rxnorm_concept is the 'form of' (concept_2) of concept_1\n",
    "# These rows need to be updated (see next)\n",
    "for item in salt_dict:\n",
    "    print(cur.execute(\"\"\"select * from drug_concepts where rxnorm_concept = {}\"\"\".format(str(item['concept_2']))).fetchall())"
   ]
  },
  {
   "cell_type": "code",
   "execution_count": 31,
   "metadata": {},
   "outputs": [],
   "source": [
    "# Update the rows with these 'forms of' such that the original ID (the salt form) is moved to via_rxnorm_concept column, and rxnorm_concept and rxnorm_name are updated to the parent concept\n",
    "\n",
    "for salt_form in salt_dict:\n",
    "    original_concept = salt_form['concept_2']\n",
    "    parent_concept = salt_form['concept_1']\n",
    "    parent_name = conso_names_dict[parent_concept]\n",
    "    cur.execute(\"\"\"update drug_concepts set rxnorm_concept = ?, rxnorm_name = ?, via_rxnorm_concept = ?, rxnorm_comment = 'salt form' where rxnorm_concept = {} and drugbank_id is null\"\"\".format(original_concept), (parent_concept, parent_name, original_concept))"
   ]
  },
  {
   "cell_type": "code",
   "execution_count": 32,
   "metadata": {},
   "outputs": [
    {
     "name": "stdout",
     "output_type": "stream",
     "text": [
      "[(729855, 'Botulinum Toxin Type A', 1712, None, None, None, None, None, None, None, None), (40165377, 'Botulinum Toxin Type A', 1712, 860168, 'salt form', None, None, None, None, None, None), (40165651, 'Botulinum Toxin Type A', 1712, 860189, 'salt form', None, None, None, None, None, None), (40224763, 'Botulinum Toxin Type A', 1712, 1000104, 'salt form', None, None, None, None, None, None)]\n",
      "[(729855, 'Botulinum Toxin Type A', 1712, None, None, None, None, None, None, None, None), (40165377, 'Botulinum Toxin Type A', 1712, 860168, 'salt form', None, None, None, None, None, None), (40165651, 'Botulinum Toxin Type A', 1712, 860189, 'salt form', None, None, None, None, None, None), (40224763, 'Botulinum Toxin Type A', 1712, 1000104, 'salt form', None, None, None, None, None, None)]\n",
      "[(729855, 'Botulinum Toxin Type A', 1712, None, None, None, None, None, None, None, None), (40165377, 'Botulinum Toxin Type A', 1712, 860168, 'salt form', None, None, None, None, None, None), (40165651, 'Botulinum Toxin Type A', 1712, 860189, 'salt form', None, None, None, None, None, None), (40224763, 'Botulinum Toxin Type A', 1712, 1000104, 'salt form', None, None, None, None, None, None)]\n",
      "[(790253, 'clorazepate', 2353, None, None, None, None, None, None, None, None), (19055078, 'clorazepate', 2353, 235408, 'salt form', None, None, None, None, None, None)]\n",
      "[(901845, 'Colistin', 2709, None, None, None, None, None, None, None, None), (1701677, 'Colistin', 2709, 2708, 'salt form', None, None, None, None, None, None)]\n",
      "[(1560524, 'Glucose', 4850, None, None, None, None, None, None, None, None), (19096877, 'Glucose', 4850, 349730, 'salt form', None, None, None, None, None, None)]\n",
      "[(1367571, 'Heparin', 5224, None, None, None, None, None, None, None, None), (19055137, 'heparin', 5224, 235473, 'salt form', None, None, None, None, None, None)]\n",
      "[(901656, 'Menthol', 6750, None, None, None, None, None, None, None, None), (46221354, 'Menthol', 6750, 1648123, 'salt form', None, None, None, None, None, None)]\n",
      "[(939871, 'sodium phosphate', 36709, None, None, None, None, None, None, None, None), (19014218, 'sodium phosphate', 36709, 314837, 'salt form', None, None, None, None, None, None)]\n",
      "[(1759842, 'Clavulanate', 48203, None, None, None, None, None, None, None, None), (19046939, 'Clavulanate', 48203, 21216, 'salt form', None, None, None, None, None, None)]\n",
      "[(19005061, 'ziconotide', 68503, None, None, None, None, None, None, None, None), (19112899, 'ziconotide', 68503, 486126, 'salt form', None, None, None, None, None, None)]\n",
      "[(19011092, 'Magnesium Aspartate', 142131, 1167, 'salt form', None, None, None, None, None, None), (19019131, 'Magnesium Aspartate', 142131, None, None, None, None, None, None, None, None)]\n",
      "[(19020789, 'corticorelin', 214461, 74671, 'salt form', None, None, None, None, None, None)]\n",
      "[(990499, 'Sodium Phosphate, Monobasic', 235496, None, None, None, None, None, None, None, None), (19096880, 'Sodium Phosphate, Monobasic', 235496, 349753, 'salt form', None, None, None, None, None, None)]\n",
      "[(19063605, 'pegaptanib', 498509, None, None, None, None, None, None, None, None), (19122134, 'pegaptanib', 498509, 594119, 'salt form', None, None, None, None, None, None)]\n",
      "[(1586226, 'cerivastatin', 596723, 221072, 'salt form', None, None, None, None, None, None)]\n",
      "[(19091311, 'alexitol', 644634, 236340, 'salt form', None, None, None, None, None, None)]\n",
      "[(19031583, 'gadoxetate', 802624, None, None, None, None, None, None, None, None), (19124319, 'gadoxetate', 802624, 637320, 'salt form', None, None, None, None, None, None)]\n",
      "[(43526717, 'GLYCERYL PHOSPHATE', 1423803, None, None, None, None, None, None, None, None), (45892326, 'GLYCERYL PHOSPHATE', 1423803, 1595589, 'salt form', None, None, None, None, None, None)]\n",
      "[(963353, 'glycopyrronium', 1546438, 4955, 'salt form', None, None, None, None, None, None), (45775571, 'glycopyrronium', 1546438, None, None, None, None, None, None, None, None)]\n",
      "[(19025115, 'picosulfurate', 1546458, 33688, 'salt form', None, None, None, None, None, None)]\n",
      "[(40228423, 'levomefolate', 1592257, 1025342, 'salt form', None, None, None, None, None, None), (45775208, 'LEVOMEFOLATE', 1592257, None, None, None, None, None, None, None, None)]\n",
      "[(561401, 'tetanus immunoglobulin', 1727875, 91603, 'salt form', None, None, None, None, None, None)]\n",
      "[(19022131, 'fosaprepitant', 1731071, 754763, 'salt form', None, None, None, None, None, None)]\n"
     ]
    }
   ],
   "source": [
    "# Just to confirm that the 'salt form' comment has not been placed on the previously existing concepts for the parent concepts\n",
    "for item in salt_dict:\n",
    "    print(cur.execute(\"\"\"select * from drug_concepts where rxnorm_concept = {}\"\"\".format(str(item['concept_1']))).fetchall())"
   ]
  },
  {
   "cell_type": "code",
   "execution_count": 33,
   "metadata": {},
   "outputs": [],
   "source": [
    "conn.commit()\n",
    "conn.close()"
   ]
  },
  {
   "cell_type": "markdown",
   "metadata": {},
   "source": [
    "### Next, let's find out which concepts have a Drugbank_id in the RxNorm CONSO files"
   ]
  },
  {
   "cell_type": "code",
   "execution_count": 34,
   "metadata": {},
   "outputs": [],
   "source": [
    "# Load a dictionary with the rxnorm concepts that have a DrugBank ID in the RXNCONSO file mapped\n",
    "\n",
    "rxnorm_drugbank = dict()\n",
    "\n",
    "for row in conso:\n",
    "    elements = row.strip('\\n').split('|')\n",
    "    if elements[11] == 'DRUGBANK':\n",
    "        rxnorm_drugbank[elements[0]] = elements[13]\n",
    "    else:\n",
    "        next"
   ]
  },
  {
   "cell_type": "code",
   "execution_count": 35,
   "metadata": {},
   "outputs": [
    {
     "data": {
      "text/plain": [
       "7974"
      ]
     },
     "execution_count": 35,
     "metadata": {},
     "output_type": "execute_result"
    }
   ],
   "source": [
    "len(rxnorm_drugbank)"
   ]
  },
  {
   "cell_type": "code",
   "execution_count": 36,
   "metadata": {},
   "outputs": [],
   "source": [
    "conn = sqlite.connect(mapping_process_db)\n",
    "cur = conn.cursor()"
   ]
  },
  {
   "cell_type": "code",
   "execution_count": 37,
   "metadata": {},
   "outputs": [
    {
     "name": "stdout",
     "output_type": "stream",
     "text": [
      "[26744, 124427, 762595, 762817, 763100, 763656, 797635, 797752, 798232, 798266] \n",
      " length is: 3462\n"
     ]
    }
   ],
   "source": [
    "current_rxnorm_ids = [i[0] for i in cur.execute(\"\"\"select rxnorm_concept from drug_concepts where rxnorm_comment not in ('alien', 'retired') or rxnorm_comment is null\"\"\")]\n",
    "print(current_rxnorm_ids[:10], '\\n length is: ' + str(len(current_rxnorm_ids)))"
   ]
  },
  {
   "cell_type": "code",
   "execution_count": 38,
   "metadata": {},
   "outputs": [],
   "source": [
    "# Update concepts in sqlite table where drugbank_id is directly available\n",
    "for rxnorm_concept in current_rxnorm_ids:\n",
    "    try:\n",
    "        drugbank_id = rxnorm_drugbank[str(rxnorm_concept)]\n",
    "        cur.execute(\"\"\"update drug_concepts set drugbank_id = ? where rxnorm_concept = {}\"\"\".format(str(rxnorm_concept)), (drugbank_id,))\n",
    "    except KeyError:\n",
    "        pass\n",
    "conn.commit()"
   ]
  },
  {
   "cell_type": "code",
   "execution_count": 39,
   "metadata": {},
   "outputs": [
    {
     "data": {
      "text/plain": [
       "[(2472,)]"
      ]
     },
     "execution_count": 39,
     "metadata": {},
     "output_type": "execute_result"
    }
   ],
   "source": [
    "# Number of concepts mapped to DB at this stage:\n",
    "cur.execute(\"\"\"select count(drugbank_id) from drug_concepts where drugbank_id is not null\"\"\").fetchall()"
   ]
  },
  {
   "cell_type": "code",
   "execution_count": 40,
   "metadata": {},
   "outputs": [
    {
     "data": {
      "text/plain": [
       "990"
      ]
     },
     "execution_count": 40,
     "metadata": {},
     "output_type": "execute_result"
    }
   ],
   "source": [
    "# Next, for concepts without a drugbank_id, how many are still missing\n",
    "still_missing_drugbank = [i[0] for i in cur.execute(\"\"\"select rxnorm_concept from drug_concepts where drugbank_id is null and (rxnorm_comment not in ('alien', 'retired') or rxnorm_comment is null) \"\"\")]\n",
    "len(still_missing_drugbank)"
   ]
  },
  {
   "cell_type": "code",
   "execution_count": 41,
   "metadata": {},
   "outputs": [],
   "source": [
    "conn.commit()\n",
    "conn.close()"
   ]
  },
  {
   "cell_type": "code",
   "execution_count": null,
   "metadata": {},
   "outputs": [],
   "source": []
  }
 ],
 "metadata": {
  "kernelspec": {
   "display_name": "Python 3",
   "language": "python",
   "name": "python3"
  },
  "language_info": {
   "codemirror_mode": {
    "name": "ipython",
    "version": 3
   },
   "file_extension": ".py",
   "mimetype": "text/x-python",
   "name": "python",
   "nbconvert_exporter": "python",
   "pygments_lexer": "ipython3",
   "version": "3.7.0"
  }
 },
 "nbformat": 4,
 "nbformat_minor": 2
}
