{
 "cells": [
  {
   "cell_type": "code",
   "execution_count": null,
   "metadata": {},
   "outputs": [],
   "source": [
    "\"\"\"Extract adverse events, PRR, and chi squared value from PSM results, both with PSM and without, save those above PRR>3 and chi2 >4 to pickle, full data to df/txt file.\"\"\""
   ]
  },
  {
   "cell_type": "code",
   "execution_count": 23,
   "metadata": {},
   "outputs": [],
   "source": [
    "import argparse\n",
    "import pandas as pd\n",
    "import pickle\n",
    "import os\n",
    "import collections\n",
    "import sqlite3 as sqlite\n",
    "import re\n",
    "import datetime\n",
    "import itertools"
   ]
  },
  {
   "cell_type": "code",
   "execution_count": null,
   "metadata": {},
   "outputs": [],
   "source": [
    "# Command line argparse arguments\n",
    "\n",
    "parser = argparse.ArgumentParser()\n",
    "parser.add_argument(\"--project_dir\", help=\"directory\")\n",
    "parser.add_argument(\"--mapped_compounds_db\", type=str, help=\"database with mapped compounds (from compound_mapping dir)\")\n",
    "parser.add_argument(\"--psm_results_dir\", type=str, help=\"directory with ae_associations.txt files from psm_aeolus\")\n",
    "parser.add_argument(\"--background_condition\", type=str, help=\"describes which background reports used for no PSM situation\")\n",
    "\n",
    "args = parser.parse_args()\n",
    "project_dir = args.project_dir"
   ]
  },
  {
   "cell_type": "code",
   "execution_count": null,
   "metadata": {},
   "outputs": [],
   "source": [
    "report_information = collections.OrderedDict()"
   ]
  },
  {
   "cell_type": "code",
   "execution_count": null,
   "metadata": {},
   "outputs": [],
   "source": [
    "# Construct aeolus2molregno dir\n",
    "\n",
    "# Open sqlite database with aeolus to molregno mappings\n",
    "conn = sqlite.connect(args.mapped_compounds_db)\n",
    "cur = conn.cursor()\n",
    "\n",
    "# Find aeolus to molregno mappings \n",
    "parent_query = \"\"\"\n",
    "select distinct aeolus_concept, mapped_parent_molregno\n",
    "from compound_structures\n",
    "where mapped_parent_molregno is not null\n",
    "\"\"\"\n",
    "parent_aeolus_ids = [i for i in cur.execute(parent_query).fetchall()]\n",
    "\n",
    "conn.close()\n",
    "\n",
    "# Set up dictionaries\n",
    "aeolus2molregno = dict()\n",
    "molregno2aeolus = dict()\n",
    "\n",
    "# aeolus2molregno should be one molregno per aeolus only\n",
    "for item in parent_aeolus_ids:\n",
    "    aeolus2molregno[item[0]] = item[1]\n",
    "    \n",
    "# sometimes there are molregnos that are mapped to multiple aeolus_concepts\n",
    "# Create a set of aeolus_ids per molregno\n",
    "for item in parent_aeolus_ids:\n",
    "    try: \n",
    "        molregno2aeolus[item[1]].add(item[0])\n",
    "    except KeyError:\n",
    "        molregno2aeolus[item[1]] = {item[0]}"
   ]
  },
  {
   "cell_type": "code",
   "execution_count": null,
   "metadata": {},
   "outputs": [],
   "source": [
    "report_information['Number of aeolus mapped to molregnos in mapping db'] = '{} aeolus ids mapped to {} molregnos'.format(len(aeolus2molregno), len(molregno2aeolus))"
   ]
  },
  {
   "cell_type": "code",
   "execution_count": null,
   "metadata": {},
   "outputs": [],
   "source": [
    "psm_ae_dict = dict()\n",
    "no_psm_ae_dict = dict()\n",
    "\n",
    "for molregno in molregno2aeolus.keys():\n",
    "    psm_ae_dict[molregno] = {'aes': set(), 'dfs': []}\n",
    "\n",
    "for molregno in molregno2aeolus.keys():\n",
    "    no_psm_ae_dict[molregno] = {'aes': set(), 'dfs': []}"
   ]
  },
  {
   "cell_type": "code",
   "execution_count": null,
   "metadata": {},
   "outputs": [],
   "source": [
    "def extract_ae_data(filenames, report_situation, ae_dict):\n",
    "    \"\"\"Add AEs to dictionary per molregno, and dfs to list per molregno\"\"\"\n",
    "    \n",
    "    aeolus_ids_with_ae_file = []\n",
    "    aeolus_ids_with_ae_file_but_no_PRRs_calculated = []\n",
    "\n",
    "    for molregno in ae_dict.keys():\n",
    "    \n",
    "        aeolus_ids = molregno2aeolus[molregno]\n",
    "\n",
    "        # iterate over the multiple aeolus_ids in case there are more than one and combine dataframes\n",
    "        for aeolus_id in aeolus_ids:\n",
    "            try:\n",
    "                filename = [f for f in filenames if f.startswith(str(aeolus_id))][0]\n",
    "            except IndexError:\n",
    "                continue\n",
    "            ae_df = pd.read_csv(args.psm_results_dir + '/{}'.format(filename), sep = '\\t') \n",
    "\n",
    "            if len(ae_df.loc[~ae_df['PRR'].isnull()]) == 0:\n",
    "                aeolus_ids_with_ae_file_but_no_PRRs_calculated.append(aeolus_id)\n",
    "\n",
    "            if len(ae_df.loc[~ae_df['PRR'].isnull()]) > 0:\n",
    "                aeolus_ids_with_ae_file.append(aeolus_id)\n",
    "                ae_df['aeolus_id'] = aeolus_id\n",
    "                ae_df['molregno'] = molregno\n",
    "                ae_dict[molregno]['dfs'].append(ae_df.loc[~ae_df['PRR'].isnull()])\n",
    "\n",
    "            for ae in ae_df.loc[(ae_df['PRR']>2) & (ae_df['chi-squared statistic']>4), 'adverse event']:\n",
    "                ae_dict[molregno]['aes'].add(ae.upper())\n",
    "    \n",
    "    assert len(set(aeolus_ids_with_ae_file) & set(aeolus_ids_with_ae_file_but_no_PRRs_calculated)) == 0\n",
    "    molregnos_with_ae_file = set([aeolus2molregno[int(i)] for i in aeolus_ids_with_ae_file])\n",
    "    molregnos_without_PRR_calculated = set([aeolus2molregno[int(i)] for i in aeolus_ids_with_ae_file_but_no_PRRs_calculated])\n",
    "        \n",
    "    report_information['{}: Number of mapped aeolus/molregno with AE output file and PRRs calculated'.format(report_situation)] = '{} aeolus ids / {} molregnos'.format(len(aeolus_ids_with_ae_file), len(molregnos_with_ae_file))\n",
    "    report_information['{}: Number of mapped aeolus/molregno with AE output file but no PRR calculated'.format(report_situation)] = '{} aeolus ids / {} molregnos'.format(len(aeolus_ids_with_ae_file_but_no_PRRs_calculated), len(molregnos_without_PRR_calculated))\n",
    "        "
   ]
  },
  {
   "cell_type": "code",
   "execution_count": null,
   "metadata": {},
   "outputs": [],
   "source": [
    "# The way I select the filenames looks confusing but is correct\n",
    "# I had no mentioning of 'PSM' as default for PSM situation, later added 'No PSM' to filename for that situation\n",
    "filenames = [i for i in os.listdir(args.psm_results_dir) if ('ae_associations' in i and 'PSM' not in i)]\n",
    "extract_ae_data(filenames=filenames, report_situation='PSM', ae_dict=psm_ae_dict)\n",
    "\n",
    "filenames_no_psm = [i for i in os.listdir(args.psm_results_dir) if ('ae_associations' in i and 'PSM' in i)]\n",
    "extract_ae_data(filenames=filenames_no_psm, report_situation='No PSM',ae_dict=no_psm_ae_dict)"
   ]
  },
  {
   "cell_type": "code",
   "execution_count": null,
   "metadata": {},
   "outputs": [],
   "source": [
    "# Remove items without data\n",
    "psm_ae_dict_small = psm_ae_dict.copy()\n",
    "for key, value in psm_ae_dict.items():\n",
    "    if len(value['dfs']) == 0 and len(value['aes']) == 0:\n",
    "        del(psm_ae_dict_small[key])\n",
    "        \n",
    "no_psm_ae_dict_small = no_psm_ae_dict.copy()\n",
    "for key, value in no_psm_ae_dict.items():\n",
    "    if len(value['dfs']) == 0 and len(value['aes']) == 0:\n",
    "        del(no_psm_ae_dict_small[key])"
   ]
  },
  {
   "cell_type": "code",
   "execution_count": null,
   "metadata": {},
   "outputs": [],
   "source": [
    "# Save AE associations PSM to text file\n",
    "df_lists = [psm_ae_dict_small[key]['dfs'] for key in psm_ae_dict_small.keys()] \n",
    "all_dfs_combined = pd.concat(list(itertools.chain(*df_lists)))\n",
    "all_dfs_combined['adverse event'] = all_dfs_combined['adverse event'].map(lambda x: x.upper())\n",
    "all_dfs_combined.to_csv(args.project_dir + f'/results/all_ae_info_PSM_{args.background_condition}.txt', sep='\\t', index=False)\n",
    "\n",
    "# Report counts PSM\n",
    "psm_nr_molregnos = len(all_dfs_combined['molregno'].drop_duplicates())\n",
    "psm_nr_aeolus_ids = len(all_dfs_combined['aeolus_id'].drop_duplicates())\n",
    "psm_nr_aes = len(all_dfs_combined['adverse event'].drop_duplicates())\n",
    "report_information['PSM all PRRs counts'] = f'number of molregnos: {psm_nr_molregnos}, aeolus_ids: {psm_nr_aeolus_ids}, adverse events: {psm_nr_aes}'\n",
    "\n",
    "# Save AE associations no PSM to text file\n",
    "df_lists = [no_psm_ae_dict_small[key]['dfs'] for key in no_psm_ae_dict_small.keys()] \n",
    "all_dfs_combined = pd.concat(list(itertools.chain(*df_lists)))\n",
    "all_dfs_combined['adverse event'] = all_dfs_combined['adverse event'].map(lambda x: x.upper())\n",
    "all_dfs_combined.to_csv(args.project_dir + f'/results/all_ae_info_no_PSM_{args.background_condition}.txt', sep='\\t', index=False)\n",
    "\n",
    "# Report counts no PSM\n",
    "no_psm_nr_molregnos = len(all_dfs_combined['molregno'].drop_duplicates())\n",
    "no_psm_nr_aeolus_ids = len(all_dfs_combined['aeolus_id'].drop_duplicates())\n",
    "no_psm_nr_aes = len(all_dfs_combined['adverse event'].drop_duplicates())\n",
    "report_information['No PSM all PRRs counts'] = f'number of molregnos: {no_psm_nr_molregnos}, aeolus_ids: {no_psm_nr_aeolus_ids}, adverse events: {no_psm_nr_aes}'\n"
   ]
  },
  {
   "cell_type": "code",
   "execution_count": null,
   "metadata": {},
   "outputs": [],
   "source": [
    "# Save AE dictionaries as pickles\n",
    "psm_molregno2aes = dict()\n",
    "for key,value in psm_ae_dict_small.items():\n",
    "    psm_molregno2aes[key] = psm_ae_dict_small[key]['aes']\n",
    "    \n",
    "no_psm_molregno2aes = dict()\n",
    "for key,value in no_psm_ae_dict_small.items():\n",
    "    no_psm_molregno2aes[key] = no_psm_ae_dict_small[key]['aes']\n",
    "\n",
    "current_date = datetime.date.today().strftime(\"%Y%m%d\")\n",
    "with open(args.project_dir + f'/results/{current_date}_PSM_molregno2aes_PRR3_chi4_faers_{args.background_condition}.pkl', 'wb') as f:\n",
    "    pickle.dump(psm_molregno2aes, f)\n",
    "    \n",
    "with open(args.project_dir + f'/results/{current_date}_no_PSM_molregno2aes_PRR3_chi4_faers_{args.background_condition}.pkl', 'wb') as f:\n",
    "    pickle.dump(no_psm_molregno2aes, f)\n",
    "\n",
    "psm_all_aes =  set([i for i in itertools.chain(*[psm_molregno2aes[molregno] for molregno in psm_molregno2aes.keys()])])\n",
    "report_information['PSM number of molregnos with significantly associated AEs before restricting to min5'] = '{}, linked to {} unique AEs'.format(len(psm_molregno2aes), len(psm_all_aes))\n",
    "no_psm_all_aes =  set([i for i in itertools.chain(*[no_psm_molregno2aes[molregno] for molregno in no_psm_molregno2aes.keys()])])\n",
    "report_information['No PSM number of molregnos with significantly associated AEs before restricting to min5'] = '{}, linked to {} unique AEs'.format(len(no_psm_molregno2aes), len(no_psm_all_aes))"
   ]
  },
  {
   "cell_type": "code",
   "execution_count": 22,
   "metadata": {},
   "outputs": [],
   "source": [
    "def restrict_min5drugs_per_ae(molregno2ae_dict):\n",
    "    \"\"\"Remove AEs with less than 5 significantly associated drugs and return new dictionary\"\"\"\n",
    "\n",
    "    all_aes = set([i for i in itertools.chain(*[molregno2ae_dict[molregno] for molregno in molregno2ae_dict.keys()])])\n",
    "\n",
    "    # Make new dictionary reversed and make empty set for each AE\n",
    "    ae2molregnos = dict()\n",
    "    for ae in all_aes:\n",
    "        ae2molregnos[ae] = set()\n",
    "    # Loop over molregnos in molregno2aes dictionary, and add the molregno to the ae2molregno dictionary\n",
    "    for molregno in molregno2ae_dict:\n",
    "        for ae in molregno2ae_dict[molregno]:\n",
    "            ae2molregnos[ae].add(molregno)\n",
    "    \n",
    "    # Loop over ae2molregnos dictionary and find those AEs with less than 5 compounds\n",
    "    aes_without_5_drugs = set()\n",
    "    for ae in ae2molregnos:\n",
    "        if len(ae2molregnos[ae]) < 5:\n",
    "            aes_without_5_drugs.add(ae)\n",
    "    \n",
    "    # Make a new dictionary and remove those AEs with less than 5 compounds from the sets in molregno2ae\n",
    "    restricted_molregno2ae_dict = molregno2ae_dict.copy()\n",
    "    for ae in aes_without_5_drugs:\n",
    "        for molregno in restricted_molregno2ae_dict:\n",
    "            try:\n",
    "                restricted_molregno2ae_dict[molregno].remove(ae)\n",
    "            except KeyError:\n",
    "                continue\n",
    "    \n",
    "    return restricted_molregno2ae_dict"
   ]
  },
  {
   "cell_type": "code",
   "execution_count": null,
   "metadata": {},
   "outputs": [],
   "source": [
    "# Restrict to AEs with min5 drugs\n",
    "restricted_psm_molregno2aes = restrict_min5drugs_per_ae(molregno2ae_dict = psm_molregno2aes)\n",
    "restricted_no_psm_molregno2aes = restrict_min5drugs_per_ae(molregno2ae_dict = no_psm_molregno2aes)\n",
    "\n",
    "# Find and remove compounds with no significantly associated AEs\n",
    "psm_no_info = [key for key, value in restricted_psm_molregno2aes.items() if len(value)==0]\n",
    "no_psm_no_info = [key for key, value in restricted_no_psm_molregno2aes.items() if len(value)==0]\n",
    "\n",
    "for molregno in psm_no_info:\n",
    "    del(restricted_psm_molregno2aes[molregno])\n",
    "for molregno in no_psm_no_info:\n",
    "    del(restricted_no_psm_molregno2aes[molregno])\n",
    "\n",
    "# Report info\n",
    "all_aes_restricted_psm_molregno2aes =  set([i for i in itertools.chain(*[restricted_psm_molregno2aes[molregno] for molregno in restricted_psm_molregno2aes.keys()])])\n",
    "report_information['PSM number of molregnos with significantly associated AEs after restricting to min5'] = '{}, linked to {} unique AEs'.format(len(restricted_psm_molregno2aes), len(all_aes_restricted_psm_molregno2aes))\n",
    "all_aes_restricted_no_psm_molregno2aes =  set([i for i in itertools.chain(*[restricted_no_psm_molregno2aes[molregno] for molregno in restricted_no_psm_molregno2aes.keys()])])\n",
    "report_information['No PSM number of molregnos with significantly associated AEs after restricting to min5'] = '{}, linked to {} unique AEs'.format(len(restricted_no_psm_molregno2aes), len(all_aes_restricted_no_psm_molregno2aes))\n",
    "\n",
    "# Save as pickles\n",
    "current_date = datetime.date.today().strftime(\"%Y%m%d\")\n",
    "with open(args.project_dir + f'/results/{current_date}_PSM_molregno2aes_PRR2_chi4_faers_min5drugs_{args.background_condition}.pkl', 'wb') as f:\n",
    "    pickle.dump(restricted_psm_molregno2aes, f)\n",
    "    \n",
    "with open(args.project_dir + f'/results/{current_date}_no_PSM_molregno2aes_PRR2_chi4_faers_min5drugs_{args.background_condition}.pkl', 'wb') as f:\n",
    "    pickle.dump(restricted_no_psm_molregno2aes, f)"
   ]
  },
  {
   "cell_type": "code",
   "execution_count": null,
   "metadata": {},
   "outputs": [],
   "source": [
    "# Write report with counts\n",
    "with open(args.project_dir + f'/results/report_{args.background_condition}.txt', 'w') as f:\n",
    "    for k, v in report_information.items():\n",
    "        f.write(k + ': ' + v + '\\n')"
   ]
  },
  {
   "cell_type": "code",
   "execution_count": 24,
   "metadata": {},
   "outputs": [],
   "source": [
    "# import pickle\n",
    "# with open('/scratch/ias41/ae_code/faers_aes/results/20191204_no_PSM_molregno2aes_PRR3_chi4_faers.pkl', 'rb') as f:\n",
    "#     no_psm_molregno2aes = pickle.load(f)\n",
    "    \n",
    "# with open('/scratch/ias41/ae_code/faers_aes/results/20191204_PSM_molregno2aes_PRR3_chi4_faers.pkl', 'rb') as f:\n",
    "#     psm_molregno2aes = pickle.load(f)"
   ]
  }
 ],
 "metadata": {
  "kernelspec": {
   "display_name": "Python 3",
   "language": "python",
   "name": "python3"
  },
  "language_info": {
   "codemirror_mode": {
    "name": "ipython",
    "version": 3
   },
   "file_extension": ".py",
   "mimetype": "text/x-python",
   "name": "python",
   "nbconvert_exporter": "python",
   "pygments_lexer": "ipython3",
   "version": "3.6.7"
  }
 },
 "nbformat": 4,
 "nbformat_minor": 4
}
