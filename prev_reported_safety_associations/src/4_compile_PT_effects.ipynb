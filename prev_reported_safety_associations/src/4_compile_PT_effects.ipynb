{
 "cells": [
  {
   "cell_type": "code",
   "execution_count": 1,
   "metadata": {},
   "outputs": [
    {
     "data": {
      "text/plain": [
       "'Combine the automated and manual annotations'"
      ]
     },
     "execution_count": 1,
     "metadata": {},
     "output_type": "execute_result"
    }
   ],
   "source": [
    "\"\"\"Combine the automated and manual annotations\"\"\""
   ]
  },
  {
   "cell_type": "code",
   "execution_count": 2,
   "metadata": {},
   "outputs": [],
   "source": [
    "import pandas as pd"
   ]
  },
  {
   "cell_type": "code",
   "execution_count": 3,
   "metadata": {},
   "outputs": [],
   "source": [
    "basedir = '/scratch/ias41/ae_code/prev_reported_safety_associations'"
   ]
  },
  {
   "cell_type": "code",
   "execution_count": 4,
   "metadata": {},
   "outputs": [],
   "source": [
    "all_formatted_effects = pd.read_excel(basedir + '/data/safety_original2formatted_effects.xls')"
   ]
  },
  {
   "cell_type": "code",
   "execution_count": 5,
   "metadata": {},
   "outputs": [],
   "source": [
    "WBB_annotations = pd.read_csv(basedir + '/data/formatted_effects_WBB_accepted.txt', sep='\\t')\n",
    "manual_annotations_original = pd.read_csv(basedir + '/data/formatted_effects_manually_annotated.txt', sep='\\t')\n",
    "manual_annotations = manual_annotations_original.loc[~manual_annotations_original['MedDRA PT code'].isnull(),:].copy()\n",
    "manual_annotations['MedDRA PT code'] = manual_annotations['MedDRA PT code'].astype(int)\n",
    "manual_annotations.drop(labels=['Other level term', 'Parsing mistake', 'Comments', 'Other level code', 'Other level'], inplace=True, axis=1)\n",
    "manual_annotations.columns = ['Formatted effect', 'PT Code', 'PT']"
   ]
  },
  {
   "cell_type": "code",
   "execution_count": 6,
   "metadata": {},
   "outputs": [],
   "source": [
    "WBB_merge = all_formatted_effects.merge(WBB_annotations, left_on='Formatted effect', right_on='Row ID')\n",
    "WBB_merge.drop(labels='Row ID', axis=1, inplace=True)"
   ]
  },
  {
   "cell_type": "code",
   "execution_count": 7,
   "metadata": {},
   "outputs": [],
   "source": [
    "manual_merge = all_formatted_effects.merge(manual_annotations, on='Formatted effect')"
   ]
  },
  {
   "cell_type": "code",
   "execution_count": 8,
   "metadata": {},
   "outputs": [],
   "source": [
    "total_merged = pd.concat([WBB_merge, manual_merge], sort=False)"
   ]
  },
  {
   "cell_type": "code",
   "execution_count": 9,
   "metadata": {},
   "outputs": [],
   "source": [
    "total_merged.columns = ['Accession', 'ChEMBL target name', 'Original effect',\n",
    "       'Formatted effect', 'PubMed ID', 'Reference', 'Annotated MedDRA PT',\n",
    "       'Annotated MedDRA PT Code']\n",
    "total_merged.sort_values(by=['ChEMBL target name', 'Formatted effect'], inplace=True)"
   ]
  },
  {
   "cell_type": "code",
   "execution_count": 10,
   "metadata": {},
   "outputs": [],
   "source": [
    "total_merged.to_excel(basedir + '/data/safety_meddra_annotated_effects.xls', index=False)"
   ]
  },
  {
   "cell_type": "markdown",
   "metadata": {},
   "source": [
    "### Save manually annotated HLTs"
   ]
  },
  {
   "cell_type": "code",
   "execution_count": 11,
   "metadata": {},
   "outputs": [
    {
     "name": "stderr",
     "output_type": "stream",
     "text": [
      "/scratch/ias41/envs/release/lib/python3.6/site-packages/pandas/core/frame.py:4117: SettingWithCopyWarning: \n",
      "A value is trying to be set on a copy of a slice from a DataFrame\n",
      "\n",
      "See the caveats in the documentation: http://pandas.pydata.org/pandas-docs/stable/user_guide/indexing.html#returning-a-view-versus-a-copy\n",
      "  errors=errors,\n"
     ]
    }
   ],
   "source": [
    "hlt_manual = manual_annotations_original.loc[manual_annotations_original['Other level']=='HLT',:]\n",
    "hlt_manual.drop(labels=['Parsing mistake', 'Comments', 'MedDRA PT code', 'MedDRA PT','Other level'], inplace=True, axis=1)\n",
    "hlt_manual_merged = all_formatted_effects.merge(hlt_manual, on='Formatted effect')\n",
    "hlt_manual_merged['Other level code'] = hlt_manual_merged['Other level code'].astype(int)"
   ]
  },
  {
   "cell_type": "code",
   "execution_count": 12,
   "metadata": {},
   "outputs": [],
   "source": [
    "hlt_manual_merged.columns = ['Accession', 'ChEMBL target name', 'Original effect',\n",
    "       'Formatted effect', 'PubMed ID', 'Reference', 'Annotated MedDRA HLT Code',\n",
    "       'Annotated MedDRA HLT']"
   ]
  },
  {
   "cell_type": "code",
   "execution_count": 13,
   "metadata": {},
   "outputs": [],
   "source": [
    "hlt_manual_merged.to_excel(basedir + '/data/safety_meddra_manually_annotated_hlt_effects.xls', index=False)"
   ]
  },
  {
   "cell_type": "markdown",
   "metadata": {},
   "source": [
    "### Save a copy of the PTs for hierarchy analysis in MedDRA browser"
   ]
  },
  {
   "cell_type": "code",
   "execution_count": 14,
   "metadata": {},
   "outputs": [],
   "source": [
    "hierarchy_selection = total_merged[['Annotated MedDRA PT', 'Annotated MedDRA PT Code']].drop_duplicates().reset_index(drop=True)"
   ]
  },
  {
   "cell_type": "code",
   "execution_count": 15,
   "metadata": {},
   "outputs": [],
   "source": [
    "hierarchy_selection['Row ID'] = ''\n",
    "hierarchy_selection.columns = ['Term', 'Code', 'Row ID']"
   ]
  },
  {
   "cell_type": "code",
   "execution_count": 16,
   "metadata": {},
   "outputs": [],
   "source": [
    "hierarchy_selection[['Row ID', 'Term', 'Code']].to_excel(basedir + '/data/safety_meddra_annotated_effects_for_hierarchy_input.xls', index=False)"
   ]
  },
  {
   "cell_type": "code",
   "execution_count": null,
   "metadata": {},
   "outputs": [],
   "source": []
  }
 ],
 "metadata": {
  "kernelspec": {
   "display_name": "Python 3",
   "language": "python",
   "name": "python3"
  },
  "language_info": {
   "codemirror_mode": {
    "name": "ipython",
    "version": 3
   },
   "file_extension": ".py",
   "mimetype": "text/x-python",
   "name": "python",
   "nbconvert_exporter": "python",
   "pygments_lexer": "ipython3",
   "version": "3.6.7"
  }
 },
 "nbformat": 4,
 "nbformat_minor": 4
}
