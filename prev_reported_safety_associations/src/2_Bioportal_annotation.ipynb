{
 "cells": [
  {
   "cell_type": "code",
   "execution_count": 4,
   "metadata": {},
   "outputs": [],
   "source": [
    "import urllib.request, urllib.error, urllib.parse\n",
    "import json\n",
    "import os\n",
    "import pandas as pd\n",
    "import time"
   ]
  },
  {
   "cell_type": "code",
   "execution_count": 5,
   "metadata": {},
   "outputs": [],
   "source": [
    "pd.set_option('display.max_colwidth', 300)"
   ]
  },
  {
   "cell_type": "code",
   "execution_count": 16,
   "metadata": {},
   "outputs": [],
   "source": [
    "basedir = '/scratch/ias41/ae_code/prev_reported_safety_associations'\n",
    "with open('/scratch/ias41/ucc-fs-nethome/bioportal_api_key.txt', 'r') as f:\n",
    "    API_KEY = f.read().strip('\\n')"
   ]
  },
  {
   "cell_type": "code",
   "execution_count": 7,
   "metadata": {},
   "outputs": [],
   "source": [
    "def get_json(url):\n",
    "    opener = urllib.request.build_opener()\n",
    "    opener.addheaders = [('Authorization', 'apikey token=' + API_KEY)]\n",
    "    return json.loads(opener.open(url).read())"
   ]
  },
  {
   "cell_type": "code",
   "execution_count": 8,
   "metadata": {},
   "outputs": [],
   "source": [
    "REST_URL = \"http://data.bioontology.org\"\n",
    "def get_bioportal_annotations(text):\n",
    "    \"\"\"Return codes of MedDRA terms annotated by BioPortal Annotate Service.\n",
    "    kwargs: text -- test to annotate\"\"\"\n",
    "    \n",
    "    annotations = get_json(REST_URL + \"/annotator?text=\" + urllib.parse.quote(text) + '&ontologies=MEDDRA&longest_only=true')\n",
    "    \n",
    "    identifiers = set()\n",
    "    for result in annotations:\n",
    "        identifier = result['annotatedClass']['@id'].split('/')[-1]\n",
    "        identifiers.add(identifier)\n",
    "    \n",
    "    return(identifiers)"
   ]
  },
  {
   "cell_type": "code",
   "execution_count": 9,
   "metadata": {},
   "outputs": [],
   "source": [
    "# Open previously formatted adverse effects extracted from publications\n",
    "formatted_effects = pd.read_excel(basedir + '/data/safety_original2formatted_effects.xls')"
   ]
  },
  {
   "cell_type": "code",
   "execution_count": 10,
   "metadata": {},
   "outputs": [
    {
     "data": {
      "text/html": [
       "<div>\n",
       "<style scoped>\n",
       "    .dataframe tbody tr th:only-of-type {\n",
       "        vertical-align: middle;\n",
       "    }\n",
       "\n",
       "    .dataframe tbody tr th {\n",
       "        vertical-align: top;\n",
       "    }\n",
       "\n",
       "    .dataframe thead th {\n",
       "        text-align: right;\n",
       "    }\n",
       "</style>\n",
       "<table border=\"1\" class=\"dataframe\">\n",
       "  <thead>\n",
       "    <tr style=\"text-align: right;\">\n",
       "      <th></th>\n",
       "      <th>Accession</th>\n",
       "      <th>ChEMBL target name</th>\n",
       "      <th>Original effect</th>\n",
       "      <th>Formatted effect</th>\n",
       "      <th>PubMed ID</th>\n",
       "      <th>Reference</th>\n",
       "    </tr>\n",
       "  </thead>\n",
       "  <tbody>\n",
       "    <tr>\n",
       "      <th>0</th>\n",
       "      <td>P02708</td>\n",
       "      <td>Acetylcholine receptor protein alpha chain</td>\n",
       "      <td>Effects on muscular functions</td>\n",
       "      <td>Effects on muscular functions</td>\n",
       "      <td>PMID16243262</td>\n",
       "      <td>Whitebread S, Hamon J, Bojanic D, Urban L. Keynote review: in vitro safety pharmacology profiling: an essential tool for successful drug development. Drug Discov Today. 2005 Nov 1;10(21):1421-33.</td>\n",
       "    </tr>\n",
       "    <tr>\n",
       "      <th>1</th>\n",
       "      <td>P02708</td>\n",
       "      <td>Acetylcholine receptor protein alpha chain</td>\n",
       "      <td>Palpitation</td>\n",
       "      <td>Palpitation</td>\n",
       "      <td>PMID16243262</td>\n",
       "      <td>Whitebread S, Hamon J, Bojanic D, Urban L. Keynote review: in vitro safety pharmacology profiling: an essential tool for successful drug development. Drug Discov Today. 2005 Nov 1;10(21):1421-33.</td>\n",
       "    </tr>\n",
       "    <tr>\n",
       "      <th>2</th>\n",
       "      <td>P02708</td>\n",
       "      <td>Acetylcholine receptor protein alpha chain</td>\n",
       "      <td>Stimulates autonomic cardiovascular functions</td>\n",
       "      <td>Stimulates autonomic cardiovascular functions</td>\n",
       "      <td>PMID16243262</td>\n",
       "      <td>Whitebread S, Hamon J, Bojanic D, Urban L. Keynote review: in vitro safety pharmacology profiling: an essential tool for successful drug development. Drug Discov Today. 2005 Nov 1;10(21):1421-33.</td>\n",
       "    </tr>\n",
       "    <tr>\n",
       "      <th>3</th>\n",
       "      <td>P02708</td>\n",
       "      <td>Acetylcholine receptor protein alpha chain</td>\n",
       "      <td>Stimulates gastrointestinal functions</td>\n",
       "      <td>Stimulates gastrointestinal functions</td>\n",
       "      <td>PMID16243262</td>\n",
       "      <td>Whitebread S, Hamon J, Bojanic D, Urban L. Keynote review: in vitro safety pharmacology profiling: an essential tool for successful drug development. Drug Discov Today. 2005 Nov 1;10(21):1421-33.</td>\n",
       "    </tr>\n",
       "    <tr>\n",
       "      <th>4</th>\n",
       "      <td>P02708</td>\n",
       "      <td>Acetylcholine receptor protein alpha chain</td>\n",
       "      <td>bronchial secretion</td>\n",
       "      <td>Bronchial secretion</td>\n",
       "      <td>PMID16243262</td>\n",
       "      <td>Whitebread S, Hamon J, Bojanic D, Urban L. Keynote review: in vitro safety pharmacology profiling: an essential tool for successful drug development. Drug Discov Today. 2005 Nov 1;10(21):1421-33.</td>\n",
       "    </tr>\n",
       "  </tbody>\n",
       "</table>\n",
       "</div>"
      ],
      "text/plain": [
       "  Accession                          ChEMBL target name  \\\n",
       "0    P02708  Acetylcholine receptor protein alpha chain   \n",
       "1    P02708  Acetylcholine receptor protein alpha chain   \n",
       "2    P02708  Acetylcholine receptor protein alpha chain   \n",
       "3    P02708  Acetylcholine receptor protein alpha chain   \n",
       "4    P02708  Acetylcholine receptor protein alpha chain   \n",
       "\n",
       "                                 Original effect  \\\n",
       "0                  Effects on muscular functions   \n",
       "1                                    Palpitation   \n",
       "2  Stimulates autonomic cardiovascular functions   \n",
       "3          Stimulates gastrointestinal functions   \n",
       "4                            bronchial secretion   \n",
       "\n",
       "                                Formatted effect     PubMed ID  \\\n",
       "0                  Effects on muscular functions  PMID16243262   \n",
       "1                                    Palpitation  PMID16243262   \n",
       "2  Stimulates autonomic cardiovascular functions  PMID16243262   \n",
       "3          Stimulates gastrointestinal functions  PMID16243262   \n",
       "4                            Bronchial secretion  PMID16243262   \n",
       "\n",
       "                                                                                                                                                                                             Reference  \n",
       "0  Whitebread S, Hamon J, Bojanic D, Urban L. Keynote review: in vitro safety pharmacology profiling: an essential tool for successful drug development. Drug Discov Today. 2005 Nov 1;10(21):1421-33.  \n",
       "1  Whitebread S, Hamon J, Bojanic D, Urban L. Keynote review: in vitro safety pharmacology profiling: an essential tool for successful drug development. Drug Discov Today. 2005 Nov 1;10(21):1421-33.  \n",
       "2  Whitebread S, Hamon J, Bojanic D, Urban L. Keynote review: in vitro safety pharmacology profiling: an essential tool for successful drug development. Drug Discov Today. 2005 Nov 1;10(21):1421-33.  \n",
       "3  Whitebread S, Hamon J, Bojanic D, Urban L. Keynote review: in vitro safety pharmacology profiling: an essential tool for successful drug development. Drug Discov Today. 2005 Nov 1;10(21):1421-33.  \n",
       "4  Whitebread S, Hamon J, Bojanic D, Urban L. Keynote review: in vitro safety pharmacology profiling: an essential tool for successful drug development. Drug Discov Today. 2005 Nov 1;10(21):1421-33.  "
      ]
     },
     "execution_count": 10,
     "metadata": {},
     "output_type": "execute_result"
    }
   ],
   "source": [
    "formatted_effects.head()"
   ]
  },
  {
   "cell_type": "code",
   "execution_count": 11,
   "metadata": {},
   "outputs": [],
   "source": [
    "# find all unique AEs occurring\n",
    "all_aes = set(list(formatted_effects['Formatted effect']))"
   ]
  },
  {
   "cell_type": "code",
   "execution_count": 12,
   "metadata": {},
   "outputs": [
    {
     "name": "stdout",
     "output_type": "stream",
     "text": [
      "CPU times: user 1.02 s, sys: 157 ms, total: 1.17 s\n",
      "Wall time: 5min 35s\n"
     ]
    }
   ],
   "source": [
    "%%time\n",
    "# Find annotations from BioPortal\n",
    "ae_tuples = list()\n",
    "\n",
    "for effect in all_aes:\n",
    "    annotations = get_bioportal_annotations(effect)\n",
    "    time.sleep(0.02)\n",
    "    if len(annotations) < 1:\n",
    "        ae_tuples.append((effect, 'Nothing found'))\n",
    "        continue\n",
    "    for annotation in annotations:\n",
    "        ae_tuples.append((effect, annotation))"
   ]
  },
  {
   "cell_type": "code",
   "execution_count": 13,
   "metadata": {},
   "outputs": [
    {
     "data": {
      "text/plain": [
       "523"
      ]
     },
     "execution_count": 13,
     "metadata": {},
     "output_type": "execute_result"
    }
   ],
   "source": [
    "ae_df = pd.DataFrame.from_records(ae_tuples)\n",
    "ae_df.columns = ['Original formatted effect', 'MedDRA ID']\n",
    "len(ae_df)"
   ]
  },
  {
   "cell_type": "code",
   "execution_count": 17,
   "metadata": {},
   "outputs": [
    {
     "name": "stderr",
     "output_type": "stream",
     "text": [
      "/scratch/ias41/envs/release/lib/python3.6/site-packages/ipykernel_launcher.py:5: SettingWithCopyWarning: \n",
      "A value is trying to be set on a copy of a slice from a DataFrame.\n",
      "Try using .loc[row_indexer,col_indexer] = value instead\n",
      "\n",
      "See the caveats in the documentation: http://pandas.pydata.org/pandas-docs/stable/user_guide/indexing.html#returning-a-view-versus-a-copy\n",
      "  \"\"\"\n"
     ]
    }
   ],
   "source": [
    "# Prepare file for submitting to MedDRA browser hierarchy analysis\n",
    "# Save to file for hierarchy analysis in MedDRA to find LLT > PT\n",
    "ae_df_mapped = ae_df.loc[(ae_df['MedDRA ID']!='Nothing found')&(~ae_df['MedDRA ID'].str.contains('T')),:]\n",
    "ae_df_mapped.columns=['Row ID', 'Code']\n",
    "ae_df_mapped['Term'] = ''\n",
    "ae_df_mapped[['Row ID', 'Term', 'Code']].to_excel(basedir + '/data/formatted_effects_BioPortal_annotated.xls', index=False)"
   ]
  },
  {
   "cell_type": "code",
   "execution_count": 15,
   "metadata": {},
   "outputs": [
    {
     "data": {
      "text/plain": [
       "309"
      ]
     },
     "execution_count": 15,
     "metadata": {},
     "output_type": "execute_result"
    }
   ],
   "source": [
    "# Number of terms with at least one annotation\n",
    "len(ae_df_mapped['Row ID'].drop_duplicates())"
   ]
  },
  {
   "cell_type": "code",
   "execution_count": 14,
   "metadata": {},
   "outputs": [],
   "source": [
    "# Do MedDRA hierarchy analysis in MedDRA Web-based browser (WBB) and manual inspection of the results"
   ]
  },
  {
   "cell_type": "code",
   "execution_count": null,
   "metadata": {},
   "outputs": [],
   "source": []
  }
 ],
 "metadata": {
  "kernelspec": {
   "display_name": "Python 3",
   "language": "python",
   "name": "python3"
  },
  "language_info": {
   "codemirror_mode": {
    "name": "ipython",
    "version": 3
   },
   "file_extension": ".py",
   "mimetype": "text/x-python",
   "name": "python",
   "nbconvert_exporter": "python",
   "pygments_lexer": "ipython3",
   "version": "3.6.7"
  }
 },
 "nbformat": 4,
 "nbformat_minor": 4
}
