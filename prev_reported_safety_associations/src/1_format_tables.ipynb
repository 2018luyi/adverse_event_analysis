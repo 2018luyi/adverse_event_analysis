{
 "cells": [
  {
   "cell_type": "code",
   "execution_count": 1,
   "metadata": {},
   "outputs": [],
   "source": [
    "import pandas as pd\n",
    "import numpy as np\n",
    "import re"
   ]
  },
  {
   "cell_type": "code",
   "execution_count": 2,
   "metadata": {},
   "outputs": [],
   "source": [
    "pd.set_option('display.max_colwidth', 1000)\n",
    "pd.set_option('display.max_rows', 1000)"
   ]
  },
  {
   "cell_type": "code",
   "execution_count": 3,
   "metadata": {},
   "outputs": [],
   "source": [
    "basedir = '/scratch/ias41/ae_code/prev_reported_safety_associations'"
   ]
  },
  {
   "cell_type": "code",
   "execution_count": 4,
   "metadata": {},
   "outputs": [],
   "source": [
    "flattened_aes = set()"
   ]
  },
  {
   "cell_type": "markdown",
   "metadata": {},
   "source": [
    "### Lynch et al. Abbvie panel"
   ]
  },
  {
   "cell_type": "code",
   "execution_count": 8,
   "metadata": {},
   "outputs": [],
   "source": [
    "lynch_table = pd.read_excel(basedir + '/data/Lynch_table_manually_fixed_mapped.xlsx')"
   ]
  },
  {
   "cell_type": "code",
   "execution_count": 9,
   "metadata": {},
   "outputs": [],
   "source": [
    "# Combined agonism and antagonism, and other fixes\n",
    "lynch_table['Original effects'] = lynch_table['Agonism/activation effects'] + '; ' + lynch_table['Antagonism/inhibition effects']\n",
    "lynch_table['Original effects'] = lynch_table['Original effects'].apply(lambda x: x.replace('Insufficient data; ', '').replace('; Insufficient data', ''))\n",
    "lynch_table['Original effects'] = lynch_table['Original effects'].apply(lambda x: x.replace('\\xa0', ' '))\n",
    "lynch_table['PubMed ID'] = 'PMID28216264'\n",
    "lynch_table['Reference'] = \"Lynch JJ 3rd, Van Vleet TR, Mittelstadt SW, Blomme EAG. Potential functional and pathological side effects related to off-target pharmacological activity. J Pharmacol Toxicol Methods. 2017 Sep;87:108-126.\""
   ]
  },
  {
   "cell_type": "code",
   "execution_count": 10,
   "metadata": {},
   "outputs": [],
   "source": [
    "def lynch_transformations(effect):\n",
    "    # replace time arrows\n",
    "    temp_effects = set()\n",
    "    \n",
    "    pattern = re.compile('(↓ → ↑|↑ → ↓) ([a-z 0-9]+)', re.IGNORECASE)\n",
    "    match = re.match(pattern, effect)\n",
    "    if match:\n",
    "        new_effects = [match.group(2) + ' increased', match.group(2) + ' decreased']\n",
    "        for new_effect in new_effects:\n",
    "            temp_effects.add(new_effect)\n",
    "    else:\n",
    "        temp_effects.add(effect)\n",
    "            \n",
    "    # replace either/or arrows\n",
    "    temp_effects2 = set()\n",
    "    for effect in temp_effects:\n",
    "        pattern = re.compile('(↓/↑|↑/↓)([a-z 0-9]+)', re.IGNORECASE)\n",
    "        match = re.match(pattern, effect)\n",
    "        if match:\n",
    "            new_effects = [match.group(2) + ' increased', match.group(2) + ' decreased']\n",
    "            for new_effect in new_effects:\n",
    "                temp_effects2.add(new_effect)\n",
    "        else:\n",
    "            temp_effects2.add(effect)\n",
    "            \n",
    "    # replace up arrows\n",
    "    temp_effects3 = set()\n",
    "    for effect in temp_effects2:\n",
    "        pattern = re.compile('↑ ?([a-z 0-9]+)', re.IGNORECASE)\n",
    "        match = re.match(pattern, effect)\n",
    "        if match:\n",
    "            new_effect= match.group(1) + ' increased'\n",
    "            temp_effects3.add(new_effect)\n",
    "        else:\n",
    "            temp_effects3.add(effect)\n",
    "    \n",
    "    # replace down arrows\n",
    "    temp_effects4 = set()\n",
    "    for effect in temp_effects3:\n",
    "        pattern = re.compile('↓ ?([a-z 0-9]+)', re.IGNORECASE)\n",
    "        match = re.match(pattern, effect)\n",
    "        if match:\n",
    "            new_effect= match.group(1) + ' decreased'\n",
    "            temp_effects4.add(new_effect)\n",
    "        else:\n",
    "            temp_effects4.add(effect)\n",
    "\n",
    "    # replace abbreviations\n",
    "    temp_effects5 = set()\n",
    "    for effect in temp_effects4:\n",
    "        new_effect = effect.replace('AV', 'atrioventricular').replace('BP', 'blood pressure').replace('CNS', 'central nervous system').replace('CV', 'cardiovascular').replace('GI', 'gastrointestinal').replace('HR', 'heart rate').replace('NS', 'nervous system').replace('PNS','peripheral nervous system')\n",
    "        temp_effects5.add(new_effect.strip(' '))\n",
    "        \n",
    "    return temp_effects5"
   ]
  },
  {
   "cell_type": "code",
   "execution_count": 11,
   "metadata": {},
   "outputs": [],
   "source": [
    "for row in lynch_table.iterrows():\n",
    "    accession = row[1]['Accession']\n",
    "    target = row[1]['ChEMBL target name']\n",
    "    reference = row[1]['Reference']\n",
    "    pmid = row[1]['PubMed ID']\n",
    "    \n",
    "    effects = re.split('; |;', row[1]['Original effects'])\n",
    "    \n",
    "    for original_effect in effects:\n",
    "        formatted_effects = lynch_transformations(original_effect)\n",
    "        for formatted_effect in formatted_effects:\n",
    "            # capitalise\n",
    "            new_effect = formatted_effect[:1].upper() + formatted_effect[1:]\n",
    "            flattened_aes.add((accession, target, original_effect, new_effect, pmid, reference))"
   ]
  },
  {
   "cell_type": "markdown",
   "metadata": {},
   "source": [
    "#### Bowes et al. "
   ]
  },
  {
   "cell_type": "code",
   "execution_count": 12,
   "metadata": {},
   "outputs": [],
   "source": [
    "bowes_table = pd.read_excel(basedir + '/data/Bowes_table_manually_fixed_mapped.xlsx')"
   ]
  },
  {
   "cell_type": "code",
   "execution_count": 13,
   "metadata": {},
   "outputs": [],
   "source": [
    "bowes_table['Original effects'] = bowes_table['Agonism or activation'] + '; ' + bowes_table['Antagonism or inhibition']\n",
    "bowes_table['Original effects'] = bowes_table['Original effects'].apply(lambda x: x.replace('Insufficient information; ', '').replace('; Insufficient information', ''))\n",
    "bowes_table['PubMed ID'] = 'PMID23197038'\n",
    "bowes_table['Reference'] = \"Bowes J, Brown AJ, Hamon J, Jarolimek W, Sridhar A, Waldron G, Whitebread S. Reducing safety-related drug attrition: the use of in vitro pharmacological profiling. Nat Rev Drug Discov. 2012 Dec;11(12):909-22.\""
   ]
  },
  {
   "cell_type": "code",
   "execution_count": 14,
   "metadata": {},
   "outputs": [],
   "source": [
    "def bowes_transformations(effect):\n",
    "\n",
    "    # replace down arrows, keep rest of words\n",
    "    pattern = re.compile('↓ in ([a-z 0-9]+)', re.IGNORECASE)\n",
    "    def replace_arrow(match):\n",
    "        value = match.group(1).strip(' ') + ' decreased '\n",
    "        return value\n",
    "    new_effect = pattern.sub(replace_arrow, effect).strip(' ')\n",
    "    \n",
    "    # replace up arrows, keep rest of words\n",
    "    pattern = re.compile('↑ in ([a-z 0-9]+)', re.IGNORECASE)\n",
    "    def replace_arrow(match):\n",
    "        value = match.group(1).strip(' ') + ' increased '\n",
    "        return value\n",
    "    new_effect2 = pattern.sub(replace_arrow, new_effect).strip(' ')\n",
    "    \n",
    "    # replace abbreviations\n",
    "    new_effect3 = new_effect2.replace('BP', 'blood pressure').replace('CNS', 'central nervous system').replace('CVS', 'cardiovascular system').replace('GI', 'gastrointestinal').replace('HR', 'heart rate').replace('CO', 'cardiac output').replace('REM', 'rapid eye movement').replace('DDI', 'drug-drug interaction').replace('ACTH', 'adrenocorticotropic hormone').replace('SCID', 'severe-combined immunodeficiency')\n",
    "    \n",
    "    return new_effect3.strip(' ')"
   ]
  },
  {
   "cell_type": "code",
   "execution_count": 15,
   "metadata": {},
   "outputs": [],
   "source": [
    "for row in bowes_table.iterrows():\n",
    "    accession = row[1]['Accession']\n",
    "    target = row[1]['ChEMBL target name']\n",
    "    reference = row[1]['Reference']\n",
    "    pmid = row[1]['PubMed ID']\n",
    "    \n",
    "    effects = re.split('; | and |, ', row[1]['Original effects'])\n",
    "    \n",
    "    for original_effect in effects:\n",
    "        formatted_effect = bowes_transformations(original_effect)\n",
    "        new_effect = formatted_effect[:1].upper() + formatted_effect[1:]\n",
    "        flattened_aes.add((accession, target, original_effect, new_effect, pmid, reference))"
   ]
  },
  {
   "cell_type": "markdown",
   "metadata": {},
   "source": [
    "#### Whitebread et al. "
   ]
  },
  {
   "cell_type": "code",
   "execution_count": 16,
   "metadata": {},
   "outputs": [],
   "source": [
    "whitebread_table = pd.read_excel(basedir + '/data/Whitebread_table_manually_fixed_mapped.xlsx')"
   ]
  },
  {
   "cell_type": "code",
   "execution_count": 17,
   "metadata": {},
   "outputs": [],
   "source": [
    "whitebread_table['Possible ADRs'] = whitebread_table['Possible ADRs'].apply(lambda x: x.strip('.'))\n",
    "whitebread_table['PubMed ID'] = 'PMID16243262'\n",
    "whitebread_table['Reference'] = \"Whitebread S, Hamon J, Bojanic D, Urban L. Keynote review: in vitro safety pharmacology profiling: an essential tool for successful drug development. Drug Discov Today. 2005 Nov 1;10(21):1421-33.\""
   ]
  },
  {
   "cell_type": "code",
   "execution_count": 18,
   "metadata": {},
   "outputs": [],
   "source": [
    "def whitebread_transformations(effect):\n",
    "    \"\"\"Return set of effects after replacing (enhances|inhibits|decreases|reduces) etc. with increased/decreased using regular expressions.\n",
    "    kwargs: effect_list -- list of effects from table\"\"\"\n",
    "    \n",
    "    # replace 'increased' words, keep rest of words\n",
    "    pattern = re.compile('(?:increases?|enhances?|induces?|facilitates?|exacerbates?|facilitation of) ([a-z 0-9]+)', re.IGNORECASE)\n",
    "    def replace_arrow(match):\n",
    "        value = match.group(1) + ' increased'\n",
    "        return value\n",
    "    new_effect = pattern.sub(replace_arrow, effect)\n",
    "    \n",
    "    # replace 'decreased' words, keep rest of words\n",
    "    pattern = re.compile('(?:inhibits?|decreases?|reduces?|impairs?) ([a-z 0-9]+)', re.IGNORECASE)\n",
    "    def replace_arrow(match):\n",
    "        value = match.group(1) + ' decreased'\n",
    "        return value\n",
    "    new_effect2 = pattern.sub(replace_arrow, new_effect)\n",
    "    \n",
    "    # replace abbreviations\n",
    "    new_effect3 = new_effect2.replace('CNS', 'central nervous system')\n",
    "    \n",
    "    return new_effect3.strip(' ')"
   ]
  },
  {
   "cell_type": "code",
   "execution_count": 19,
   "metadata": {},
   "outputs": [],
   "source": [
    "for row in whitebread_table.iterrows():\n",
    "    accession = row[1]['Accession']\n",
    "    target = row[1]['ChEMBL target name']\n",
    "    reference = row[1]['Reference']\n",
    "    pmid = row[1]['PubMed ID']\n",
    "    \n",
    "    effects = re.split(', |\\. | and ', row[1]['Possible ADRs'])\n",
    "    \n",
    "    for original_effect in effects:\n",
    "        formatted_effect = whitebread_transformations(original_effect)\n",
    "        new_effect = formatted_effect[:1].upper() + formatted_effect[1:]\n",
    "        flattened_aes.add((accession, target, original_effect, new_effect, pmid, reference))"
   ]
  },
  {
   "cell_type": "code",
   "execution_count": 20,
   "metadata": {},
   "outputs": [],
   "source": [
    "my_columns = ['Accession', 'ChEMBL target name', 'Original effect', 'Formatted effect', 'PubMed ID', 'Reference']\n",
    "complete_ae_df = pd.DataFrame.from_records(list(flattened_aes), columns = my_columns).sort_values(by=['PubMed ID', 'ChEMBL target name', 'Original effect'])\n",
    "complete_ae_df.to_excel(basedir + '/data/safety_original2formatted_effects.xls', index=False)"
   ]
  },
  {
   "cell_type": "code",
   "execution_count": null,
   "metadata": {},
   "outputs": [],
   "source": []
  }
 ],
 "metadata": {
  "kernelspec": {
   "display_name": "Python 3",
   "language": "python",
   "name": "python3"
  },
  "language_info": {
   "codemirror_mode": {
    "name": "ipython",
    "version": 3
   },
   "file_extension": ".py",
   "mimetype": "text/x-python",
   "name": "python",
   "nbconvert_exporter": "python",
   "pygments_lexer": "ipython3",
   "version": "3.6.7"
  }
 },
 "nbformat": 4,
 "nbformat_minor": 4
}
