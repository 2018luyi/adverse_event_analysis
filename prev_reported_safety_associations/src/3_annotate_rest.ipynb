{
 "cells": [
  {
   "cell_type": "code",
   "execution_count": 1,
   "metadata": {},
   "outputs": [],
   "source": [
    "import pandas as pd"
   ]
  },
  {
   "cell_type": "code",
   "execution_count": 2,
   "metadata": {},
   "outputs": [],
   "source": [
    "pd.set_option('display.max_colwidth', 300)"
   ]
  },
  {
   "cell_type": "code",
   "execution_count": 3,
   "metadata": {},
   "outputs": [],
   "source": [
    "basedir = '/scratch/ias41/ae_code/prev_reported_safety_associations'"
   ]
  },
  {
   "cell_type": "code",
   "execution_count": 4,
   "metadata": {},
   "outputs": [],
   "source": [
    "all_effects = pd.read_excel(basedir + '/data/safety_original2formatted_effects.xls', sep='\\t')"
   ]
  },
  {
   "cell_type": "code",
   "execution_count": 5,
   "metadata": {},
   "outputs": [
    {
     "data": {
      "text/html": [
       "<div>\n",
       "<style scoped>\n",
       "    .dataframe tbody tr th:only-of-type {\n",
       "        vertical-align: middle;\n",
       "    }\n",
       "\n",
       "    .dataframe tbody tr th {\n",
       "        vertical-align: top;\n",
       "    }\n",
       "\n",
       "    .dataframe thead th {\n",
       "        text-align: right;\n",
       "    }\n",
       "</style>\n",
       "<table border=\"1\" class=\"dataframe\">\n",
       "  <thead>\n",
       "    <tr style=\"text-align: right;\">\n",
       "      <th></th>\n",
       "      <th>Accession</th>\n",
       "      <th>ChEMBL target name</th>\n",
       "      <th>Original effect</th>\n",
       "      <th>Formatted effect</th>\n",
       "      <th>PubMed ID</th>\n",
       "      <th>Reference</th>\n",
       "    </tr>\n",
       "  </thead>\n",
       "  <tbody>\n",
       "    <tr>\n",
       "      <th>0</th>\n",
       "      <td>P02708</td>\n",
       "      <td>Acetylcholine receptor protein alpha chain</td>\n",
       "      <td>Effects on muscular functions</td>\n",
       "      <td>Effects on muscular functions</td>\n",
       "      <td>PMID16243262</td>\n",
       "      <td>Whitebread S, Hamon J, Bojanic D, Urban L. Keynote review: in vitro safety pharmacology profiling: an essential tool for successful drug development. Drug Discov Today. 2005 Nov 1;10(21):1421-33.</td>\n",
       "    </tr>\n",
       "    <tr>\n",
       "      <th>1</th>\n",
       "      <td>P02708</td>\n",
       "      <td>Acetylcholine receptor protein alpha chain</td>\n",
       "      <td>Palpitation</td>\n",
       "      <td>Palpitation</td>\n",
       "      <td>PMID16243262</td>\n",
       "      <td>Whitebread S, Hamon J, Bojanic D, Urban L. Keynote review: in vitro safety pharmacology profiling: an essential tool for successful drug development. Drug Discov Today. 2005 Nov 1;10(21):1421-33.</td>\n",
       "    </tr>\n",
       "    <tr>\n",
       "      <th>2</th>\n",
       "      <td>P02708</td>\n",
       "      <td>Acetylcholine receptor protein alpha chain</td>\n",
       "      <td>Stimulates autonomic cardiovascular functions</td>\n",
       "      <td>Stimulates autonomic cardiovascular functions</td>\n",
       "      <td>PMID16243262</td>\n",
       "      <td>Whitebread S, Hamon J, Bojanic D, Urban L. Keynote review: in vitro safety pharmacology profiling: an essential tool for successful drug development. Drug Discov Today. 2005 Nov 1;10(21):1421-33.</td>\n",
       "    </tr>\n",
       "    <tr>\n",
       "      <th>3</th>\n",
       "      <td>P02708</td>\n",
       "      <td>Acetylcholine receptor protein alpha chain</td>\n",
       "      <td>Stimulates gastrointestinal functions</td>\n",
       "      <td>Stimulates gastrointestinal functions</td>\n",
       "      <td>PMID16243262</td>\n",
       "      <td>Whitebread S, Hamon J, Bojanic D, Urban L. Keynote review: in vitro safety pharmacology profiling: an essential tool for successful drug development. Drug Discov Today. 2005 Nov 1;10(21):1421-33.</td>\n",
       "    </tr>\n",
       "    <tr>\n",
       "      <th>4</th>\n",
       "      <td>P02708</td>\n",
       "      <td>Acetylcholine receptor protein alpha chain</td>\n",
       "      <td>bronchial secretion</td>\n",
       "      <td>Bronchial secretion</td>\n",
       "      <td>PMID16243262</td>\n",
       "      <td>Whitebread S, Hamon J, Bojanic D, Urban L. Keynote review: in vitro safety pharmacology profiling: an essential tool for successful drug development. Drug Discov Today. 2005 Nov 1;10(21):1421-33.</td>\n",
       "    </tr>\n",
       "  </tbody>\n",
       "</table>\n",
       "</div>"
      ],
      "text/plain": [
       "  Accession                          ChEMBL target name  \\\n",
       "0    P02708  Acetylcholine receptor protein alpha chain   \n",
       "1    P02708  Acetylcholine receptor protein alpha chain   \n",
       "2    P02708  Acetylcholine receptor protein alpha chain   \n",
       "3    P02708  Acetylcholine receptor protein alpha chain   \n",
       "4    P02708  Acetylcholine receptor protein alpha chain   \n",
       "\n",
       "                                 Original effect  \\\n",
       "0                  Effects on muscular functions   \n",
       "1                                    Palpitation   \n",
       "2  Stimulates autonomic cardiovascular functions   \n",
       "3          Stimulates gastrointestinal functions   \n",
       "4                            bronchial secretion   \n",
       "\n",
       "                                Formatted effect     PubMed ID  \\\n",
       "0                  Effects on muscular functions  PMID16243262   \n",
       "1                                    Palpitation  PMID16243262   \n",
       "2  Stimulates autonomic cardiovascular functions  PMID16243262   \n",
       "3          Stimulates gastrointestinal functions  PMID16243262   \n",
       "4                            Bronchial secretion  PMID16243262   \n",
       "\n",
       "                                                                                                                                                                                             Reference  \n",
       "0  Whitebread S, Hamon J, Bojanic D, Urban L. Keynote review: in vitro safety pharmacology profiling: an essential tool for successful drug development. Drug Discov Today. 2005 Nov 1;10(21):1421-33.  \n",
       "1  Whitebread S, Hamon J, Bojanic D, Urban L. Keynote review: in vitro safety pharmacology profiling: an essential tool for successful drug development. Drug Discov Today. 2005 Nov 1;10(21):1421-33.  \n",
       "2  Whitebread S, Hamon J, Bojanic D, Urban L. Keynote review: in vitro safety pharmacology profiling: an essential tool for successful drug development. Drug Discov Today. 2005 Nov 1;10(21):1421-33.  \n",
       "3  Whitebread S, Hamon J, Bojanic D, Urban L. Keynote review: in vitro safety pharmacology profiling: an essential tool for successful drug development. Drug Discov Today. 2005 Nov 1;10(21):1421-33.  \n",
       "4  Whitebread S, Hamon J, Bojanic D, Urban L. Keynote review: in vitro safety pharmacology profiling: an essential tool for successful drug development. Drug Discov Today. 2005 Nov 1;10(21):1421-33.  "
      ]
     },
     "execution_count": 5,
     "metadata": {},
     "output_type": "execute_result"
    }
   ],
   "source": [
    "all_effects.head()"
   ]
  },
  {
   "cell_type": "code",
   "execution_count": 6,
   "metadata": {},
   "outputs": [
    {
     "data": {
      "text/plain": [
       "498"
      ]
     },
     "execution_count": 6,
     "metadata": {},
     "output_type": "execute_result"
    }
   ],
   "source": [
    "# Total number of unique terms\n",
    "len(all_effects['Formatted effect'].drop_duplicates())"
   ]
  },
  {
   "cell_type": "code",
   "execution_count": 7,
   "metadata": {},
   "outputs": [
    {
     "name": "stderr",
     "output_type": "stream",
     "text": [
      "/scratch/ias41/envs/release/lib/python3.6/site-packages/ipykernel_launcher.py:3: SettingWithCopyWarning: \n",
      "A value is trying to be set on a copy of a slice from a DataFrame\n",
      "\n",
      "See the caveats in the documentation: http://pandas.pydata.org/pandas-docs/stable/user_guide/indexing.html#returning-a-view-versus-a-copy\n",
      "  This is separate from the ipykernel package so we can avoid doing imports until\n",
      "/scratch/ias41/envs/release/lib/python3.6/site-packages/ipykernel_launcher.py:4: SettingWithCopyWarning: \n",
      "A value is trying to be set on a copy of a slice from a DataFrame.\n",
      "Try using .loc[row_indexer,col_indexer] = value instead\n",
      "\n",
      "See the caveats in the documentation: http://pandas.pydata.org/pandas-docs/stable/user_guide/indexing.html#returning-a-view-versus-a-copy\n",
      "  after removing the cwd from sys.path.\n"
     ]
    }
   ],
   "source": [
    "WBB_effects = pd.read_excel(basedir + '/data/formatted_effects_WBB_hierarchy_output_inspected.xlsx')\n",
    "WBB_effects_accepted = WBB_effects.loc[WBB_effects['Manual inspection accepted']=='y',:]\n",
    "WBB_effects_accepted.drop_duplicates(inplace=True)\n",
    "WBB_effects_accepted['PT Code'] = WBB_effects_accepted['PT Code'].astype(int)"
   ]
  },
  {
   "cell_type": "code",
   "execution_count": 8,
   "metadata": {},
   "outputs": [
    {
     "data": {
      "text/plain": [
       "234"
      ]
     },
     "execution_count": 8,
     "metadata": {},
     "output_type": "execute_result"
    }
   ],
   "source": [
    "# Number of currently annotated effects\n",
    "len(WBB_effects_accepted['Row ID'].drop_duplicates())"
   ]
  },
  {
   "cell_type": "code",
   "execution_count": 9,
   "metadata": {},
   "outputs": [],
   "source": [
    "# Make file with terms not yet annotated\n",
    "not_annotated_terms = pd.DataFrame(all_effects.loc[~all_effects['Formatted effect'].isin(WBB_effects_accepted['Row ID'].tolist()),'Formatted effect'].drop_duplicates())"
   ]
  },
  {
   "cell_type": "code",
   "execution_count": 10,
   "metadata": {},
   "outputs": [
    {
     "data": {
      "text/plain": [
       "264"
      ]
     },
     "execution_count": 10,
     "metadata": {},
     "output_type": "execute_result"
    }
   ],
   "source": [
    "# Number of unique terms not_annotated\n",
    "len(not_annotated_terms)"
   ]
  },
  {
   "cell_type": "code",
   "execution_count": 11,
   "metadata": {},
   "outputs": [],
   "source": [
    "# Save two files, one with un-annotated terms, other convenience file with annotated terms to use as reference\n",
    "not_annotated_terms.sort_values(by='Formatted effect').to_csv(basedir + '/data/formatted_effects_WBB_not_annotated.txt', sep='\\t', index=False)\n",
    "WBB_effects_accepted[['Row ID', 'PT', 'PT Code']].drop_duplicates().sort_values(by='Row ID').to_csv(basedir + '/data/formatted_effects_WBB_accepted.txt', sep='\\t', index=False)"
   ]
  },
  {
   "cell_type": "code",
   "execution_count": null,
   "metadata": {},
   "outputs": [],
   "source": []
  }
 ],
 "metadata": {
  "kernelspec": {
   "display_name": "Python 3",
   "language": "python",
   "name": "python3"
  },
  "language_info": {
   "codemirror_mode": {
    "name": "ipython",
    "version": 3
   },
   "file_extension": ".py",
   "mimetype": "text/x-python",
   "name": "python",
   "nbconvert_exporter": "python",
   "pygments_lexer": "ipython3",
   "version": "3.6.7"
  }
 },
 "nbformat": 4,
 "nbformat_minor": 4
}
