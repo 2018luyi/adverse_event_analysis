{
 "cells": [
  {
   "cell_type": "code",
   "execution_count": 3,
   "metadata": {},
   "outputs": [
    {
     "data": {
      "text/plain": [
       "'Combine previously extracted Fu/PPB data with Fu/PPB data from ChEMBL into one file'"
      ]
     },
     "execution_count": 3,
     "metadata": {},
     "output_type": "execute_result"
    }
   ],
   "source": [
    "\"\"\"Combine previously extracted Fu/PPB data with Fu/PPB data from ChEMBL into one file\"\"\""
   ]
  },
  {
   "cell_type": "code",
   "execution_count": 1,
   "metadata": {},
   "outputs": [],
   "source": [
    "import pandas as pd"
   ]
  },
  {
   "cell_type": "code",
   "execution_count": 3,
   "metadata": {},
   "outputs": [],
   "source": [
    "basedir = '/scratch/ias41/ae_code/plasma_concentrations'"
   ]
  },
  {
   "cell_type": "code",
   "execution_count": 5,
   "metadata": {},
   "outputs": [],
   "source": [
    "dataset1 = pd.read_csv(basedir + '/results/interim/PMID22210121_mapped_data.txt', sep='\\t')\n",
    "dataset2 = pd.read_csv(basedir + '/results/interim/PMID15637086_mapped_data.txt', sep='\\t')\n",
    "dataset3 = pd.read_csv(basedir + '/results/interim/PMID30115648_mapped_data.txt', sep='\\t')\n",
    "dataset4 = pd.read_csv(basedir + '/results/interim/PMID12667944_mapped_data.txt', sep='\\t')\n",
    "chembl_data = pd.read_csv(basedir + '/data/chembl_fu_ppb.txt', sep='\\t')"
   ]
  },
  {
   "cell_type": "code",
   "execution_count": 6,
   "metadata": {},
   "outputs": [],
   "source": [
    "chembl_human = chembl_data.loc[chembl_data['assay_organism']=='Homo sapiens',:]\n",
    "chembl_human = chembl_human.loc[chembl_human['data_validity_comment'].isnull(),:]\n",
    "chembl_human = chembl_human.loc[~chembl_human['standard_value'].isnull(),:]"
   ]
  },
  {
   "cell_type": "code",
   "execution_count": 7,
   "metadata": {},
   "outputs": [
    {
     "name": "stdout",
     "output_type": "stream",
     "text": [
      "Index(['Original drug name', 'chembl_id', 'molregno', 'Original synonyms',\n",
      "       'PPB lower', 'PPB upper', 'PMID'],\n",
      "      dtype='object')\n",
      "Index(['Original drug name', 'chembl_id', 'molregno', 'ETCP unbound (nM)',\n",
      "       'PMID'],\n",
      "      dtype='object')\n",
      "Index(['Original drug name', 'chembl_id', 'molregno', 'Original synonyms',\n",
      "       'Fu', 'PMID', 'inchi_key', 'SMILES'],\n",
      "      dtype='object')\n",
      "Index(['Original drug name', 'chembl_id', 'molregno', 'PPB', 'PPB upper',\n",
      "       'ETCP unbound (nM)', 'ETCP unbound (nM) upper', 'PMID'],\n",
      "      dtype='object')\n",
      "Index(['parent_molregno', 'parent_chembl_id', 'pref_name', 'max_phase',\n",
      "       'standard_type', 'standard_relation', 'standard_value', 'upper_value',\n",
      "       'standard_flag', 'assay_test_type', 'description', 'assay_organism',\n",
      "       'assay_tissue', 'activity_comment', 'data_validity_comment',\n",
      "       'assay_id'],\n",
      "      dtype='object')\n"
     ]
    }
   ],
   "source": [
    "for i in [dataset1, dataset2, dataset3, dataset4, chembl_human]:\n",
    "    print(i.columns)"
   ]
  },
  {
   "cell_type": "code",
   "execution_count": 8,
   "metadata": {},
   "outputs": [
    {
     "data": {
      "text/plain": [
       "5542"
      ]
     },
     "execution_count": 8,
     "metadata": {},
     "output_type": "execute_result"
    }
   ],
   "source": [
    "len(chembl_human['parent_molregno'].drop_duplicates())"
   ]
  },
  {
   "cell_type": "code",
   "execution_count": 9,
   "metadata": {},
   "outputs": [],
   "source": [
    "concatenated = pd.concat([dataset1, dataset2, dataset3, dataset4, chembl_human], ignore_index=True, sort=False)"
   ]
  },
  {
   "cell_type": "code",
   "execution_count": 10,
   "metadata": {},
   "outputs": [
    {
     "data": {
      "text/plain": [
       "5543"
      ]
     },
     "execution_count": 10,
     "metadata": {},
     "output_type": "execute_result"
    }
   ],
   "source": [
    "len(concatenated['parent_molregno'].drop_duplicates())"
   ]
  },
  {
   "cell_type": "code",
   "execution_count": 11,
   "metadata": {},
   "outputs": [],
   "source": [
    "# Value, upper value, type, chembl_assay_id, reference"
   ]
  },
  {
   "cell_type": "markdown",
   "metadata": {},
   "source": [
    "### Prepare each dataset"
   ]
  },
  {
   "cell_type": "code",
   "execution_count": 12,
   "metadata": {},
   "outputs": [],
   "source": [
    "dataset1_selection = dataset1.copy()\n",
    "dataset1_selection['type'] = 'PPB'"
   ]
  },
  {
   "cell_type": "code",
   "execution_count": 13,
   "metadata": {},
   "outputs": [],
   "source": [
    "dataset1_selection.columns=['Original drug name', 'chembl_id', 'molregno', 'Original synonyms',\n",
    "       'value', 'upper_value', 'reference', 'type']"
   ]
  },
  {
   "cell_type": "code",
   "execution_count": 14,
   "metadata": {},
   "outputs": [],
   "source": [
    "dataset2_selection = dataset2.copy()"
   ]
  },
  {
   "cell_type": "code",
   "execution_count": 15,
   "metadata": {},
   "outputs": [],
   "source": [
    "dataset2_selection['type'] = 'ETCP unbound (nM)'\n",
    "dataset2_selection.columns=['Original drug name', 'chembl_id', 'molregno',\n",
    "       'value', 'reference', 'type']"
   ]
  },
  {
   "cell_type": "code",
   "execution_count": 16,
   "metadata": {},
   "outputs": [],
   "source": [
    "dataset3_selection = dataset3.copy()[['Original drug name', 'chembl_id', 'molregno', 'Original synonyms',\n",
    "       'Fu', 'PMID']]\n",
    "dataset3_selection['type'] = 'Fu'"
   ]
  },
  {
   "cell_type": "code",
   "execution_count": 17,
   "metadata": {},
   "outputs": [],
   "source": [
    "dataset3_selection.columns=['Original drug name', 'chembl_id', 'molregno', 'Original synonyms',\n",
    "       'value', 'reference', 'type']"
   ]
  },
  {
   "cell_type": "code",
   "execution_count": 18,
   "metadata": {},
   "outputs": [],
   "source": [
    "# Need to do some further wrangling on dataset4\n",
    "\n",
    "# separate into ppb and etcp\n",
    "dataset4_ppb = dataset4.drop(labels = ['ETCP unbound (nM)', 'ETCP unbound (nM) upper'], axis=1)\n",
    "# Drop rows with NAs only\n",
    "dataset4_ppb.dropna(subset=['PPB', 'PPB upper'], how='all', axis=0, inplace=True)\n",
    "dataset4_ppb['type'] = 'PPB'\n",
    "dataset4_ppb.columns = ['Original drug name', 'chembl_id', 'molregno', 'value', 'upper_value',\n",
    "       'reference', 'type']"
   ]
  },
  {
   "cell_type": "code",
   "execution_count": 19,
   "metadata": {},
   "outputs": [
    {
     "data": {
      "text/plain": [
       "Index(['Original drug name', 'chembl_id', 'molregno', 'PPB', 'PPB upper',\n",
       "       'ETCP unbound (nM)', 'ETCP unbound (nM) upper', 'PMID'],\n",
       "      dtype='object')"
      ]
     },
     "execution_count": 19,
     "metadata": {},
     "output_type": "execute_result"
    }
   ],
   "source": [
    "dataset4.columns"
   ]
  },
  {
   "cell_type": "code",
   "execution_count": 20,
   "metadata": {},
   "outputs": [],
   "source": [
    "dataset4_etcp = dataset4.drop(labels = ['PPB', 'PPB upper'], axis=1)\n",
    "dataset4_etcp.dropna(subset=['ETCP unbound (nM)', 'ETCP unbound (nM) upper'], how='all', axis=0, inplace=True)\n",
    "dataset4_etcp['type'] = 'ETCP unbound (nM)'"
   ]
  },
  {
   "cell_type": "code",
   "execution_count": 21,
   "metadata": {},
   "outputs": [],
   "source": [
    "dataset4_etcp.columns = ['Original drug name', 'chembl_id', 'molregno', 'value',\n",
    "       'upper_value', 'reference', 'type']"
   ]
  },
  {
   "cell_type": "code",
   "execution_count": 22,
   "metadata": {},
   "outputs": [],
   "source": [
    "# keep tissues not applicable\n",
    "chembl_selection = chembl_human.loc[~chembl_human['assay_tissue'].isin(['Serum', 'Kidney', 'Liver', 'Urine']),:]"
   ]
  },
  {
   "cell_type": "code",
   "execution_count": 23,
   "metadata": {},
   "outputs": [
    {
     "name": "stderr",
     "output_type": "stream",
     "text": [
      "/scratch/ias41/envs/release/lib/python3.6/site-packages/pandas/core/frame.py:4117: SettingWithCopyWarning: \n",
      "A value is trying to be set on a copy of a slice from a DataFrame\n",
      "\n",
      "See the caveats in the documentation: http://pandas.pydata.org/pandas-docs/stable/user_guide/indexing.html#returning-a-view-versus-a-copy\n",
      "  errors=errors,\n"
     ]
    }
   ],
   "source": [
    "chembl_selection.drop(labels=['parent_chembl_id', 'max_phase', 'standard_relation', 'standard_flag', 'assay_test_type', 'description', 'assay_organism', 'assay_tissue', 'activity_comment', 'data_validity_comment'], axis=1, inplace=True)"
   ]
  },
  {
   "cell_type": "code",
   "execution_count": 24,
   "metadata": {},
   "outputs": [],
   "source": [
    "chembl_selection.columns = ['molregno', 'Original drug name', 'type', 'value',\n",
    "       'upper_value', 'assay_id']"
   ]
  },
  {
   "cell_type": "code",
   "execution_count": 25,
   "metadata": {},
   "outputs": [],
   "source": [
    "all_data = pd.concat([dataset1_selection, dataset2_selection, dataset3_selection, dataset4_ppb, dataset4_etcp, chembl_selection], ignore_index=True, sort=False)"
   ]
  },
  {
   "cell_type": "code",
   "execution_count": 27,
   "metadata": {},
   "outputs": [],
   "source": [
    "all_data.columns = ['Drug name', 'chembl_id', 'molregno', 'Original synonyms',\n",
    "       'value', 'upper_value', 'reference', 'type', 'assay_id']"
   ]
  },
  {
   "cell_type": "code",
   "execution_count": 28,
   "metadata": {},
   "outputs": [],
   "source": [
    "all_data.to_csv(basedir + '/results/interim/combined_fu_ppb_etcp.txt', sep='\\t', index=False)"
   ]
  }
 ],
 "metadata": {
  "kernelspec": {
   "display_name": "Python [conda env:ias41-release] *",
   "language": "python",
   "name": "conda-env-ias41-release-py"
  },
  "language_info": {
   "codemirror_mode": {
    "name": "ipython",
    "version": 3
   },
   "file_extension": ".py",
   "mimetype": "text/x-python",
   "name": "python",
   "nbconvert_exporter": "python",
   "pygments_lexer": "ipython3",
   "version": "3.6.7"
  }
 },
 "nbformat": 4,
 "nbformat_minor": 4
}
