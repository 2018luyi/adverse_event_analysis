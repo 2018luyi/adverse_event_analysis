{
 "cells": [
  {
   "cell_type": "code",
   "execution_count": 1,
   "metadata": {},
   "outputs": [],
   "source": [
    "import pandas as pd\n",
    "import numpy as np\n",
    "import matplotlib.pyplot as plt\n",
    "import pickle\n",
    "%matplotlib inline"
   ]
  },
  {
   "cell_type": "code",
   "execution_count": 2,
   "metadata": {},
   "outputs": [],
   "source": [
    "basedir = '/scratch/ias41/ae_code'"
   ]
  },
  {
   "cell_type": "code",
   "execution_count": 3,
   "metadata": {},
   "outputs": [],
   "source": [
    "plasma_conc_initial = pd.read_csv(basedir + '/plasma_concentrations/results/molregno2median_plasma_total_unbound.txt', sep='\\t')\n",
    "with open(basedir + '/faers_aes/results/20200108_PSM_molregno2aes_PRR2_chi4_faers_min5drugs_all_random_controls.pkl', 'rb') as f:\n",
    "    molregno2ae_faers = pickle.load(f)\n",
    "with open(basedir + '/sider/results/20191215_molregno2aes_sider_min5drugs.pkl', 'rb') as f:\n",
    "    molregno2ae_sider= pickle.load(f)"
   ]
  },
  {
   "cell_type": "code",
   "execution_count": 4,
   "metadata": {},
   "outputs": [
    {
     "data": {
      "text/plain": [
       "Index(['molregno', 'chembl_id', 'pref_name',\n",
       "       'median Molar total plasma concentration',\n",
       "       'median pMolar total plasma concentration',\n",
       "       'median Molar unbound plasma concentration',\n",
       "       'median pMolar unbound plasma concentration'],\n",
       "      dtype='object')"
      ]
     },
     "execution_count": 4,
     "metadata": {},
     "output_type": "execute_result"
    }
   ],
   "source": [
    "plasma_conc_initial.columns"
   ]
  },
  {
   "cell_type": "code",
   "execution_count": 5,
   "metadata": {},
   "outputs": [],
   "source": [
    "unbound = set(plasma_conc_initial.loc[~plasma_conc_initial['median pMolar unbound plasma concentration'].isnull(),'molregno'])\n",
    "total = set(plasma_conc_initial.loc[~plasma_conc_initial['median pMolar total plasma concentration'].isnull(),'molregno'])"
   ]
  },
  {
   "cell_type": "code",
   "execution_count": 6,
   "metadata": {},
   "outputs": [
    {
     "data": {
      "text/plain": [
       "(536, 756)"
      ]
     },
     "execution_count": 6,
     "metadata": {},
     "output_type": "execute_result"
    }
   ],
   "source": [
    "len(unbound), len(total)"
   ]
  },
  {
   "cell_type": "code",
   "execution_count": 7,
   "metadata": {},
   "outputs": [],
   "source": [
    "# Total and unbound overlapping with drugs from AE datasets"
   ]
  },
  {
   "cell_type": "code",
   "execution_count": 8,
   "metadata": {},
   "outputs": [
    {
     "data": {
      "text/plain": [
       "1594"
      ]
     },
     "execution_count": 8,
     "metadata": {},
     "output_type": "execute_result"
    }
   ],
   "source": [
    "ae_datasets_drugs = molregno2ae_faers.keys() | molregno2ae_sider.keys()\n",
    "len(ae_datasets_drugs)"
   ]
  },
  {
   "cell_type": "code",
   "execution_count": 9,
   "metadata": {},
   "outputs": [
    {
     "data": {
      "text/plain": [
       "466"
      ]
     },
     "execution_count": 9,
     "metadata": {},
     "output_type": "execute_result"
    }
   ],
   "source": [
    "unbound_overlap = ae_datasets_drugs & unbound\n",
    "len(unbound_overlap)"
   ]
  },
  {
   "cell_type": "code",
   "execution_count": 10,
   "metadata": {},
   "outputs": [
    {
     "data": {
      "text/plain": [
       "625"
      ]
     },
     "execution_count": 10,
     "metadata": {},
     "output_type": "execute_result"
    }
   ],
   "source": [
    "total_overlap = ae_datasets_drugs & total\n",
    "len(total_overlap)"
   ]
  },
  {
   "cell_type": "code",
   "execution_count": 11,
   "metadata": {},
   "outputs": [],
   "source": [
    "plasma_conc_ae_overlap = plasma_conc_initial.loc[plasma_conc_initial['molregno'].isin(ae_datasets_drugs)]"
   ]
  },
  {
   "cell_type": "code",
   "execution_count": 12,
   "metadata": {},
   "outputs": [
    {
     "data": {
      "text/html": [
       "<div>\n",
       "<style scoped>\n",
       "    .dataframe tbody tr th:only-of-type {\n",
       "        vertical-align: middle;\n",
       "    }\n",
       "\n",
       "    .dataframe tbody tr th {\n",
       "        vertical-align: top;\n",
       "    }\n",
       "\n",
       "    .dataframe thead th {\n",
       "        text-align: right;\n",
       "    }\n",
       "</style>\n",
       "<table border=\"1\" class=\"dataframe\">\n",
       "  <thead>\n",
       "    <tr style=\"text-align: right;\">\n",
       "      <th></th>\n",
       "      <th>molregno</th>\n",
       "      <th>chembl_id</th>\n",
       "      <th>pref_name</th>\n",
       "      <th>median Molar total plasma concentration</th>\n",
       "      <th>median pMolar total plasma concentration</th>\n",
       "      <th>median Molar unbound plasma concentration</th>\n",
       "      <th>median pMolar unbound plasma concentration</th>\n",
       "    </tr>\n",
       "  </thead>\n",
       "  <tbody>\n",
       "    <tr>\n",
       "      <th>0</th>\n",
       "      <td>97</td>\n",
       "      <td>CHEMBL2</td>\n",
       "      <td>PRAZOSIN</td>\n",
       "      <td>5.216348e-08</td>\n",
       "      <td>7.282633</td>\n",
       "      <td>3.129809e-09</td>\n",
       "      <td>8.504482</td>\n",
       "    </tr>\n",
       "    <tr>\n",
       "      <th>1</th>\n",
       "      <td>115</td>\n",
       "      <td>CHEMBL3</td>\n",
       "      <td>NICOTINE</td>\n",
       "      <td>1.849112e-07</td>\n",
       "      <td>6.733037</td>\n",
       "      <td>1.756657e-07</td>\n",
       "      <td>6.755313</td>\n",
       "    </tr>\n",
       "    <tr>\n",
       "      <th>2</th>\n",
       "      <td>146</td>\n",
       "      <td>CHEMBL4</td>\n",
       "      <td>OFLOXACIN</td>\n",
       "      <td>8.025016e-06</td>\n",
       "      <td>5.095554</td>\n",
       "      <td>6.018762e-06</td>\n",
       "      <td>5.220493</td>\n",
       "    </tr>\n",
       "    <tr>\n",
       "      <th>3</th>\n",
       "      <td>147</td>\n",
       "      <td>CHEMBL5</td>\n",
       "      <td>NALIDIXIC ACID</td>\n",
       "      <td>1.291767e-04</td>\n",
       "      <td>3.888816</td>\n",
       "      <td>1.033414e-05</td>\n",
       "      <td>4.985726</td>\n",
       "    </tr>\n",
       "    <tr>\n",
       "      <th>4</th>\n",
       "      <td>173</td>\n",
       "      <td>CHEMBL6</td>\n",
       "      <td>INDOMETHACIN</td>\n",
       "      <td>5.589871e-06</td>\n",
       "      <td>5.252598</td>\n",
       "      <td>5.589871e-08</td>\n",
       "      <td>7.252598</td>\n",
       "    </tr>\n",
       "  </tbody>\n",
       "</table>\n",
       "</div>"
      ],
      "text/plain": [
       "   molregno chembl_id       pref_name  \\\n",
       "0        97   CHEMBL2        PRAZOSIN   \n",
       "1       115   CHEMBL3        NICOTINE   \n",
       "2       146   CHEMBL4       OFLOXACIN   \n",
       "3       147   CHEMBL5  NALIDIXIC ACID   \n",
       "4       173   CHEMBL6    INDOMETHACIN   \n",
       "\n",
       "   median Molar total plasma concentration  \\\n",
       "0                             5.216348e-08   \n",
       "1                             1.849112e-07   \n",
       "2                             8.025016e-06   \n",
       "3                             1.291767e-04   \n",
       "4                             5.589871e-06   \n",
       "\n",
       "   median pMolar total plasma concentration  \\\n",
       "0                                  7.282633   \n",
       "1                                  6.733037   \n",
       "2                                  5.095554   \n",
       "3                                  3.888816   \n",
       "4                                  5.252598   \n",
       "\n",
       "   median Molar unbound plasma concentration  \\\n",
       "0                               3.129809e-09   \n",
       "1                               1.756657e-07   \n",
       "2                               6.018762e-06   \n",
       "3                               1.033414e-05   \n",
       "4                               5.589871e-08   \n",
       "\n",
       "   median pMolar unbound plasma concentration  \n",
       "0                                    8.504482  \n",
       "1                                    6.755313  \n",
       "2                                    5.220493  \n",
       "3                                    4.985726  \n",
       "4                                    7.252598  "
      ]
     },
     "execution_count": 12,
     "metadata": {},
     "output_type": "execute_result"
    }
   ],
   "source": [
    "plasma_conc_ae_overlap.head()"
   ]
  },
  {
   "cell_type": "code",
   "execution_count": 13,
   "metadata": {},
   "outputs": [
    {
     "data": {
      "text/plain": [
       "molregno                                      8.020900e+04\n",
       "median Molar total plasma concentration       1.677129e-06\n",
       "median pMolar total plasma concentration      5.775434e+00\n",
       "median Molar unbound plasma concentration     2.599571e-07\n",
       "median pMolar unbound plasma concentration    6.585107e+00\n",
       "dtype: float64"
      ]
     },
     "execution_count": 13,
     "metadata": {},
     "output_type": "execute_result"
    }
   ],
   "source": [
    "plasma_conc_ae_overlap.median()"
   ]
  },
  {
   "cell_type": "code",
   "execution_count": 21,
   "metadata": {},
   "outputs": [
    {
     "data": {
      "text/plain": [
       "count    466.000000\n",
       "mean       6.511338\n",
       "std        1.497418\n",
       "min        2.734586\n",
       "25%        5.443263\n",
       "50%        6.585107\n",
       "75%        7.545077\n",
       "max       11.112180\n",
       "Name: median pMolar unbound plasma concentration, dtype: float64"
      ]
     },
     "execution_count": 21,
     "metadata": {},
     "output_type": "execute_result"
    }
   ],
   "source": [
    "plasma_conc_ae_overlap['median pMolar unbound plasma concentration'].describe()"
   ]
  },
  {
   "cell_type": "code",
   "execution_count": 22,
   "metadata": {},
   "outputs": [
    {
     "data": {
      "text/plain": [
       "count    625.000000\n",
       "mean       5.684523\n",
       "std        1.262203\n",
       "min        2.611381\n",
       "25%        4.792805\n",
       "50%        5.775434\n",
       "75%        6.530763\n",
       "max       10.389742\n",
       "Name: median pMolar total plasma concentration, dtype: float64"
      ]
     },
     "execution_count": 22,
     "metadata": {},
     "output_type": "execute_result"
    }
   ],
   "source": [
    "plasma_conc_ae_overlap['median pMolar total plasma concentration'].describe()"
   ]
  },
  {
   "cell_type": "code",
   "execution_count": 19,
   "metadata": {},
   "outputs": [
    {
     "data": {
      "text/plain": [
       "2.7345860469993375"
      ]
     },
     "execution_count": 19,
     "metadata": {},
     "output_type": "execute_result"
    }
   ],
   "source": [
    "plasma_conc_ae_overlap['median pMolar unbound plasma concentration'].min()"
   ]
  },
  {
   "cell_type": "code",
   "execution_count": 20,
   "metadata": {},
   "outputs": [
    {
     "data": {
      "text/plain": [
       "11.11218032919914"
      ]
     },
     "execution_count": 20,
     "metadata": {},
     "output_type": "execute_result"
    }
   ],
   "source": [
    "plasma_conc_ae_overlap['median pMolar unbound plasma concentration'].max()"
   ]
  },
  {
   "cell_type": "code",
   "execution_count": null,
   "metadata": {},
   "outputs": [],
   "source": []
  },
  {
   "cell_type": "code",
   "execution_count": null,
   "metadata": {},
   "outputs": [],
   "source": []
  },
  {
   "cell_type": "code",
   "execution_count": 19,
   "metadata": {},
   "outputs": [
    {
     "data": {
      "image/png": "[encoded data removed]",
      "text/plain": [
       "<Figure size 432x288 with 1 Axes>"
      ]
     },
     "metadata": {
      "needs_background": "light"
     },
     "output_type": "display_data"
    }
   ],
   "source": [
    "plt.rc('axes', labelsize=16)\n",
    "plt.rcParams['xtick.labelsize'] = 16\n",
    "plt.rcParams['ytick.labelsize'] = 16\n",
    "len_total = len(plasma_conc_ae_overlap.loc[~plasma_conc_ae_overlap['median pMolar total plasma concentration'].isnull(),'median pMolar total plasma concentration'])\n",
    "len_unbound = len(plasma_conc_ae_overlap.loc[~plasma_conc_ae_overlap['median pMolar unbound plasma concentration'].isnull(),'median pMolar unbound plasma concentration'])\n",
    "ax = pd.DataFrame(\n",
    "    {f'total\\n({len_total} drugs)': plasma_conc_ae_overlap.loc[~plasma_conc_ae_overlap['median pMolar total plasma concentration'].isnull(),'median pMolar total plasma concentration']\n",
    "    , f'unbound\\n({len_unbound} drugs)': plasma_conc_ae_overlap.loc[~plasma_conc_ae_overlap['median pMolar unbound plasma concentration'].isnull(),'median pMolar unbound plasma concentration']\n",
    "    }).plot.hist(alpha=0.5, bins=20)\n",
    "plt.legend(fontsize=13)\n",
    "ax.set_xlabel('pMolar plasma concentration')\n",
    "ax.set_xticks([3,4,5,6,7,8,9,10,11])\n",
    "\n",
    "plt.savefig(basedir + '/plasma_concentrations/figures/plasma_conc_dist.png', dpi=200, bbox_inches='tight')"
   ]
  },
  {
   "cell_type": "code",
   "execution_count": 16,
   "metadata": {},
   "outputs": [
    {
     "name": "stderr",
     "output_type": "stream",
     "text": [
      "/scratch/ias41/envs/release/lib/python3.6/site-packages/ipykernel_launcher.py:1: SettingWithCopyWarning: \n",
      "A value is trying to be set on a copy of a slice from a DataFrame.\n",
      "Try using .loc[row_indexer,col_indexer] = value instead\n",
      "\n",
      "See the caveats in the documentation: http://pandas.pydata.org/pandas-docs/stable/user_guide/indexing.html#returning-a-view-versus-a-copy\n",
      "  \"\"\"Entry point for launching an IPython kernel.\n"
     ]
    }
   ],
   "source": [
    "plasma_conc_ae_overlap['difference'] = plasma_conc_ae_overlap['median pMolar unbound plasma concentration'] - plasma_conc_ae_overlap['median pMolar total plasma concentration']"
   ]
  },
  {
   "cell_type": "code",
   "execution_count": 17,
   "metadata": {},
   "outputs": [
    {
     "data": {
      "text/html": [
       "<div>\n",
       "<style scoped>\n",
       "    .dataframe tbody tr th:only-of-type {\n",
       "        vertical-align: middle;\n",
       "    }\n",
       "\n",
       "    .dataframe tbody tr th {\n",
       "        vertical-align: top;\n",
       "    }\n",
       "\n",
       "    .dataframe thead th {\n",
       "        text-align: right;\n",
       "    }\n",
       "</style>\n",
       "<table border=\"1\" class=\"dataframe\">\n",
       "  <thead>\n",
       "    <tr style=\"text-align: right;\">\n",
       "      <th></th>\n",
       "      <th>molregno</th>\n",
       "      <th>chembl_id</th>\n",
       "      <th>pref_name</th>\n",
       "      <th>median Molar total plasma concentration</th>\n",
       "      <th>median pMolar total plasma concentration</th>\n",
       "      <th>median Molar unbound plasma concentration</th>\n",
       "      <th>median pMolar unbound plasma concentration</th>\n",
       "      <th>difference</th>\n",
       "    </tr>\n",
       "  </thead>\n",
       "  <tbody>\n",
       "    <tr>\n",
       "      <th>71</th>\n",
       "      <td>5638</td>\n",
       "      <td>CHEMBL473</td>\n",
       "      <td>DOFETILIDE</td>\n",
       "      <td>NaN</td>\n",
       "      <td>NaN</td>\n",
       "      <td>1.600000e-09</td>\n",
       "      <td>8.795880</td>\n",
       "      <td>NaN</td>\n",
       "    </tr>\n",
       "    <tr>\n",
       "      <th>100</th>\n",
       "      <td>10358</td>\n",
       "      <td>CHEMBL505</td>\n",
       "      <td>CHLORPHENIRAMINE</td>\n",
       "      <td>NaN</td>\n",
       "      <td>NaN</td>\n",
       "      <td>8.750000e-09</td>\n",
       "      <td>8.057992</td>\n",
       "      <td>NaN</td>\n",
       "    </tr>\n",
       "    <tr>\n",
       "      <th>116</th>\n",
       "      <td>12608</td>\n",
       "      <td>CHEMBL533</td>\n",
       "      <td>IBUTILIDE</td>\n",
       "      <td>NaN</td>\n",
       "      <td>NaN</td>\n",
       "      <td>1.051750e-07</td>\n",
       "      <td>6.978087</td>\n",
       "      <td>NaN</td>\n",
       "    </tr>\n",
       "    <tr>\n",
       "      <th>269</th>\n",
       "      <td>65351</td>\n",
       "      <td>CHEMBL850</td>\n",
       "      <td>SPARFLOXACIN</td>\n",
       "      <td>NaN</td>\n",
       "      <td>NaN</td>\n",
       "      <td>1.373500e-06</td>\n",
       "      <td>5.862171</td>\n",
       "      <td>NaN</td>\n",
       "    </tr>\n",
       "    <tr>\n",
       "      <th>475</th>\n",
       "      <td>469763</td>\n",
       "      <td>CHEMBL1626</td>\n",
       "      <td>CLEMASTINE</td>\n",
       "      <td>NaN</td>\n",
       "      <td>NaN</td>\n",
       "      <td>3.000000e-09</td>\n",
       "      <td>8.522879</td>\n",
       "      <td>NaN</td>\n",
       "    </tr>\n",
       "    <tr>\n",
       "      <th>...</th>\n",
       "      <td>...</td>\n",
       "      <td>...</td>\n",
       "      <td>...</td>\n",
       "      <td>...</td>\n",
       "      <td>...</td>\n",
       "      <td>...</td>\n",
       "      <td>...</td>\n",
       "      <td>...</td>\n",
       "    </tr>\n",
       "    <tr>\n",
       "      <th>758</th>\n",
       "      <td>675207</td>\n",
       "      <td>CHEMBL1201256</td>\n",
       "      <td>TRIMETHOBENZAMIDE</td>\n",
       "      <td>5.148535e-06</td>\n",
       "      <td>5.288316</td>\n",
       "      <td>NaN</td>\n",
       "      <td>NaN</td>\n",
       "      <td>NaN</td>\n",
       "    </tr>\n",
       "    <tr>\n",
       "      <th>759</th>\n",
       "      <td>330452</td>\n",
       "      <td>CHEMBL1396</td>\n",
       "      <td>VARENICLINE</td>\n",
       "      <td>2.366640e-08</td>\n",
       "      <td>7.625868</td>\n",
       "      <td>NaN</td>\n",
       "      <td>NaN</td>\n",
       "      <td>NaN</td>\n",
       "    </tr>\n",
       "    <tr>\n",
       "      <th>760</th>\n",
       "      <td>141484</td>\n",
       "      <td>CHEMBL89598</td>\n",
       "      <td>VIGABATRIN</td>\n",
       "      <td>3.484051e-04</td>\n",
       "      <td>3.457916</td>\n",
       "      <td>NaN</td>\n",
       "      <td>NaN</td>\n",
       "      <td>NaN</td>\n",
       "    </tr>\n",
       "    <tr>\n",
       "      <th>763</th>\n",
       "      <td>452689</td>\n",
       "      <td>CHEMBL517199</td>\n",
       "      <td>XIPAMIDE</td>\n",
       "      <td>5.636661e-05</td>\n",
       "      <td>4.248978</td>\n",
       "      <td>NaN</td>\n",
       "      <td>NaN</td>\n",
       "      <td>NaN</td>\n",
       "    </tr>\n",
       "    <tr>\n",
       "      <th>764</th>\n",
       "      <td>34266</td>\n",
       "      <td>CHEMBL285802</td>\n",
       "      <td>ZOTEPINE</td>\n",
       "      <td>4.519842e-07</td>\n",
       "      <td>6.344877</td>\n",
       "      <td>NaN</td>\n",
       "      <td>NaN</td>\n",
       "      <td>NaN</td>\n",
       "    </tr>\n",
       "  </tbody>\n",
       "</table>\n",
       "<p>171 rows × 8 columns</p>\n",
       "</div>"
      ],
      "text/plain": [
       "     molregno      chembl_id          pref_name  \\\n",
       "71       5638      CHEMBL473         DOFETILIDE   \n",
       "100     10358      CHEMBL505   CHLORPHENIRAMINE   \n",
       "116     12608      CHEMBL533          IBUTILIDE   \n",
       "269     65351      CHEMBL850       SPARFLOXACIN   \n",
       "475    469763     CHEMBL1626         CLEMASTINE   \n",
       "..        ...            ...                ...   \n",
       "758    675207  CHEMBL1201256  TRIMETHOBENZAMIDE   \n",
       "759    330452     CHEMBL1396        VARENICLINE   \n",
       "760    141484    CHEMBL89598         VIGABATRIN   \n",
       "763    452689   CHEMBL517199           XIPAMIDE   \n",
       "764     34266   CHEMBL285802           ZOTEPINE   \n",
       "\n",
       "     median Molar total plasma concentration  \\\n",
       "71                                       NaN   \n",
       "100                                      NaN   \n",
       "116                                      NaN   \n",
       "269                                      NaN   \n",
       "475                                      NaN   \n",
       "..                                       ...   \n",
       "758                             5.148535e-06   \n",
       "759                             2.366640e-08   \n",
       "760                             3.484051e-04   \n",
       "763                             5.636661e-05   \n",
       "764                             4.519842e-07   \n",
       "\n",
       "     median pMolar total plasma concentration  \\\n",
       "71                                        NaN   \n",
       "100                                       NaN   \n",
       "116                                       NaN   \n",
       "269                                       NaN   \n",
       "475                                       NaN   \n",
       "..                                        ...   \n",
       "758                                  5.288316   \n",
       "759                                  7.625868   \n",
       "760                                  3.457916   \n",
       "763                                  4.248978   \n",
       "764                                  6.344877   \n",
       "\n",
       "     median Molar unbound plasma concentration  \\\n",
       "71                                1.600000e-09   \n",
       "100                               8.750000e-09   \n",
       "116                               1.051750e-07   \n",
       "269                               1.373500e-06   \n",
       "475                               3.000000e-09   \n",
       "..                                         ...   \n",
       "758                                        NaN   \n",
       "759                                        NaN   \n",
       "760                                        NaN   \n",
       "763                                        NaN   \n",
       "764                                        NaN   \n",
       "\n",
       "     median pMolar unbound plasma concentration  difference  \n",
       "71                                     8.795880         NaN  \n",
       "100                                    8.057992         NaN  \n",
       "116                                    6.978087         NaN  \n",
       "269                                    5.862171         NaN  \n",
       "475                                    8.522879         NaN  \n",
       "..                                          ...         ...  \n",
       "758                                         NaN         NaN  \n",
       "759                                         NaN         NaN  \n",
       "760                                         NaN         NaN  \n",
       "763                                         NaN         NaN  \n",
       "764                                         NaN         NaN  \n",
       "\n",
       "[171 rows x 8 columns]"
      ]
     },
     "execution_count": 17,
     "metadata": {},
     "output_type": "execute_result"
    }
   ],
   "source": [
    "plasma_conc_ae_overlap.loc[plasma_conc_ae_overlap['difference'].isnull()]"
   ]
  },
  {
   "cell_type": "code",
   "execution_count": 22,
   "metadata": {},
   "outputs": [
    {
     "data": {
      "image/png": "[encoded data removed]",
      "text/plain": [
       "<Figure size 432x288 with 1 Axes>"
      ]
     },
     "metadata": {
      "needs_background": "light"
     },
     "output_type": "display_data"
    }
   ],
   "source": [
    "plt.clf()\n",
    "plt.cla()\n",
    "plt.close()\n",
    "\n",
    "ax = plasma_conc_ae_overlap.loc[~plasma_conc_ae_overlap['difference'].isnull(),:]['difference'].plot.hist(bins=30)\n",
    "ax.set_xlabel(\"Difference between total and unbound\\nplasma concentration (log units)\")\n",
    "\n",
    "plt.savefig(basedir + '/plasma_concentrations/figures/plasma_unbound_total_diffs.png', dpi=200, bbox_inches='tight')"
   ]
  },
  {
   "cell_type": "code",
   "execution_count": null,
   "metadata": {},
   "outputs": [],
   "source": []
  }
 ],
 "metadata": {
  "kernelspec": {
   "display_name": "Python [conda env:ias41-release] *",
   "language": "python",
   "name": "conda-env-ias41-release-py"
  },
  "language_info": {
   "codemirror_mode": {
    "name": "ipython",
    "version": 3
   },
   "file_extension": ".py",
   "mimetype": "text/x-python",
   "name": "python",
   "nbconvert_exporter": "python",
   "pygments_lexer": "ipython3",
   "version": "3.6.7"
  }
 },
 "nbformat": 4,
 "nbformat_minor": 4
}
