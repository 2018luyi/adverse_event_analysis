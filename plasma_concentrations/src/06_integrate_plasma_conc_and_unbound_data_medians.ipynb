{
 "cells": [
  {
   "cell_type": "code",
   "execution_count": 1,
   "metadata": {},
   "outputs": [
    {
     "data": {
      "text/plain": [
       "'Take mean of lower-upper Fu/PPB per publication, take medians of Fus from different publications, calculate Fu and multiply by total plasma conc. to get unbound. Add the few extracted unbound concentrations back and take median per compound. Add back a few total concentrations without unbound info.'"
      ]
     },
     "execution_count": 1,
     "metadata": {},
     "output_type": "execute_result"
    }
   ],
   "source": [
    "\"\"\"Take mean of lower-upper Fu/PPB per publication, take medians of Fus from different publications, calculate Fu and multiply by total plasma conc. to get unbound. Add the few extracted unbound concentrations back and take median per compound. Add back a few total concentrations without unbound info.\"\"\""
   ]
  },
  {
   "cell_type": "code",
   "execution_count": 1,
   "metadata": {},
   "outputs": [],
   "source": [
    "import pandas as pd\n",
    "import numpy as np"
   ]
  },
  {
   "cell_type": "markdown",
   "metadata": {},
   "source": [
    "1. if unbound concentration available, keep apart to combine later\n",
    "2. for other data, take median of various fu/ppb figures\n",
    "3. merge that data with plasma concentrations and use to calculate 'calculated unbound concentration'\n",
    "4. combined with etcp data\n",
    "4. convert to -log(molar unbound) \n"
   ]
  },
  {
   "cell_type": "code",
   "execution_count": 2,
   "metadata": {},
   "outputs": [],
   "source": [
    "basedir = '/scratch/ias41/ae_code/plasma_concentrations'"
   ]
  },
  {
   "cell_type": "code",
   "execution_count": 32,
   "metadata": {},
   "outputs": [],
   "source": [
    "combined_data = pd.read_csv(basedir + '/results/interim/combined_fu_ppb_etcp.txt', sep='\\t')\n",
    "plasma_conc = pd.read_csv(basedir + '/results/interim/molregno2median_total_plasma_conc.txt', sep='\\t')\n",
    "approved_drugs = pd.read_csv(basedir + '/data/chembl_approved_drugs.txt', sep='\\t')"
   ]
  },
  {
   "cell_type": "code",
   "execution_count": 4,
   "metadata": {},
   "outputs": [],
   "source": [
    "molregno2pref_name = dict()\n",
    "for row in approved_drugs[['molregno','pref_name']].drop_duplicates().iterrows():\n",
    "    molregno2pref_name[row[1]['molregno']] = row[1]['pref_name']"
   ]
  },
  {
   "cell_type": "code",
   "execution_count": 5,
   "metadata": {},
   "outputs": [
    {
     "data": {
      "text/plain": [
       "'PRAZOSIN'"
      ]
     },
     "execution_count": 5,
     "metadata": {},
     "output_type": "execute_result"
    }
   ],
   "source": [
    "molregno2pref_name[97]"
   ]
  },
  {
   "cell_type": "code",
   "execution_count": 6,
   "metadata": {},
   "outputs": [
    {
     "data": {
      "text/html": [
       "<div>\n",
       "<style scoped>\n",
       "    .dataframe tbody tr th:only-of-type {\n",
       "        vertical-align: middle;\n",
       "    }\n",
       "\n",
       "    .dataframe tbody tr th {\n",
       "        vertical-align: top;\n",
       "    }\n",
       "\n",
       "    .dataframe thead th {\n",
       "        text-align: right;\n",
       "    }\n",
       "</style>\n",
       "<table border=\"1\" class=\"dataframe\">\n",
       "  <thead>\n",
       "    <tr style=\"text-align: right;\">\n",
       "      <th></th>\n",
       "      <th>molregno</th>\n",
       "      <th>pref_name</th>\n",
       "      <th>parent_chembl_id</th>\n",
       "      <th>median_Molar_value</th>\n",
       "      <th>median_pMolar_value</th>\n",
       "    </tr>\n",
       "  </thead>\n",
       "  <tbody>\n",
       "    <tr>\n",
       "      <th>0</th>\n",
       "      <td>97</td>\n",
       "      <td>PRAZOSIN</td>\n",
       "      <td>CHEMBL2</td>\n",
       "      <td>5.216348e-08</td>\n",
       "      <td>7.282633</td>\n",
       "    </tr>\n",
       "    <tr>\n",
       "      <th>1</th>\n",
       "      <td>115</td>\n",
       "      <td>NICOTINE</td>\n",
       "      <td>CHEMBL3</td>\n",
       "      <td>1.849112e-07</td>\n",
       "      <td>6.733037</td>\n",
       "    </tr>\n",
       "    <tr>\n",
       "      <th>2</th>\n",
       "      <td>146</td>\n",
       "      <td>OFLOXACIN</td>\n",
       "      <td>CHEMBL4</td>\n",
       "      <td>8.025016e-06</td>\n",
       "      <td>5.095554</td>\n",
       "    </tr>\n",
       "    <tr>\n",
       "      <th>3</th>\n",
       "      <td>147</td>\n",
       "      <td>NALIDIXIC ACID</td>\n",
       "      <td>CHEMBL5</td>\n",
       "      <td>1.291767e-04</td>\n",
       "      <td>3.888816</td>\n",
       "    </tr>\n",
       "    <tr>\n",
       "      <th>4</th>\n",
       "      <td>173</td>\n",
       "      <td>INDOMETHACIN</td>\n",
       "      <td>CHEMBL6</td>\n",
       "      <td>5.589871e-06</td>\n",
       "      <td>5.252598</td>\n",
       "    </tr>\n",
       "  </tbody>\n",
       "</table>\n",
       "</div>"
      ],
      "text/plain": [
       "   molregno       pref_name parent_chembl_id  median_Molar_value  \\\n",
       "0        97        PRAZOSIN          CHEMBL2        5.216348e-08   \n",
       "1       115        NICOTINE          CHEMBL3        1.849112e-07   \n",
       "2       146       OFLOXACIN          CHEMBL4        8.025016e-06   \n",
       "3       147  NALIDIXIC ACID          CHEMBL5        1.291767e-04   \n",
       "4       173    INDOMETHACIN          CHEMBL6        5.589871e-06   \n",
       "\n",
       "   median_pMolar_value  \n",
       "0             7.282633  \n",
       "1             6.733037  \n",
       "2             5.095554  \n",
       "3             3.888816  \n",
       "4             5.252598  "
      ]
     },
     "execution_count": 6,
     "metadata": {},
     "output_type": "execute_result"
    }
   ],
   "source": [
    "plasma_conc.head()"
   ]
  },
  {
   "cell_type": "code",
   "execution_count": 33,
   "metadata": {},
   "outputs": [],
   "source": [
    "plasma_conc.columns = ['molregno', 'pref_name','chembl_id','median Molar total plasma concentration', 'median pMolar total plasma concentration']"
   ]
  },
  {
   "cell_type": "code",
   "execution_count": 9,
   "metadata": {},
   "outputs": [],
   "source": [
    "etcp_data = combined_data.loc[combined_data['type']=='ETCP unbound (nM)',:]\n",
    "other_data = combined_data.loc[combined_data['type']!='ETCP unbound (nM)',:]"
   ]
  },
  {
   "cell_type": "markdown",
   "metadata": {},
   "source": [
    "#### For ETCP data, convert to concentrations to Molar value. If there are two values, take mean"
   ]
  },
  {
   "cell_type": "code",
   "execution_count": 10,
   "metadata": {},
   "outputs": [],
   "source": [
    "def value_nM_to_M(row):\n",
    "    # Take higher range value\n",
    "    if pd.isna(row['upper_value']):\n",
    "        return (row['value'] * (10**-9))\n",
    "    if pd.isna(row['upper_value']) == False:\n",
    "        return (np.mean([row['value'], row['upper_value']]) * (10**-9))"
   ]
  },
  {
   "cell_type": "code",
   "execution_count": 11,
   "metadata": {},
   "outputs": [
    {
     "name": "stderr",
     "output_type": "stream",
     "text": [
      "/scratch/ias41/envs/release/lib/python3.6/site-packages/ipykernel_launcher.py:1: SettingWithCopyWarning: \n",
      "A value is trying to be set on a copy of a slice from a DataFrame.\n",
      "Try using .loc[row_indexer,col_indexer] = value instead\n",
      "\n",
      "See the caveats in the documentation: http://pandas.pydata.org/pandas-docs/stable/user_guide/indexing.html#returning-a-view-versus-a-copy\n",
      "  \"\"\"Entry point for launching an IPython kernel.\n"
     ]
    }
   ],
   "source": [
    "etcp_data['unbound_molar_value'] = etcp_data.apply(value_nM_to_M, axis=1)"
   ]
  },
  {
   "cell_type": "markdown",
   "metadata": {},
   "source": [
    "#### Take mean of available upper and lower PPB measurements per compound from same publication"
   ]
  },
  {
   "cell_type": "code",
   "execution_count": 12,
   "metadata": {},
   "outputs": [],
   "source": [
    "# Invert PPB\n",
    "def calculate_fu(x):\n",
    "    if x['type'] == 'PPB':\n",
    "        if pd.isna(x['upper_value']):\n",
    "            Fu = (100 - x['value'])/100\n",
    "        elif pd.isna(x['upper_value']) == False:\n",
    "            # in case a range is reported - take average of value and upper_value\n",
    "            ppb_average = (x['value']+x['upper_value'])/2\n",
    "            fu = Fu = (100 - ppb_average)/100\n",
    "        return Fu\n",
    "    elif x['type'] == 'Fu':\n",
    "        return x['value']"
   ]
  },
  {
   "cell_type": "code",
   "execution_count": 13,
   "metadata": {},
   "outputs": [
    {
     "name": "stderr",
     "output_type": "stream",
     "text": [
      "/scratch/ias41/envs/release/lib/python3.6/site-packages/ipykernel_launcher.py:1: SettingWithCopyWarning: \n",
      "A value is trying to be set on a copy of a slice from a DataFrame.\n",
      "Try using .loc[row_indexer,col_indexer] = value instead\n",
      "\n",
      "See the caveats in the documentation: http://pandas.pydata.org/pandas-docs/stable/user_guide/indexing.html#returning-a-view-versus-a-copy\n",
      "  \"\"\"Entry point for launching an IPython kernel.\n"
     ]
    }
   ],
   "source": [
    "other_data['Fu'] = other_data.apply(calculate_fu, axis=1)"
   ]
  },
  {
   "cell_type": "code",
   "execution_count": 14,
   "metadata": {},
   "outputs": [],
   "source": [
    "# Take median of Fu data from different sources\n",
    "#Fus = other_data.groupby(by='molregno')['Fu'].median().reset_index()"
   ]
  },
  {
   "cell_type": "code",
   "execution_count": 15,
   "metadata": {},
   "outputs": [
    {
     "data": {
      "text/html": [
       "<div>\n",
       "<style scoped>\n",
       "    .dataframe tbody tr th:only-of-type {\n",
       "        vertical-align: middle;\n",
       "    }\n",
       "\n",
       "    .dataframe tbody tr th {\n",
       "        vertical-align: top;\n",
       "    }\n",
       "\n",
       "    .dataframe thead th {\n",
       "        text-align: right;\n",
       "    }\n",
       "</style>\n",
       "<table border=\"1\" class=\"dataframe\">\n",
       "  <thead>\n",
       "    <tr style=\"text-align: right;\">\n",
       "      <th></th>\n",
       "      <th>Drug name</th>\n",
       "      <th>chembl_id</th>\n",
       "      <th>molregno</th>\n",
       "      <th>Original synonyms</th>\n",
       "      <th>value</th>\n",
       "      <th>upper_value</th>\n",
       "      <th>reference</th>\n",
       "      <th>type</th>\n",
       "      <th>assay_id</th>\n",
       "      <th>Fu</th>\n",
       "    </tr>\n",
       "  </thead>\n",
       "  <tbody>\n",
       "    <tr>\n",
       "      <th>677</th>\n",
       "      <td>PRAZOSIN</td>\n",
       "      <td>CHEMBL2</td>\n",
       "      <td>97</td>\n",
       "      <td>NaN</td>\n",
       "      <td>0.060</td>\n",
       "      <td>NaN</td>\n",
       "      <td>PMID30115648</td>\n",
       "      <td>Fu</td>\n",
       "      <td>NaN</td>\n",
       "      <td>0.060</td>\n",
       "    </tr>\n",
       "    <tr>\n",
       "      <th>134</th>\n",
       "      <td>PRAZOSIN</td>\n",
       "      <td>CHEMBL2</td>\n",
       "      <td>97</td>\n",
       "      <td>NaN</td>\n",
       "      <td>95.000</td>\n",
       "      <td>NaN</td>\n",
       "      <td>PMID22210121</td>\n",
       "      <td>PPB</td>\n",
       "      <td>NaN</td>\n",
       "      <td>0.050</td>\n",
       "    </tr>\n",
       "    <tr>\n",
       "      <th>3601</th>\n",
       "      <td>PRAZOSIN</td>\n",
       "      <td>NaN</td>\n",
       "      <td>97</td>\n",
       "      <td>NaN</td>\n",
       "      <td>0.053</td>\n",
       "      <td>NaN</td>\n",
       "      <td>NaN</td>\n",
       "      <td>Fu</td>\n",
       "      <td>CHEMBL3591953</td>\n",
       "      <td>0.053</td>\n",
       "    </tr>\n",
       "    <tr>\n",
       "      <th>1652</th>\n",
       "      <td>PRAZOSIN</td>\n",
       "      <td>NaN</td>\n",
       "      <td>97</td>\n",
       "      <td>NaN</td>\n",
       "      <td>0.060</td>\n",
       "      <td>NaN</td>\n",
       "      <td>NaN</td>\n",
       "      <td>Fu</td>\n",
       "      <td>CHEMBL1614672</td>\n",
       "      <td>0.060</td>\n",
       "    </tr>\n",
       "    <tr>\n",
       "      <th>1362</th>\n",
       "      <td>PRAZOSIN</td>\n",
       "      <td>NaN</td>\n",
       "      <td>97</td>\n",
       "      <td>NaN</td>\n",
       "      <td>0.060</td>\n",
       "      <td>NaN</td>\n",
       "      <td>NaN</td>\n",
       "      <td>Fu</td>\n",
       "      <td>CHEMBL1043580</td>\n",
       "      <td>0.060</td>\n",
       "    </tr>\n",
       "    <tr>\n",
       "      <th>...</th>\n",
       "      <td>...</td>\n",
       "      <td>...</td>\n",
       "      <td>...</td>\n",
       "      <td>...</td>\n",
       "      <td>...</td>\n",
       "      <td>...</td>\n",
       "      <td>...</td>\n",
       "      <td>...</td>\n",
       "      <td>...</td>\n",
       "      <td>...</td>\n",
       "    </tr>\n",
       "    <tr>\n",
       "      <th>7552</th>\n",
       "      <td>NaN</td>\n",
       "      <td>NaN</td>\n",
       "      <td>2198150</td>\n",
       "      <td>NaN</td>\n",
       "      <td>99.300</td>\n",
       "      <td>NaN</td>\n",
       "      <td>NaN</td>\n",
       "      <td>PPB</td>\n",
       "      <td>CHEMBL3864372</td>\n",
       "      <td>0.007</td>\n",
       "    </tr>\n",
       "    <tr>\n",
       "      <th>7550</th>\n",
       "      <td>NaN</td>\n",
       "      <td>NaN</td>\n",
       "      <td>2198573</td>\n",
       "      <td>NaN</td>\n",
       "      <td>98.300</td>\n",
       "      <td>NaN</td>\n",
       "      <td>NaN</td>\n",
       "      <td>PPB</td>\n",
       "      <td>CHEMBL3864372</td>\n",
       "      <td>0.017</td>\n",
       "    </tr>\n",
       "    <tr>\n",
       "      <th>7551</th>\n",
       "      <td>NaN</td>\n",
       "      <td>NaN</td>\n",
       "      <td>2198627</td>\n",
       "      <td>NaN</td>\n",
       "      <td>98.800</td>\n",
       "      <td>NaN</td>\n",
       "      <td>NaN</td>\n",
       "      <td>PPB</td>\n",
       "      <td>CHEMBL3864372</td>\n",
       "      <td>0.012</td>\n",
       "    </tr>\n",
       "    <tr>\n",
       "      <th>3876</th>\n",
       "      <td>NaN</td>\n",
       "      <td>NaN</td>\n",
       "      <td>2198868</td>\n",
       "      <td>NaN</td>\n",
       "      <td>1.000</td>\n",
       "      <td>NaN</td>\n",
       "      <td>NaN</td>\n",
       "      <td>Fu</td>\n",
       "      <td>CHEMBL3863238</td>\n",
       "      <td>1.000</td>\n",
       "    </tr>\n",
       "    <tr>\n",
       "      <th>7553</th>\n",
       "      <td>NaN</td>\n",
       "      <td>NaN</td>\n",
       "      <td>2199220</td>\n",
       "      <td>NaN</td>\n",
       "      <td>99.800</td>\n",
       "      <td>NaN</td>\n",
       "      <td>NaN</td>\n",
       "      <td>PPB</td>\n",
       "      <td>CHEMBL3864372</td>\n",
       "      <td>0.002</td>\n",
       "    </tr>\n",
       "  </tbody>\n",
       "</table>\n",
       "<p>7509 rows × 10 columns</p>\n",
       "</div>"
      ],
      "text/plain": [
       "     Drug name chembl_id  molregno Original synonyms   value  upper_value  \\\n",
       "677   PRAZOSIN   CHEMBL2        97               NaN   0.060          NaN   \n",
       "134   PRAZOSIN   CHEMBL2        97               NaN  95.000          NaN   \n",
       "3601  PRAZOSIN       NaN        97               NaN   0.053          NaN   \n",
       "1652  PRAZOSIN       NaN        97               NaN   0.060          NaN   \n",
       "1362  PRAZOSIN       NaN        97               NaN   0.060          NaN   \n",
       "...        ...       ...       ...               ...     ...          ...   \n",
       "7552       NaN       NaN   2198150               NaN  99.300          NaN   \n",
       "7550       NaN       NaN   2198573               NaN  98.300          NaN   \n",
       "7551       NaN       NaN   2198627               NaN  98.800          NaN   \n",
       "3876       NaN       NaN   2198868               NaN   1.000          NaN   \n",
       "7553       NaN       NaN   2199220               NaN  99.800          NaN   \n",
       "\n",
       "         reference type       assay_id     Fu  \n",
       "677   PMID30115648   Fu            NaN  0.060  \n",
       "134   PMID22210121  PPB            NaN  0.050  \n",
       "3601           NaN   Fu  CHEMBL3591953  0.053  \n",
       "1652           NaN   Fu  CHEMBL1614672  0.060  \n",
       "1362           NaN   Fu  CHEMBL1043580  0.060  \n",
       "...            ...  ...            ...    ...  \n",
       "7552           NaN  PPB  CHEMBL3864372  0.007  \n",
       "7550           NaN  PPB  CHEMBL3864372  0.017  \n",
       "7551           NaN  PPB  CHEMBL3864372  0.012  \n",
       "3876           NaN   Fu  CHEMBL3863238  1.000  \n",
       "7553           NaN  PPB  CHEMBL3864372  0.002  \n",
       "\n",
       "[7509 rows x 10 columns]"
      ]
     },
     "execution_count": 15,
     "metadata": {},
     "output_type": "execute_result"
    }
   ],
   "source": [
    "other_data.sort_values(by='molregno')"
   ]
  },
  {
   "cell_type": "code",
   "execution_count": 16,
   "metadata": {},
   "outputs": [],
   "source": [
    "# Merge with plasma concentrations\n",
    "Fus_merged = other_data[['molregno','Fu']].merge(plasma_conc, on='molregno')"
   ]
  },
  {
   "cell_type": "code",
   "execution_count": 17,
   "metadata": {},
   "outputs": [
    {
     "data": {
      "text/html": [
       "<div>\n",
       "<style scoped>\n",
       "    .dataframe tbody tr th:only-of-type {\n",
       "        vertical-align: middle;\n",
       "    }\n",
       "\n",
       "    .dataframe tbody tr th {\n",
       "        vertical-align: top;\n",
       "    }\n",
       "\n",
       "    .dataframe thead th {\n",
       "        text-align: right;\n",
       "    }\n",
       "</style>\n",
       "<table border=\"1\" class=\"dataframe\">\n",
       "  <thead>\n",
       "    <tr style=\"text-align: right;\">\n",
       "      <th></th>\n",
       "      <th>molregno</th>\n",
       "      <th>Fu</th>\n",
       "      <th>pref_name</th>\n",
       "      <th>chembl_id</th>\n",
       "      <th>Molar total plasma concentration</th>\n",
       "      <th>pMolar total plasma concentration</th>\n",
       "    </tr>\n",
       "  </thead>\n",
       "  <tbody>\n",
       "  </tbody>\n",
       "</table>\n",
       "</div>"
      ],
      "text/plain": [
       "Empty DataFrame\n",
       "Columns: [molregno, Fu, pref_name, chembl_id, Molar total plasma concentration, pMolar total plasma concentration]\n",
       "Index: []"
      ]
     },
     "execution_count": 17,
     "metadata": {},
     "output_type": "execute_result"
    }
   ],
   "source": [
    "Fus_merged.loc[Fus_merged['chembl_id'].isnull()]"
   ]
  },
  {
   "cell_type": "code",
   "execution_count": 18,
   "metadata": {},
   "outputs": [],
   "source": [
    "# Calculate unbound concentration\n",
    "Fus_merged['Molar unbound plasma concentration'] = Fus_merged['Fu'] * Fus_merged['Molar total plasma concentration']"
   ]
  },
  {
   "cell_type": "code",
   "execution_count": 19,
   "metadata": {},
   "outputs": [
    {
     "data": {
      "text/plain": [
       "Index(['Drug name', 'chembl_id', 'molregno', 'Original synonyms', 'value',\n",
       "       'upper_value', 'reference', 'type', 'assay_id', 'unbound_molar_value'],\n",
       "      dtype='object')"
      ]
     },
     "execution_count": 19,
     "metadata": {},
     "output_type": "execute_result"
    }
   ],
   "source": [
    "etcp_data.columns"
   ]
  },
  {
   "cell_type": "code",
   "execution_count": 20,
   "metadata": {},
   "outputs": [
    {
     "data": {
      "text/html": [
       "<div>\n",
       "<style scoped>\n",
       "    .dataframe tbody tr th:only-of-type {\n",
       "        vertical-align: middle;\n",
       "    }\n",
       "\n",
       "    .dataframe tbody tr th {\n",
       "        vertical-align: top;\n",
       "    }\n",
       "\n",
       "    .dataframe thead th {\n",
       "        text-align: right;\n",
       "    }\n",
       "</style>\n",
       "<table border=\"1\" class=\"dataframe\">\n",
       "  <thead>\n",
       "    <tr style=\"text-align: right;\">\n",
       "      <th></th>\n",
       "      <th>Drug name</th>\n",
       "      <th>chembl_id</th>\n",
       "      <th>molregno</th>\n",
       "      <th>Original synonyms</th>\n",
       "      <th>value</th>\n",
       "      <th>upper_value</th>\n",
       "      <th>reference</th>\n",
       "      <th>type</th>\n",
       "      <th>assay_id</th>\n",
       "      <th>unbound_molar_value</th>\n",
       "    </tr>\n",
       "  </thead>\n",
       "  <tbody>\n",
       "  </tbody>\n",
       "</table>\n",
       "</div>"
      ],
      "text/plain": [
       "Empty DataFrame\n",
       "Columns: [Drug name, chembl_id, molregno, Original synonyms, value, upper_value, reference, type, assay_id, unbound_molar_value]\n",
       "Index: []"
      ]
     },
     "execution_count": 20,
     "metadata": {},
     "output_type": "execute_result"
    }
   ],
   "source": [
    "etcp_data.loc[etcp_data['chembl_id'].isnull()]"
   ]
  },
  {
   "cell_type": "code",
   "execution_count": 21,
   "metadata": {},
   "outputs": [],
   "source": [
    "# combine with etcp data\n",
    "ds1 = etcp_data[['molregno', 'chembl_id','unbound_molar_value']]\n",
    "ds1.columns = ['molregno','chembl_id','Molar unbound plasma concentration']"
   ]
  },
  {
   "cell_type": "code",
   "execution_count": 22,
   "metadata": {},
   "outputs": [
    {
     "name": "stderr",
     "output_type": "stream",
     "text": [
      "/scratch/ias41/envs/release/lib/python3.6/site-packages/ipykernel_launcher.py:1: SettingWithCopyWarning: \n",
      "A value is trying to be set on a copy of a slice from a DataFrame.\n",
      "Try using .loc[row_indexer,col_indexer] = value instead\n",
      "\n",
      "See the caveats in the documentation: http://pandas.pydata.org/pandas-docs/stable/user_guide/indexing.html#returning-a-view-versus-a-copy\n",
      "  \"\"\"Entry point for launching an IPython kernel.\n"
     ]
    }
   ],
   "source": [
    "ds1['pref_name'] = ds1['molregno'].apply(lambda x: molregno2pref_name[x])"
   ]
  },
  {
   "cell_type": "code",
   "execution_count": 23,
   "metadata": {},
   "outputs": [
    {
     "data": {
      "text/plain": [
       "Index(['molregno', 'Fu', 'pref_name', 'chembl_id',\n",
       "       'Molar total plasma concentration', 'pMolar total plasma concentration',\n",
       "       'Molar unbound plasma concentration'],\n",
       "      dtype='object')"
      ]
     },
     "execution_count": 23,
     "metadata": {},
     "output_type": "execute_result"
    }
   ],
   "source": [
    "Fus_merged.columns"
   ]
  },
  {
   "cell_type": "code",
   "execution_count": 24,
   "metadata": {},
   "outputs": [],
   "source": [
    "ds2 = Fus_merged[['pref_name','molregno','chembl_id','Molar total plasma concentration','Molar unbound plasma concentration']]\n",
    "combined_unbound = pd.concat([ds1,ds2], ignore_index=True, sort=False)"
   ]
  },
  {
   "cell_type": "code",
   "execution_count": 25,
   "metadata": {},
   "outputs": [
    {
     "data": {
      "text/html": [
       "<div>\n",
       "<style scoped>\n",
       "    .dataframe tbody tr th:only-of-type {\n",
       "        vertical-align: middle;\n",
       "    }\n",
       "\n",
       "    .dataframe tbody tr th {\n",
       "        vertical-align: top;\n",
       "    }\n",
       "\n",
       "    .dataframe thead th {\n",
       "        text-align: right;\n",
       "    }\n",
       "</style>\n",
       "<table border=\"1\" class=\"dataframe\">\n",
       "  <thead>\n",
       "    <tr style=\"text-align: right;\">\n",
       "      <th></th>\n",
       "      <th>molregno</th>\n",
       "      <th>chembl_id</th>\n",
       "      <th>Molar unbound plasma concentration</th>\n",
       "      <th>pref_name</th>\n",
       "      <th>Molar total plasma concentration</th>\n",
       "    </tr>\n",
       "  </thead>\n",
       "  <tbody>\n",
       "    <tr>\n",
       "      <th>0</th>\n",
       "      <td>27185</td>\n",
       "      <td>CHEMBL633</td>\n",
       "      <td>5.000000e-10</td>\n",
       "      <td>AMIODARONE</td>\n",
       "      <td>NaN</td>\n",
       "    </tr>\n",
       "    <tr>\n",
       "      <th>1</th>\n",
       "      <td>6243</td>\n",
       "      <td>CHEMBL72</td>\n",
       "      <td>1.080000e-07</td>\n",
       "      <td>DESIPRAMINE</td>\n",
       "      <td>NaN</td>\n",
       "    </tr>\n",
       "    <tr>\n",
       "      <th>2</th>\n",
       "      <td>11143</td>\n",
       "      <td>CHEMBL517</td>\n",
       "      <td>7.420000e-07</td>\n",
       "      <td>DISOPYRAMIDE</td>\n",
       "      <td>NaN</td>\n",
       "    </tr>\n",
       "    <tr>\n",
       "      <th>3</th>\n",
       "      <td>2223</td>\n",
       "      <td>CHEMBL41</td>\n",
       "      <td>2.900000e-08</td>\n",
       "      <td>FLUOXETINE</td>\n",
       "      <td>NaN</td>\n",
       "    </tr>\n",
       "    <tr>\n",
       "      <th>4</th>\n",
       "      <td>3859</td>\n",
       "      <td>CHEMBL54</td>\n",
       "      <td>3.600000e-09</td>\n",
       "      <td>HALOPERIDOL</td>\n",
       "      <td>NaN</td>\n",
       "    </tr>\n",
       "  </tbody>\n",
       "</table>\n",
       "</div>"
      ],
      "text/plain": [
       "   molregno  chembl_id  Molar unbound plasma concentration     pref_name  \\\n",
       "0     27185  CHEMBL633                        5.000000e-10    AMIODARONE   \n",
       "1      6243   CHEMBL72                        1.080000e-07   DESIPRAMINE   \n",
       "2     11143  CHEMBL517                        7.420000e-07  DISOPYRAMIDE   \n",
       "3      2223   CHEMBL41                        2.900000e-08    FLUOXETINE   \n",
       "4      3859   CHEMBL54                        3.600000e-09   HALOPERIDOL   \n",
       "\n",
       "   Molar total plasma concentration  \n",
       "0                               NaN  \n",
       "1                               NaN  \n",
       "2                               NaN  \n",
       "3                               NaN  \n",
       "4                               NaN  "
      ]
     },
     "execution_count": 25,
     "metadata": {},
     "output_type": "execute_result"
    }
   ],
   "source": [
    "combined_unbound.head()"
   ]
  },
  {
   "cell_type": "code",
   "execution_count": 26,
   "metadata": {},
   "outputs": [
    {
     "data": {
      "text/html": [
       "<div>\n",
       "<style scoped>\n",
       "    .dataframe tbody tr th:only-of-type {\n",
       "        vertical-align: middle;\n",
       "    }\n",
       "\n",
       "    .dataframe tbody tr th {\n",
       "        vertical-align: top;\n",
       "    }\n",
       "\n",
       "    .dataframe thead th {\n",
       "        text-align: right;\n",
       "    }\n",
       "</style>\n",
       "<table border=\"1\" class=\"dataframe\">\n",
       "  <thead>\n",
       "    <tr style=\"text-align: right;\">\n",
       "      <th></th>\n",
       "      <th>molregno</th>\n",
       "      <th>chembl_id</th>\n",
       "      <th>Molar unbound plasma concentration</th>\n",
       "      <th>pref_name</th>\n",
       "      <th>Molar total plasma concentration</th>\n",
       "    </tr>\n",
       "  </thead>\n",
       "  <tbody>\n",
       "    <tr>\n",
       "      <th>1923</th>\n",
       "      <td>228121</td>\n",
       "      <td>CHEMBL1229</td>\n",
       "      <td>2.218559e-07</td>\n",
       "      <td>OSELTAMIVIR</td>\n",
       "      <td>3.825102e-07</td>\n",
       "    </tr>\n",
       "    <tr>\n",
       "      <th>1924</th>\n",
       "      <td>469866</td>\n",
       "      <td>CHEMBL521686</td>\n",
       "      <td>1.442217e-06</td>\n",
       "      <td>OLAPARIB</td>\n",
       "      <td>5.984303e-06</td>\n",
       "    </tr>\n",
       "    <tr>\n",
       "      <th>1925</th>\n",
       "      <td>52087</td>\n",
       "      <td>CHEMBL806</td>\n",
       "      <td>1.031824e-07</td>\n",
       "      <td>FLUTAMIDE</td>\n",
       "      <td>1.719706e-06</td>\n",
       "    </tr>\n",
       "    <tr>\n",
       "      <th>1926</th>\n",
       "      <td>453579</td>\n",
       "      <td>CHEMBL1581</td>\n",
       "      <td>1.628355e-07</td>\n",
       "      <td>PERINDOPRIL</td>\n",
       "      <td>4.070888e-07</td>\n",
       "    </tr>\n",
       "    <tr>\n",
       "      <th>1927</th>\n",
       "      <td>21523</td>\n",
       "      <td>CHEMBL603</td>\n",
       "      <td>8.051208e-09</td>\n",
       "      <td>ZAFIRLUKAST</td>\n",
       "      <td>8.051208e-07</td>\n",
       "    </tr>\n",
       "  </tbody>\n",
       "</table>\n",
       "</div>"
      ],
      "text/plain": [
       "      molregno     chembl_id  Molar unbound plasma concentration    pref_name  \\\n",
       "1923    228121    CHEMBL1229                        2.218559e-07  OSELTAMIVIR   \n",
       "1924    469866  CHEMBL521686                        1.442217e-06     OLAPARIB   \n",
       "1925     52087     CHEMBL806                        1.031824e-07    FLUTAMIDE   \n",
       "1926    453579    CHEMBL1581                        1.628355e-07  PERINDOPRIL   \n",
       "1927     21523     CHEMBL603                        8.051208e-09  ZAFIRLUKAST   \n",
       "\n",
       "      Molar total plasma concentration  \n",
       "1923                      3.825102e-07  \n",
       "1924                      5.984303e-06  \n",
       "1925                      1.719706e-06  \n",
       "1926                      4.070888e-07  \n",
       "1927                      8.051208e-07  "
      ]
     },
     "execution_count": 26,
     "metadata": {},
     "output_type": "execute_result"
    }
   ],
   "source": [
    "combined_unbound.tail()"
   ]
  },
  {
   "cell_type": "code",
   "execution_count": 27,
   "metadata": {},
   "outputs": [],
   "source": [
    "# Now, after adding unbound datapoints, calculate median\n",
    "# Some of the total columns have NA values because some values were reported as unbound directly\n",
    "# The default of 'median' is to skip NAs so they are not included in calculation\n",
    "medians_unbound = combined_unbound.groupby('molregno').agg({'Molar unbound plasma concentration': 'median', 'chembl_id': 'first', 'pref_name': 'first', 'Molar total plasma concentration': 'median'})"
   ]
  },
  {
   "cell_type": "code",
   "execution_count": 28,
   "metadata": {},
   "outputs": [],
   "source": [
    "medians_unbound.rename(columns = {'Molar unbound plasma concentration': 'median Molar unbound plasma concentration', 'Molar total plasma concentration': 'median Molar total plasma concentration'}, inplace=True)"
   ]
  },
  {
   "cell_type": "code",
   "execution_count": 29,
   "metadata": {},
   "outputs": [],
   "source": [
    "medians_unbound.reset_index(drop=False, inplace=True)"
   ]
  },
  {
   "cell_type": "code",
   "execution_count": 30,
   "metadata": {},
   "outputs": [
    {
     "data": {
      "text/plain": [
       "Index(['molregno', 'median Molar unbound plasma concentration', 'chembl_id',\n",
       "       'pref_name', 'median Molar total plasma concentration'],\n",
       "      dtype='object')"
      ]
     },
     "execution_count": 30,
     "metadata": {},
     "output_type": "execute_result"
    }
   ],
   "source": [
    "medians_unbound.columns"
   ]
  },
  {
   "cell_type": "code",
   "execution_count": 39,
   "metadata": {},
   "outputs": [
    {
     "data": {
      "text/html": [
       "<div>\n",
       "<style scoped>\n",
       "    .dataframe tbody tr th:only-of-type {\n",
       "        vertical-align: middle;\n",
       "    }\n",
       "\n",
       "    .dataframe tbody tr th {\n",
       "        vertical-align: top;\n",
       "    }\n",
       "\n",
       "    .dataframe thead th {\n",
       "        text-align: right;\n",
       "    }\n",
       "</style>\n",
       "<table border=\"1\" class=\"dataframe\">\n",
       "  <thead>\n",
       "    <tr style=\"text-align: right;\">\n",
       "      <th></th>\n",
       "      <th>molregno</th>\n",
       "      <th>pref_name</th>\n",
       "      <th>chembl_id</th>\n",
       "      <th>median Molar total plasma concentration</th>\n",
       "      <th>median pMolar total plasma concentration</th>\n",
       "    </tr>\n",
       "  </thead>\n",
       "  <tbody>\n",
       "    <tr>\n",
       "      <th>449</th>\n",
       "      <td>169652</td>\n",
       "      <td>ACITRETIN</td>\n",
       "      <td>CHEMBL1131</td>\n",
       "      <td>1.531675e-07</td>\n",
       "      <td>6.814833</td>\n",
       "    </tr>\n",
       "    <tr>\n",
       "      <th>470</th>\n",
       "      <td>226880</td>\n",
       "      <td>ACRIVASTINE</td>\n",
       "      <td>CHEMBL1224</td>\n",
       "      <td>2.008897e-07</td>\n",
       "      <td>6.697042</td>\n",
       "    </tr>\n",
       "    <tr>\n",
       "      <th>103</th>\n",
       "      <td>8209</td>\n",
       "      <td>AGOMELATINE</td>\n",
       "      <td>CHEMBL10878</td>\n",
       "      <td>1.232995e-06</td>\n",
       "      <td>5.909039</td>\n",
       "    </tr>\n",
       "    <tr>\n",
       "      <th>673</th>\n",
       "      <td>654243</td>\n",
       "      <td>ALCURONIUM</td>\n",
       "      <td>CHEMBL1180293</td>\n",
       "      <td>4.498358e-06</td>\n",
       "      <td>5.346946</td>\n",
       "    </tr>\n",
       "    <tr>\n",
       "      <th>495</th>\n",
       "      <td>282661</td>\n",
       "      <td>AMIFAMPRIDINE</td>\n",
       "      <td>CHEMBL354077</td>\n",
       "      <td>9.163383e-07</td>\n",
       "      <td>6.037944</td>\n",
       "    </tr>\n",
       "  </tbody>\n",
       "</table>\n",
       "</div>"
      ],
      "text/plain": [
       "     molregno      pref_name      chembl_id  \\\n",
       "449    169652      ACITRETIN     CHEMBL1131   \n",
       "470    226880    ACRIVASTINE     CHEMBL1224   \n",
       "103      8209    AGOMELATINE    CHEMBL10878   \n",
       "673    654243     ALCURONIUM  CHEMBL1180293   \n",
       "495    282661  AMIFAMPRIDINE   CHEMBL354077   \n",
       "\n",
       "     median Molar total plasma concentration  \\\n",
       "449                             1.531675e-07   \n",
       "470                             2.008897e-07   \n",
       "103                             1.232995e-06   \n",
       "673                             4.498358e-06   \n",
       "495                             9.163383e-07   \n",
       "\n",
       "     median pMolar total plasma concentration  \n",
       "449                                  6.814833  \n",
       "470                                  6.697042  \n",
       "103                                  5.909039  \n",
       "673                                  5.346946  \n",
       "495                                  6.037944  "
      ]
     },
     "execution_count": 39,
     "metadata": {},
     "output_type": "execute_result"
    }
   ],
   "source": [
    "# Add back in the rows without unbound from total dataframe (which were already medians)\n",
    "# Rows from total plasma without unbound data\n",
    "total_only_rows = plasma_conc.loc[~plasma_conc['molregno'].isin(medians_unbound['molregno'])].sort_values(by='pref_name')\n",
    "total_only_rows.head()"
   ]
  },
  {
   "cell_type": "code",
   "execution_count": 41,
   "metadata": {},
   "outputs": [],
   "source": [
    "medians_total_unbound = pd.concat([medians_unbound, total_only_rows], sort=False)"
   ]
  },
  {
   "cell_type": "code",
   "execution_count": 49,
   "metadata": {},
   "outputs": [
    {
     "data": {
      "text/html": [
       "<div>\n",
       "<style scoped>\n",
       "    .dataframe tbody tr th:only-of-type {\n",
       "        vertical-align: middle;\n",
       "    }\n",
       "\n",
       "    .dataframe tbody tr th {\n",
       "        vertical-align: top;\n",
       "    }\n",
       "\n",
       "    .dataframe thead th {\n",
       "        text-align: right;\n",
       "    }\n",
       "</style>\n",
       "<table border=\"1\" class=\"dataframe\">\n",
       "  <thead>\n",
       "    <tr style=\"text-align: right;\">\n",
       "      <th></th>\n",
       "      <th>molregno</th>\n",
       "      <th>median Molar unbound plasma concentration</th>\n",
       "      <th>chembl_id</th>\n",
       "      <th>pref_name</th>\n",
       "      <th>median Molar total plasma concentration</th>\n",
       "      <th>median pMolar total plasma concentration</th>\n",
       "    </tr>\n",
       "  </thead>\n",
       "  <tbody>\n",
       "    <tr>\n",
       "      <th>449</th>\n",
       "      <td>169652</td>\n",
       "      <td>NaN</td>\n",
       "      <td>CHEMBL1131</td>\n",
       "      <td>ACITRETIN</td>\n",
       "      <td>1.531675e-07</td>\n",
       "      <td>6.814833</td>\n",
       "    </tr>\n",
       "    <tr>\n",
       "      <th>470</th>\n",
       "      <td>226880</td>\n",
       "      <td>NaN</td>\n",
       "      <td>CHEMBL1224</td>\n",
       "      <td>ACRIVASTINE</td>\n",
       "      <td>2.008897e-07</td>\n",
       "      <td>6.697042</td>\n",
       "    </tr>\n",
       "    <tr>\n",
       "      <th>103</th>\n",
       "      <td>8209</td>\n",
       "      <td>NaN</td>\n",
       "      <td>CHEMBL10878</td>\n",
       "      <td>AGOMELATINE</td>\n",
       "      <td>1.232995e-06</td>\n",
       "      <td>5.909039</td>\n",
       "    </tr>\n",
       "    <tr>\n",
       "      <th>673</th>\n",
       "      <td>654243</td>\n",
       "      <td>NaN</td>\n",
       "      <td>CHEMBL1180293</td>\n",
       "      <td>ALCURONIUM</td>\n",
       "      <td>4.498358e-06</td>\n",
       "      <td>5.346946</td>\n",
       "    </tr>\n",
       "    <tr>\n",
       "      <th>495</th>\n",
       "      <td>282661</td>\n",
       "      <td>NaN</td>\n",
       "      <td>CHEMBL354077</td>\n",
       "      <td>AMIFAMPRIDINE</td>\n",
       "      <td>9.163383e-07</td>\n",
       "      <td>6.037944</td>\n",
       "    </tr>\n",
       "    <tr>\n",
       "      <th>...</th>\n",
       "      <td>...</td>\n",
       "      <td>...</td>\n",
       "      <td>...</td>\n",
       "      <td>...</td>\n",
       "      <td>...</td>\n",
       "      <td>...</td>\n",
       "    </tr>\n",
       "    <tr>\n",
       "      <th>427</th>\n",
       "      <td>141484</td>\n",
       "      <td>NaN</td>\n",
       "      <td>CHEMBL89598</td>\n",
       "      <td>VIGABATRIN</td>\n",
       "      <td>3.484051e-04</td>\n",
       "      <td>3.457916</td>\n",
       "    </tr>\n",
       "    <tr>\n",
       "      <th>401</th>\n",
       "      <td>114406</td>\n",
       "      <td>NaN</td>\n",
       "      <td>CHEMBL306700</td>\n",
       "      <td>VILOXAZINE</td>\n",
       "      <td>3.371260e-05</td>\n",
       "      <td>4.472208</td>\n",
       "    </tr>\n",
       "    <tr>\n",
       "      <th>671</th>\n",
       "      <td>644928</td>\n",
       "      <td>NaN</td>\n",
       "      <td>CHEMBL1165342</td>\n",
       "      <td>VINCAMINE</td>\n",
       "      <td>7.053181e-07</td>\n",
       "      <td>6.151615</td>\n",
       "    </tr>\n",
       "    <tr>\n",
       "      <th>612</th>\n",
       "      <td>452689</td>\n",
       "      <td>NaN</td>\n",
       "      <td>CHEMBL517199</td>\n",
       "      <td>XIPAMIDE</td>\n",
       "      <td>5.636661e-05</td>\n",
       "      <td>4.248978</td>\n",
       "    </tr>\n",
       "    <tr>\n",
       "      <th>269</th>\n",
       "      <td>34266</td>\n",
       "      <td>NaN</td>\n",
       "      <td>CHEMBL285802</td>\n",
       "      <td>ZOTEPINE</td>\n",
       "      <td>4.519842e-07</td>\n",
       "      <td>6.344877</td>\n",
       "    </tr>\n",
       "  </tbody>\n",
       "</table>\n",
       "<p>229 rows × 6 columns</p>\n",
       "</div>"
      ],
      "text/plain": [
       "     molregno  median Molar unbound plasma concentration      chembl_id  \\\n",
       "449    169652                                        NaN     CHEMBL1131   \n",
       "470    226880                                        NaN     CHEMBL1224   \n",
       "103      8209                                        NaN    CHEMBL10878   \n",
       "673    654243                                        NaN  CHEMBL1180293   \n",
       "495    282661                                        NaN   CHEMBL354077   \n",
       "..        ...                                        ...            ...   \n",
       "427    141484                                        NaN    CHEMBL89598   \n",
       "401    114406                                        NaN   CHEMBL306700   \n",
       "671    644928                                        NaN  CHEMBL1165342   \n",
       "612    452689                                        NaN   CHEMBL517199   \n",
       "269     34266                                        NaN   CHEMBL285802   \n",
       "\n",
       "         pref_name  median Molar total plasma concentration  \\\n",
       "449      ACITRETIN                             1.531675e-07   \n",
       "470    ACRIVASTINE                             2.008897e-07   \n",
       "103    AGOMELATINE                             1.232995e-06   \n",
       "673     ALCURONIUM                             4.498358e-06   \n",
       "495  AMIFAMPRIDINE                             9.163383e-07   \n",
       "..             ...                                      ...   \n",
       "427     VIGABATRIN                             3.484051e-04   \n",
       "401     VILOXAZINE                             3.371260e-05   \n",
       "671      VINCAMINE                             7.053181e-07   \n",
       "612       XIPAMIDE                             5.636661e-05   \n",
       "269       ZOTEPINE                             4.519842e-07   \n",
       "\n",
       "     median pMolar total plasma concentration  \n",
       "449                                  6.814833  \n",
       "470                                  6.697042  \n",
       "103                                  5.909039  \n",
       "673                                  5.346946  \n",
       "495                                  6.037944  \n",
       "..                                        ...  \n",
       "427                                  3.457916  \n",
       "401                                  4.472208  \n",
       "671                                  6.151615  \n",
       "612                                  4.248978  \n",
       "269                                  6.344877  \n",
       "\n",
       "[229 rows x 6 columns]"
      ]
     },
     "execution_count": 49,
     "metadata": {},
     "output_type": "execute_result"
    }
   ],
   "source": [
    "medians_total_unbound.loc[medians_total_unbound['median Molar unbound plasma concentration'].isnull()]"
   ]
  },
  {
   "cell_type": "code",
   "execution_count": 50,
   "metadata": {},
   "outputs": [
    {
     "data": {
      "text/plain": [
       "765"
      ]
     },
     "execution_count": 50,
     "metadata": {},
     "output_type": "execute_result"
    }
   ],
   "source": [
    "len(medians_total_unbound['molregno'].drop_duplicates())"
   ]
  },
  {
   "cell_type": "code",
   "execution_count": 51,
   "metadata": {},
   "outputs": [],
   "source": [
    "# calulate -log(molar unbound concentration)\n",
    "medians_total_unbound['median pMolar total plasma concentration'] = medians_total_unbound['median Molar total plasma concentration'].apply(lambda x: -np.log10(x))\n",
    "medians_total_unbound['median pMolar unbound plasma concentration'] = medians_total_unbound['median Molar unbound plasma concentration'].apply(lambda x: -np.log10(x))"
   ]
  },
  {
   "cell_type": "code",
   "execution_count": 52,
   "metadata": {},
   "outputs": [
    {
     "data": {
      "text/html": [
       "<div>\n",
       "<style scoped>\n",
       "    .dataframe tbody tr th:only-of-type {\n",
       "        vertical-align: middle;\n",
       "    }\n",
       "\n",
       "    .dataframe tbody tr th {\n",
       "        vertical-align: top;\n",
       "    }\n",
       "\n",
       "    .dataframe thead th {\n",
       "        text-align: right;\n",
       "    }\n",
       "</style>\n",
       "<table border=\"1\" class=\"dataframe\">\n",
       "  <thead>\n",
       "    <tr style=\"text-align: right;\">\n",
       "      <th></th>\n",
       "      <th>molregno</th>\n",
       "      <th>median Molar unbound plasma concentration</th>\n",
       "      <th>chembl_id</th>\n",
       "      <th>pref_name</th>\n",
       "      <th>median Molar total plasma concentration</th>\n",
       "      <th>median pMolar total plasma concentration</th>\n",
       "      <th>median pMolar unbound plasma concentration</th>\n",
       "    </tr>\n",
       "  </thead>\n",
       "  <tbody>\n",
       "    <tr>\n",
       "      <th>0</th>\n",
       "      <td>97</td>\n",
       "      <td>3.129809e-09</td>\n",
       "      <td>CHEMBL2</td>\n",
       "      <td>PRAZOSIN</td>\n",
       "      <td>5.216348e-08</td>\n",
       "      <td>7.282633</td>\n",
       "      <td>8.504482</td>\n",
       "    </tr>\n",
       "    <tr>\n",
       "      <th>1</th>\n",
       "      <td>115</td>\n",
       "      <td>1.756657e-07</td>\n",
       "      <td>CHEMBL3</td>\n",
       "      <td>NICOTINE</td>\n",
       "      <td>1.849112e-07</td>\n",
       "      <td>6.733037</td>\n",
       "      <td>6.755313</td>\n",
       "    </tr>\n",
       "    <tr>\n",
       "      <th>2</th>\n",
       "      <td>146</td>\n",
       "      <td>6.018762e-06</td>\n",
       "      <td>CHEMBL4</td>\n",
       "      <td>OFLOXACIN</td>\n",
       "      <td>8.025016e-06</td>\n",
       "      <td>5.095554</td>\n",
       "      <td>5.220493</td>\n",
       "    </tr>\n",
       "    <tr>\n",
       "      <th>3</th>\n",
       "      <td>147</td>\n",
       "      <td>1.033414e-05</td>\n",
       "      <td>CHEMBL5</td>\n",
       "      <td>NALIDIXIC ACID</td>\n",
       "      <td>1.291767e-04</td>\n",
       "      <td>3.888816</td>\n",
       "      <td>4.985726</td>\n",
       "    </tr>\n",
       "    <tr>\n",
       "      <th>4</th>\n",
       "      <td>173</td>\n",
       "      <td>5.589871e-08</td>\n",
       "      <td>CHEMBL6</td>\n",
       "      <td>INDOMETHACIN</td>\n",
       "      <td>5.589871e-06</td>\n",
       "      <td>5.252598</td>\n",
       "      <td>7.252598</td>\n",
       "    </tr>\n",
       "  </tbody>\n",
       "</table>\n",
       "</div>"
      ],
      "text/plain": [
       "   molregno  median Molar unbound plasma concentration chembl_id  \\\n",
       "0        97                               3.129809e-09   CHEMBL2   \n",
       "1       115                               1.756657e-07   CHEMBL3   \n",
       "2       146                               6.018762e-06   CHEMBL4   \n",
       "3       147                               1.033414e-05   CHEMBL5   \n",
       "4       173                               5.589871e-08   CHEMBL6   \n",
       "\n",
       "        pref_name  median Molar total plasma concentration  \\\n",
       "0        PRAZOSIN                             5.216348e-08   \n",
       "1        NICOTINE                             1.849112e-07   \n",
       "2       OFLOXACIN                             8.025016e-06   \n",
       "3  NALIDIXIC ACID                             1.291767e-04   \n",
       "4    INDOMETHACIN                             5.589871e-06   \n",
       "\n",
       "   median pMolar total plasma concentration  \\\n",
       "0                                  7.282633   \n",
       "1                                  6.733037   \n",
       "2                                  5.095554   \n",
       "3                                  3.888816   \n",
       "4                                  5.252598   \n",
       "\n",
       "   median pMolar unbound plasma concentration  \n",
       "0                                    8.504482  \n",
       "1                                    6.755313  \n",
       "2                                    5.220493  \n",
       "3                                    4.985726  \n",
       "4                                    7.252598  "
      ]
     },
     "execution_count": 52,
     "metadata": {},
     "output_type": "execute_result"
    }
   ],
   "source": [
    "medians_total_unbound.head()"
   ]
  },
  {
   "cell_type": "code",
   "execution_count": 55,
   "metadata": {},
   "outputs": [],
   "source": [
    "# Save to CSV\n",
    "medians_total_unbound[['molregno', 'chembl_id', 'pref_name', 'median Molar total plasma concentration', 'median pMolar total plasma concentration', 'median Molar unbound plasma concentration', 'median pMolar unbound plasma concentration']].to_csv(basedir + '/results/molregno2median_plasma_total_unbound.txt', sep='\\t', index=False)"
   ]
  },
  {
   "cell_type": "code",
   "execution_count": null,
   "metadata": {},
   "outputs": [],
   "source": []
  }
 ],
 "metadata": {
  "kernelspec": {
   "display_name": "Python [conda env:ias41-release] *",
   "language": "python",
   "name": "conda-env-ias41-release-py"
  },
  "language_info": {
   "codemirror_mode": {
    "name": "ipython",
    "version": 3
   },
   "file_extension": ".py",
   "mimetype": "text/x-python",
   "name": "python",
   "nbconvert_exporter": "python",
   "pygments_lexer": "ipython3",
   "version": "3.6.7"
  }
 },
 "nbformat": 4,
 "nbformat_minor": 4
}
