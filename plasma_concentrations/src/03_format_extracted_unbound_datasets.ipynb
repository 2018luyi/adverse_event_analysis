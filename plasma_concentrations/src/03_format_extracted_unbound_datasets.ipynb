{
 "cells": [
  {
   "cell_type": "code",
   "execution_count": 1,
   "metadata": {},
   "outputs": [
    {
     "data": {
      "text/plain": [
       "'Clean up various characters etc from the datasets'"
      ]
     },
     "execution_count": 1,
     "metadata": {},
     "output_type": "execute_result"
    }
   ],
   "source": [
    "\"\"\"Clean up various characters etc from the extracted datasets of Fu/PPB from literature\"\"\""
   ]
  },
  {
   "cell_type": "code",
   "execution_count": 2,
   "metadata": {},
   "outputs": [],
   "source": [
    "#### RDKIT env ###"
   ]
  },
  {
   "cell_type": "code",
   "execution_count": 3,
   "metadata": {},
   "outputs": [
    {
     "name": "stderr",
     "output_type": "stream",
     "text": [
      "RDKit WARNING: [22:13:25] Enabling RDKit 2019.09.2 jupyter extensions\n"
     ]
    }
   ],
   "source": [
    "import pandas as pd\n",
    "import re\n",
    "from rdkit import Chem"
   ]
  },
  {
   "cell_type": "code",
   "execution_count": 4,
   "metadata": {},
   "outputs": [],
   "source": [
    "basedir = '/scratch/ias41/ae_code/plasma_concentrations'"
   ]
  },
  {
   "cell_type": "code",
   "execution_count": 5,
   "metadata": {},
   "outputs": [],
   "source": [
    "pd.set_option('display.max_rows', 1000)"
   ]
  },
  {
   "cell_type": "markdown",
   "metadata": {},
   "source": [
    "### Dataset 1 - PMID15637086"
   ]
  },
  {
   "cell_type": "code",
   "execution_count": 6,
   "metadata": {},
   "outputs": [],
   "source": [
    "dataset1 = pd.read_excel(basedir + '/data/PMID15637086_ETPC_from_HTML.xlsx')\n",
    "dataset1.columns = [i.strip('\\xa0') for i in dataset1.columns]"
   ]
  },
  {
   "cell_type": "code",
   "execution_count": 7,
   "metadata": {},
   "outputs": [],
   "source": [
    "dataset1 = dataset1.applymap(lambda x: x.replace('\\xa0','').replace('\\u2002', '').replace('\\u20021',''))"
   ]
  },
  {
   "cell_type": "code",
   "execution_count": 8,
   "metadata": {},
   "outputs": [],
   "source": [
    "def remove_numbers(x):\n",
    "    pattern = re.compile('[0-9]+\\.(.*)')\n",
    "    drug_name = re.match(pattern, x).group(1)\n",
    "    return drug_name"
   ]
  },
  {
   "cell_type": "code",
   "execution_count": 9,
   "metadata": {},
   "outputs": [],
   "source": [
    "dataset1['Drug name'] = dataset1['Drug name'].apply(lambda x: remove_numbers(x))"
   ]
  },
  {
   "cell_type": "code",
   "execution_count": 10,
   "metadata": {},
   "outputs": [],
   "source": [
    "dataset1['ETCPun-bound (nM)'] = dataset1['ETCPun-bound (nM)'].apply(lambda x: x.replace(' ', ''))"
   ]
  },
  {
   "cell_type": "code",
   "execution_count": 11,
   "metadata": {},
   "outputs": [],
   "source": [
    "# drop drug combination\n",
    "dataset1 = dataset1.drop(42)"
   ]
  },
  {
   "cell_type": "code",
   "execution_count": 12,
   "metadata": {},
   "outputs": [],
   "source": [
    "dataset1['Drug name'] = dataset1['Drug name'].apply(lambda x: x.replace(' i.v.', ''))"
   ]
  },
  {
   "cell_type": "code",
   "execution_count": 13,
   "metadata": {},
   "outputs": [
    {
     "name": "stderr",
     "output_type": "stream",
     "text": [
      "/scratch/ias41/envs/my-rdkit-env/lib/python3.6/site-packages/ipykernel_launcher.py:3: SettingWithCopyWarning: \n",
      "A value is trying to be set on a copy of a slice from a DataFrame.\n",
      "Try using .loc[row_indexer,col_indexer] = value instead\n",
      "\n",
      "See the caveats in the documentation: http://pandas.pydata.org/pandas-docs/stable/user_guide/indexing.html#returning-a-view-versus-a-copy\n",
      "  This is separate from the ipykernel package so we can avoid doing imports until\n"
     ]
    }
   ],
   "source": [
    "dataset1_selection = dataset1[['Drug name', 'ETCPun-bound (nM)']]\n",
    "dataset1_selection.columns = ['Original drug name', 'ETCP unbound (nM)']\n",
    "dataset1_selection['PMID'] = 'PMID15637086'"
   ]
  },
  {
   "cell_type": "code",
   "execution_count": 14,
   "metadata": {},
   "outputs": [],
   "source": [
    "# Save to file\n",
    "dataset1_selection.to_csv(basedir + '/results/interim/PMID15637086_data.txt', sep='\\t', index=None)"
   ]
  },
  {
   "cell_type": "markdown",
   "metadata": {},
   "source": [
    "### Dataset 2 - PMID22210121"
   ]
  },
  {
   "cell_type": "code",
   "execution_count": 15,
   "metadata": {},
   "outputs": [],
   "source": [
    "dataset2 = pd.read_excel(basedir + '/data/PMID22210121_PPB_from_HTML.xlsx')"
   ]
  },
  {
   "cell_type": "code",
   "execution_count": 16,
   "metadata": {},
   "outputs": [],
   "source": [
    "dataset2['fb(%)'] = dataset2['fb(%)'].apply(lambda x: str(x).replace('<', '').replace('>', ''))"
   ]
  },
  {
   "cell_type": "code",
   "execution_count": 17,
   "metadata": {},
   "outputs": [],
   "source": [
    "def remove_approx(x):\n",
    "    x = x.replace('\\xa0', ' ').replace('\\xa06', ' ')\n",
    "    pattern = re.compile('([0-9\\.]+) ± [0-9/.]+')\n",
    "    match = re.match(pattern, x)\n",
    "    if match:\n",
    "        return match.group(1)\n",
    "    else:\n",
    "        return x"
   ]
  },
  {
   "cell_type": "code",
   "execution_count": 18,
   "metadata": {},
   "outputs": [],
   "source": [
    "dataset2['fb(%)'] = dataset2['fb(%)'].apply(lambda x: remove_approx(x))"
   ]
  },
  {
   "cell_type": "code",
   "execution_count": 19,
   "metadata": {},
   "outputs": [],
   "source": [
    "def find_upper_bound(x):\n",
    "    match = re.match('([0-9]+)–([0-9]+)', str(x))\n",
    "    if match:\n",
    "        return float(match.group(1)), float(match.group(2))\n",
    "    else:\n",
    "        return float(x), None"
   ]
  },
  {
   "cell_type": "code",
   "execution_count": 20,
   "metadata": {},
   "outputs": [],
   "source": [
    "dataset2['fb upper'] = dataset2['fb(%)'].apply(lambda x: find_upper_bound(x)[1])"
   ]
  },
  {
   "cell_type": "code",
   "execution_count": 21,
   "metadata": {},
   "outputs": [],
   "source": [
    "dataset2['fb lower'] = dataset2['fb(%)'].apply(lambda x: find_upper_bound(x)[0])"
   ]
  },
  {
   "cell_type": "code",
   "execution_count": 22,
   "metadata": {},
   "outputs": [
    {
     "name": "stderr",
     "output_type": "stream",
     "text": [
      "/scratch/ias41/envs/my-rdkit-env/lib/python3.6/site-packages/ipykernel_launcher.py:2: SettingWithCopyWarning: \n",
      "A value is trying to be set on a copy of a slice from a DataFrame.\n",
      "Try using .loc[row_indexer,col_indexer] = value instead\n",
      "\n",
      "See the caveats in the documentation: http://pandas.pydata.org/pandas-docs/stable/user_guide/indexing.html#returning-a-view-versus-a-copy\n",
      "  \n"
     ]
    }
   ],
   "source": [
    "dataset2_selection = dataset2[['Drugs', 'fb lower', 'fb upper']]\n",
    "dataset2_selection['PMID'] = 'PMID22210121'\n",
    "dataset2_selection.columns = ['Drug name', 'PPB lower', 'PPB upper', 'PMID']"
   ]
  },
  {
   "cell_type": "code",
   "execution_count": 23,
   "metadata": {},
   "outputs": [],
   "source": [
    "def separate_synonyms(x):\n",
    "    pattern = '(.+)\\((.+)\\)'\n",
    "    match = re.match(pattern, x)\n",
    "    if match:\n",
    "        return match.group(1).strip(' '), match.group(2)\n",
    "    else:\n",
    "        return x, None"
   ]
  },
  {
   "cell_type": "code",
   "execution_count": 24,
   "metadata": {},
   "outputs": [
    {
     "name": "stderr",
     "output_type": "stream",
     "text": [
      "/scratch/ias41/envs/my-rdkit-env/lib/python3.6/site-packages/ipykernel_launcher.py:1: SettingWithCopyWarning: \n",
      "A value is trying to be set on a copy of a slice from a DataFrame.\n",
      "Try using .loc[row_indexer,col_indexer] = value instead\n",
      "\n",
      "See the caveats in the documentation: http://pandas.pydata.org/pandas-docs/stable/user_guide/indexing.html#returning-a-view-versus-a-copy\n",
      "  \"\"\"Entry point for launching an IPython kernel.\n"
     ]
    }
   ],
   "source": [
    "dataset2_selection['Original drug name'] = dataset2_selection['Drug name'].apply(lambda x: separate_synonyms(x)[0])\n",
    "dataset2_selection['Original synonyms'] = dataset2_selection['Drug name'].apply(lambda x: separate_synonyms(x)[1])"
   ]
  },
  {
   "cell_type": "code",
   "execution_count": 25,
   "metadata": {},
   "outputs": [],
   "source": [
    "# Save to file\n",
    "dataset2_selection[['Original drug name', 'Original synonyms', 'PPB lower', 'PPB upper', 'PMID']].to_csv(basedir + '/results/interim/PMID22210121_data.txt', sep='\\t', index=None)"
   ]
  },
  {
   "cell_type": "markdown",
   "metadata": {},
   "source": [
    "### Dataset 3 - PMID30115648"
   ]
  },
  {
   "cell_type": "code",
   "execution_count": 26,
   "metadata": {},
   "outputs": [],
   "source": [
    "dataset3 = pd.read_excel(basedir + '/data/PMID30115648_Fu.xlsx')"
   ]
  },
  {
   "cell_type": "code",
   "execution_count": 27,
   "metadata": {},
   "outputs": [],
   "source": [
    "dataset3_selection = dataset3.loc[~dataset3['fraction unbound \\nin plasma (fu)'].isnull(),:][['Name', 'SMILES', 'fraction unbound \\nin plasma (fu)']]"
   ]
  },
  {
   "cell_type": "code",
   "execution_count": 28,
   "metadata": {},
   "outputs": [],
   "source": [
    "dataset3_selection['Original drug name'] = dataset3_selection['Name'].apply(lambda x: separate_synonyms(x)[0])\n",
    "dataset3_selection['Original synonyms'] = dataset3_selection['Name'].apply(lambda x: separate_synonyms(x)[1])"
   ]
  },
  {
   "cell_type": "code",
   "execution_count": 29,
   "metadata": {},
   "outputs": [],
   "source": [
    "def smiles_to_inchikey(x):\n",
    "    try:\n",
    "        mol = Chem.MolFromSmiles(x)\n",
    "        if mol:\n",
    "            inchikey = Chem.InchiToInchiKey(Chem.inchi.MolToInchi(mol))\n",
    "            return inchikey\n",
    "    except NameError:\n",
    "        return None"
   ]
  },
  {
   "cell_type": "code",
   "execution_count": 30,
   "metadata": {
    "collapsed": true,
    "jupyter": {
     "outputs_hidden": true
    }
   },
   "outputs": [
    {
     "name": "stderr",
     "output_type": "stream",
     "text": [
      "RDKit ERROR: [22:14:02] Explicit valence for atom # 3 O, 3, is greater than permitted\n",
      "RDKit ERROR: [22:14:02] Explicit valence for atom # 0 N, 4, is greater than permitted\n",
      "RDKit ERROR: [22:14:02] Explicit valence for atom # 6 N, 4, is greater than permitted\n",
      "RDKit ERROR: [22:14:02] SMILES Parse Error: syntax error while parsing: C(C([N+]([Gd+++]([N+]1(C2)C3)([N+](C2)(C2)C4)([O-]5)([O-]6)([O-]C3=O)([O-]C4=O)[O-]C2=O)(CC6=O)CC5=O)C1)C(=CC=C1OCC)C=C1\n",
      "RDKit ERROR: [22:14:02] SMILES Parse Error: Failed parsing SMILES 'C(C([N+]([Gd+++]([N+]1(C2)C3)([N+](C2)(C2)C4)([O-]5)([O-]6)([O-]C3=O)([O-]C4=O)[O-]C2=O)(CC6=O)CC5=O)C1)C(=CC=C1OCC)C=C1' for input: 'C(C([N+]([Gd+++]([N+]1(C2)C3)([N+](C2)(C2)C4)([O-]5)([O-]6)([O-]C3=O)([O-]C4=O)[O-]C2=O)(CC6=O)CC5=O)C1)C(=CC=C1OCC)C=C1'\n",
      "RDKit ERROR: [22:14:02] Explicit valence for atom # 3 N, 4, is greater than permitted\n",
      "RDKit ERROR: [22:14:02] Explicit valence for atom # 6 O, 3, is greater than permitted\n",
      "RDKit ERROR: [22:14:02] SMILES Parse Error: syntax error while parsing: C(C([N+]([Gd+++]([N+]1(C2)C3)([N+](C2)(C2)C4)([O-]5)([O-]6)([O-]C3=O)([O-]C4=O)[O-]C2=O)(CC6=O)CC5=O)C1)C(=CC=C1OCC)C=C1\n",
      "RDKit ERROR: [22:14:02] SMILES Parse Error: Failed parsing SMILES 'C(C([N+]([Gd+++]([N+]1(C2)C3)([N+](C2)(C2)C4)([O-]5)([O-]6)([O-]C3=O)([O-]C4=O)[O-]C2=O)(CC6=O)CC5=O)C1)C(=CC=C1OCC)C=C1' for input: 'C(C([N+]([Gd+++]([N+]1(C2)C3)([N+](C2)(C2)C4)([O-]5)([O-]6)([O-]C3=O)([O-]C4=O)[O-]C2=O)(CC6=O)CC5=O)C1)C(=CC=C1OCC)C=C1'\n",
      "RDKit WARNING: [22:14:02] WARNING: Omitted undefined stereo\n",
      "RDKit WARNING: [22:14:02] WARNING: Charges were rearranged\n",
      "RDKit WARNING: [22:14:02] WARNING: Omitted undefined stereo\n",
      "RDKit WARNING: [22:14:02] WARNING: Omitted undefined stereo\n",
      "RDKit WARNING: [22:14:02] WARNING: Omitted undefined stereo\n",
      "RDKit WARNING: [22:14:02] WARNING: Omitted undefined stereo\n",
      "RDKit WARNING: [22:14:02] WARNING: Omitted undefined stereo\n",
      "RDKit WARNING: [22:14:02] WARNING: Omitted undefined stereo\n",
      "RDKit WARNING: [22:14:02] WARNING: Omitted undefined stereo\n",
      "RDKit WARNING: [22:14:02] WARNING: Omitted undefined stereo\n",
      "RDKit WARNING: [22:14:02] WARNING: Omitted undefined stereo\n",
      "RDKit WARNING: [22:14:02] WARNING: Omitted undefined stereo\n",
      "RDKit WARNING: [22:14:02] WARNING: Omitted undefined stereo\n",
      "RDKit WARNING: [22:14:02] WARNING: Omitted undefined stereo\n",
      "RDKit WARNING: [22:14:02] WARNING: Omitted undefined stereo\n",
      "RDKit WARNING: [22:14:02] WARNING: Omitted undefined stereo\n",
      "RDKit WARNING: [22:14:02] WARNING: Omitted undefined stereo\n",
      "RDKit WARNING: [22:14:02] WARNING: Omitted undefined stereo\n",
      "RDKit WARNING: [22:14:02] WARNING: Omitted undefined stereo\n",
      "RDKit WARNING: [22:14:02] WARNING: Omitted undefined stereo\n",
      "RDKit WARNING: [22:14:02] WARNING: Omitted undefined stereo\n",
      "RDKit WARNING: [22:14:02] WARNING: Omitted undefined stereo\n",
      "RDKit WARNING: [22:14:02] WARNING: Omitted undefined stereo\n",
      "RDKit WARNING: [22:14:02] WARNING: Omitted undefined stereo\n",
      "RDKit WARNING: [22:14:02] WARNING: Charges were rearranged\n",
      "RDKit WARNING: [22:14:02] WARNING: Charges were rearranged\n",
      "RDKit WARNING: [22:14:02] WARNING: Omitted undefined stereo\n",
      "RDKit WARNING: [22:14:02] WARNING: Omitted undefined stereo\n",
      "RDKit WARNING: [22:14:02] WARNING: Omitted undefined stereo\n",
      "RDKit WARNING: [22:14:02] WARNING: Omitted undefined stereo\n",
      "RDKit WARNING: [22:14:02] WARNING: Omitted undefined stereo\n",
      "RDKit WARNING: [22:14:02] WARNING: Omitted undefined stereo\n",
      "RDKit WARNING: [22:14:02] WARNING: Omitted undefined stereo\n",
      "RDKit WARNING: [22:14:02] WARNING: Charges were rearranged\n",
      "RDKit WARNING: [22:14:02] WARNING: Proton(s) added/removed\n",
      "RDKit WARNING: [22:14:02] WARNING: Omitted undefined stereo\n",
      "RDKit WARNING: [22:14:02] WARNING: Omitted undefined stereo\n",
      "RDKit WARNING: [22:14:02] WARNING: Omitted undefined stereo\n",
      "RDKit WARNING: [22:14:02] WARNING: Omitted undefined stereo\n",
      "RDKit WARNING: [22:14:02] WARNING: Charges were rearranged; Proton(s) added/removed\n",
      "RDKit WARNING: [22:14:02] WARNING: Omitted undefined stereo\n",
      "RDKit WARNING: [22:14:02] WARNING: Omitted undefined stereo\n",
      "RDKit WARNING: [22:14:02] WARNING: Omitted undefined stereo\n",
      "RDKit WARNING: [22:14:02] WARNING: Charges were rearranged\n",
      "RDKit WARNING: [22:14:02] WARNING: Omitted undefined stereo\n",
      "RDKit WARNING: [22:14:02] WARNING: Omitted undefined stereo\n",
      "RDKit WARNING: [22:14:02] WARNING: Omitted undefined stereo\n",
      "RDKit WARNING: [22:14:02] WARNING: Omitted undefined stereo\n",
      "RDKit WARNING: [22:14:02] WARNING: Omitted undefined stereo\n",
      "RDKit WARNING: [22:14:02] WARNING: Charges were rearranged\n",
      "RDKit WARNING: [22:14:02] WARNING: Proton(s) added/removed\n",
      "RDKit WARNING: [22:14:02] WARNING: Omitted undefined stereo\n",
      "RDKit WARNING: [22:14:02] WARNING: Omitted undefined stereo\n",
      "RDKit WARNING: [22:14:02] WARNING: Omitted undefined stereo\n",
      "RDKit WARNING: [22:14:02] WARNING: Omitted undefined stereo\n",
      "RDKit WARNING: [22:14:02] WARNING: Omitted undefined stereo\n",
      "RDKit WARNING: [22:14:02] WARNING: Omitted undefined stereo\n",
      "RDKit WARNING: [22:14:02] WARNING: Omitted undefined stereo\n",
      "RDKit WARNING: [22:14:02] WARNING: Omitted undefined stereo\n",
      "RDKit WARNING: [22:14:02] WARNING: Omitted undefined stereo\n",
      "RDKit WARNING: [22:14:02] WARNING: Omitted undefined stereo\n",
      "RDKit WARNING: [22:14:02] WARNING: Omitted undefined stereo\n",
      "RDKit WARNING: [22:14:02] WARNING: Omitted undefined stereo\n",
      "RDKit WARNING: [22:14:03] WARNING: Omitted undefined stereo\n",
      "RDKit WARNING: [22:14:03] WARNING: Omitted undefined stereo\n",
      "RDKit WARNING: [22:14:03] WARNING: Charges were rearranged\n",
      "RDKit WARNING: [22:14:03] WARNING: Charges were rearranged\n",
      "RDKit WARNING: [22:14:03] WARNING: Omitted undefined stereo\n",
      "RDKit WARNING: [22:14:03] WARNING: Omitted undefined stereo\n",
      "RDKit WARNING: [22:14:03] WARNING: Omitted undefined stereo\n",
      "RDKit WARNING: [22:14:03] WARNING: Omitted undefined stereo\n",
      "RDKit WARNING: [22:14:03] WARNING: Omitted undefined stereo\n",
      "RDKit WARNING: [22:14:03] WARNING: Omitted undefined stereo\n",
      "RDKit WARNING: [22:14:03] WARNING: Omitted undefined stereo\n",
      "RDKit WARNING: [22:14:03] WARNING: Omitted undefined stereo\n",
      "RDKit WARNING: [22:14:03] WARNING: Omitted undefined stereo\n",
      "RDKit WARNING: [22:14:03] WARNING: Omitted undefined stereo\n",
      "RDKit WARNING: [22:14:03] WARNING: Omitted undefined stereo\n",
      "RDKit WARNING: [22:14:03] WARNING: Omitted undefined stereo\n",
      "RDKit WARNING: [22:14:03] WARNING: Omitted undefined stereo\n",
      "RDKit WARNING: [22:14:03] WARNING: Omitted undefined stereo\n",
      "RDKit WARNING: [22:14:03] WARNING: Omitted undefined stereo\n",
      "RDKit WARNING: [22:14:03] WARNING: Omitted undefined stereo\n",
      "RDKit WARNING: [22:14:03] WARNING: Omitted undefined stereo\n",
      "RDKit WARNING: [22:14:03] WARNING: Proton(s) added/removed\n",
      "RDKit WARNING: [22:14:03] WARNING: Omitted undefined stereo\n",
      "RDKit WARNING: [22:14:03] WARNING: Omitted undefined stereo\n",
      "RDKit WARNING: [22:14:03] WARNING: Omitted undefined stereo\n",
      "RDKit WARNING: [22:14:03] WARNING: Charges were rearranged\n",
      "RDKit WARNING: [22:14:03] WARNING: Omitted undefined stereo\n",
      "RDKit ERROR: [22:14:03] WARNING: Omitted undefi[22:14:03] Explicit valence for atom # 9 N, 4, is greater than permitted\n",
      "RDKit ERROR: [22:14:03] Explicit valence for atom # 9 O, 3, is greater than permitted\n"
     ]
    }
   ],
   "source": [
    "dataset3_selection['inchi_key'] = dataset3_selection['SMILES'].apply(lambda x: smiles_to_inchikey(x))"
   ]
  },
  {
   "cell_type": "code",
   "execution_count": 31,
   "metadata": {},
   "outputs": [],
   "source": [
    "dataset3_selection.columns = ['Name', 'SMILES', 'Fu',\n",
    "       'Original drug name', 'Original synonyms', 'inchi_key']"
   ]
  },
  {
   "cell_type": "code",
   "execution_count": 32,
   "metadata": {},
   "outputs": [],
   "source": [
    "# save to file\n",
    "dataset3_selection['PMID'] = 'PMID30115648'\n",
    "dataset3_selection[['Original drug name', 'Original synonyms', 'Fu', 'PMID', 'inchi_key', 'SMILES']].to_csv(basedir + '/results/interim/PMID30115648_data.txt', sep='\\t', index=None)"
   ]
  },
  {
   "cell_type": "markdown",
   "metadata": {},
   "source": [
    "### Dataset 4 - Redfern et al."
   ]
  },
  {
   "cell_type": "code",
   "execution_count": 33,
   "metadata": {},
   "outputs": [],
   "source": [
    "dataset4 = pd.read_excel(basedir + '/data/PMID12667944_PPB.xlsx')"
   ]
  },
  {
   "cell_type": "code",
   "execution_count": 34,
   "metadata": {},
   "outputs": [],
   "source": [
    "dataset4.drop(labels = ['ETPC ng/ml lower bound','ETPC ng/ml higher bound'], axis=1, inplace=True)"
   ]
  },
  {
   "cell_type": "code",
   "execution_count": 35,
   "metadata": {},
   "outputs": [],
   "source": [
    "dataset4.columns = ['Original drug name', 'PPB', 'PPB upper', 'ETCP unbound (nM)',\n",
    "       'ETCP unbound (nM) upper']"
   ]
  },
  {
   "cell_type": "code",
   "execution_count": 36,
   "metadata": {},
   "outputs": [],
   "source": [
    "dataset4['PMID'] = 'PMID12667944'\n",
    "dataset4.to_csv(basedir + '/results/interim/PMID12667944_data.txt', sep='\\t', index=False)"
   ]
  },
  {
   "cell_type": "code",
   "execution_count": null,
   "metadata": {},
   "outputs": [],
   "source": []
  }
 ],
 "metadata": {
  "kernelspec": {
   "display_name": "Python [conda env:ias41-my-rdkit-env]",
   "language": "python",
   "name": "conda-env-ias41-my-rdkit-env-py"
  },
  "language_info": {
   "codemirror_mode": {
    "name": "ipython",
    "version": 3
   },
   "file_extension": ".py",
   "mimetype": "text/x-python",
   "name": "python",
   "nbconvert_exporter": "python",
   "pygments_lexer": "ipython3",
   "version": "3.6.7"
  }
 },
 "nbformat": 4,
 "nbformat_minor": 4
}
