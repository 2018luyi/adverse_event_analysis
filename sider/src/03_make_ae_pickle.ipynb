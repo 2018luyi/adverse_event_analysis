{
 "cells": [
  {
   "cell_type": "code",
   "execution_count": 33,
   "metadata": {},
   "outputs": [],
   "source": [
    "import pandas as pd\n",
    "import pickle\n",
    "import collections\n",
    "import datetime"
   ]
  },
  {
   "cell_type": "code",
   "execution_count": 1,
   "metadata": {},
   "outputs": [],
   "source": [
    "sider_dir = '/scratch/ias41/ae_code/sider'"
   ]
  },
  {
   "cell_type": "code",
   "execution_count": 9,
   "metadata": {},
   "outputs": [],
   "source": [
    "report_information = collections.OrderedDict()"
   ]
  },
  {
   "cell_type": "code",
   "execution_count": 4,
   "metadata": {},
   "outputs": [],
   "source": [
    "# Drug-event pairs assigned to clinical trials set - only those with mapped compounds to ChEMBL\n",
    "clin_trial_mapped = pd.read_csv(sider_dir + '/results/sider_processed_clin_trial-assigned_mapped.txt', sep='\\t')"
   ]
  },
  {
   "cell_type": "code",
   "execution_count": 5,
   "metadata": {},
   "outputs": [
    {
     "data": {
      "text/html": [
       "<div>\n",
       "<style scoped>\n",
       "    .dataframe tbody tr th:only-of-type {\n",
       "        vertical-align: middle;\n",
       "    }\n",
       "\n",
       "    .dataframe tbody tr th {\n",
       "        vertical-align: top;\n",
       "    }\n",
       "\n",
       "    .dataframe thead th {\n",
       "        text-align: right;\n",
       "    }\n",
       "</style>\n",
       "<table border=\"1\" class=\"dataframe\">\n",
       "  <thead>\n",
       "    <tr style=\"text-align: right;\">\n",
       "      <th></th>\n",
       "      <th>stitch_flat</th>\n",
       "      <th>stitch_stereo</th>\n",
       "      <th>umls_concept_label</th>\n",
       "      <th>meddra_concept_type</th>\n",
       "      <th>umls_concept</th>\n",
       "      <th>side_effect_name</th>\n",
       "      <th>placebo</th>\n",
       "      <th>frequency_description</th>\n",
       "      <th>lower_bound</th>\n",
       "      <th>upper_bound</th>\n",
       "      <th>chembl_id</th>\n",
       "      <th>molregno</th>\n",
       "      <th>parent_molregno</th>\n",
       "      <th>parent_chembl_id</th>\n",
       "    </tr>\n",
       "  </thead>\n",
       "  <tbody>\n",
       "    <tr>\n",
       "      <th>0</th>\n",
       "      <td>CID100000085</td>\n",
       "      <td>CID000010917</td>\n",
       "      <td>C0000729</td>\n",
       "      <td>PT</td>\n",
       "      <td>C0000737</td>\n",
       "      <td>Abdominal pain</td>\n",
       "      <td>NaN</td>\n",
       "      <td>NaN</td>\n",
       "      <td>NaN</td>\n",
       "      <td>NaN</td>\n",
       "      <td>CHEMBL1149</td>\n",
       "      <td>181939</td>\n",
       "      <td>181939</td>\n",
       "      <td>CHEMBL1149</td>\n",
       "    </tr>\n",
       "    <tr>\n",
       "      <th>1</th>\n",
       "      <td>CID100000085</td>\n",
       "      <td>CID000010917</td>\n",
       "      <td>C0000737</td>\n",
       "      <td>PT</td>\n",
       "      <td>C0687713</td>\n",
       "      <td>Gastrointestinal pain</td>\n",
       "      <td>NaN</td>\n",
       "      <td>NaN</td>\n",
       "      <td>NaN</td>\n",
       "      <td>NaN</td>\n",
       "      <td>CHEMBL1149</td>\n",
       "      <td>181939</td>\n",
       "      <td>181939</td>\n",
       "      <td>CHEMBL1149</td>\n",
       "    </tr>\n",
       "    <tr>\n",
       "      <th>2</th>\n",
       "      <td>CID100000085</td>\n",
       "      <td>CID000010917</td>\n",
       "      <td>C0000737</td>\n",
       "      <td>PT</td>\n",
       "      <td>C0000737</td>\n",
       "      <td>Abdominal pain</td>\n",
       "      <td>NaN</td>\n",
       "      <td>NaN</td>\n",
       "      <td>NaN</td>\n",
       "      <td>NaN</td>\n",
       "      <td>CHEMBL1149</td>\n",
       "      <td>181939</td>\n",
       "      <td>181939</td>\n",
       "      <td>CHEMBL1149</td>\n",
       "    </tr>\n",
       "    <tr>\n",
       "      <th>3</th>\n",
       "      <td>CID100000085</td>\n",
       "      <td>CID000010917</td>\n",
       "      <td>C0002418</td>\n",
       "      <td>PT</td>\n",
       "      <td>C0002418</td>\n",
       "      <td>Amblyopia</td>\n",
       "      <td>NaN</td>\n",
       "      <td>NaN</td>\n",
       "      <td>NaN</td>\n",
       "      <td>NaN</td>\n",
       "      <td>CHEMBL1149</td>\n",
       "      <td>181939</td>\n",
       "      <td>181939</td>\n",
       "      <td>CHEMBL1149</td>\n",
       "    </tr>\n",
       "    <tr>\n",
       "      <th>4</th>\n",
       "      <td>CID100000085</td>\n",
       "      <td>CID000010917</td>\n",
       "      <td>C0002871</td>\n",
       "      <td>PT</td>\n",
       "      <td>C0002871</td>\n",
       "      <td>Anaemia</td>\n",
       "      <td>NaN</td>\n",
       "      <td>NaN</td>\n",
       "      <td>NaN</td>\n",
       "      <td>NaN</td>\n",
       "      <td>CHEMBL1149</td>\n",
       "      <td>181939</td>\n",
       "      <td>181939</td>\n",
       "      <td>CHEMBL1149</td>\n",
       "    </tr>\n",
       "  </tbody>\n",
       "</table>\n",
       "</div>"
      ],
      "text/plain": [
       "    stitch_flat stitch_stereo umls_concept_label meddra_concept_type  \\\n",
       "0  CID100000085  CID000010917           C0000729                  PT   \n",
       "1  CID100000085  CID000010917           C0000737                  PT   \n",
       "2  CID100000085  CID000010917           C0000737                  PT   \n",
       "3  CID100000085  CID000010917           C0002418                  PT   \n",
       "4  CID100000085  CID000010917           C0002871                  PT   \n",
       "\n",
       "  umls_concept       side_effect_name  placebo frequency_description  \\\n",
       "0     C0000737         Abdominal pain      NaN                   NaN   \n",
       "1     C0687713  Gastrointestinal pain      NaN                   NaN   \n",
       "2     C0000737         Abdominal pain      NaN                   NaN   \n",
       "3     C0002418              Amblyopia      NaN                   NaN   \n",
       "4     C0002871                Anaemia      NaN                   NaN   \n",
       "\n",
       "   lower_bound  upper_bound   chembl_id  molregno  parent_molregno  \\\n",
       "0          NaN          NaN  CHEMBL1149    181939           181939   \n",
       "1          NaN          NaN  CHEMBL1149    181939           181939   \n",
       "2          NaN          NaN  CHEMBL1149    181939           181939   \n",
       "3          NaN          NaN  CHEMBL1149    181939           181939   \n",
       "4          NaN          NaN  CHEMBL1149    181939           181939   \n",
       "\n",
       "  parent_chembl_id  \n",
       "0       CHEMBL1149  \n",
       "1       CHEMBL1149  \n",
       "2       CHEMBL1149  \n",
       "3       CHEMBL1149  \n",
       "4       CHEMBL1149  "
      ]
     },
     "execution_count": 5,
     "metadata": {},
     "output_type": "execute_result"
    }
   ],
   "source": [
    "clin_trial_mapped.head()"
   ]
  },
  {
   "cell_type": "code",
   "execution_count": 16,
   "metadata": {},
   "outputs": [],
   "source": [
    "# Get some basic counts for the report\n",
    "\n",
    "# Nr of stereo compounds in sider all_se with Meddra PTs\n",
    "# Load all reported side effects\n",
    "all_se = pd.read_csv(sider_dir + '/data/meddra_all_se.tsv', sep='\\t', header=None)\n",
    "all_se.columns = ['stitch_flat', 'stitch_stereo', 'umls_concept_label', 'meddra_concept_type','umls_concept', 'side_effect_name']\n",
    "all_se_pt = all_se.loc[all_se['meddra_concept_type']=='PT',:]\n",
    "\n",
    "report_information['Datapoints in all SIDER all_se (before mapping)'] = '{} unique stereo_stich ids, {} unique AEs (PTs)'.format(len(all_se_pt['stitch_stereo'].drop_duplicates()), len(all_se_pt['side_effect_name'].drop_duplicates()))\n",
    "\n",
    "# Nr of stereo compounds in sider_all_se mapped to molregnos\n",
    "\n",
    "all_se_pt_mapped = pd.read_csv(sider_dir + '/results/sider_all_se_pt_mapped.txt', sep='\\t')\n",
    "\n",
    "report_information['Datapoints in all SIDER all_se (mapped)'] = '{} unique stereo_stich ids, {} unique AEs (PTs)'.format(len(all_se_pt_mapped['STITCH_stereo'].drop_duplicates()), len(all_se_pt_mapped['side_effect_name'].drop_duplicates()))\n",
    "\n",
    "# Nr of mapped stereo ids mapped assigned to clinical set\n",
    "\n",
    "report_information['Datapoints in clinical-assigned SIDER (mapped)'] = '{} unique stereo_stich ids, {} unique AEs (PTs)'.format(len(clin_trial_mapped['stitch_stereo'].drop_duplicates()), len(clin_trial_mapped['side_effect_name'].drop_duplicates()))\n"
   ]
  },
  {
   "cell_type": "code",
   "execution_count": 17,
   "metadata": {},
   "outputs": [
    {
     "data": {
      "text/plain": [
       "OrderedDict([('Datapoints in all SIDER all_se (before mapping)',\n",
       "              '1556 unique stereo_stich ids, 4251 unique AEs (PTs)'),\n",
       "             ('Datapoints in all SIDER all_se (mapped)',\n",
       "              '1219 unique stereo_stich ids, 4054 unique AEs (PTs)'),\n",
       "             ('Datapoints in clinical-assigned SIDER (mapped)',\n",
       "              '1041 unique stereo_stich ids, 2858 unique AEs (PTs)')])"
      ]
     },
     "execution_count": 17,
     "metadata": {},
     "output_type": "execute_result"
    }
   ],
   "source": [
    "report_information"
   ]
  },
  {
   "cell_type": "code",
   "execution_count": 18,
   "metadata": {},
   "outputs": [],
   "source": [
    "# Find side effects with less than five drugs\n",
    "ses_with_less_than_five_drugs = list()\n",
    "for group in clin_trial_mapped.groupby(by='side_effect_name'):\n",
    "    if len(group[1]['parent_molregno'].drop_duplicates()) < 5:\n",
    "        ses_with_less_than_five_drugs.append(group[0])"
   ]
  },
  {
   "cell_type": "code",
   "execution_count": 22,
   "metadata": {},
   "outputs": [
    {
     "data": {
      "text/html": [
       "<div>\n",
       "<style scoped>\n",
       "    .dataframe tbody tr th:only-of-type {\n",
       "        vertical-align: middle;\n",
       "    }\n",
       "\n",
       "    .dataframe tbody tr th {\n",
       "        vertical-align: top;\n",
       "    }\n",
       "\n",
       "    .dataframe thead th {\n",
       "        text-align: right;\n",
       "    }\n",
       "</style>\n",
       "<table border=\"1\" class=\"dataframe\">\n",
       "  <thead>\n",
       "    <tr style=\"text-align: right;\">\n",
       "      <th></th>\n",
       "      <th>stitch_flat</th>\n",
       "      <th>stitch_stereo</th>\n",
       "      <th>umls_concept_label</th>\n",
       "      <th>meddra_concept_type</th>\n",
       "      <th>umls_concept</th>\n",
       "      <th>side_effect_name</th>\n",
       "      <th>placebo</th>\n",
       "      <th>frequency_description</th>\n",
       "      <th>lower_bound</th>\n",
       "      <th>upper_bound</th>\n",
       "      <th>chembl_id</th>\n",
       "      <th>molregno</th>\n",
       "      <th>parent_molregno</th>\n",
       "      <th>parent_chembl_id</th>\n",
       "    </tr>\n",
       "  </thead>\n",
       "  <tbody>\n",
       "    <tr>\n",
       "      <th>41897</th>\n",
       "      <td>CID100216235</td>\n",
       "      <td>CID000216235</td>\n",
       "      <td>C0178282</td>\n",
       "      <td>PT</td>\n",
       "      <td>C0178282</td>\n",
       "      <td>Abdominal hernia</td>\n",
       "      <td>NaN</td>\n",
       "      <td>NaN</td>\n",
       "      <td>NaN</td>\n",
       "      <td>NaN</td>\n",
       "      <td>CHEMBL282724</td>\n",
       "      <td>23417</td>\n",
       "      <td>23417</td>\n",
       "      <td>CHEMBL282724</td>\n",
       "    </tr>\n",
       "  </tbody>\n",
       "</table>\n",
       "</div>"
      ],
      "text/plain": [
       "        stitch_flat stitch_stereo umls_concept_label meddra_concept_type  \\\n",
       "41897  CID100216235  CID000216235           C0178282                  PT   \n",
       "\n",
       "      umls_concept  side_effect_name  placebo frequency_description  \\\n",
       "41897     C0178282  Abdominal hernia      NaN                   NaN   \n",
       "\n",
       "       lower_bound  upper_bound     chembl_id  molregno  parent_molregno  \\\n",
       "41897          NaN          NaN  CHEMBL282724     23417            23417   \n",
       "\n",
       "      parent_chembl_id  \n",
       "41897     CHEMBL282724  "
      ]
     },
     "execution_count": 22,
     "metadata": {},
     "output_type": "execute_result"
    }
   ],
   "source": [
    "clin_trial_mapped.loc[clin_trial_mapped['side_effect_name']=='Abdominal hernia',:]"
   ]
  },
  {
   "cell_type": "code",
   "execution_count": 23,
   "metadata": {},
   "outputs": [
    {
     "data": {
      "text/plain": [
       "1727"
      ]
     },
     "execution_count": 23,
     "metadata": {},
     "output_type": "execute_result"
    }
   ],
   "source": [
    "len(ses_with_less_than_five_drugs)"
   ]
  },
  {
   "cell_type": "code",
   "execution_count": 24,
   "metadata": {},
   "outputs": [],
   "source": [
    "report_information['Number of side effects (from clinical mapped) excluded because they had fewer than 5 drugs'] = len(ses_with_less_than_five_drugs)"
   ]
  },
  {
   "cell_type": "code",
   "execution_count": 25,
   "metadata": {},
   "outputs": [],
   "source": [
    "# Exclude SEs with less than five drugs\n",
    "sider_data_selected = clin_trial_mapped.loc[~clin_trial_mapped['side_effect_name'].isin(ses_with_less_than_five_drugs),:]"
   ]
  },
  {
   "cell_type": "code",
   "execution_count": 28,
   "metadata": {},
   "outputs": [],
   "source": [
    "report_information['Datapoints in clinical-assigned SIDER (mapped) after excluding side effects without 5 drugs (used to make ae pickle)'] = '{} unique stereo_stich ids, {} unique AEs (PTs)'.format(len(sider_data_selected['stitch_stereo'].drop_duplicates()), len(sider_data_selected['side_effect_name'].drop_duplicates()))"
   ]
  },
  {
   "cell_type": "code",
   "execution_count": 29,
   "metadata": {},
   "outputs": [
    {
     "data": {
      "text/plain": [
       "OrderedDict([('Datapoints in all SIDER all_se (before mapping)',\n",
       "              '1556 unique stereo_stich ids, 4251 unique AEs (PTs)'),\n",
       "             ('Datapoints in all SIDER all_se (mapped)',\n",
       "              '1219 unique stereo_stich ids, 4054 unique AEs (PTs)'),\n",
       "             ('Datapoints in clinical-assigned SIDER (mapped)',\n",
       "              '1041 unique stereo_stich ids, 2858 unique AEs (PTs)'),\n",
       "             ('Number of side effects (from clinical mapped) excluded because they had fewer than 5 drugs',\n",
       "              1727),\n",
       "             ('Datapoints in clinical-assigned SIDER (mapped) after excluding side effects without 5 drugs (used to make ae pickle)',\n",
       "              '1040 unique stereo_stich ids, 1131 unique AEs (PTs)')])"
      ]
     },
     "execution_count": 29,
     "metadata": {},
     "output_type": "execute_result"
    }
   ],
   "source": [
    "report_information"
   ]
  },
  {
   "cell_type": "code",
   "execution_count": 26,
   "metadata": {},
   "outputs": [],
   "source": [
    "molregno2aes_sider = dict()\n",
    "\n",
    "for group in sider_data_selected.groupby(by='parent_molregno'):\n",
    "    molregno = group[0]\n",
    "    aes = list(group[1]['side_effect_name'].drop_duplicates())\n",
    "    \n",
    "    molregno2aes_sider[molregno] = set()\n",
    "    for ae in aes:\n",
    "        molregno2aes_sider[molregno].add(ae.upper())"
   ]
  },
  {
   "cell_type": "code",
   "execution_count": 34,
   "metadata": {},
   "outputs": [],
   "source": [
    "current_date = datetime.date.today().strftime(\"%Y%m%d\")\n",
    "with open(sider_dir + '/results/{}_molregno2aes_sider_min5drugs.pkl'.format(current_date), 'wb') as f:\n",
    "    pickle.dump(molregno2aes_sider, f)"
   ]
  },
  {
   "cell_type": "code",
   "execution_count": 37,
   "metadata": {},
   "outputs": [],
   "source": [
    "# Write report with counts\n",
    "with open(sider_dir + '/results/report_counts_sider_clinical_set.txt', 'w') as f:\n",
    "    for k, v in report_information.items():\n",
    "        f.write(k + ': ' + str(v) + '\\n')"
   ]
  },
  {
   "cell_type": "code",
   "execution_count": null,
   "metadata": {},
   "outputs": [],
   "source": []
  }
 ],
 "metadata": {
  "kernelspec": {
   "display_name": "Python 3",
   "language": "python",
   "name": "python3"
  },
  "language_info": {
   "codemirror_mode": {
    "name": "ipython",
    "version": 3
   },
   "file_extension": ".py",
   "mimetype": "text/x-python",
   "name": "python",
   "nbconvert_exporter": "python",
   "pygments_lexer": "ipython3",
   "version": "3.6.7"
  }
 },
 "nbformat": 4,
 "nbformat_minor": 4
}
