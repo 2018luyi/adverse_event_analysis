{
 "cells": [
  {
   "cell_type": "code",
   "execution_count": 1,
   "metadata": {},
   "outputs": [],
   "source": [
    "# SIDER\n",
    "# Want to select as best as possible, all the SEs that are from clinical trials (as opposed to post-marketing)\n",
    "# Cannot simply exclude all those SEs marked as pm because e.g. nausea (epi/doxorubucin) is observed in clin trials and pm, and would then be excluded\n",
    "# 1. If the label has no pm SEs at all > assume all are clinical trial\n",
    "# 2. If the label has some pm > check which ones are 'unique' to pm, i.e. exclude those pairs which also have a frequency\n",
    "# because if they have a frequency this is only derived from clinical trials\n",
    "\n",
    "# use mappings to molregno/chembl_id I did earlier\n",
    "# save file with clinical trial pairs > use for doing target - adverse event analysis \n",
    "# save file with postmarketing pairs > use for doing target -adverse event analysis \n"
   ]
  },
  {
   "cell_type": "code",
   "execution_count": 1,
   "metadata": {},
   "outputs": [],
   "source": [
    "import pandas as pd"
   ]
  },
  {
   "cell_type": "code",
   "execution_count": 2,
   "metadata": {},
   "outputs": [],
   "source": [
    "sider_dir = '/scratch/ias41/ae_code/sider'"
   ]
  },
  {
   "cell_type": "code",
   "execution_count": 3,
   "metadata": {},
   "outputs": [],
   "source": [
    "# Load all reported side effects\n",
    "all_se = pd.read_csv(sider_dir + '/data/meddra_all_se.tsv', sep='\\t', header=None)\n",
    "all_se.columns = ['stitch_flat', 'stitch_stereo', 'umls_concept_label', 'meddra_concept_type','umls_concept', 'side_effect_name']\n",
    "all_se_pt = all_se.loc[all_se['meddra_concept_type']=='PT',:]"
   ]
  },
  {
   "cell_type": "code",
   "execution_count": 4,
   "metadata": {},
   "outputs": [],
   "source": [
    "# First, need to exclude some rows from the frequency file which have been reported as wrong (meddra_freq_to_exclude.tsv) from GitHub page\n",
    "# https://github.com/mkuhn/sider"
   ]
  },
  {
   "cell_type": "code",
   "execution_count": 5,
   "metadata": {},
   "outputs": [],
   "source": [
    "to_exclude = pd.read_csv(sider_dir + '/data/meddra_freq_to_exclude_tab.tsv', sep='\\t',header=None)\n",
    "to_exclude.columns = ['stitch_flat', 'stitch_stereo', 'umls_concept_label', 'placebo','frequency_description', 'lower_bound', 'upper_bound', 'meddra_concept_type', 'umls_concept', 'side_effect_name']"
   ]
  },
  {
   "cell_type": "code",
   "execution_count": 6,
   "metadata": {},
   "outputs": [
    {
     "data": {
      "text/html": [
       "<div>\n",
       "<style scoped>\n",
       "    .dataframe tbody tr th:only-of-type {\n",
       "        vertical-align: middle;\n",
       "    }\n",
       "\n",
       "    .dataframe tbody tr th {\n",
       "        vertical-align: top;\n",
       "    }\n",
       "\n",
       "    .dataframe thead th {\n",
       "        text-align: right;\n",
       "    }\n",
       "</style>\n",
       "<table border=\"1\" class=\"dataframe\">\n",
       "  <thead>\n",
       "    <tr style=\"text-align: right;\">\n",
       "      <th></th>\n",
       "      <th>stitch_flat</th>\n",
       "      <th>stitch_stereo</th>\n",
       "      <th>umls_concept_label</th>\n",
       "      <th>placebo</th>\n",
       "      <th>frequency_description</th>\n",
       "      <th>lower_bound</th>\n",
       "      <th>upper_bound</th>\n",
       "      <th>meddra_concept_type</th>\n",
       "      <th>umls_concept</th>\n",
       "      <th>side_effect_name</th>\n",
       "    </tr>\n",
       "  </thead>\n",
       "  <tbody>\n",
       "    <tr>\n",
       "      <th>0</th>\n",
       "      <td>CID100004594</td>\n",
       "      <td>CID009579578</td>\n",
       "      <td>C0014869</td>\n",
       "      <td>NaN</td>\n",
       "      <td>44%</td>\n",
       "      <td>0.4400</td>\n",
       "      <td>0.4400</td>\n",
       "      <td>LLT</td>\n",
       "      <td>C0014869</td>\n",
       "      <td>Reflux esophagitis</td>\n",
       "    </tr>\n",
       "    <tr>\n",
       "      <th>1</th>\n",
       "      <td>CID100004594</td>\n",
       "      <td>CID009579578</td>\n",
       "      <td>C0017168</td>\n",
       "      <td>NaN</td>\n",
       "      <td>56%</td>\n",
       "      <td>0.5600</td>\n",
       "      <td>0.5600</td>\n",
       "      <td>LLT</td>\n",
       "      <td>C0017168</td>\n",
       "      <td>Gastrooesophageal reflux disease</td>\n",
       "    </tr>\n",
       "    <tr>\n",
       "      <th>2</th>\n",
       "      <td>CID100004594</td>\n",
       "      <td>CID009579578</td>\n",
       "      <td>C0017168</td>\n",
       "      <td>NaN</td>\n",
       "      <td>56%</td>\n",
       "      <td>0.5600</td>\n",
       "      <td>0.5600</td>\n",
       "      <td>PT</td>\n",
       "      <td>C0017168</td>\n",
       "      <td>Gastrooesophageal reflux disease</td>\n",
       "    </tr>\n",
       "    <tr>\n",
       "      <th>3</th>\n",
       "      <td>CID100002786</td>\n",
       "      <td>CID000029029</td>\n",
       "      <td>C0702166</td>\n",
       "      <td>NaN</td>\n",
       "      <td>100%</td>\n",
       "      <td>1.0000</td>\n",
       "      <td>1.0000</td>\n",
       "      <td>LLT</td>\n",
       "      <td>C0702166</td>\n",
       "      <td>Acne</td>\n",
       "    </tr>\n",
       "    <tr>\n",
       "      <th>4</th>\n",
       "      <td>CID100002786</td>\n",
       "      <td>CID000029029</td>\n",
       "      <td>C0702166</td>\n",
       "      <td>NaN</td>\n",
       "      <td>100%</td>\n",
       "      <td>1.0000</td>\n",
       "      <td>1.0000</td>\n",
       "      <td>PT</td>\n",
       "      <td>C0702166</td>\n",
       "      <td>Acne</td>\n",
       "    </tr>\n",
       "    <tr>\n",
       "      <th>5</th>\n",
       "      <td>CID100002786</td>\n",
       "      <td>CID000029029</td>\n",
       "      <td>C0702166</td>\n",
       "      <td>NaN</td>\n",
       "      <td>34%</td>\n",
       "      <td>0.3400</td>\n",
       "      <td>0.3400</td>\n",
       "      <td>LLT</td>\n",
       "      <td>C0702166</td>\n",
       "      <td>Acne</td>\n",
       "    </tr>\n",
       "    <tr>\n",
       "      <th>6</th>\n",
       "      <td>CID100002786</td>\n",
       "      <td>CID000029029</td>\n",
       "      <td>C0702166</td>\n",
       "      <td>NaN</td>\n",
       "      <td>34%</td>\n",
       "      <td>0.3400</td>\n",
       "      <td>0.3400</td>\n",
       "      <td>PT</td>\n",
       "      <td>C0702166</td>\n",
       "      <td>Acne</td>\n",
       "    </tr>\n",
       "    <tr>\n",
       "      <th>7</th>\n",
       "      <td>CID100002786</td>\n",
       "      <td>CID000029029</td>\n",
       "      <td>C0702166</td>\n",
       "      <td>NaN</td>\n",
       "      <td>38%</td>\n",
       "      <td>0.3800</td>\n",
       "      <td>0.3800</td>\n",
       "      <td>LLT</td>\n",
       "      <td>C0702166</td>\n",
       "      <td>Acne</td>\n",
       "    </tr>\n",
       "    <tr>\n",
       "      <th>8</th>\n",
       "      <td>CID100002786</td>\n",
       "      <td>CID000029029</td>\n",
       "      <td>C0702166</td>\n",
       "      <td>NaN</td>\n",
       "      <td>38%</td>\n",
       "      <td>0.3800</td>\n",
       "      <td>0.3800</td>\n",
       "      <td>PT</td>\n",
       "      <td>C0702166</td>\n",
       "      <td>Acne</td>\n",
       "    </tr>\n",
       "    <tr>\n",
       "      <th>9</th>\n",
       "      <td>CID100002786</td>\n",
       "      <td>CID000029029</td>\n",
       "      <td>C0702166</td>\n",
       "      <td>NaN</td>\n",
       "      <td>87%</td>\n",
       "      <td>0.8700</td>\n",
       "      <td>0.8700</td>\n",
       "      <td>LLT</td>\n",
       "      <td>C0702166</td>\n",
       "      <td>Acne</td>\n",
       "    </tr>\n",
       "    <tr>\n",
       "      <th>10</th>\n",
       "      <td>CID100002786</td>\n",
       "      <td>CID000029029</td>\n",
       "      <td>C0702166</td>\n",
       "      <td>NaN</td>\n",
       "      <td>87%</td>\n",
       "      <td>0.8700</td>\n",
       "      <td>0.8700</td>\n",
       "      <td>PT</td>\n",
       "      <td>C0702166</td>\n",
       "      <td>Acne</td>\n",
       "    </tr>\n",
       "    <tr>\n",
       "      <th>11</th>\n",
       "      <td>CID100002786</td>\n",
       "      <td>CID000029029</td>\n",
       "      <td>C0702166</td>\n",
       "      <td>NaN</td>\n",
       "      <td>95%</td>\n",
       "      <td>0.9500</td>\n",
       "      <td>0.9500</td>\n",
       "      <td>LLT</td>\n",
       "      <td>C0702166</td>\n",
       "      <td>Acne</td>\n",
       "    </tr>\n",
       "    <tr>\n",
       "      <th>12</th>\n",
       "      <td>CID100002786</td>\n",
       "      <td>CID000029029</td>\n",
       "      <td>C0702166</td>\n",
       "      <td>NaN</td>\n",
       "      <td>95%</td>\n",
       "      <td>0.9500</td>\n",
       "      <td>0.9500</td>\n",
       "      <td>PT</td>\n",
       "      <td>C0702166</td>\n",
       "      <td>Acne</td>\n",
       "    </tr>\n",
       "    <tr>\n",
       "      <th>13</th>\n",
       "      <td>CID100003414</td>\n",
       "      <td>CID000003414</td>\n",
       "      <td>C0009450</td>\n",
       "      <td>NaN</td>\n",
       "      <td>1.26%</td>\n",
       "      <td>0.0126</td>\n",
       "      <td>0.0126</td>\n",
       "      <td>LLT</td>\n",
       "      <td>C0009450</td>\n",
       "      <td>Infection</td>\n",
       "    </tr>\n",
       "    <tr>\n",
       "      <th>14</th>\n",
       "      <td>CID100003414</td>\n",
       "      <td>CID000003414</td>\n",
       "      <td>C0009450</td>\n",
       "      <td>NaN</td>\n",
       "      <td>1.26%</td>\n",
       "      <td>0.0126</td>\n",
       "      <td>0.0126</td>\n",
       "      <td>PT</td>\n",
       "      <td>C0009450</td>\n",
       "      <td>Infection</td>\n",
       "    </tr>\n",
       "    <tr>\n",
       "      <th>15</th>\n",
       "      <td>CID100003414</td>\n",
       "      <td>CID000003414</td>\n",
       "      <td>C0009450</td>\n",
       "      <td>NaN</td>\n",
       "      <td>1.46%</td>\n",
       "      <td>0.0146</td>\n",
       "      <td>0.0146</td>\n",
       "      <td>LLT</td>\n",
       "      <td>C0009450</td>\n",
       "      <td>Infection</td>\n",
       "    </tr>\n",
       "    <tr>\n",
       "      <th>16</th>\n",
       "      <td>CID100003414</td>\n",
       "      <td>CID000003414</td>\n",
       "      <td>C0009450</td>\n",
       "      <td>NaN</td>\n",
       "      <td>1.46%</td>\n",
       "      <td>0.0146</td>\n",
       "      <td>0.0146</td>\n",
       "      <td>PT</td>\n",
       "      <td>C0009450</td>\n",
       "      <td>Infection</td>\n",
       "    </tr>\n",
       "    <tr>\n",
       "      <th>17</th>\n",
       "      <td>CID100003414</td>\n",
       "      <td>CID000003414</td>\n",
       "      <td>C0009450</td>\n",
       "      <td>NaN</td>\n",
       "      <td>27%</td>\n",
       "      <td>0.2700</td>\n",
       "      <td>0.2700</td>\n",
       "      <td>LLT</td>\n",
       "      <td>C0009450</td>\n",
       "      <td>Infection</td>\n",
       "    </tr>\n",
       "    <tr>\n",
       "      <th>18</th>\n",
       "      <td>CID100003414</td>\n",
       "      <td>CID000003414</td>\n",
       "      <td>C0009450</td>\n",
       "      <td>NaN</td>\n",
       "      <td>27%</td>\n",
       "      <td>0.2700</td>\n",
       "      <td>0.2700</td>\n",
       "      <td>PT</td>\n",
       "      <td>C0009450</td>\n",
       "      <td>Infection</td>\n",
       "    </tr>\n",
       "    <tr>\n",
       "      <th>19</th>\n",
       "      <td>CID100003414</td>\n",
       "      <td>CID000003414</td>\n",
       "      <td>C0009450</td>\n",
       "      <td>NaN</td>\n",
       "      <td>28%</td>\n",
       "      <td>0.2800</td>\n",
       "      <td>0.2800</td>\n",
       "      <td>LLT</td>\n",
       "      <td>C0009450</td>\n",
       "      <td>Infection</td>\n",
       "    </tr>\n",
       "    <tr>\n",
       "      <th>20</th>\n",
       "      <td>CID100003414</td>\n",
       "      <td>CID000003414</td>\n",
       "      <td>C0009450</td>\n",
       "      <td>NaN</td>\n",
       "      <td>28%</td>\n",
       "      <td>0.2800</td>\n",
       "      <td>0.2800</td>\n",
       "      <td>PT</td>\n",
       "      <td>C0009450</td>\n",
       "      <td>Infection</td>\n",
       "    </tr>\n",
       "    <tr>\n",
       "      <th>21</th>\n",
       "      <td>CID100003414</td>\n",
       "      <td>CID000003414</td>\n",
       "      <td>C0009450</td>\n",
       "      <td>NaN</td>\n",
       "      <td>49%</td>\n",
       "      <td>0.4900</td>\n",
       "      <td>0.4900</td>\n",
       "      <td>LLT</td>\n",
       "      <td>C0009450</td>\n",
       "      <td>Infection</td>\n",
       "    </tr>\n",
       "    <tr>\n",
       "      <th>22</th>\n",
       "      <td>CID100003414</td>\n",
       "      <td>CID000003414</td>\n",
       "      <td>C0009450</td>\n",
       "      <td>NaN</td>\n",
       "      <td>49%</td>\n",
       "      <td>0.4900</td>\n",
       "      <td>0.4900</td>\n",
       "      <td>PT</td>\n",
       "      <td>C0009450</td>\n",
       "      <td>Infection</td>\n",
       "    </tr>\n",
       "    <tr>\n",
       "      <th>23</th>\n",
       "      <td>CID100003414</td>\n",
       "      <td>CID000003414</td>\n",
       "      <td>C0009450</td>\n",
       "      <td>NaN</td>\n",
       "      <td>51%</td>\n",
       "      <td>0.5100</td>\n",
       "      <td>0.5100</td>\n",
       "      <td>LLT</td>\n",
       "      <td>C0009450</td>\n",
       "      <td>Infection</td>\n",
       "    </tr>\n",
       "    <tr>\n",
       "      <th>24</th>\n",
       "      <td>CID100003414</td>\n",
       "      <td>CID000003414</td>\n",
       "      <td>C0009450</td>\n",
       "      <td>NaN</td>\n",
       "      <td>51%</td>\n",
       "      <td>0.5100</td>\n",
       "      <td>0.5100</td>\n",
       "      <td>PT</td>\n",
       "      <td>C0009450</td>\n",
       "      <td>Infection</td>\n",
       "    </tr>\n",
       "    <tr>\n",
       "      <th>25</th>\n",
       "      <td>CID100003121</td>\n",
       "      <td>CID000003121</td>\n",
       "      <td>C0027497</td>\n",
       "      <td>NaN</td>\n",
       "      <td>31%</td>\n",
       "      <td>0.3100</td>\n",
       "      <td>0.3100</td>\n",
       "      <td>LLT</td>\n",
       "      <td>C0027497</td>\n",
       "      <td>Nausea</td>\n",
       "    </tr>\n",
       "    <tr>\n",
       "      <th>26</th>\n",
       "      <td>CID100003121</td>\n",
       "      <td>CID000003121</td>\n",
       "      <td>C0027497</td>\n",
       "      <td>NaN</td>\n",
       "      <td>31%</td>\n",
       "      <td>0.3100</td>\n",
       "      <td>0.3100</td>\n",
       "      <td>PT</td>\n",
       "      <td>C0027497</td>\n",
       "      <td>Nausea</td>\n",
       "    </tr>\n",
       "  </tbody>\n",
       "</table>\n",
       "</div>"
      ],
      "text/plain": [
       "     stitch_flat stitch_stereo umls_concept_label  placebo  \\\n",
       "0   CID100004594  CID009579578           C0014869      NaN   \n",
       "1   CID100004594  CID009579578           C0017168      NaN   \n",
       "2   CID100004594  CID009579578           C0017168      NaN   \n",
       "3   CID100002786  CID000029029           C0702166      NaN   \n",
       "4   CID100002786  CID000029029           C0702166      NaN   \n",
       "5   CID100002786  CID000029029           C0702166      NaN   \n",
       "6   CID100002786  CID000029029           C0702166      NaN   \n",
       "7   CID100002786  CID000029029           C0702166      NaN   \n",
       "8   CID100002786  CID000029029           C0702166      NaN   \n",
       "9   CID100002786  CID000029029           C0702166      NaN   \n",
       "10  CID100002786  CID000029029           C0702166      NaN   \n",
       "11  CID100002786  CID000029029           C0702166      NaN   \n",
       "12  CID100002786  CID000029029           C0702166      NaN   \n",
       "13  CID100003414  CID000003414           C0009450      NaN   \n",
       "14  CID100003414  CID000003414           C0009450      NaN   \n",
       "15  CID100003414  CID000003414           C0009450      NaN   \n",
       "16  CID100003414  CID000003414           C0009450      NaN   \n",
       "17  CID100003414  CID000003414           C0009450      NaN   \n",
       "18  CID100003414  CID000003414           C0009450      NaN   \n",
       "19  CID100003414  CID000003414           C0009450      NaN   \n",
       "20  CID100003414  CID000003414           C0009450      NaN   \n",
       "21  CID100003414  CID000003414           C0009450      NaN   \n",
       "22  CID100003414  CID000003414           C0009450      NaN   \n",
       "23  CID100003414  CID000003414           C0009450      NaN   \n",
       "24  CID100003414  CID000003414           C0009450      NaN   \n",
       "25  CID100003121  CID000003121           C0027497      NaN   \n",
       "26  CID100003121  CID000003121           C0027497      NaN   \n",
       "\n",
       "   frequency_description  lower_bound  upper_bound meddra_concept_type  \\\n",
       "0                    44%       0.4400       0.4400                 LLT   \n",
       "1                    56%       0.5600       0.5600                 LLT   \n",
       "2                    56%       0.5600       0.5600                  PT   \n",
       "3                   100%       1.0000       1.0000                 LLT   \n",
       "4                   100%       1.0000       1.0000                  PT   \n",
       "5                    34%       0.3400       0.3400                 LLT   \n",
       "6                    34%       0.3400       0.3400                  PT   \n",
       "7                    38%       0.3800       0.3800                 LLT   \n",
       "8                    38%       0.3800       0.3800                  PT   \n",
       "9                    87%       0.8700       0.8700                 LLT   \n",
       "10                   87%       0.8700       0.8700                  PT   \n",
       "11                   95%       0.9500       0.9500                 LLT   \n",
       "12                   95%       0.9500       0.9500                  PT   \n",
       "13                 1.26%       0.0126       0.0126                 LLT   \n",
       "14                 1.26%       0.0126       0.0126                  PT   \n",
       "15                 1.46%       0.0146       0.0146                 LLT   \n",
       "16                 1.46%       0.0146       0.0146                  PT   \n",
       "17                   27%       0.2700       0.2700                 LLT   \n",
       "18                   27%       0.2700       0.2700                  PT   \n",
       "19                   28%       0.2800       0.2800                 LLT   \n",
       "20                   28%       0.2800       0.2800                  PT   \n",
       "21                   49%       0.4900       0.4900                 LLT   \n",
       "22                   49%       0.4900       0.4900                  PT   \n",
       "23                   51%       0.5100       0.5100                 LLT   \n",
       "24                   51%       0.5100       0.5100                  PT   \n",
       "25                   31%       0.3100       0.3100                 LLT   \n",
       "26                   31%       0.3100       0.3100                  PT   \n",
       "\n",
       "   umls_concept                  side_effect_name  \n",
       "0      C0014869                Reflux esophagitis  \n",
       "1      C0017168  Gastrooesophageal reflux disease  \n",
       "2      C0017168  Gastrooesophageal reflux disease  \n",
       "3      C0702166                              Acne  \n",
       "4      C0702166                              Acne  \n",
       "5      C0702166                              Acne  \n",
       "6      C0702166                              Acne  \n",
       "7      C0702166                              Acne  \n",
       "8      C0702166                              Acne  \n",
       "9      C0702166                              Acne  \n",
       "10     C0702166                              Acne  \n",
       "11     C0702166                              Acne  \n",
       "12     C0702166                              Acne  \n",
       "13     C0009450                         Infection  \n",
       "14     C0009450                         Infection  \n",
       "15     C0009450                         Infection  \n",
       "16     C0009450                         Infection  \n",
       "17     C0009450                         Infection  \n",
       "18     C0009450                         Infection  \n",
       "19     C0009450                         Infection  \n",
       "20     C0009450                         Infection  \n",
       "21     C0009450                         Infection  \n",
       "22     C0009450                         Infection  \n",
       "23     C0009450                         Infection  \n",
       "24     C0009450                         Infection  \n",
       "25     C0027497                            Nausea  \n",
       "26     C0027497                            Nausea  "
      ]
     },
     "execution_count": 6,
     "metadata": {},
     "output_type": "execute_result"
    }
   ],
   "source": [
    "to_exclude"
   ]
  },
  {
   "cell_type": "code",
   "execution_count": 7,
   "metadata": {},
   "outputs": [],
   "source": [
    "# Load side effects from post-marketing or with frequency\n",
    "freq_se = pd.read_csv(sider_dir + '/data/meddra_freq.tsv', sep='\\t', header=None)\n",
    "freq_se.columns = ['stitch_flat', 'stitch_stereo', 'umls_concept_label', 'placebo','frequency_description', 'lower_bound', 'upper_bound', 'meddra_concept_type', 'umls_concept', 'side_effect_name']\n",
    "freq_se_pt = freq_se.loc[freq_se['meddra_concept_type']=='PT',:]"
   ]
  },
  {
   "cell_type": "code",
   "execution_count": 8,
   "metadata": {},
   "outputs": [],
   "source": [
    "# first concatenate the 'to exclude' rows, then exclude duplicates, to exclude the rows that are wrong\n",
    "to_exclude_concat = pd.concat([freq_se, to_exclude])\n",
    "freq_se_corrected = to_exclude_concat.drop_duplicates(keep=False)"
   ]
  },
  {
   "cell_type": "code",
   "execution_count": 9,
   "metadata": {},
   "outputs": [],
   "source": [
    "freq_se_corrected_pt = freq_se_corrected.loc[freq_se_corrected['meddra_concept_type']=='PT',:]"
   ]
  },
  {
   "cell_type": "code",
   "execution_count": 10,
   "metadata": {},
   "outputs": [],
   "source": [
    "# Make selections of postmarketing and freq_rest pairs\n",
    "pm = freq_se_corrected_pt.loc[freq_se_corrected_pt['frequency_description']=='postmarketing',:]\n",
    "freq_rest = freq_se_corrected_pt.loc[freq_se_corrected_pt['frequency_description']!='postmarketing',:]"
   ]
  },
  {
   "cell_type": "code",
   "execution_count": 11,
   "metadata": {},
   "outputs": [
    {
     "data": {
      "text/plain": [
       "21985"
      ]
     },
     "execution_count": 11,
     "metadata": {},
     "output_type": "execute_result"
    }
   ],
   "source": [
    "len(pm.drop_duplicates())"
   ]
  },
  {
   "cell_type": "code",
   "execution_count": 12,
   "metadata": {},
   "outputs": [
    {
     "data": {
      "text/plain": [
       "152759"
      ]
     },
     "execution_count": 12,
     "metadata": {},
     "output_type": "execute_result"
    }
   ],
   "source": [
    "#All of SIDER\n",
    "len(all_se_pt[['stitch_stereo', 'side_effect_name']].drop_duplicates())"
   ]
  },
  {
   "cell_type": "code",
   "execution_count": 13,
   "metadata": {},
   "outputs": [
    {
     "data": {
      "text/plain": [
       "21209"
      ]
     },
     "execution_count": 13,
     "metadata": {},
     "output_type": "execute_result"
    }
   ],
   "source": [
    "# % post-marketing\n",
    "len(pm[['stitch_stereo', 'side_effect_name']].drop_duplicates())"
   ]
  },
  {
   "cell_type": "code",
   "execution_count": 14,
   "metadata": {},
   "outputs": [
    {
     "data": {
      "text/plain": [
       "0.1388396101048056"
      ]
     },
     "execution_count": 14,
     "metadata": {},
     "output_type": "execute_result"
    }
   ],
   "source": [
    "21209/152759"
   ]
  },
  {
   "cell_type": "code",
   "execution_count": 15,
   "metadata": {},
   "outputs": [
    {
     "data": {
      "text/plain": [
       "1556"
      ]
     },
     "execution_count": 15,
     "metadata": {},
     "output_type": "execute_result"
    }
   ],
   "source": [
    "len(all_se_pt[['stitch_stereo']].drop_duplicates())"
   ]
  },
  {
   "cell_type": "code",
   "execution_count": 21,
   "metadata": {},
   "outputs": [],
   "source": [
    "# Next \n",
    "# 1. If the label has no pm SEs at all > assume all are clinical trial"
   ]
  },
  {
   "cell_type": "code",
   "execution_count": 22,
   "metadata": {},
   "outputs": [],
   "source": [
    "# Find the drugs that do not have any postmarketing events\n",
    "pm_drugs = set(pm['stitch_stereo'])\n",
    "\n",
    "# This dataframe contains all drugs+SEs that we will accept as clinical trial because they have no postmarketing SEs\n",
    "no_pm_selection = all_se_pt.loc[~all_se_pt['stitch_stereo'].isin(pm_drugs),:]"
   ]
  },
  {
   "cell_type": "code",
   "execution_count": 23,
   "metadata": {},
   "outputs": [
    {
     "data": {
      "text/plain": [
       "628"
      ]
     },
     "execution_count": 23,
     "metadata": {},
     "output_type": "execute_result"
    }
   ],
   "source": [
    "# check some counts\n",
    "len(pm_drugs)"
   ]
  },
  {
   "cell_type": "code",
   "execution_count": 24,
   "metadata": {},
   "outputs": [
    {
     "data": {
      "text/plain": [
       "928"
      ]
     },
     "execution_count": 24,
     "metadata": {},
     "output_type": "execute_result"
    }
   ],
   "source": [
    "len(set(no_pm_selection['stitch_stereo']))"
   ]
  },
  {
   "cell_type": "code",
   "execution_count": 27,
   "metadata": {},
   "outputs": [
    {
     "data": {
      "text/plain": [
       "1556"
      ]
     },
     "execution_count": 27,
     "metadata": {},
     "output_type": "execute_result"
    }
   ],
   "source": [
    "len(pm_drugs) + len(set(no_pm_selection['stitch_stereo']))"
   ]
  },
  {
   "cell_type": "code",
   "execution_count": 28,
   "metadata": {},
   "outputs": [
    {
     "data": {
      "text/plain": [
       "1556"
      ]
     },
     "execution_count": 28,
     "metadata": {},
     "output_type": "execute_result"
    }
   ],
   "source": [
    "len(set(all_se_pt['stitch_stereo']))"
   ]
  },
  {
   "cell_type": "markdown",
   "metadata": {},
   "source": [
    "928 drugs (out of total 1556 in all_se SIDER) did not have any postmarketing effects, so they were assumed as clinical trials"
   ]
  },
  {
   "cell_type": "code",
   "execution_count": 29,
   "metadata": {},
   "outputs": [],
   "source": [
    "# 2. Find post-marketing events, but exclude those which also have frequencies"
   ]
  },
  {
   "cell_type": "code",
   "execution_count": 30,
   "metadata": {},
   "outputs": [],
   "source": [
    "# compound-se pairs with frequencies\n",
    "freq_pairs = set([(item[1]['stitch_stereo'],item[1]['side_effect_name']) for item in freq_rest.iterrows()])"
   ]
  },
  {
   "cell_type": "code",
   "execution_count": 31,
   "metadata": {},
   "outputs": [],
   "source": [
    "# Divide the rows from pm into those with are 'unique' to PM and those which also have a frequency\n",
    "\n",
    "pm_unique = []\n",
    "pm_and_freq = []\n",
    "\n",
    "for item in pm.iterrows():\n",
    "    if (item[1]['stitch_stereo'],item[1]['side_effect_name']) in freq_pairs:\n",
    "        pm_and_freq.append(item[1])\n",
    "    elif (item[1]['stitch_stereo'],item[1]['side_effect_name']) not in freq_pairs:\n",
    "        pm_unique.append(item[1])"
   ]
  },
  {
   "cell_type": "code",
   "execution_count": 32,
   "metadata": {},
   "outputs": [
    {
     "data": {
      "text/plain": [
       "21985"
      ]
     },
     "execution_count": 32,
     "metadata": {},
     "output_type": "execute_result"
    }
   ],
   "source": [
    "len(pm)"
   ]
  },
  {
   "cell_type": "code",
   "execution_count": 33,
   "metadata": {},
   "outputs": [
    {
     "data": {
      "text/plain": [
       "21985"
      ]
     },
     "execution_count": 33,
     "metadata": {},
     "output_type": "execute_result"
    }
   ],
   "source": [
    "len(pm_unique) + len(pm_and_freq)"
   ]
  },
  {
   "cell_type": "code",
   "execution_count": 34,
   "metadata": {},
   "outputs": [
    {
     "data": {
      "text/plain": [
       "0.2951103024789629"
      ]
     },
     "execution_count": 34,
     "metadata": {},
     "output_type": "execute_result"
    }
   ],
   "source": [
    "# Of all drug-se effect pairs which were marked as pm:\n",
    "# Fraction which also had frequency (assigned to clinical trial):\n",
    "len(pm_and_freq) / len(pm)"
   ]
  },
  {
   "cell_type": "code",
   "execution_count": 35,
   "metadata": {},
   "outputs": [
    {
     "data": {
      "text/plain": [
       "0.704889697521037"
      ]
     },
     "execution_count": 35,
     "metadata": {},
     "output_type": "execute_result"
    }
   ],
   "source": [
    "# This leave this fraction of drug-se pairs which were uniquely marked as pm\n",
    "len(pm_unique) / len(pm)"
   ]
  },
  {
   "cell_type": "code",
   "execution_count": 36,
   "metadata": {},
   "outputs": [],
   "source": [
    "pm_unique_df = pd.DataFrame(pm_unique)\n",
    "pm_and_freq_df = pd.DataFrame(pm_and_freq)"
   ]
  },
  {
   "cell_type": "code",
   "execution_count": 37,
   "metadata": {},
   "outputs": [],
   "source": [
    "# we will accept the drug-se pairs in pm_and_freq as also clinical trial findings\n",
    "# because frequencies are normally found in clinical trials\n",
    "\n",
    "clin_trial = pd.concat([no_pm_selection, pm_and_freq_df], sort=False)"
   ]
  },
  {
   "cell_type": "code",
   "execution_count": 38,
   "metadata": {},
   "outputs": [],
   "source": [
    "# There should not be any drug-ae pairs overlapping between the clinical trial and the pm_unique ... "
   ]
  },
  {
   "cell_type": "code",
   "execution_count": 39,
   "metadata": {},
   "outputs": [],
   "source": [
    "pm_unique_pairs = set([(item[1]['stitch_stereo'],item[1]['side_effect_name']) for item in pm_unique_df.iterrows()])"
   ]
  },
  {
   "cell_type": "code",
   "execution_count": 40,
   "metadata": {},
   "outputs": [],
   "source": [
    "clin_trial_pairs = set([(item[1]['stitch_stereo'],item[1]['side_effect_name']) for item in clin_trial.iterrows()])"
   ]
  },
  {
   "cell_type": "code",
   "execution_count": 41,
   "metadata": {},
   "outputs": [
    {
     "data": {
      "text/plain": [
       "0"
      ]
     },
     "execution_count": 41,
     "metadata": {},
     "output_type": "execute_result"
    }
   ],
   "source": [
    "len(pm_unique_pairs & clin_trial_pairs)"
   ]
  },
  {
   "cell_type": "code",
   "execution_count": 42,
   "metadata": {},
   "outputs": [],
   "source": [
    "pm_and_freq_pairs = set([(item[1]['stitch_stereo'],item[1]['side_effect_name']) for item in pm_and_freq_df.iterrows()])"
   ]
  },
  {
   "cell_type": "code",
   "execution_count": 43,
   "metadata": {},
   "outputs": [
    {
     "name": "stdout",
     "output_type": "stream",
     "text": [
      "Post-marketing specific events:\n",
      "Number of unique drug-se pairs: 15067\n",
      "Number of unique drugs: 619\n",
      "Number of unique events: 1899\n",
      "\n",
      "Events in both postmarketing and with frequency:\n",
      "Number of unique drug-se pairs: 6142\n",
      "Number of unique drugs: 405\n",
      "Number of unique events: 967\n",
      "\n",
      "Events of drugs without any postmarketing data:\n",
      "Number of unique drug-se pairs: 57764\n",
      "Number of unique drugs: 928\n",
      "Number of unique events: 3015\n",
      "\n",
      "Events assigned to clinical trials set:\n",
      "Number of unique drug-se pairs: 63906\n",
      "Number of unique drugs: 1333\n",
      "Number of unique events: 3058\n"
     ]
    }
   ],
   "source": [
    "# How many drug-se pairs, unique drugs, and unique SEs in the two new files?\n",
    "print('Post-marketing specific events:')\n",
    "print('Number of unique drug-se pairs: {}'.format(len(pm_unique_pairs)))\n",
    "print('Number of unique drugs: {}'.format(len(set(pm_unique_df['stitch_stereo']))))\n",
    "print('Number of unique events: {}'.format(len(set(pm_unique_df['side_effect_name']))))\n",
    "\n",
    "print('\\nEvents in both postmarketing and with frequency:')\n",
    "print('Number of unique drug-se pairs: {}'.format(len(pm_and_freq_pairs)))\n",
    "print('Number of unique drugs: {}'.format(len(set(pm_and_freq_df['stitch_stereo']))))\n",
    "print('Number of unique events: {}'.format(len(set(pm_and_freq_df['side_effect_name']))))\n",
    "\n",
    "print('\\nEvents of drugs without any postmarketing data:')\n",
    "print('Number of unique drug-se pairs: {}'.format(len(set([(item[1]['stitch_stereo'],item[1]['side_effect_name']) for item in no_pm_selection.iterrows()]))))\n",
    "print('Number of unique drugs: {}'.format(len(set(no_pm_selection['stitch_stereo']))))\n",
    "print('Number of unique events: {}'.format(len(set(no_pm_selection['side_effect_name']))))\n",
    "\n",
    "print('\\nEvents assigned to clinical trials set:')\n",
    "print('Number of unique drug-se pairs: {}'.format(len(clin_trial_pairs)))\n",
    "print('Number of unique drugs: {}'.format(len(set(clin_trial['stitch_stereo']))))\n",
    "print('Number of unique events: {}'.format(len(set(clin_trial['side_effect_name']))))"
   ]
  },
  {
   "cell_type": "code",
   "execution_count": 37,
   "metadata": {},
   "outputs": [],
   "source": [
    "# Attach chembl identifiers to the IDs"
   ]
  },
  {
   "cell_type": "code",
   "execution_count": 44,
   "metadata": {},
   "outputs": [
    {
     "data": {
      "text/plain": [
       "619"
      ]
     },
     "execution_count": 44,
     "metadata": {},
     "output_type": "execute_result"
    }
   ],
   "source": [
    "len(set(pm_unique_df['stitch_stereo']))"
   ]
  },
  {
   "cell_type": "code",
   "execution_count": 46,
   "metadata": {},
   "outputs": [],
   "source": [
    "# Load compound mappings\n",
    "parent_results = pd.read_csv(sider_dir + '/data/sider_mapped_stitch2parent.txt', sep='\\t')"
   ]
  },
  {
   "cell_type": "code",
   "execution_count": 47,
   "metadata": {},
   "outputs": [
    {
     "data": {
      "text/html": [
       "<div>\n",
       "<style scoped>\n",
       "    .dataframe tbody tr th:only-of-type {\n",
       "        vertical-align: middle;\n",
       "    }\n",
       "\n",
       "    .dataframe tbody tr th {\n",
       "        vertical-align: top;\n",
       "    }\n",
       "\n",
       "    .dataframe thead th {\n",
       "        text-align: right;\n",
       "    }\n",
       "</style>\n",
       "<table border=\"1\" class=\"dataframe\">\n",
       "  <thead>\n",
       "    <tr style=\"text-align: right;\">\n",
       "      <th></th>\n",
       "      <th>chembl_id</th>\n",
       "      <th>molregno</th>\n",
       "      <th>parent_molregno</th>\n",
       "      <th>parent_chembl_id</th>\n",
       "      <th>stitch_stereo</th>\n",
       "    </tr>\n",
       "  </thead>\n",
       "  <tbody>\n",
       "    <tr>\n",
       "      <th>0</th>\n",
       "      <td>CHEMBL1000</td>\n",
       "      <td>111185</td>\n",
       "      <td>111185</td>\n",
       "      <td>CHEMBL1000</td>\n",
       "      <td>CID000002678</td>\n",
       "    </tr>\n",
       "    <tr>\n",
       "      <th>1</th>\n",
       "      <td>CHEMBL1002</td>\n",
       "      <td>111482</td>\n",
       "      <td>111482</td>\n",
       "      <td>CHEMBL1002</td>\n",
       "      <td>CID000123600</td>\n",
       "    </tr>\n",
       "    <tr>\n",
       "      <th>2</th>\n",
       "      <td>CHEMBL1006</td>\n",
       "      <td>112480</td>\n",
       "      <td>112480</td>\n",
       "      <td>CHEMBL1006</td>\n",
       "      <td>CID000002141</td>\n",
       "    </tr>\n",
       "    <tr>\n",
       "      <th>3</th>\n",
       "      <td>CHEMBL1008</td>\n",
       "      <td>112651</td>\n",
       "      <td>112651</td>\n",
       "      <td>CHEMBL1008</td>\n",
       "      <td>CID000002351</td>\n",
       "    </tr>\n",
       "    <tr>\n",
       "      <th>4</th>\n",
       "      <td>CHEMBL1014</td>\n",
       "      <td>116349</td>\n",
       "      <td>116349</td>\n",
       "      <td>CHEMBL1014</td>\n",
       "      <td>CID000002540</td>\n",
       "    </tr>\n",
       "  </tbody>\n",
       "</table>\n",
       "</div>"
      ],
      "text/plain": [
       "    chembl_id  molregno  parent_molregno parent_chembl_id stitch_stereo\n",
       "0  CHEMBL1000    111185           111185       CHEMBL1000  CID000002678\n",
       "1  CHEMBL1002    111482           111482       CHEMBL1002  CID000123600\n",
       "2  CHEMBL1006    112480           112480       CHEMBL1006  CID000002141\n",
       "3  CHEMBL1008    112651           112651       CHEMBL1008  CID000002351\n",
       "4  CHEMBL1014    116349           116349       CHEMBL1014  CID000002540"
      ]
     },
     "execution_count": 47,
     "metadata": {},
     "output_type": "execute_result"
    }
   ],
   "source": [
    "parent_results.head()"
   ]
  },
  {
   "cell_type": "code",
   "execution_count": 48,
   "metadata": {},
   "outputs": [],
   "source": [
    "# Merge pm-specific pairs with the compound mappings\n",
    "pm_unique_df_mapped = pm_unique_df.merge(parent_results, on='stitch_stereo')"
   ]
  },
  {
   "cell_type": "code",
   "execution_count": 44,
   "metadata": {},
   "outputs": [],
   "source": [
    "# Drug-event pairs assigned to postmarketing set - only those with mapped compounds to ChEMBL\n",
    "#pm_unique_df_mapped.to_csv(sider_dir + '/results/sider_processed_pm-assigned_mapped.txt', sep='\\t', index=None)"
   ]
  },
  {
   "cell_type": "code",
   "execution_count": 49,
   "metadata": {},
   "outputs": [
    {
     "data": {
      "text/plain": [
       "500"
      ]
     },
     "execution_count": 49,
     "metadata": {},
     "output_type": "execute_result"
    }
   ],
   "source": [
    "# 500 out of 619 compounds for the postmarketing-specific drug-se pairs were mapped\n",
    "len(set(pm_unique_df_mapped['stitch_stereo']))"
   ]
  },
  {
   "cell_type": "code",
   "execution_count": 50,
   "metadata": {},
   "outputs": [],
   "source": [
    "# Merge clin_trial-specific pairs with the compound mappings"
   ]
  },
  {
   "cell_type": "code",
   "execution_count": 51,
   "metadata": {},
   "outputs": [
    {
     "data": {
      "text/html": [
       "<div>\n",
       "<style scoped>\n",
       "    .dataframe tbody tr th:only-of-type {\n",
       "        vertical-align: middle;\n",
       "    }\n",
       "\n",
       "    .dataframe tbody tr th {\n",
       "        vertical-align: top;\n",
       "    }\n",
       "\n",
       "    .dataframe thead th {\n",
       "        text-align: right;\n",
       "    }\n",
       "</style>\n",
       "<table border=\"1\" class=\"dataframe\">\n",
       "  <thead>\n",
       "    <tr style=\"text-align: right;\">\n",
       "      <th></th>\n",
       "      <th>stitch_flat</th>\n",
       "      <th>stitch_stereo</th>\n",
       "      <th>umls_concept_label</th>\n",
       "      <th>meddra_concept_type</th>\n",
       "      <th>umls_concept</th>\n",
       "      <th>side_effect_name</th>\n",
       "      <th>placebo</th>\n",
       "      <th>frequency_description</th>\n",
       "      <th>lower_bound</th>\n",
       "      <th>upper_bound</th>\n",
       "    </tr>\n",
       "  </thead>\n",
       "  <tbody>\n",
       "    <tr>\n",
       "      <th>1</th>\n",
       "      <td>CID100000085</td>\n",
       "      <td>CID000010917</td>\n",
       "      <td>C0000729</td>\n",
       "      <td>PT</td>\n",
       "      <td>C0000737</td>\n",
       "      <td>Abdominal pain</td>\n",
       "      <td>NaN</td>\n",
       "      <td>NaN</td>\n",
       "      <td>NaN</td>\n",
       "      <td>NaN</td>\n",
       "    </tr>\n",
       "    <tr>\n",
       "      <th>3</th>\n",
       "      <td>CID100000085</td>\n",
       "      <td>CID000010917</td>\n",
       "      <td>C0000737</td>\n",
       "      <td>PT</td>\n",
       "      <td>C0687713</td>\n",
       "      <td>Gastrointestinal pain</td>\n",
       "      <td>NaN</td>\n",
       "      <td>NaN</td>\n",
       "      <td>NaN</td>\n",
       "      <td>NaN</td>\n",
       "    </tr>\n",
       "    <tr>\n",
       "      <th>4</th>\n",
       "      <td>CID100000085</td>\n",
       "      <td>CID000010917</td>\n",
       "      <td>C0000737</td>\n",
       "      <td>PT</td>\n",
       "      <td>C0000737</td>\n",
       "      <td>Abdominal pain</td>\n",
       "      <td>NaN</td>\n",
       "      <td>NaN</td>\n",
       "      <td>NaN</td>\n",
       "      <td>NaN</td>\n",
       "    </tr>\n",
       "    <tr>\n",
       "      <th>6</th>\n",
       "      <td>CID100000085</td>\n",
       "      <td>CID000010917</td>\n",
       "      <td>C0002418</td>\n",
       "      <td>PT</td>\n",
       "      <td>C0002418</td>\n",
       "      <td>Amblyopia</td>\n",
       "      <td>NaN</td>\n",
       "      <td>NaN</td>\n",
       "      <td>NaN</td>\n",
       "      <td>NaN</td>\n",
       "    </tr>\n",
       "    <tr>\n",
       "      <th>8</th>\n",
       "      <td>CID100000085</td>\n",
       "      <td>CID000010917</td>\n",
       "      <td>C0002871</td>\n",
       "      <td>PT</td>\n",
       "      <td>C0002871</td>\n",
       "      <td>Anaemia</td>\n",
       "      <td>NaN</td>\n",
       "      <td>NaN</td>\n",
       "      <td>NaN</td>\n",
       "      <td>NaN</td>\n",
       "    </tr>\n",
       "  </tbody>\n",
       "</table>\n",
       "</div>"
      ],
      "text/plain": [
       "    stitch_flat stitch_stereo umls_concept_label meddra_concept_type  \\\n",
       "1  CID100000085  CID000010917           C0000729                  PT   \n",
       "3  CID100000085  CID000010917           C0000737                  PT   \n",
       "4  CID100000085  CID000010917           C0000737                  PT   \n",
       "6  CID100000085  CID000010917           C0002418                  PT   \n",
       "8  CID100000085  CID000010917           C0002871                  PT   \n",
       "\n",
       "  umls_concept       side_effect_name  placebo frequency_description  \\\n",
       "1     C0000737         Abdominal pain      NaN                   NaN   \n",
       "3     C0687713  Gastrointestinal pain      NaN                   NaN   \n",
       "4     C0000737         Abdominal pain      NaN                   NaN   \n",
       "6     C0002418              Amblyopia      NaN                   NaN   \n",
       "8     C0002871                Anaemia      NaN                   NaN   \n",
       "\n",
       "   lower_bound  upper_bound  \n",
       "1          NaN          NaN  \n",
       "3          NaN          NaN  \n",
       "4          NaN          NaN  \n",
       "6          NaN          NaN  \n",
       "8          NaN          NaN  "
      ]
     },
     "execution_count": 51,
     "metadata": {},
     "output_type": "execute_result"
    }
   ],
   "source": [
    "clin_trial.head()"
   ]
  },
  {
   "cell_type": "code",
   "execution_count": 52,
   "metadata": {},
   "outputs": [
    {
     "data": {
      "text/plain": [
       "1333"
      ]
     },
     "execution_count": 52,
     "metadata": {},
     "output_type": "execute_result"
    }
   ],
   "source": [
    "len(set(clin_trial['stitch_stereo']))"
   ]
  },
  {
   "cell_type": "code",
   "execution_count": 53,
   "metadata": {},
   "outputs": [],
   "source": [
    "clin_trial_mapped = clin_trial.merge(parent_results, on='stitch_stereo')"
   ]
  },
  {
   "cell_type": "code",
   "execution_count": 54,
   "metadata": {},
   "outputs": [
    {
     "data": {
      "text/plain": [
       "1041"
      ]
     },
     "execution_count": 54,
     "metadata": {},
     "output_type": "execute_result"
    }
   ],
   "source": [
    "len(set(clin_trial_mapped['stitch_stereo']))"
   ]
  },
  {
   "cell_type": "code",
   "execution_count": 55,
   "metadata": {},
   "outputs": [],
   "source": [
    "# Drug-event pairs assigned to clinical trials set - only those with mapped compounds to ChEMBL\n",
    "clin_trial_mapped.to_csv(sider_dir + '/results/sider_processed_clin_trial-assigned_mapped.txt', sep='\\t', index=None)"
   ]
  },
  {
   "cell_type": "code",
   "execution_count": 56,
   "metadata": {},
   "outputs": [],
   "source": [
    "# 1041 out of 1333 compounds for the clinical-trial assigned drug-se pairs were mapped to compounds"
   ]
  },
  {
   "cell_type": "code",
   "execution_count": 57,
   "metadata": {},
   "outputs": [
    {
     "data": {
      "text/html": [
       "<div>\n",
       "<style scoped>\n",
       "    .dataframe tbody tr th:only-of-type {\n",
       "        vertical-align: middle;\n",
       "    }\n",
       "\n",
       "    .dataframe tbody tr th {\n",
       "        vertical-align: top;\n",
       "    }\n",
       "\n",
       "    .dataframe thead th {\n",
       "        text-align: right;\n",
       "    }\n",
       "</style>\n",
       "<table border=\"1\" class=\"dataframe\">\n",
       "  <thead>\n",
       "    <tr style=\"text-align: right;\">\n",
       "      <th></th>\n",
       "      <th>stitch_flat</th>\n",
       "      <th>stitch_stereo</th>\n",
       "      <th>umls_concept_label</th>\n",
       "      <th>meddra_concept_type</th>\n",
       "      <th>umls_concept</th>\n",
       "      <th>side_effect_name</th>\n",
       "      <th>placebo</th>\n",
       "      <th>frequency_description</th>\n",
       "      <th>lower_bound</th>\n",
       "      <th>upper_bound</th>\n",
       "      <th>chembl_id</th>\n",
       "      <th>molregno</th>\n",
       "      <th>parent_molregno</th>\n",
       "      <th>parent_chembl_id</th>\n",
       "    </tr>\n",
       "  </thead>\n",
       "  <tbody>\n",
       "    <tr>\n",
       "      <th>0</th>\n",
       "      <td>CID100000085</td>\n",
       "      <td>CID000010917</td>\n",
       "      <td>C0000729</td>\n",
       "      <td>PT</td>\n",
       "      <td>C0000737</td>\n",
       "      <td>Abdominal pain</td>\n",
       "      <td>NaN</td>\n",
       "      <td>NaN</td>\n",
       "      <td>NaN</td>\n",
       "      <td>NaN</td>\n",
       "      <td>CHEMBL1149</td>\n",
       "      <td>181939</td>\n",
       "      <td>181939</td>\n",
       "      <td>CHEMBL1149</td>\n",
       "    </tr>\n",
       "    <tr>\n",
       "      <th>1</th>\n",
       "      <td>CID100000085</td>\n",
       "      <td>CID000010917</td>\n",
       "      <td>C0000737</td>\n",
       "      <td>PT</td>\n",
       "      <td>C0687713</td>\n",
       "      <td>Gastrointestinal pain</td>\n",
       "      <td>NaN</td>\n",
       "      <td>NaN</td>\n",
       "      <td>NaN</td>\n",
       "      <td>NaN</td>\n",
       "      <td>CHEMBL1149</td>\n",
       "      <td>181939</td>\n",
       "      <td>181939</td>\n",
       "      <td>CHEMBL1149</td>\n",
       "    </tr>\n",
       "    <tr>\n",
       "      <th>2</th>\n",
       "      <td>CID100000085</td>\n",
       "      <td>CID000010917</td>\n",
       "      <td>C0000737</td>\n",
       "      <td>PT</td>\n",
       "      <td>C0000737</td>\n",
       "      <td>Abdominal pain</td>\n",
       "      <td>NaN</td>\n",
       "      <td>NaN</td>\n",
       "      <td>NaN</td>\n",
       "      <td>NaN</td>\n",
       "      <td>CHEMBL1149</td>\n",
       "      <td>181939</td>\n",
       "      <td>181939</td>\n",
       "      <td>CHEMBL1149</td>\n",
       "    </tr>\n",
       "    <tr>\n",
       "      <th>3</th>\n",
       "      <td>CID100000085</td>\n",
       "      <td>CID000010917</td>\n",
       "      <td>C0002418</td>\n",
       "      <td>PT</td>\n",
       "      <td>C0002418</td>\n",
       "      <td>Amblyopia</td>\n",
       "      <td>NaN</td>\n",
       "      <td>NaN</td>\n",
       "      <td>NaN</td>\n",
       "      <td>NaN</td>\n",
       "      <td>CHEMBL1149</td>\n",
       "      <td>181939</td>\n",
       "      <td>181939</td>\n",
       "      <td>CHEMBL1149</td>\n",
       "    </tr>\n",
       "    <tr>\n",
       "      <th>4</th>\n",
       "      <td>CID100000085</td>\n",
       "      <td>CID000010917</td>\n",
       "      <td>C0002871</td>\n",
       "      <td>PT</td>\n",
       "      <td>C0002871</td>\n",
       "      <td>Anaemia</td>\n",
       "      <td>NaN</td>\n",
       "      <td>NaN</td>\n",
       "      <td>NaN</td>\n",
       "      <td>NaN</td>\n",
       "      <td>CHEMBL1149</td>\n",
       "      <td>181939</td>\n",
       "      <td>181939</td>\n",
       "      <td>CHEMBL1149</td>\n",
       "    </tr>\n",
       "  </tbody>\n",
       "</table>\n",
       "</div>"
      ],
      "text/plain": [
       "    stitch_flat stitch_stereo umls_concept_label meddra_concept_type  \\\n",
       "0  CID100000085  CID000010917           C0000729                  PT   \n",
       "1  CID100000085  CID000010917           C0000737                  PT   \n",
       "2  CID100000085  CID000010917           C0000737                  PT   \n",
       "3  CID100000085  CID000010917           C0002418                  PT   \n",
       "4  CID100000085  CID000010917           C0002871                  PT   \n",
       "\n",
       "  umls_concept       side_effect_name  placebo frequency_description  \\\n",
       "0     C0000737         Abdominal pain      NaN                   NaN   \n",
       "1     C0687713  Gastrointestinal pain      NaN                   NaN   \n",
       "2     C0000737         Abdominal pain      NaN                   NaN   \n",
       "3     C0002418              Amblyopia      NaN                   NaN   \n",
       "4     C0002871                Anaemia      NaN                   NaN   \n",
       "\n",
       "   lower_bound  upper_bound   chembl_id  molregno  parent_molregno  \\\n",
       "0          NaN          NaN  CHEMBL1149    181939           181939   \n",
       "1          NaN          NaN  CHEMBL1149    181939           181939   \n",
       "2          NaN          NaN  CHEMBL1149    181939           181939   \n",
       "3          NaN          NaN  CHEMBL1149    181939           181939   \n",
       "4          NaN          NaN  CHEMBL1149    181939           181939   \n",
       "\n",
       "  parent_chembl_id  \n",
       "0       CHEMBL1149  \n",
       "1       CHEMBL1149  \n",
       "2       CHEMBL1149  \n",
       "3       CHEMBL1149  \n",
       "4       CHEMBL1149  "
      ]
     },
     "execution_count": 57,
     "metadata": {},
     "output_type": "execute_result"
    }
   ],
   "source": [
    "clin_trial_mapped.head()"
   ]
  }
 ],
 "metadata": {
  "kernelspec": {
   "display_name": "Python [conda env:ias41-release] *",
   "language": "python",
   "name": "conda-env-ias41-release-py"
  },
  "language_info": {
   "codemirror_mode": {
    "name": "ipython",
    "version": 3
   },
   "file_extension": ".py",
   "mimetype": "text/x-python",
   "name": "python",
   "nbconvert_exporter": "python",
   "pygments_lexer": "ipython3",
   "version": "3.6.7"
  }
 },
 "nbformat": 4,
 "nbformat_minor": 4
}
