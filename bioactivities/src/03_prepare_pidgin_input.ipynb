{
 "cells": [
  {
   "cell_type": "code",
   "execution_count": 1,
   "metadata": {},
   "outputs": [],
   "source": [
    "### RDKit environment ###"
   ]
  },
  {
   "cell_type": "code",
   "execution_count": 2,
   "metadata": {},
   "outputs": [
    {
     "data": {
      "text/plain": [
       "'Select the compounds which have AE data from FAERS or SIDER so that we can do target prediction'"
      ]
     },
     "execution_count": 2,
     "metadata": {},
     "output_type": "execute_result"
    }
   ],
   "source": [
    "\"\"\"Select the compounds which have AE data from FAERS or SIDER so that we can do target prediction\"\"\""
   ]
  },
  {
   "cell_type": "code",
   "execution_count": 3,
   "metadata": {},
   "outputs": [
    {
     "name": "stderr",
     "output_type": "stream",
     "text": [
      "RDKit WARNING: [13:21:54] Enabling RDKit 2019.09.2 jupyter extensions\n"
     ]
    }
   ],
   "source": [
    "import os\n",
    "import re\n",
    "import sqlite3 as sqlite\n",
    "import pandas as pd\n",
    "import pymysql\n",
    "from rdkit import Chem\n",
    "from rdkit.Chem import inchi\n",
    "import sys\n",
    "from standardiser import break_bonds, unsalt, neutralise, rules, standardise\n",
    "import logging"
   ]
  },
  {
   "cell_type": "code",
   "execution_count": 4,
   "metadata": {},
   "outputs": [],
   "source": [
    "basedir = '/scratch/ias41/ae_code'"
   ]
  },
  {
   "cell_type": "code",
   "execution_count": 5,
   "metadata": {},
   "outputs": [],
   "source": [
    "# AEOLUS ids for compounds for which there is an ae_associations file\n",
    "filenames = [i for i in os.listdir(basedir + '/psm_aeolus/results/data') if ('ae_associations' in i and 'PSM' not in i)]\n",
    "pattern = re.compile('([0-9]+)_*')\n",
    "aeolus_ids = [pattern.match(filename).group(1) for filename in filenames]"
   ]
  },
  {
   "cell_type": "code",
   "execution_count": 6,
   "metadata": {},
   "outputs": [],
   "source": [
    "# Find molregnos from database\n",
    "\n",
    "conn = sqlite.connect(basedir + '/compound_mapping/results/201903_mapped_compounds_calculon.db')\n",
    "cur = conn.cursor()\n",
    "result = cur.execute(\"select distinct aeolus_concept, mapped_parent_molregno, mapped_parent_standard_inchi from compound_structures where mapped_parent_molregno is not null\").fetchall()\n",
    "conn.close()"
   ]
  },
  {
   "cell_type": "code",
   "execution_count": 7,
   "metadata": {},
   "outputs": [],
   "source": [
    "# Make a dictionary of aeolus2inchi\n",
    "aeolus2info = dict()\n",
    "\n",
    "for item in result:\n",
    "    aeolus2info[item[0]] = {'molregno': item[1], 'inchi': item[2]}"
   ]
  },
  {
   "cell_type": "code",
   "execution_count": 8,
   "metadata": {},
   "outputs": [],
   "source": [
    "# Find molregnos for the aeolus_ids that have AE data\n",
    "compound_info = []\n",
    "errors = []\n",
    "for aeolus_id in aeolus_ids: \n",
    "    try:\n",
    "        info = aeolus2info[int(aeolus_id)]\n",
    "        compound_info.append(info)\n",
    "    except KeyError:\n",
    "        errors.append(aeolus_id)"
   ]
  },
  {
   "cell_type": "code",
   "execution_count": 9,
   "metadata": {},
   "outputs": [
    {
     "data": {
      "text/plain": [
       "2012"
      ]
     },
     "execution_count": 9,
     "metadata": {},
     "output_type": "execute_result"
    }
   ],
   "source": [
    "# This is the number of compounds that were mapped to ChEMBL ids and also had enough reports etc during the PSM process,\n",
    "# e.g. 5 reports in each cell to derive AE-associations\n",
    "len(compound_info)"
   ]
  },
  {
   "cell_type": "markdown",
   "metadata": {},
   "source": [
    "### Add sider compounds"
   ]
  },
  {
   "cell_type": "code",
   "execution_count": 10,
   "metadata": {},
   "outputs": [],
   "source": [
    "sider_all_se = pd.read_csv(basedir + '/sider/results/sider_all_se_pt_mapped.txt', sep='\\t')"
   ]
  },
  {
   "cell_type": "code",
   "execution_count": 11,
   "metadata": {},
   "outputs": [],
   "source": [
    "sider_molregnos = set(sider_all_se['parent_molregno'].drop_duplicates())"
   ]
  },
  {
   "cell_type": "code",
   "execution_count": 12,
   "metadata": {},
   "outputs": [],
   "source": [
    "mysql_defaults_file = '/scratch/ias41/ae_code/bioactivities/mysql_info_chembl.txt'"
   ]
  },
  {
   "cell_type": "code",
   "execution_count": 13,
   "metadata": {},
   "outputs": [],
   "source": [
    "calculon_chembl = pymysql.connect(read_default_file=mysql_defaults_file, unix_socket='/var/run/mysqld/mysqld.sock')"
   ]
  },
  {
   "cell_type": "code",
   "execution_count": 14,
   "metadata": {},
   "outputs": [],
   "source": [
    "def do_query(myquery):\n",
    "    try:\n",
    "        with calculon_chembl.cursor() as cursor:\n",
    "            cursor.execute(myquery)\n",
    "            result = cursor.fetchall()\n",
    "            return(result)\n",
    "    except:\n",
    "        e = sys.exc_info()\n",
    "        print(str(e))"
   ]
  },
  {
   "cell_type": "code",
   "execution_count": 15,
   "metadata": {},
   "outputs": [],
   "source": [
    "sider_molregno_str = ', '.join([str(i) for i in sider_molregnos])\n",
    "my_query = f\"\"\"select distinct molregno, standard_inchi from compound_structures where molregno in ({sider_molregno_str});\"\"\""
   ]
  },
  {
   "cell_type": "code",
   "execution_count": 16,
   "metadata": {},
   "outputs": [],
   "source": [
    "sider_result = do_query(my_query)"
   ]
  },
  {
   "cell_type": "code",
   "execution_count": 17,
   "metadata": {},
   "outputs": [],
   "source": [
    "# Make a dictionary of molregno2info for sider compounds\n",
    "sider_molregno2info = dict()\n",
    "\n",
    "for item in sider_result:\n",
    "    sider_molregno2info[item[0]] = {'molregno': item[0], 'inchi': item[1]}"
   ]
  },
  {
   "cell_type": "code",
   "execution_count": 18,
   "metadata": {},
   "outputs": [],
   "source": [
    "# Unique molregno-inchi pairs for FAERS and SIDER compounds\n",
    "all_compounds = set(((i['molregno'], i['inchi']) for i in sider_molregno2info.values())) | set((j['molregno'], j['inchi']) for j in aeolus2info.values())"
   ]
  },
  {
   "cell_type": "code",
   "execution_count": 19,
   "metadata": {},
   "outputs": [
    {
     "data": {
      "text/plain": [
       "2546"
      ]
     },
     "execution_count": 19,
     "metadata": {},
     "output_type": "execute_result"
    }
   ],
   "source": [
    "len(all_compounds)"
   ]
  },
  {
   "cell_type": "markdown",
   "metadata": {},
   "source": [
    "### Retrieve canonical smiles from ChEMBL"
   ]
  },
  {
   "cell_type": "code",
   "execution_count": 20,
   "metadata": {},
   "outputs": [],
   "source": [
    "combined_molregnos_str = ', '.join([str(i[0]) for i in all_compounds])"
   ]
  },
  {
   "cell_type": "code",
   "execution_count": 21,
   "metadata": {},
   "outputs": [],
   "source": [
    "smiles_query = f\"\"\"select distinct molregno, canonical_smiles from compound_structures where molregno in ({combined_molregnos_str});\"\"\""
   ]
  },
  {
   "cell_type": "code",
   "execution_count": 22,
   "metadata": {},
   "outputs": [],
   "source": [
    "smiles_result = do_query(smiles_query)"
   ]
  },
  {
   "cell_type": "code",
   "execution_count": 23,
   "metadata": {},
   "outputs": [],
   "source": [
    "smiles_dict = dict()\n",
    "for item in smiles_result:\n",
    "    smiles_dict[int(item[0])] = item[1]"
   ]
  },
  {
   "cell_type": "code",
   "execution_count": 24,
   "metadata": {},
   "outputs": [],
   "source": [
    "compound_df = pd.DataFrame(all_compounds, columns = ['molregno', 'inchi'])"
   ]
  },
  {
   "cell_type": "code",
   "execution_count": 25,
   "metadata": {},
   "outputs": [],
   "source": [
    "def find_smiles(x):\n",
    "    try:\n",
    "        smiles = smiles_dict[x]\n",
    "        return smiles\n",
    "    except KeyError:\n",
    "        return None"
   ]
  },
  {
   "cell_type": "code",
   "execution_count": 26,
   "metadata": {},
   "outputs": [],
   "source": [
    "compound_df['smiles'] = compound_df['molregno'].apply(lambda x: find_smiles(x))"
   ]
  },
  {
   "cell_type": "code",
   "execution_count": 27,
   "metadata": {},
   "outputs": [
    {
     "data": {
      "text/plain": [
       "2546"
      ]
     },
     "execution_count": 27,
     "metadata": {},
     "output_type": "execute_result"
    }
   ],
   "source": [
    "len(compound_df)"
   ]
  },
  {
   "cell_type": "code",
   "execution_count": 28,
   "metadata": {},
   "outputs": [
    {
     "data": {
      "text/plain": [
       "74"
      ]
     },
     "execution_count": 28,
     "metadata": {},
     "output_type": "execute_result"
    }
   ],
   "source": [
    "len(compound_df.loc[compound_df['smiles'].isnull()])"
   ]
  },
  {
   "cell_type": "code",
   "execution_count": 29,
   "metadata": {},
   "outputs": [],
   "source": [
    "selection = compound_df.loc[~compound_df['smiles'].isnull(),['smiles', 'molregno']]"
   ]
  },
  {
   "cell_type": "code",
   "execution_count": 30,
   "metadata": {},
   "outputs": [
    {
     "data": {
      "text/plain": [
       "2472"
      ]
     },
     "execution_count": 30,
     "metadata": {},
     "output_type": "execute_result"
    }
   ],
   "source": [
    "len(selection)"
   ]
  },
  {
   "cell_type": "markdown",
   "metadata": {},
   "source": [
    "### Try to standardise compounds"
   ]
  },
  {
   "cell_type": "code",
   "execution_count": 31,
   "metadata": {},
   "outputs": [],
   "source": [
    "def try_to_standardise(smiles):\n",
    "    \"\"\"Return standardised smiles, excepting standardise errors returning None.\n",
    "    mol -- RDKit mol object\"\"\"\n",
    "    mol = Chem.MolFromSmiles(smiles)\n",
    "    try:\n",
    "        standardised_molecule = standardise.run(mol)\n",
    "        standard_smiles = Chem.MolToSmiles(standardised_molecule)\n",
    "        return standard_smiles\n",
    "    \n",
    "    except standardise.StandardiseException as e:\n",
    "        logging.warn(e.message)\n",
    "        return None    "
   ]
  },
  {
   "cell_type": "code",
   "execution_count": 32,
   "metadata": {
    "collapsed": true,
    "jupyter": {
     "outputs_hidden": true
    }
   },
   "outputs": [
    {
     "name": "stderr",
     "output_type": "stream",
     "text": [
      "/scratch/ias41/envs/my-rdkit-env/lib/python3.6/site-packages/ipykernel_launcher.py:11: DeprecationWarning: The 'warn' function is deprecated, use 'warning' instead\n",
      "  # This is added back by InteractiveShellApp.init_path()\n",
      "WARNING:root:No non-salt/solvate components\n",
      "WARNING:root:No non-salt/solvate components\n",
      "WARNING:root:No non-salt/solvate components\n",
      "WARNING:root:No non-salt/solvate components\n",
      "WARNING:root:No non-salt/solvate components\n",
      "WARNING:root:No non-salt/solvate components\n",
      "WARNING:root:No non-salt/solvate components\n",
      "WARNING:root:No non-salt/solvate components\n",
      "WARNING:root:No non-salt/solvate components\n",
      "WARNING:root:No non-salt/solvate components\n",
      "WARNING:root:No non-salt/solvate components\n",
      "WARNING:root:No non-salt/solvate components\n",
      "WARNING:root:Multiple non-salt/solvate components\n",
      "WARNING:root:Multiple non-salt/solvate components\n",
      "WARNING:root:No non-salt/solvate components\n",
      "WARNING:root:Multiple non-salt/solvate components\n",
      "WARNING:root:Multiple non-salt/solvate components\n",
      "WARNING:root:No non-salt/solvate components\n",
      "WARNING:root:No non-salt/solvate components\n",
      "WARNING:root:Multiple non-salt/solvate components\n",
      "WARNING:root:No non-salt/solvate components\n",
      "WARNING:root:No non-salt/solvate components\n",
      "WARNING:root:No non-salt/solvate components\n",
      "WARNING:root:No non-salt/solvate components\n",
      "WARNING:root:No non-salt/solvate components\n",
      "WARNING:root:No non-salt/solvate components\n",
      "WARNING:root:No non-salt/solvate components\n",
      "WARNING:root:No non-salt/solvate components\n",
      "WARNING:root:No non-salt/solvate components\n",
      "WARNING:root:No non-salt/solvate components\n",
      "WARNING:root:No non-salt/solvate components\n",
      "WARNING:root:No non-salt/solvate components\n",
      "WARNING:root:No non-salt/solvate components\n",
      "WARNING:root:Multiple non-salt/solvate components\n",
      "WARNING:root:No non-salt/solvate components\n",
      "WARNING:root:No non-salt/solvate components\n",
      "WARNING:root:No non-salt/solvate components\n",
      "WARNING:root:Multiple non-salt/solvate components\n",
      "WARNING:root:No non-salt/solvate components\n",
      "WARNING:root:No non-salt/solvate components\n",
      "WARNING:root:No non-salt/solvate components\n",
      "WARNING:root:No non-salt/solvate components\n",
      "WARNING:root:No non-salt/solvate components\n",
      "WARNING:root:No non-salt/solvate components\n",
      "WARNING:root:No non-salt/solvate components\n",
      "WARNING:root:No non-salt/solvate components\n",
      "WARNING:root:No non-salt/solvate components\n",
      "WARNING:root:Multiple non-salt/solvate components\n",
      "WARNING:root:No non-salt/solvate components\n",
      "WARNING:root:No non-salt/solvate components\n",
      "WARNING:root:No non-salt/solvate components\n",
      "WARNING:root:No non-salt/solvate components\n",
      "WARNING:root:No non-salt/solvate components\n",
      "WARNING:root:No non-salt/solvate components\n",
      "WARNING:root:No non-salt/solvate components\n",
      "WARNING:root:No non-salt/solvate components\n",
      "WARNING:root:Multiple non-salt/solvate components\n",
      "WARNING:root:No non-salt/solvate components\n",
      "WARNING:root:No non-salt/solvate components\n",
      "WARNING:root:No non-salt/solvate components\n",
      "WARNING:root:No non-salt/solvate components\n",
      "WARNING:root:Multiple non-salt/solvate components\n",
      "WARNING:root:No non-salt/solvate components\n",
      "WARNING:root:No non-salt/solvate components\n",
      "WARNING:root:No non-salt/solvate components\n",
      "WARNING:root:Multiple non-salt/solvate components\n",
      "WARNING:root:No non-salt/solvate components\n",
      "WARNING:root:Multiple non-salt/solvate components\n",
      "WARNING:root:No non-salt/solvate components\n",
      "WARNING:root:No non-salt/solvate components\n",
      "WARNING:root:No non-salt/solvate components\n",
      "WARNING:root:No non-salt/solvate components\n",
      "WARNING:root:Multiple non-salt/solvate components\n",
      "WARNING:root:Multiple non-salt/solvate components\n",
      "WARNING:root:No non-salt/solvate components\n",
      "WARNING:root:No non-salt/solvate components\n",
      "WARNING:root:No non-salt/solvate components\n",
      "WARNING:root:No non-salt/solvate components\n",
      "WARNING:root:No non-salt/solvate components\n",
      "WARNING:root:Multiple non-salt/solvate components\n",
      "WARNING:root:No non-salt/solvate components\n",
      "WARNING:root:No non-salt/solvate components\n",
      "WARNING:root:Multiple non-salt/solvate components\n",
      "WARNING:root:Multiple non-salt/solvate components\n",
      "WARNING:root:No non-salt/solvate components\n",
      "WARNING:root:No non-salt/solvate components\n",
      "WARNING:root:No non-salt/solvate components\n",
      "WARNING:root:No non-salt/solvate components\n",
      "WARNING:root:Multiple non-salt/solvate components\n",
      "WARNING:root:No non-salt/solvate components\n",
      "WARNING:root:No non-salt/solvate components\n",
      "WARNING:root:No non-salt/solvate components\n",
      "WARNING:root:No non-salt/solvate components\n",
      "RDKit ERROR: [13:22:51] Can't kekulize mol.  Unkekulized atoms: 0 2 4 6 7 9\n",
      "RDKit ERROR: \n",
      "WARNING:root:No non-salt/solvate components\n",
      "WARNING:root:No non-salt/solvate components\n",
      "WARNING:root:No non-salt/solvate components\n",
      "WARNING:root:No non-salt/solvate components\n",
      "WARNING:root:No non-salt/solvate components\n",
      "WARNING:root:No non-salt/solvate components\n",
      "WARNING:root:No non-salt/solvate components\n",
      "WARNING:root:No non-salt/solvate components\n",
      "WARNING:root:No non-salt/solvate components\n",
      "WARNING:root:Multiple non-salt/solvate components\n",
      "WARNING:root:No non-salt/solvate components\n",
      "WARNING:root:No non-salt/solvate components\n",
      "WARNING:root:No non-salt/solvate components\n",
      "WARNING:root:No non-salt/solvate components\n",
      "WARNING:root:No non-salt/solvate components\n",
      "WARNING:root:No non-salt/solvate components\n",
      "WARNING:root:No non-salt/solvate components\n",
      "WARNING:root:No non-salt/solvate components\n",
      "WARNING:root:No non-salt/solvate components\n",
      "RDKit ERROR: [13:22:52] Can't kekulize mol.  Unkekulized atoms: 3 10\n",
      "RDKit ERROR: \n",
      "WARNING:root:No non-salt/solvate components\n",
      "WARNING:root:No non-salt/solvate components\n",
      "WARNING:root:No non-salt/solvate components\n",
      "WARNING:root:No non-salt/solvate components\n",
      "WARNING:root:No non-salt/solvate components\n",
      "WARNING:root:No non-salt/solvate components\n",
      "WARNING:root:No non-salt/solvate components\n",
      "WARNING:root:No non-salt/solvate components\n",
      "WARNING:root:Multiple non-salt/solvate components\n",
      "WARNING:root:No non-salt/solvate components\n",
      "WARNING:root:No non-salt/solvate components\n",
      "WARNING:root:No non-salt/solvate components\n",
      "WARNING:root:No non-salt/solvate components\n",
      "WARNING:root:No non-salt/solvate components\n",
      "WARNING:root:No non-salt/solvate components\n",
      "WARNING:root:Multiple non-salt/solvate components\n",
      "WARNING:root:No non-salt/solvate components\n",
      "WARNING:root:No non-salt/solvate components\n",
      "WARNING:root:No non-salt/solvate components\n",
      "WARNING:root:Multiple non-salt/solvate components\n",
      "WARNING:root:No non-salt/solvate components\n",
      "WARNING:root:No non-salt/solvate components\n",
      "WARNING:root:No non-salt/solvate components\n",
      "WARNING:root:No non-salt/solvate components\n",
      "WARNING:root:No non-salt/solvate components\n",
      "WARNING:root:No non-salt/solvate components\n",
      "WARNING:root:No non-salt/solvate components\n",
      "WARNING:root:Multiple non-salt/solvate components\n",
      "WARNING:root:Multiple non-salt/solvate components\n",
      "WARNING:root:No non-salt/solvate components\n",
      "WARNING:root:No non-salt/solvate components\n",
      "WARNING:root:Multiple non-salt/solvate components\n",
      "WARNING:root:No non-salt/solvate components\n",
      "WARNING:root:Multiple non-salt/solvate components\n",
      "WARNING:root:No non-salt/solvate components\n",
      "WARNING:root:No non-salt/solvate components\n",
      "WARNING:root:No non-salt/solvate components\n",
      "WARNING:root:No non-salt/solvate components\n",
      "WARNING:root:No non-salt/solvate components\n",
      "WARNING:root:Multiple non-salt/solvate components\n",
      "WARNING:root:No non-salt/solvate components\n",
      "WARNING:root:No non-salt/solvate components\n",
      "WARNING:root:No non-salt/solvate components\n",
      "WARNING:root:No non-salt/solvate components\n",
      "WARNING:root:No non-salt/solvate components\n",
      "WARNING:root:No non-salt/solvate components\n",
      "WARNING:root:No non-salt/solvate components\n",
      "WARNING:root:No non-salt/solvate components\n",
      "WARNING:root:No non-salt/solvate components\n",
      "WARNING:root:No non-salt/solvate components\n",
      "WARNING:root:No non-salt/solvate components\n",
      "WARNING:root:No non-salt/solvate components\n",
      "WARNING:root:No non-salt/solvate components\n",
      "WARNING:root:No non-salt/solvate components\n",
      "WARNING:root:No non-salt/solvate components\n",
      "WARNING:root:Multiple non-salt/solvate components\n",
      "WARNING:root:No non-salt/solvate components\n",
      "WARNING:root:No non-salt/solvate components\n",
      "WARNING:root:No non-salt/solvate components\n",
      "WARNING:root:No non-salt/solvate components\n",
      "WARNING:root:No non-salt/solvate components\n",
      "WARNING:root:No non-salt/solvate components\n",
      "WARNING:root:No non-salt/solvate components\n",
      "WARNING:root:No non-salt/solvate components\n",
      "WARNING:root:No non-salt/solvate components\n",
      "WARNING:root:No non-salt/solvate components\n",
      "WARNING:root:No non-salt/solvate components\n",
      "WARNING:root:No non-salt/solvate components\n",
      "WARNING:root:No non-salt/solvate components\n",
      "WARNING:root:No non-salt/solvate components\n",
      "WARNING:root:Multiple non-salt/solvate components\n",
      "WARNING:root:No non-salt/solvate components\n",
      "WARNING:root:No non-salt/solvate components\n",
      "WARNING:root:No non-salt/solvate components\n",
      "WARNING:root:No non-salt/solvate components\n",
      "WARNING:root:No non-salt/solvate components\n",
      "WARNING:root:No non-salt/solvate components\n",
      "WARNING:root:No non-salt/solvate components\n",
      "WARNING:root:Multiple non-salt/solvate components\n",
      "WARNING:root:No non-salt/solvate components\n"
     ]
    }
   ],
   "source": [
    "selection['standard_smiles'] = selection['smiles'].apply(lambda x: try_to_standardise(x))"
   ]
  },
  {
   "cell_type": "code",
   "execution_count": 33,
   "metadata": {},
   "outputs": [],
   "source": [
    "standard_selection = selection.loc[~selection['standard_smiles'].isnull(),['standard_smiles', 'molregno']]"
   ]
  },
  {
   "cell_type": "code",
   "execution_count": 34,
   "metadata": {},
   "outputs": [],
   "source": [
    "standard_selection.to_csv(basedir + '/bioactivities/data/pidgin_input.smi', sep=' ', index=False, header=False)"
   ]
  },
  {
   "cell_type": "code",
   "execution_count": 37,
   "metadata": {},
   "outputs": [],
   "source": [
    "standard_selection[:10].to_csv(basedir + '/bioactivities/data/pidgin_input_test.smi', sep=' ', index=False, header=False)"
   ]
  },
  {
   "cell_type": "code",
   "execution_count": 35,
   "metadata": {},
   "outputs": [],
   "source": [
    "calculon_chembl.close()"
   ]
  },
  {
   "cell_type": "code",
   "execution_count": 36,
   "metadata": {},
   "outputs": [
    {
     "data": {
      "text/html": [
       "<div>\n",
       "<style scoped>\n",
       "    .dataframe tbody tr th:only-of-type {\n",
       "        vertical-align: middle;\n",
       "    }\n",
       "\n",
       "    .dataframe tbody tr th {\n",
       "        vertical-align: top;\n",
       "    }\n",
       "\n",
       "    .dataframe thead th {\n",
       "        text-align: right;\n",
       "    }\n",
       "</style>\n",
       "<table border=\"1\" class=\"dataframe\">\n",
       "  <thead>\n",
       "    <tr style=\"text-align: right;\">\n",
       "      <th></th>\n",
       "      <th>standard_smiles</th>\n",
       "      <th>molregno</th>\n",
       "    </tr>\n",
       "  </thead>\n",
       "  <tbody>\n",
       "    <tr>\n",
       "      <th>0</th>\n",
       "      <td>CC(S)C(=O)NCC(=O)O</td>\n",
       "      <td>264400</td>\n",
       "    </tr>\n",
       "    <tr>\n",
       "      <th>1</th>\n",
       "      <td>C#C[C@]1(O)CC[C@H]2[C@@H]3CCC4=CC(=O)CC[C@@H]4...</td>\n",
       "      <td>428747</td>\n",
       "    </tr>\n",
       "    <tr>\n",
       "      <th>2</th>\n",
       "      <td>O=C1C2CC=CCC2C(=O)N1SC(Cl)(Cl)Cl</td>\n",
       "      <td>388389</td>\n",
       "    </tr>\n",
       "    <tr>\n",
       "      <th>3</th>\n",
       "      <td>CC(=O)OCC[N+](C)(C)C</td>\n",
       "      <td>27812</td>\n",
       "    </tr>\n",
       "    <tr>\n",
       "      <th>4</th>\n",
       "      <td>CC(=O)CCC(=O)O</td>\n",
       "      <td>698281</td>\n",
       "    </tr>\n",
       "  </tbody>\n",
       "</table>\n",
       "</div>"
      ],
      "text/plain": [
       "                                     standard_smiles  molregno\n",
       "0                                 CC(S)C(=O)NCC(=O)O    264400\n",
       "1  C#C[C@]1(O)CC[C@H]2[C@@H]3CCC4=CC(=O)CC[C@@H]4...    428747\n",
       "2                   O=C1C2CC=CCC2C(=O)N1SC(Cl)(Cl)Cl    388389\n",
       "3                               CC(=O)OCC[N+](C)(C)C     27812\n",
       "4                                     CC(=O)CCC(=O)O    698281"
      ]
     },
     "execution_count": 36,
     "metadata": {},
     "output_type": "execute_result"
    }
   ],
   "source": [
    "standard_selection.head()"
   ]
  },
  {
   "cell_type": "code",
   "execution_count": null,
   "metadata": {},
   "outputs": [],
   "source": []
  }
 ],
 "metadata": {
  "kernelspec": {
   "display_name": "Python [conda env:ias41-my-rdkit-env]",
   "language": "python",
   "name": "conda-env-ias41-my-rdkit-env-py"
  },
  "language_info": {
   "codemirror_mode": {
    "name": "ipython",
    "version": 3
   },
   "file_extension": ".py",
   "mimetype": "text/x-python",
   "name": "python",
   "nbconvert_exporter": "python",
   "pygments_lexer": "ipython3",
   "version": "3.6.7"
  }
 },
 "nbformat": 4,
 "nbformat_minor": 4
}
