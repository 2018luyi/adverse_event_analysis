{
 "cells": [
  {
   "cell_type": "code",
   "execution_count": 1,
   "metadata": {},
   "outputs": [
    {
     "data": {
      "text/plain": [
       "'Find overlap between FAERS and SIDER compounds with bioactivities, write report of % of datapoints from different sources within ChEMBL, and calculate % matrix sparsity.\\nThen add additional measurements from target prediction and do same counts.'"
      ]
     },
     "execution_count": 1,
     "metadata": {},
     "output_type": "execute_result"
    }
   ],
   "source": [
    "\"\"\"Find overlap between FAERS and SIDER compounds with bioactivities, write report of % of datapoints from different sources within ChEMBL, and calculate % matrix sparsity.\n",
    "Then add additional measurements from target prediction and do same counts.\"\"\""
   ]
  },
  {
   "cell_type": "code",
   "execution_count": 2,
   "metadata": {},
   "outputs": [],
   "source": [
    "import pandas as pd\n",
    "import pickle\n",
    "import numpy as np"
   ]
  },
  {
   "cell_type": "code",
   "execution_count": 3,
   "metadata": {},
   "outputs": [],
   "source": [
    "basedir = '/scratch/ias41/ae_code'\n",
    "project_dir = basedir + '/bioactivities'"
   ]
  },
  {
   "cell_type": "code",
   "execution_count": 4,
   "metadata": {},
   "outputs": [
    {
     "name": "stderr",
     "output_type": "stream",
     "text": [
      "/scratch/ias41/envs/release/lib/python3.6/site-packages/IPython/core/interactiveshell.py:3058: DtypeWarning: Columns (8,12,17) have mixed types. Specify dtype option on import or set low_memory=False.\n",
      "  interactivity=interactivity, compiler=compiler, result=result)\n"
     ]
    }
   ],
   "source": [
    "bioact = pd.read_csv(project_dir + '/data/bioactivities_processed.txt', sep='\\t')"
   ]
  },
  {
   "cell_type": "code",
   "execution_count": 5,
   "metadata": {},
   "outputs": [],
   "source": [
    "with open(basedir + '/faers_aes/results/20200108_PSM_molregno2aes_PRR2_chi4_faers_min5drugs_all_random_controls.pkl', 'rb') as f:\n",
    "    faers_aes = pickle.load(f)\n",
    "with open(basedir + '/sider/results/20191215_molregno2aes_sider_min5drugs.pkl', 'rb') as f:\n",
    "    sider_aes = pickle.load(f)"
   ]
  },
  {
   "cell_type": "markdown",
   "metadata": {},
   "source": [
    "### Processed bioactivities overlap with AE datasets"
   ]
  },
  {
   "cell_type": "code",
   "execution_count": 6,
   "metadata": {},
   "outputs": [],
   "source": [
    "drugs = faers_aes.keys() | sider_aes.keys()"
   ]
  },
  {
   "cell_type": "code",
   "execution_count": 7,
   "metadata": {},
   "outputs": [],
   "source": [
    "bioact_drugs = bioact.loc[bioact['parent_molregno'].isin(drugs)]"
   ]
  },
  {
   "cell_type": "code",
   "execution_count": 8,
   "metadata": {},
   "outputs": [
    {
     "data": {
      "text/plain": [
       "113710"
      ]
     },
     "execution_count": 8,
     "metadata": {},
     "output_type": "execute_result"
    }
   ],
   "source": [
    "len(bioact_drugs)"
   ]
  },
  {
   "cell_type": "markdown",
   "metadata": {},
   "source": [
    "### Check sources of bioactivity data"
   ]
  },
  {
   "cell_type": "code",
   "execution_count": 9,
   "metadata": {},
   "outputs": [],
   "source": [
    "src_dict = {}\n",
    "for group in bioact_drugs.groupby('src_description'):\n",
    "     src_dict[group[0]] = '{:.3f}'.format((len(group[1])/len(bioact_drugs))*100)"
   ]
  },
  {
   "cell_type": "code",
   "execution_count": 10,
   "metadata": {},
   "outputs": [],
   "source": [
    "with open(project_dir + '/results/bioact_sources_report.txt', 'w') as f:\n",
    "    f.write(\"Data sources (%s of retrieved measurements before taking medians) after overlapping with AE compounds: {}\".format(src_dict))"
   ]
  },
  {
   "cell_type": "code",
   "execution_count": 11,
   "metadata": {},
   "outputs": [
    {
     "name": "stderr",
     "output_type": "stream",
     "text": [
      "/scratch/ias41/envs/release/lib/python3.6/site-packages/ipykernel_launcher.py:5: SettingWithCopyWarning: \n",
      "A value is trying to be set on a copy of a slice from a DataFrame.\n",
      "Try using .loc[row_indexer,col_indexer] = value instead\n",
      "\n",
      "See the caveats in the documentation: http://pandas.pydata.org/pandas-docs/stable/user_guide/indexing.html#returning-a-view-versus-a-copy\n",
      "  \"\"\"\n"
     ]
    }
   ],
   "source": [
    "# Separate 'inactive' rows for a moment\n",
    "\n",
    "bioact_drugs_inactive = bioact_drugs.loc[bioact_drugs['summary']=='inactive',:]\n",
    "bioact_drugs_numeric = bioact_drugs.loc[bioact_drugs['summary']!='inactive',:]\n",
    "bioact_drugs_numeric['summary'] = bioact_drugs_numeric['summary'].astype('float')"
   ]
  },
  {
   "cell_type": "code",
   "execution_count": 12,
   "metadata": {},
   "outputs": [],
   "source": [
    "# Take medians of numeric data\n",
    "bioact_medians = bioact_drugs_numeric.groupby(['parent_molregno','accession']).agg({'parent_chembl_id': 'first', 'target_organism': 'first', 'summary': 'median'}).reset_index(drop=False)"
   ]
  },
  {
   "cell_type": "code",
   "execution_count": 13,
   "metadata": {},
   "outputs": [],
   "source": [
    "# Add back 'inactive' rows but only if not numeric value available"
   ]
  },
  {
   "cell_type": "code",
   "execution_count": 14,
   "metadata": {},
   "outputs": [],
   "source": [
    "measured_compound_target_pairs = [tuple(x) for x in bioact_medians[['parent_molregno','accession']].values]"
   ]
  },
  {
   "cell_type": "code",
   "execution_count": 15,
   "metadata": {},
   "outputs": [],
   "source": [
    "def determine_numeric_avail(x):\n",
    "    if (int(x['parent_molregno']), x['accession']) in measured_compound_target_pairs:\n",
    "        return 1\n",
    "    else:\n",
    "        return 0"
   ]
  },
  {
   "cell_type": "code",
   "execution_count": 16,
   "metadata": {},
   "outputs": [
    {
     "name": "stderr",
     "output_type": "stream",
     "text": [
      "/scratch/ias41/envs/release/lib/python3.6/site-packages/ipykernel_launcher.py:1: SettingWithCopyWarning: \n",
      "A value is trying to be set on a copy of a slice from a DataFrame.\n",
      "Try using .loc[row_indexer,col_indexer] = value instead\n",
      "\n",
      "See the caveats in the documentation: http://pandas.pydata.org/pandas-docs/stable/user_guide/indexing.html#returning-a-view-versus-a-copy\n",
      "  \"\"\"Entry point for launching an IPython kernel.\n"
     ]
    }
   ],
   "source": [
    "bioact_drugs_inactive['numeric_avail'] = bioact_drugs_inactive.apply(determine_numeric_avail, axis=1)"
   ]
  },
  {
   "cell_type": "code",
   "execution_count": 17,
   "metadata": {},
   "outputs": [
    {
     "data": {
      "text/plain": [
       "92506"
      ]
     },
     "execution_count": 17,
     "metadata": {},
     "output_type": "execute_result"
    }
   ],
   "source": [
    "len(bioact_drugs_inactive)"
   ]
  },
  {
   "cell_type": "code",
   "execution_count": 18,
   "metadata": {},
   "outputs": [
    {
     "data": {
      "text/plain": [
       "764"
      ]
     },
     "execution_count": 18,
     "metadata": {},
     "output_type": "execute_result"
    }
   ],
   "source": [
    "len(bioact_drugs_inactive.loc[bioact_drugs_inactive['numeric_avail']==1])"
   ]
  },
  {
   "cell_type": "code",
   "execution_count": 19,
   "metadata": {},
   "outputs": [
    {
     "data": {
      "text/plain": [
       "Index(['parent_molregno', 'accession', 'parent_chembl_id', 'target_organism',\n",
       "       'summary'],\n",
       "      dtype='object')"
      ]
     },
     "execution_count": 19,
     "metadata": {},
     "output_type": "execute_result"
    }
   ],
   "source": [
    "bioact_medians.columns"
   ]
  },
  {
   "cell_type": "code",
   "execution_count": 20,
   "metadata": {},
   "outputs": [],
   "source": [
    "# Add back inactive rows\n",
    "bioact_drugs_inactive_selection = bioact_drugs_inactive.loc[bioact_drugs_inactive['numeric_avail']==0]\n",
    "bioact_drugs_inactive_selection = bioact_drugs_inactive_selection[['parent_molregno', 'accession', 'parent_chembl_id', 'target_organism','summary']].drop_duplicates()\n",
    "bioact_drugs_all = pd.concat([bioact_medians, bioact_drugs_inactive_selection], sort=False)"
   ]
  },
  {
   "cell_type": "code",
   "execution_count": 21,
   "metadata": {},
   "outputs": [
    {
     "data": {
      "text/plain": [
       "56909"
      ]
     },
     "execution_count": 21,
     "metadata": {},
     "output_type": "execute_result"
    }
   ],
   "source": [
    "len(bioact_drugs_all[['parent_molregno','accession','summary']].drop_duplicates())"
   ]
  },
  {
   "cell_type": "code",
   "execution_count": 22,
   "metadata": {},
   "outputs": [
    {
     "data": {
      "text/plain": [
       "56909"
      ]
     },
     "execution_count": 22,
     "metadata": {},
     "output_type": "execute_result"
    }
   ],
   "source": [
    "len(bioact_drugs_all)"
   ]
  },
  {
   "cell_type": "code",
   "execution_count": 23,
   "metadata": {},
   "outputs": [],
   "source": [
    "# Create a report about the bioactivity data\n",
    "\n",
    "total_cells = len(bioact_drugs_all['parent_molregno'].drop_duplicates())*len(bioact_drugs_all['accession'].drop_duplicates())\n",
    "\n",
    "frac_filled = len(bioact_drugs_all[['parent_molregno', 'accession']].drop_duplicates()) / total_cells\n",
    "frac_inactive_comment = len(bioact_drugs_all.loc[bioact_drugs_all['summary']=='inactive',['parent_molregno','accession']].drop_duplicates()) / total_cells\n",
    "frac_below6 = len(bioact_medians.loc[bioact_medians['summary']<6,['parent_molregno', 'accession']].drop_duplicates()) / total_cells\n",
    "frac_over6 = len(bioact_medians.loc[bioact_medians['summary']>=6,['parent_molregno', 'accession']].drop_duplicates()) / total_cells\n",
    "total = frac_inactive_comment + frac_below6 + frac_over6\n",
    "\n",
    "info = [\n",
    "'Number of drug-target pairs: {}'.format(len(bioact_drugs_all[['parent_molregno', 'accession']]))\n",
    ", 'Number of unique drugs from AE datasets with bioactivities: {}'.format(len(bioact_drugs_all['parent_molregno'].drop_duplicates()))\n",
    ", 'Number of unique Uniprot IDs: {}'.format(len(bioact_drugs_all['accession'].drop_duplicates()))\n",
    ", 'Total cells: {} x {} = {}'.format(str(len(bioact_drugs_all['parent_molregno'].drop_duplicates())), len(bioact_drugs_all['accession'].drop_duplicates()), total_cells)\n",
    ", 'Percentage of cells of matrix (compound-target pairs) with data (active/inactive/activity_comment): {:.3f}%'.format(frac_filled*100)\n",
    ", 'Percentage of drug-target pairs with \"inactive\" from activity_comment: {:.3f}%'.format(frac_inactive_comment*100)\n",
    ", 'Percentage of drug-target pairs with pchembl < 6: {:.3f}%'.format(frac_below6*100)\n",
    ", 'Percentage of drug-target pairs with pchembl >= 6: {:.3f}%'.format(frac_over6*100)\n",
    ", 'Total last 3 percentages check: {:.3f}%'.format(total*100)\n",
    "]    \n",
    "\n",
    "with open(project_dir + '/results/bioactivities_matrix_counts_report.txt', 'w') as f:\n",
    "    f.write('\\n'.join(info))"
   ]
  },
  {
   "cell_type": "code",
   "execution_count": 24,
   "metadata": {},
   "outputs": [],
   "source": [
    "# Save bioactivity\n",
    "bioact_drugs_all.to_csv(project_dir + '/results/bioact_medians_ae_drugs.txt', sep='\\t', index=False)"
   ]
  },
  {
   "cell_type": "markdown",
   "metadata": {},
   "source": [
    "### Open target prediction data"
   ]
  },
  {
   "cell_type": "code",
   "execution_count": 25,
   "metadata": {},
   "outputs": [],
   "source": [
    "tp = pd.read_csv(project_dir + '/data/pidgin_input.smi_out_predictions_20200108-164123_ad70pr0.7.txt', sep='\\t')\n",
    "tp.set_index('Compound', inplace=True)"
   ]
  },
  {
   "cell_type": "code",
   "execution_count": 26,
   "metadata": {},
   "outputs": [],
   "source": [
    "# Reformat dataframe\n",
    "\n",
    "all_compound_target_combinations = [(compound,target) for compound in tp.index for target in set([i.split('_')[0] for i in tp.columns])]\n",
    "conc_data = dict()\n",
    "for item in all_compound_target_combinations:\n",
    "    compound = item[0]\n",
    "    target = item[1]\n",
    "    conc_data[(compound,target)] = {'Target': target, 'Compound': compound, 7: np.nan, 6: np.nan, 5: np.nan, 4: np.nan}\n",
    "\n",
    "pconc = {'0.1': 7, '1': 6, '10': 5, '100': 4}\n",
    "for row in tp.iterrows():\n",
    "    compound = row[0]\n",
    "    for column, value in zip(row[1].index, row[1].values):\n",
    "        target = column.split('_')[0]\n",
    "        concentration = column.split('_')[1]\n",
    "        conc_data[(compound,target)][pconc[concentration]] = value\n",
    "tp_pivoted = pd.DataFrame(list(conc_data.values()))"
   ]
  },
  {
   "cell_type": "code",
   "execution_count": 27,
   "metadata": {},
   "outputs": [],
   "source": [
    "def is_negative_prediction(x):\n",
    "    if np.isnan(x):\n",
    "        return False\n",
    "    if x < 0.4:\n",
    "        return True\n",
    "    else: \n",
    "        return False\n",
    "def is_positive_prediction(x):\n",
    "    if np.isnan(x):\n",
    "        return False\n",
    "    if x > 0.6:\n",
    "        return True\n",
    "    else: \n",
    "        return False"
   ]
  },
  {
   "cell_type": "code",
   "execution_count": 28,
   "metadata": {},
   "outputs": [],
   "source": [
    "def make_no_data_summary(x):\n",
    "    if all(np.isnan(i) for i in [x[7], x[6], x[5], x[4]]):\n",
    "        return 'no information'\n",
    "    else:\n",
    "        return np.nan\n",
    "def find_negative_predictions(x):\n",
    "    if any(is_negative_prediction(i) for i in [x[7], x[6], x[5], x[4]]):\n",
    "        return 'negative prediction'\n",
    "    else:\n",
    "        return np.nan\n",
    "def find_positive_predictions(x):\n",
    "    if any(is_positive_prediction(i) for i in [x[7], x[6], x[5], x[4]]):\n",
    "        return 'positive prediction'\n",
    "    else:\n",
    "        return np.nan"
   ]
  },
  {
   "cell_type": "code",
   "execution_count": 29,
   "metadata": {},
   "outputs": [],
   "source": [
    "# Restrict to those rows with at least one active/inactive prediction\n",
    "tp_pivoted['no information'] = tp_pivoted.apply(make_no_data_summary, axis=1)\n",
    "tp_pivoted = tp_pivoted.loc[tp_pivoted['no information'].isnull()]\n",
    "\n",
    "# Identify rows with positive and rows with negative predictions\n",
    "tp_pivoted['negative prediction'] = tp_pivoted.apply(find_negative_predictions, axis=1)\n",
    "tp_pivoted['positive prediction'] = tp_pivoted.apply(find_positive_predictions, axis=1)"
   ]
  },
  {
   "cell_type": "code",
   "execution_count": 30,
   "metadata": {},
   "outputs": [],
   "source": [
    "# Keep only rows with at least one positive prediction or one negative prediction\n",
    "tp_pivoted = tp_pivoted.loc[(tp_pivoted['positive prediction']=='positive prediction')|(tp_pivoted['negative prediction']=='negative prediction')]"
   ]
  },
  {
   "cell_type": "code",
   "execution_count": 31,
   "metadata": {},
   "outputs": [],
   "source": [
    "# Identify rows that already have a measurement in above bioactivity"
   ]
  },
  {
   "cell_type": "code",
   "execution_count": 32,
   "metadata": {},
   "outputs": [],
   "source": [
    "measured_pairs = set(zip(bioact_drugs_all['parent_molregno'], bioact_drugs_all['accession']))"
   ]
  },
  {
   "cell_type": "code",
   "execution_count": 33,
   "metadata": {},
   "outputs": [],
   "source": [
    "def id_measurement_avail(row):\n",
    "    if (row['Compound'], row['Target']) in measured_pairs:\n",
    "        return 1\n",
    "    else:\n",
    "        return 0"
   ]
  },
  {
   "cell_type": "code",
   "execution_count": 34,
   "metadata": {},
   "outputs": [],
   "source": [
    "tp_pivoted['measurement_available'] = tp_pivoted.apply(id_measurement_avail, axis=1)"
   ]
  },
  {
   "cell_type": "code",
   "execution_count": 35,
   "metadata": {},
   "outputs": [
    {
     "data": {
      "text/html": [
       "<div>\n",
       "<style scoped>\n",
       "    .dataframe tbody tr th:only-of-type {\n",
       "        vertical-align: middle;\n",
       "    }\n",
       "\n",
       "    .dataframe tbody tr th {\n",
       "        vertical-align: top;\n",
       "    }\n",
       "\n",
       "    .dataframe thead th {\n",
       "        text-align: right;\n",
       "    }\n",
       "</style>\n",
       "<table border=\"1\" class=\"dataframe\">\n",
       "  <thead>\n",
       "    <tr style=\"text-align: right;\">\n",
       "      <th></th>\n",
       "      <th>Target</th>\n",
       "      <th>Compound</th>\n",
       "      <th>7</th>\n",
       "      <th>6</th>\n",
       "      <th>5</th>\n",
       "      <th>4</th>\n",
       "      <th>no information</th>\n",
       "      <th>negative prediction</th>\n",
       "      <th>positive prediction</th>\n",
       "      <th>measurement_available</th>\n",
       "    </tr>\n",
       "  </thead>\n",
       "  <tbody>\n",
       "    <tr>\n",
       "      <th>0</th>\n",
       "      <td>Q71U36</td>\n",
       "      <td>264400</td>\n",
       "      <td>NaN</td>\n",
       "      <td>NaN</td>\n",
       "      <td>0.005556</td>\n",
       "      <td>0.007692</td>\n",
       "      <td>NaN</td>\n",
       "      <td>negative prediction</td>\n",
       "      <td>NaN</td>\n",
       "      <td>0</td>\n",
       "    </tr>\n",
       "    <tr>\n",
       "      <th>1</th>\n",
       "      <td>O15530</td>\n",
       "      <td>264400</td>\n",
       "      <td>0.001000</td>\n",
       "      <td>0.001</td>\n",
       "      <td>0.001000</td>\n",
       "      <td>NaN</td>\n",
       "      <td>NaN</td>\n",
       "      <td>negative prediction</td>\n",
       "      <td>NaN</td>\n",
       "      <td>0</td>\n",
       "    </tr>\n",
       "    <tr>\n",
       "      <th>2</th>\n",
       "      <td>P31644</td>\n",
       "      <td>264400</td>\n",
       "      <td>0.001000</td>\n",
       "      <td>NaN</td>\n",
       "      <td>NaN</td>\n",
       "      <td>NaN</td>\n",
       "      <td>NaN</td>\n",
       "      <td>negative prediction</td>\n",
       "      <td>NaN</td>\n",
       "      <td>0</td>\n",
       "    </tr>\n",
       "    <tr>\n",
       "      <th>3</th>\n",
       "      <td>P22001</td>\n",
       "      <td>264400</td>\n",
       "      <td>0.015789</td>\n",
       "      <td>NaN</td>\n",
       "      <td>0.001000</td>\n",
       "      <td>NaN</td>\n",
       "      <td>NaN</td>\n",
       "      <td>negative prediction</td>\n",
       "      <td>NaN</td>\n",
       "      <td>0</td>\n",
       "    </tr>\n",
       "    <tr>\n",
       "      <th>5</th>\n",
       "      <td>P25440</td>\n",
       "      <td>264400</td>\n",
       "      <td>0.001000</td>\n",
       "      <td>0.001</td>\n",
       "      <td>0.007143</td>\n",
       "      <td>0.005000</td>\n",
       "      <td>NaN</td>\n",
       "      <td>negative prediction</td>\n",
       "      <td>NaN</td>\n",
       "      <td>0</td>\n",
       "    </tr>\n",
       "  </tbody>\n",
       "</table>\n",
       "</div>"
      ],
      "text/plain": [
       "   Target  Compound         7      6         5         4 no information  \\\n",
       "0  Q71U36    264400       NaN    NaN  0.005556  0.007692            NaN   \n",
       "1  O15530    264400  0.001000  0.001  0.001000       NaN            NaN   \n",
       "2  P31644    264400  0.001000    NaN       NaN       NaN            NaN   \n",
       "3  P22001    264400  0.015789    NaN  0.001000       NaN            NaN   \n",
       "5  P25440    264400  0.001000  0.001  0.007143  0.005000            NaN   \n",
       "\n",
       "   negative prediction positive prediction  measurement_available  \n",
       "0  negative prediction                 NaN                      0  \n",
       "1  negative prediction                 NaN                      0  \n",
       "2  negative prediction                 NaN                      0  \n",
       "3  negative prediction                 NaN                      0  \n",
       "5  negative prediction                 NaN                      0  "
      ]
     },
     "execution_count": 35,
     "metadata": {},
     "output_type": "execute_result"
    }
   ],
   "source": [
    "tp_pivoted.head()"
   ]
  },
  {
   "cell_type": "code",
   "execution_count": 36,
   "metadata": {},
   "outputs": [],
   "source": [
    "# Keep tp only where no measurements available. Keep only targets that have at least some measurements\n",
    "# To prevent associations being based on only predictions"
   ]
  },
  {
   "cell_type": "code",
   "execution_count": 37,
   "metadata": {},
   "outputs": [],
   "source": [
    "measured_targets = set(bioact_drugs_all['accession'])"
   ]
  },
  {
   "cell_type": "code",
   "execution_count": 38,
   "metadata": {},
   "outputs": [],
   "source": [
    "# Keep only where measurement for target is available and only drugs from AE datasets\n",
    "tp_pivoted_selected = tp_pivoted.loc[(tp_pivoted['measurement_available']==0)&(tp_pivoted['Target'].isin(measured_targets))&(tp_pivoted['Compound'].isin(drugs))]"
   ]
  },
  {
   "cell_type": "code",
   "execution_count": 39,
   "metadata": {},
   "outputs": [],
   "source": [
    "# Check data added by target predictions"
   ]
  },
  {
   "cell_type": "code",
   "execution_count": 40,
   "metadata": {},
   "outputs": [
    {
     "data": {
      "text/plain": [
       "(1463, 1147, 1119)"
      ]
     },
     "execution_count": 40,
     "metadata": {},
     "output_type": "execute_result"
    }
   ],
   "source": [
    "len(tp_pivoted_selected['Compound'].drop_duplicates()), len(bioact_drugs_all['parent_molregno'].drop_duplicates()), len(set(tp_pivoted_selected['Compound'].drop_duplicates()) & set(bioact_drugs_all['parent_molregno'].drop_duplicates()))"
   ]
  },
  {
   "cell_type": "code",
   "execution_count": 41,
   "metadata": {},
   "outputs": [
    {
     "data": {
      "text/plain": [
       "344"
      ]
     },
     "execution_count": 41,
     "metadata": {},
     "output_type": "execute_result"
    }
   ],
   "source": [
    "# Additional compounds from tp:\n",
    "len(set(tp_pivoted_selected['Compound'].drop_duplicates()) - set(bioact_drugs_all['parent_molregno'].drop_duplicates()))"
   ]
  },
  {
   "cell_type": "code",
   "execution_count": 42,
   "metadata": {},
   "outputs": [
    {
     "name": "stderr",
     "output_type": "stream",
     "text": [
      "/scratch/ias41/envs/release/lib/python3.6/site-packages/pandas/core/frame.py:4238: SettingWithCopyWarning: \n",
      "A value is trying to be set on a copy of a slice from a DataFrame\n",
      "\n",
      "See the caveats in the documentation: http://pandas.pydata.org/pandas-docs/stable/user_guide/indexing.html#returning-a-view-versus-a-copy\n",
      "  return super().rename(**kwargs)\n"
     ]
    }
   ],
   "source": [
    "tp_pivoted_selected.rename(columns={'Compound': 'parent_molregno', 'Target': 'accession'}, inplace=True)\n",
    "\n",
    "combined_df = pd.concat([tp_pivoted_selected, bioact_drugs_all], sort=False)"
   ]
  },
  {
   "cell_type": "code",
   "execution_count": 43,
   "metadata": {},
   "outputs": [
    {
     "data": {
      "text/html": [
       "<div>\n",
       "<style scoped>\n",
       "    .dataframe tbody tr th:only-of-type {\n",
       "        vertical-align: middle;\n",
       "    }\n",
       "\n",
       "    .dataframe tbody tr th {\n",
       "        vertical-align: top;\n",
       "    }\n",
       "\n",
       "    .dataframe thead th {\n",
       "        text-align: right;\n",
       "    }\n",
       "</style>\n",
       "<table border=\"1\" class=\"dataframe\">\n",
       "  <thead>\n",
       "    <tr style=\"text-align: right;\">\n",
       "      <th></th>\n",
       "      <th>accession</th>\n",
       "      <th>parent_molregno</th>\n",
       "      <th>7</th>\n",
       "      <th>6</th>\n",
       "      <th>5</th>\n",
       "      <th>4</th>\n",
       "      <th>no information</th>\n",
       "      <th>negative prediction</th>\n",
       "      <th>positive prediction</th>\n",
       "      <th>measurement_available</th>\n",
       "      <th>parent_chembl_id</th>\n",
       "      <th>target_organism</th>\n",
       "      <th>summary</th>\n",
       "    </tr>\n",
       "  </thead>\n",
       "  <tbody>\n",
       "    <tr>\n",
       "      <th>1</th>\n",
       "      <td>O15530</td>\n",
       "      <td>264400</td>\n",
       "      <td>0.001000</td>\n",
       "      <td>0.001</td>\n",
       "      <td>0.001</td>\n",
       "      <td>NaN</td>\n",
       "      <td>NaN</td>\n",
       "      <td>negative prediction</td>\n",
       "      <td>NaN</td>\n",
       "      <td>0.0</td>\n",
       "      <td>NaN</td>\n",
       "      <td>NaN</td>\n",
       "      <td>NaN</td>\n",
       "    </tr>\n",
       "    <tr>\n",
       "      <th>2</th>\n",
       "      <td>P31644</td>\n",
       "      <td>264400</td>\n",
       "      <td>0.001000</td>\n",
       "      <td>NaN</td>\n",
       "      <td>NaN</td>\n",
       "      <td>NaN</td>\n",
       "      <td>NaN</td>\n",
       "      <td>negative prediction</td>\n",
       "      <td>NaN</td>\n",
       "      <td>0.0</td>\n",
       "      <td>NaN</td>\n",
       "      <td>NaN</td>\n",
       "      <td>NaN</td>\n",
       "    </tr>\n",
       "    <tr>\n",
       "      <th>17</th>\n",
       "      <td>P14920</td>\n",
       "      <td>264400</td>\n",
       "      <td>0.013636</td>\n",
       "      <td>0.001</td>\n",
       "      <td>0.001</td>\n",
       "      <td>NaN</td>\n",
       "      <td>NaN</td>\n",
       "      <td>negative prediction</td>\n",
       "      <td>NaN</td>\n",
       "      <td>0.0</td>\n",
       "      <td>NaN</td>\n",
       "      <td>NaN</td>\n",
       "      <td>NaN</td>\n",
       "    </tr>\n",
       "    <tr>\n",
       "      <th>24</th>\n",
       "      <td>P27361</td>\n",
       "      <td>264400</td>\n",
       "      <td>0.001000</td>\n",
       "      <td>0.001</td>\n",
       "      <td>0.001</td>\n",
       "      <td>NaN</td>\n",
       "      <td>NaN</td>\n",
       "      <td>negative prediction</td>\n",
       "      <td>NaN</td>\n",
       "      <td>0.0</td>\n",
       "      <td>NaN</td>\n",
       "      <td>NaN</td>\n",
       "      <td>NaN</td>\n",
       "    </tr>\n",
       "    <tr>\n",
       "      <th>27</th>\n",
       "      <td>Q59H18</td>\n",
       "      <td>264400</td>\n",
       "      <td>NaN</td>\n",
       "      <td>NaN</td>\n",
       "      <td>0.001</td>\n",
       "      <td>0.001</td>\n",
       "      <td>NaN</td>\n",
       "      <td>negative prediction</td>\n",
       "      <td>NaN</td>\n",
       "      <td>0.0</td>\n",
       "      <td>NaN</td>\n",
       "      <td>NaN</td>\n",
       "      <td>NaN</td>\n",
       "    </tr>\n",
       "  </tbody>\n",
       "</table>\n",
       "</div>"
      ],
      "text/plain": [
       "   accession  parent_molregno         7      6      5      4 no information  \\\n",
       "1     O15530           264400  0.001000  0.001  0.001    NaN            NaN   \n",
       "2     P31644           264400  0.001000    NaN    NaN    NaN            NaN   \n",
       "17    P14920           264400  0.013636  0.001  0.001    NaN            NaN   \n",
       "24    P27361           264400  0.001000  0.001  0.001    NaN            NaN   \n",
       "27    Q59H18           264400       NaN    NaN  0.001  0.001            NaN   \n",
       "\n",
       "    negative prediction positive prediction  measurement_available  \\\n",
       "1   negative prediction                 NaN                    0.0   \n",
       "2   negative prediction                 NaN                    0.0   \n",
       "17  negative prediction                 NaN                    0.0   \n",
       "24  negative prediction                 NaN                    0.0   \n",
       "27  negative prediction                 NaN                    0.0   \n",
       "\n",
       "   parent_chembl_id target_organism summary  \n",
       "1               NaN             NaN     NaN  \n",
       "2               NaN             NaN     NaN  \n",
       "17              NaN             NaN     NaN  \n",
       "24              NaN             NaN     NaN  \n",
       "27              NaN             NaN     NaN  "
      ]
     },
     "execution_count": 43,
     "metadata": {},
     "output_type": "execute_result"
    }
   ],
   "source": [
    "combined_df.head()"
   ]
  },
  {
   "cell_type": "code",
   "execution_count": 44,
   "metadata": {},
   "outputs": [
    {
     "data": {
      "text/plain": [
       "(0.8624855016431471, 0.1375144983568529)"
      ]
     },
     "execution_count": 44,
     "metadata": {},
     "output_type": "execute_result"
    }
   ],
   "source": [
    "# Additional bioactivities from tp (total)\n",
    "sum(combined_df['measurement_available'].notnull())/len(combined_df), sum(combined_df['measurement_available'].isnull())/len(combined_df)\n",
    "# approx 13% from measured, 86 from predicted"
   ]
  },
  {
   "cell_type": "code",
   "execution_count": 45,
   "metadata": {},
   "outputs": [
    {
     "data": {
      "text/plain": [
       "(413840, 413840)"
      ]
     },
     "execution_count": 45,
     "metadata": {},
     "output_type": "execute_result"
    }
   ],
   "source": [
    "len(combined_df), len(combined_df[['parent_molregno', 'accession',]].drop_duplicates())"
   ]
  },
  {
   "cell_type": "code",
   "execution_count": 46,
   "metadata": {},
   "outputs": [
    {
     "name": "stderr",
     "output_type": "stream",
     "text": [
      "/scratch/ias41/envs/release/lib/python3.6/site-packages/ipykernel_launcher.py:2: SettingWithCopyWarning: \n",
      "A value is trying to be set on a copy of a slice from a DataFrame.\n",
      "Try using .loc[row_indexer,col_indexer] = value instead\n",
      "\n",
      "See the caveats in the documentation: http://pandas.pydata.org/pandas-docs/stable/user_guide/indexing.html#returning-a-view-versus-a-copy\n",
      "  \n"
     ]
    }
   ],
   "source": [
    "combined_df_numeric = combined_df.loc[combined_df['summary']!='inactive',:]\n",
    "combined_df_numeric['summary'] = combined_df_numeric['summary'].astype('float')"
   ]
  },
  {
   "cell_type": "code",
   "execution_count": 47,
   "metadata": {},
   "outputs": [
    {
     "data": {
      "text/plain": [
       "(413840, 413840)"
      ]
     },
     "execution_count": 47,
     "metadata": {},
     "output_type": "execute_result"
    }
   ],
   "source": [
    "len(combined_df), len(combined_df[['parent_molregno', 'accession','summary']].drop_duplicates())"
   ]
  },
  {
   "cell_type": "code",
   "execution_count": 48,
   "metadata": {},
   "outputs": [],
   "source": [
    "# Save bioactivity\n",
    "tp_pivoted_selected.to_csv(project_dir + '/results/tp_ae_drugs.txt', sep='\\t', index=False)\n",
    "combined_df.to_csv(project_dir + '/results/bioact_medians_plus_tp_ae_drugs.txt', sep='\\t', index=False)"
   ]
  },
  {
   "cell_type": "code",
   "execution_count": 49,
   "metadata": {},
   "outputs": [],
   "source": [
    "# Do matrix counts on new dataframe\n",
    "\n",
    "# Create a report about the bioactivity data\n",
    "\n",
    "total_cells = len(combined_df['parent_molregno'].drop_duplicates())*len(combined_df['accession'].drop_duplicates())\n",
    "\n",
    "frac_filled = len(combined_df) / total_cells\n",
    "frac_inactive = len(combined_df.loc[combined_df['summary']=='inactive',['parent_molregno','accession']].drop_duplicates()) / total_cells\n",
    "frac_negative = len(combined_df_numeric.loc[((combined_df_numeric['summary']<6)|(combined_df_numeric['negative prediction']=='negative prediction')),:])/total_cells\n",
    "frac_positive = len(combined_df_numeric.loc[((combined_df_numeric['summary']>=6)|(combined_df_numeric['positive prediction']=='positive prediction')),:])/total_cells\n",
    "frac_positive_and_negative = len(combined_df_numeric.loc[(combined_df_numeric['positive prediction']=='positive prediction')&(combined_df_numeric['negative prediction']=='negative prediction')])/total_cells\n",
    "total_check = (frac_inactive + frac_negative + frac_positive) - frac_positive_and_negative\n",
    "\n",
    "info = [\n",
    "'Number of drug-target pairs: {}'.format(len(combined_df[['parent_molregno', 'accession']]))\n",
    ", 'Number of drugs with bioactivity added by target prediction: {}'.format(len(set(tp_pivoted_selected['parent_molregno'].drop_duplicates()) - set(bioact_drugs_all['parent_molregno'].drop_duplicates())))    \n",
    ", 'Number of unique drugs from AE datasets with measured or predicted bioactivities: {}'.format(len(combined_df['parent_molregno'].drop_duplicates()))\n",
    ", 'Number of unique Uniprot IDs: {}'.format(len(combined_df['accession'].drop_duplicates()))\n",
    ", 'Total cells: {} x {} = {}'.format(str(len(combined_df['parent_molregno'].drop_duplicates())), len(combined_df['accession'].drop_duplicates()), total_cells)\n",
    ", 'Percentage of cells of matrix (compound-target pairs) with data (active/inactive/activity_comment): {:.3f}%'.format(frac_filled*100)\n",
    ", 'Percentage of drug-target pairs with \"inactive\" from activity_comment: {:.3f}%'.format(frac_inactive*100)\n",
    ", 'Percentage of drug-target pairs with pchembl < 6 or negative prediction: {:.3f}%'.format(frac_negative*100)\n",
    ", 'Percentage of drug-target pairs with pchembl >= 6 or positive prediction: {:.3f}%'.format(frac_positive*100)\n",
    ", 'Percentage of drug-target pairs with both positive and negative predictions (depending on concentration): {:.3f}%'.format(frac_positive_and_negative*100)\n",
    ", 'Total above 4 perc check: {:.3f}%'.format(total_check*100)\n",
    ", 'Cases with both positive and negative predictions will be processed later'\n",
    ", 'Percentage of datapoints from measured bioactivities: {:.3f}%'.format((len(combined_df.loc[~combined_df['summary'].isnull()])/len(combined_df))*100)\n",
    ", 'Percentage of datapoints from prediction: {:.3f}%'.format((len(combined_df.loc[combined_df['summary'].isnull()])/len(combined_df))*100)\n",
    "]    \n",
    "\n",
    "with open(project_dir + '/results/bioactivities_plus_target_prediction_matrix_counts_report.txt', 'w') as f:\n",
    "    f.write('\\n'.join(info))"
   ]
  },
  {
   "cell_type": "code",
   "execution_count": null,
   "metadata": {},
   "outputs": [],
   "source": []
  }
 ],
 "metadata": {
  "kernelspec": {
   "display_name": "Python 3",
   "language": "python",
   "name": "python3"
  },
  "language_info": {
   "codemirror_mode": {
    "name": "ipython",
    "version": 3
   },
   "file_extension": ".py",
   "mimetype": "text/x-python",
   "name": "python",
   "nbconvert_exporter": "python",
   "pygments_lexer": "ipython3",
   "version": "3.6.7"
  }
 },
 "nbformat": 4,
 "nbformat_minor": 4
}
