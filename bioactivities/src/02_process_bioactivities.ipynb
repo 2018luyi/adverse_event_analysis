{
 "cells": [
  {
   "cell_type": "code",
   "execution_count": 1,
   "metadata": {},
   "outputs": [
    {
     "data": {
      "text/plain": [
       "'Open results from querying ChEMBL with FAERS compounds. Process activity comments so that we can use inactive data.'"
      ]
     },
     "execution_count": 1,
     "metadata": {},
     "output_type": "execute_result"
    }
   ],
   "source": [
    "\"\"\"Open results from querying ChEMBL with FAERS compounds. Process activity comments so that we can use inactive data.\"\"\""
   ]
  },
  {
   "cell_type": "code",
   "execution_count": 2,
   "metadata": {},
   "outputs": [],
   "source": [
    "import pandas as pd\n",
    "import numpy as np"
   ]
  },
  {
   "cell_type": "code",
   "execution_count": 3,
   "metadata": {},
   "outputs": [],
   "source": [
    "pd.set_option('display.max_colwidth',200)\n",
    "pd.set_option('display.max_rows', 200)"
   ]
  },
  {
   "cell_type": "code",
   "execution_count": 4,
   "metadata": {},
   "outputs": [],
   "source": [
    "basedir = '/scratch/ias41/ae_code'"
   ]
  },
  {
   "cell_type": "code",
   "execution_count": 5,
   "metadata": {},
   "outputs": [
    {
     "name": "stderr",
     "output_type": "stream",
     "text": [
      "/scratch/ias41/envs/release/lib/python3.6/site-packages/IPython/core/interactiveshell.py:3058: DtypeWarning: Columns (8,12) have mixed types. Specify dtype option on import or set low_memory=False.\n",
      "  interactivity=interactivity, compiler=compiler, result=result)\n"
     ]
    }
   ],
   "source": [
    "query_results = pd.read_csv(basedir + '/bioactivities/data/bioactivities.txt', sep='\\t')"
   ]
  },
  {
   "cell_type": "code",
   "execution_count": 6,
   "metadata": {},
   "outputs": [
    {
     "data": {
      "text/plain": [
       "3314700"
      ]
     },
     "execution_count": 6,
     "metadata": {},
     "output_type": "execute_result"
    }
   ],
   "source": [
    "len(query_results)"
   ]
  },
  {
   "cell_type": "code",
   "execution_count": 7,
   "metadata": {},
   "outputs": [
    {
     "data": {
      "text/html": [
       "<div>\n",
       "<style scoped>\n",
       "    .dataframe tbody tr th:only-of-type {\n",
       "        vertical-align: middle;\n",
       "    }\n",
       "\n",
       "    .dataframe tbody tr th {\n",
       "        vertical-align: top;\n",
       "    }\n",
       "\n",
       "    .dataframe thead th {\n",
       "        text-align: right;\n",
       "    }\n",
       "</style>\n",
       "<table border=\"1\" class=\"dataframe\">\n",
       "  <thead>\n",
       "    <tr style=\"text-align: right;\">\n",
       "      <th></th>\n",
       "      <th>parent_molregno</th>\n",
       "      <th>parent_chembl_id</th>\n",
       "      <th>accession</th>\n",
       "      <th>tid</th>\n",
       "      <th>target_organism</th>\n",
       "      <th>target_name</th>\n",
       "      <th>target_type</th>\n",
       "      <th>standard_type</th>\n",
       "      <th>standard_relation</th>\n",
       "      <th>pchembl_value</th>\n",
       "      <th>standard_flag</th>\n",
       "      <th>activity_comment</th>\n",
       "      <th>data_validity_comment</th>\n",
       "      <th>description</th>\n",
       "      <th>assay_chembl_id</th>\n",
       "      <th>src_id</th>\n",
       "      <th>src_description</th>\n",
       "    </tr>\n",
       "  </thead>\n",
       "  <tbody>\n",
       "    <tr>\n",
       "      <th>0</th>\n",
       "      <td>123534</td>\n",
       "      <td>CHEMBL307429</td>\n",
       "      <td>O43451</td>\n",
       "      <td>1</td>\n",
       "      <td>Homo sapiens</td>\n",
       "      <td>Maltase-glucoamylase</td>\n",
       "      <td>SINGLE PROTEIN</td>\n",
       "      <td>IC50</td>\n",
       "      <td>=</td>\n",
       "      <td>7.40</td>\n",
       "      <td>1</td>\n",
       "      <td>NaN</td>\n",
       "      <td>NaN</td>\n",
       "      <td>Inhibitory concentration against human alpha-glucosidase</td>\n",
       "      <td>CHEMBL827835</td>\n",
       "      <td>1</td>\n",
       "      <td>Scientific Literature</td>\n",
       "    </tr>\n",
       "    <tr>\n",
       "      <th>1</th>\n",
       "      <td>623303</td>\n",
       "      <td>CHEMBL1089559</td>\n",
       "      <td>O43451</td>\n",
       "      <td>1</td>\n",
       "      <td>Homo sapiens</td>\n",
       "      <td>Maltase-glucoamylase</td>\n",
       "      <td>SINGLE PROTEIN</td>\n",
       "      <td>Ki</td>\n",
       "      <td>=</td>\n",
       "      <td>6.70</td>\n",
       "      <td>1</td>\n",
       "      <td>NaN</td>\n",
       "      <td>NaN</td>\n",
       "      <td>Inhibition of recombinant human maltase glucoamylase N-terminal catalytic domain</td>\n",
       "      <td>CHEMBL1112641</td>\n",
       "      <td>1</td>\n",
       "      <td>Scientific Literature</td>\n",
       "    </tr>\n",
       "    <tr>\n",
       "      <th>2</th>\n",
       "      <td>623304</td>\n",
       "      <td>CHEMBL1093264</td>\n",
       "      <td>O43451</td>\n",
       "      <td>1</td>\n",
       "      <td>Homo sapiens</td>\n",
       "      <td>Maltase-glucoamylase</td>\n",
       "      <td>SINGLE PROTEIN</td>\n",
       "      <td>Ki</td>\n",
       "      <td>=</td>\n",
       "      <td>6.72</td>\n",
       "      <td>1</td>\n",
       "      <td>NaN</td>\n",
       "      <td>NaN</td>\n",
       "      <td>Inhibition of recombinant human maltase glucoamylase N-terminal catalytic domain</td>\n",
       "      <td>CHEMBL1112641</td>\n",
       "      <td>1</td>\n",
       "      <td>Scientific Literature</td>\n",
       "    </tr>\n",
       "    <tr>\n",
       "      <th>3</th>\n",
       "      <td>623305</td>\n",
       "      <td>CHEMBL1093524</td>\n",
       "      <td>O43451</td>\n",
       "      <td>1</td>\n",
       "      <td>Homo sapiens</td>\n",
       "      <td>Maltase-glucoamylase</td>\n",
       "      <td>SINGLE PROTEIN</td>\n",
       "      <td>Ki</td>\n",
       "      <td>=</td>\n",
       "      <td>7.00</td>\n",
       "      <td>1</td>\n",
       "      <td>NaN</td>\n",
       "      <td>NaN</td>\n",
       "      <td>Inhibition of recombinant human maltase glucoamylase N-terminal catalytic domain</td>\n",
       "      <td>CHEMBL1112641</td>\n",
       "      <td>1</td>\n",
       "      <td>Scientific Literature</td>\n",
       "    </tr>\n",
       "    <tr>\n",
       "      <th>4</th>\n",
       "      <td>623306</td>\n",
       "      <td>CHEMBL1093525</td>\n",
       "      <td>O43451</td>\n",
       "      <td>1</td>\n",
       "      <td>Homo sapiens</td>\n",
       "      <td>Maltase-glucoamylase</td>\n",
       "      <td>SINGLE PROTEIN</td>\n",
       "      <td>Ki</td>\n",
       "      <td>=</td>\n",
       "      <td>6.89</td>\n",
       "      <td>1</td>\n",
       "      <td>NaN</td>\n",
       "      <td>NaN</td>\n",
       "      <td>Inhibition of recombinant human maltase glucoamylase N-terminal catalytic domain</td>\n",
       "      <td>CHEMBL1112641</td>\n",
       "      <td>1</td>\n",
       "      <td>Scientific Literature</td>\n",
       "    </tr>\n",
       "  </tbody>\n",
       "</table>\n",
       "</div>"
      ],
      "text/plain": [
       "   parent_molregno parent_chembl_id accession  tid target_organism  \\\n",
       "0           123534     CHEMBL307429    O43451    1    Homo sapiens   \n",
       "1           623303    CHEMBL1089559    O43451    1    Homo sapiens   \n",
       "2           623304    CHEMBL1093264    O43451    1    Homo sapiens   \n",
       "3           623305    CHEMBL1093524    O43451    1    Homo sapiens   \n",
       "4           623306    CHEMBL1093525    O43451    1    Homo sapiens   \n",
       "\n",
       "            target_name     target_type standard_type standard_relation  \\\n",
       "0  Maltase-glucoamylase  SINGLE PROTEIN          IC50                 =   \n",
       "1  Maltase-glucoamylase  SINGLE PROTEIN            Ki                 =   \n",
       "2  Maltase-glucoamylase  SINGLE PROTEIN            Ki                 =   \n",
       "3  Maltase-glucoamylase  SINGLE PROTEIN            Ki                 =   \n",
       "4  Maltase-glucoamylase  SINGLE PROTEIN            Ki                 =   \n",
       "\n",
       "   pchembl_value  standard_flag activity_comment data_validity_comment  \\\n",
       "0           7.40              1              NaN                   NaN   \n",
       "1           6.70              1              NaN                   NaN   \n",
       "2           6.72              1              NaN                   NaN   \n",
       "3           7.00              1              NaN                   NaN   \n",
       "4           6.89              1              NaN                   NaN   \n",
       "\n",
       "                                                                        description  \\\n",
       "0                          Inhibitory concentration against human alpha-glucosidase   \n",
       "1  Inhibition of recombinant human maltase glucoamylase N-terminal catalytic domain   \n",
       "2  Inhibition of recombinant human maltase glucoamylase N-terminal catalytic domain   \n",
       "3  Inhibition of recombinant human maltase glucoamylase N-terminal catalytic domain   \n",
       "4  Inhibition of recombinant human maltase glucoamylase N-terminal catalytic domain   \n",
       "\n",
       "  assay_chembl_id  src_id        src_description  \n",
       "0    CHEMBL827835       1  Scientific Literature  \n",
       "1   CHEMBL1112641       1  Scientific Literature  \n",
       "2   CHEMBL1112641       1  Scientific Literature  \n",
       "3   CHEMBL1112641       1  Scientific Literature  \n",
       "4   CHEMBL1112641       1  Scientific Literature  "
      ]
     },
     "execution_count": 7,
     "metadata": {},
     "output_type": "execute_result"
    }
   ],
   "source": [
    "query_results.head()"
   ]
  },
  {
   "cell_type": "markdown",
   "metadata": {},
   "source": [
    "### Do some filtering of results"
   ]
  },
  {
   "cell_type": "code",
   "execution_count": 8,
   "metadata": {},
   "outputs": [],
   "source": [
    "selected_data = query_results.copy()"
   ]
  },
  {
   "cell_type": "code",
   "execution_count": 9,
   "metadata": {},
   "outputs": [],
   "source": [
    "# throw away rows with 'NaN' and no pchembl value\n",
    "selected_data.drop(labels=selected_data.loc[(selected_data['pchembl_value'].isnull())&(selected_data['activity_comment'].isnull())].index, inplace=True)"
   ]
  },
  {
   "cell_type": "code",
   "execution_count": 10,
   "metadata": {},
   "outputs": [],
   "source": [
    "# Do not use measurements outside typical range\n",
    "selected_data.drop(labels=selected_data.loc[selected_data['data_validity_comment']=='Outside typical range',:].index, inplace=True)"
   ]
  },
  {
   "cell_type": "code",
   "execution_count": 11,
   "metadata": {},
   "outputs": [
    {
     "data": {
      "text/plain": [
       "3160229"
      ]
     },
     "execution_count": 11,
     "metadata": {},
     "output_type": "execute_result"
    }
   ],
   "source": [
    "len(selected_data)"
   ]
  },
  {
   "cell_type": "code",
   "execution_count": 12,
   "metadata": {},
   "outputs": [
    {
     "data": {
      "text/plain": [
       "45                                                                             Not Active\n",
       "463                                                                        Not Determined\n",
       "625        Not Active (inhibition < 50% @ 10 uM and thus dose-reponse curve not measured)\n",
       "914                                           Note: corresponding IC50 reported as Active\n",
       "2886                                                                               Active\n",
       "16879                                                                        Slow Binding\n",
       "17013                                                                      Not determined\n",
       "18025                                                                        Inconclusive\n",
       "28926                                                               Dose-dependent effect\n",
       "29558                                                                        inconclusive\n",
       "29560                                                                              active\n",
       "29929                                                                            inactive\n",
       "35388                                                                           ND(toxic)\n",
       "58533                                                                     Inverse agonist\n",
       "67170                                                                             Agonist\n",
       "70913                                                                             No data\n",
       "100586                                                          Inactivation not observed\n",
       "106582                                                                          Non-toxic\n",
       "143598                                                                       Low activity\n",
       "156839                                                                      Nd(Insoluble)\n",
       "170991                                                                         Not Tested\n",
       "171473                                                                      Not Evaluated\n",
       "179221                                                                         Antagonist\n",
       "205691                                                                      ND(Insoluble)\n",
       "211909                                                                      No inhibition\n",
       "222087                                                                           Inactive\n",
       "230049                                                                    Partial agonist\n",
       "230053                                                                 Partial antagonist\n",
       "244221                                                                   Partially active\n",
       "339969         OUTCOME = IC50 was not calculated since inhibition did not reach 50% level\n",
       "367054                                                                              probe\n",
       "473247                                                                                 NT\n",
       "473327                                                                          Activator\n",
       "480952                                                       No slow-onset phase observed\n",
       "574107                                                                           Increase\n",
       "821744                                                   Interpretation: Specific Binding\n",
       "824548                                                                  Not Active at 5uM\n",
       "1128262                                                           Inhibition not detected\n",
       "1645559                                                                      ND(Unstable)\n",
       "3039200                                                                      Low efficacy\n",
       "3041251                                                             compound not obtained\n",
       "Name: activity_comment, dtype: object"
      ]
     },
     "execution_count": 12,
     "metadata": {},
     "output_type": "execute_result"
    }
   ],
   "source": [
    "# Inspect activity comments, the 'and thus' captures Drugmatrix data\n",
    "selected_data.loc[(~selected_data['activity_comment'].isnull())&(selected_data['activity_comment'].str.contains('^[0-9]+$|Original reference')==False)&(selected_data['activity_comment'].str.contains('inhibitor [', regex=False)==False)&(selected_data['pchembl_value'].isnull()),'activity_comment'].drop_duplicates()"
   ]
  },
  {
   "cell_type": "code",
   "execution_count": 13,
   "metadata": {},
   "outputs": [],
   "source": [
    "# First set summary equal to pchembl_value\n",
    "selected_data['summary'] = selected_data['pchembl_value']"
   ]
  },
  {
   "cell_type": "code",
   "execution_count": 14,
   "metadata": {},
   "outputs": [],
   "source": [
    "inactive_comments = [\n",
    "    'Not Active'\n",
    "    , 'inactive'\n",
    "    , 'Inactive'\n",
    "    , 'No inhibition'\n",
    "    , 'Not Active (inhibition < 50% @ 10 uM and thus dose-reponse curve not measured)'\n",
    "]"
   ]
  },
  {
   "cell_type": "code",
   "execution_count": 15,
   "metadata": {},
   "outputs": [],
   "source": [
    "def make_activity_summary(x):\n",
    "    if np.isnan(x['summary']) and x['activity_comment'] in inactive_comments:\n",
    "        return 'inactive'\n",
    "    else:\n",
    "        return x['pchembl_value']"
   ]
  },
  {
   "cell_type": "code",
   "execution_count": 16,
   "metadata": {},
   "outputs": [],
   "source": [
    "selected_data['summary'] = selected_data.apply(make_activity_summary, axis=1)"
   ]
  },
  {
   "cell_type": "code",
   "execution_count": 17,
   "metadata": {},
   "outputs": [
    {
     "data": {
      "text/html": [
       "<div>\n",
       "<style scoped>\n",
       "    .dataframe tbody tr th:only-of-type {\n",
       "        vertical-align: middle;\n",
       "    }\n",
       "\n",
       "    .dataframe tbody tr th {\n",
       "        vertical-align: top;\n",
       "    }\n",
       "\n",
       "    .dataframe thead th {\n",
       "        text-align: right;\n",
       "    }\n",
       "</style>\n",
       "<table border=\"1\" class=\"dataframe\">\n",
       "  <thead>\n",
       "    <tr style=\"text-align: right;\">\n",
       "      <th></th>\n",
       "      <th>activity_comment</th>\n",
       "      <th>summary</th>\n",
       "    </tr>\n",
       "  </thead>\n",
       "  <tbody>\n",
       "    <tr>\n",
       "      <th>45</th>\n",
       "      <td>Not Active</td>\n",
       "      <td>inactive</td>\n",
       "    </tr>\n",
       "    <tr>\n",
       "      <th>625</th>\n",
       "      <td>Not Active (inhibition &lt; 50% @ 10 uM and thus dose-reponse curve not measured)</td>\n",
       "      <td>inactive</td>\n",
       "    </tr>\n",
       "    <tr>\n",
       "      <th>29929</th>\n",
       "      <td>inactive</td>\n",
       "      <td>inactive</td>\n",
       "    </tr>\n",
       "    <tr>\n",
       "      <th>211909</th>\n",
       "      <td>No inhibition</td>\n",
       "      <td>inactive</td>\n",
       "    </tr>\n",
       "    <tr>\n",
       "      <th>222087</th>\n",
       "      <td>Inactive</td>\n",
       "      <td>inactive</td>\n",
       "    </tr>\n",
       "  </tbody>\n",
       "</table>\n",
       "</div>"
      ],
      "text/plain": [
       "                                                                      activity_comment  \\\n",
       "45                                                                          Not Active   \n",
       "625     Not Active (inhibition < 50% @ 10 uM and thus dose-reponse curve not measured)   \n",
       "29929                                                                         inactive   \n",
       "211909                                                                   No inhibition   \n",
       "222087                                                                        Inactive   \n",
       "\n",
       "         summary  \n",
       "45      inactive  \n",
       "625     inactive  \n",
       "29929   inactive  \n",
       "211909  inactive  \n",
       "222087  inactive  "
      ]
     },
     "execution_count": 17,
     "metadata": {},
     "output_type": "execute_result"
    }
   ],
   "source": [
    "# Inspect all summaries assigned\n",
    "selected_data.loc[(selected_data['pchembl_value'].isnull())&(~selected_data['summary'].isnull()),['activity_comment', 'summary']].drop_duplicates()"
   ]
  },
  {
   "cell_type": "code",
   "execution_count": 18,
   "metadata": {},
   "outputs": [],
   "source": [
    "# Drop rows without a summary\n",
    "selected_data.drop(labels=selected_data.loc[selected_data['summary'].isnull(),:].index, inplace=True)"
   ]
  },
  {
   "cell_type": "code",
   "execution_count": 19,
   "metadata": {},
   "outputs": [
    {
     "data": {
      "text/html": [
       "<div>\n",
       "<style scoped>\n",
       "    .dataframe tbody tr th:only-of-type {\n",
       "        vertical-align: middle;\n",
       "    }\n",
       "\n",
       "    .dataframe tbody tr th {\n",
       "        vertical-align: top;\n",
       "    }\n",
       "\n",
       "    .dataframe thead th {\n",
       "        text-align: right;\n",
       "    }\n",
       "</style>\n",
       "<table border=\"1\" class=\"dataframe\">\n",
       "  <thead>\n",
       "    <tr style=\"text-align: right;\">\n",
       "      <th></th>\n",
       "      <th>pchembl_value</th>\n",
       "      <th>summary</th>\n",
       "    </tr>\n",
       "  </thead>\n",
       "  <tbody>\n",
       "    <tr>\n",
       "      <th>17981</th>\n",
       "      <td>NaN</td>\n",
       "      <td>inactive</td>\n",
       "    </tr>\n",
       "    <tr>\n",
       "      <th>1104986</th>\n",
       "      <td>4.3</td>\n",
       "      <td>4.3</td>\n",
       "    </tr>\n",
       "  </tbody>\n",
       "</table>\n",
       "</div>"
      ],
      "text/plain": [
       "         pchembl_value   summary\n",
       "17981              NaN  inactive\n",
       "1104986            4.3       4.3"
      ]
     },
     "execution_count": 19,
     "metadata": {},
     "output_type": "execute_result"
    }
   ],
   "source": [
    "selected_data.loc[selected_data['standard_relation']=='>',['pchembl_value', 'summary']].drop_duplicates()"
   ]
  },
  {
   "cell_type": "code",
   "execution_count": 20,
   "metadata": {},
   "outputs": [],
   "source": [
    "# I'm not sure what this 'larger than' datapoint means, so drop it\n",
    "selected_data.drop(labels=selected_data.loc[(~selected_data['pchembl_value'].isnull())&(selected_data['standard_relation']=='>'),:].index, inplace=True)"
   ]
  },
  {
   "cell_type": "code",
   "execution_count": 21,
   "metadata": {},
   "outputs": [],
   "source": [
    "# Save copy of processed results\n",
    "selected_data.to_csv(basedir + '/bioactivities/data/bioactivities_processed.txt', sep='\\t', index=False)"
   ]
  },
  {
   "cell_type": "code",
   "execution_count": null,
   "metadata": {},
   "outputs": [],
   "source": []
  }
 ],
 "metadata": {
  "kernelspec": {
   "display_name": "Python 3",
   "language": "python",
   "name": "python3"
  },
  "language_info": {
   "codemirror_mode": {
    "name": "ipython",
    "version": 3
   },
   "file_extension": ".py",
   "mimetype": "text/x-python",
   "name": "python",
   "nbconvert_exporter": "python",
   "pygments_lexer": "ipython3",
   "version": "3.6.7"
  }
 },
 "nbformat": 4,
 "nbformat_minor": 4
}
