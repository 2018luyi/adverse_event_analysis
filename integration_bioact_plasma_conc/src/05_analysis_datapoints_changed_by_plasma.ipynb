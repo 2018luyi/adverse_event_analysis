{
 "cells": [
  {
   "cell_type": "code",
   "execution_count": 2,
   "metadata": {},
   "outputs": [
    {
     "data": {
      "text/plain": [
       "'Some analysis on integration of bioac with plasma conc. data. Want to know what % of datapoints is changed by plasma conc, and direction of change compared to pchembl 6.'"
      ]
     },
     "execution_count": 2,
     "metadata": {},
     "output_type": "execute_result"
    }
   ],
   "source": [
    "\"\"\"Some analysis on integration of bioac with plasma conc. data. Want to know what % of datapoints is changed by plasma conc, and direction of change compared to pchembl 6.\"\"\""
   ]
  },
  {
   "cell_type": "code",
   "execution_count": 3,
   "metadata": {},
   "outputs": [],
   "source": [
    "import pandas as pd\n",
    "import seaborn as sns\n",
    "import matplotlib.pyplot as plt\n",
    "import numpy as np\n",
    "from matplotlib import rc\n",
    "import pickle\n",
    "from matplotlib_venn import venn2, venn2_circles"
   ]
  },
  {
   "cell_type": "code",
   "execution_count": 4,
   "metadata": {},
   "outputs": [],
   "source": [
    "basedir = '/scratch/ias41/ae_code'"
   ]
  },
  {
   "cell_type": "code",
   "execution_count": 5,
   "metadata": {},
   "outputs": [
    {
     "name": "stderr",
     "output_type": "stream",
     "text": [
      "/scratch/ias41/envs/release/lib/python3.6/site-packages/IPython/core/interactiveshell.py:3058: DtypeWarning: Columns (3) have mixed types. Specify dtype option on import or set low_memory=False.\n",
      "  interactivity=interactivity, compiler=compiler, result=result)\n"
     ]
    }
   ],
   "source": [
    "# Load datafiles which are not restricted to min_n so we can see actual dataset ? \n",
    "pchembl6 = pd.read_csv(basedir + '/integration_bioact_plasma_conc/results/pchembl6_tp_cutoff_median.txt', sep='\\t')\n",
    "total_margin = pd.read_csv(basedir + '/integration_bioact_plasma_conc/results/total_median_margin_added_preds_measured_proteins.txt', sep='\\t')\n",
    "unbound_margin = pd.read_csv(basedir + '/integration_bioact_plasma_conc/results/unbound_median_margin_added_preds_measured_proteins.txt', sep='\\t')\n",
    "total_no_margin = pd.read_csv(basedir + '/integration_bioact_plasma_conc/results/total_median_no_margin_added_preds_measured_proteins.txt', sep='\\t')\n",
    "unbound_no_margin = pd.read_csv(basedir + '/integration_bioact_plasma_conc/results/unbound_median_no_margin_added_preds_measured_proteins.txt', sep='\\t')"
   ]
  },
  {
   "cell_type": "code",
   "execution_count": 6,
   "metadata": {},
   "outputs": [
    {
     "data": {
      "text/plain": [
       "(197085, 187142)"
      ]
     },
     "execution_count": 6,
     "metadata": {},
     "output_type": "execute_result"
    }
   ],
   "source": [
    "len(unbound_margin), len(unbound_no_margin)"
   ]
  },
  {
   "cell_type": "code",
   "execution_count": 7,
   "metadata": {},
   "outputs": [
    {
     "data": {
      "text/plain": [
       "(244082, 218244)"
      ]
     },
     "execution_count": 7,
     "metadata": {},
     "output_type": "execute_result"
    }
   ],
   "source": [
    "len(total_margin), len(total_no_margin)"
   ]
  },
  {
   "cell_type": "code",
   "execution_count": 14,
   "metadata": {},
   "outputs": [
    {
     "data": {
      "text/plain": [
       "0.0    324856\n",
       "1.0      1163\n",
       "Name: integrated_plasma_activity, dtype: int64"
      ]
     },
     "execution_count": 14,
     "metadata": {},
     "output_type": "execute_result"
    }
   ],
   "source": [
    "# Fraction active \n",
    "pchembl6.loc[pchembl6['predicted']==1,'integrated_plasma_activity'].value_counts()"
   ]
  },
  {
   "cell_type": "code",
   "execution_count": 16,
   "metadata": {},
   "outputs": [
    {
     "data": {
      "text/plain": [
       "0.35672767538088274"
      ]
     },
     "execution_count": 16,
     "metadata": {},
     "output_type": "execute_result"
    }
   ],
   "source": [
    "(1163 / len(pchembl6.loc[pchembl6['predicted']==1,'integrated_plasma_activity']))*100"
   ]
  },
  {
   "cell_type": "code",
   "execution_count": 17,
   "metadata": {},
   "outputs": [
    {
     "data": {
      "text/plain": [
       "0.0    53083\n",
       "1.0     3826\n",
       "Name: integrated_plasma_activity, dtype: int64"
      ]
     },
     "execution_count": 17,
     "metadata": {},
     "output_type": "execute_result"
    }
   ],
   "source": [
    "# Fraction active \n",
    "pchembl6.loc[pchembl6['predicted']==0,'integrated_plasma_activity'].value_counts()"
   ]
  },
  {
   "cell_type": "code",
   "execution_count": 20,
   "metadata": {},
   "outputs": [
    {
     "data": {
      "text/plain": [
       "6.723013934527051"
      ]
     },
     "execution_count": 20,
     "metadata": {},
     "output_type": "execute_result"
    }
   ],
   "source": [
    "(3826 / len(pchembl6.loc[pchembl6['predicted']==0,'integrated_plasma_activity']))*100"
   ]
  },
  {
   "cell_type": "code",
   "execution_count": 21,
   "metadata": {},
   "outputs": [
    {
     "data": {
      "text/plain": [
       "0.0    377939\n",
       "1.0      4989\n",
       "Name: integrated_plasma_activity, dtype: int64"
      ]
     },
     "execution_count": 21,
     "metadata": {},
     "output_type": "execute_result"
    }
   ],
   "source": [
    "pchembl6['integrated_plasma_activity'].value_counts()"
   ]
  },
  {
   "cell_type": "code",
   "execution_count": 22,
   "metadata": {},
   "outputs": [
    {
     "data": {
      "text/plain": [
       "1.3028558893577906"
      ]
     },
     "execution_count": 22,
     "metadata": {},
     "output_type": "execute_result"
    }
   ],
   "source": [
    "(4989 / len(pchembl6))*100"
   ]
  },
  {
   "cell_type": "code",
   "execution_count": 8,
   "metadata": {},
   "outputs": [
    {
     "data": {
      "text/plain": [
       "0.0    147339\n",
       "1.0       159\n",
       "Name: integrated_plasma_activity, dtype: int64"
      ]
     },
     "execution_count": 8,
     "metadata": {},
     "output_type": "execute_result"
    }
   ],
   "source": [
    "# Fractions active and inactive - predicted\n",
    "unbound_margin.loc[unbound_margin['predicted']==1,'integrated_plasma_activity'].value_counts()"
   ]
  },
  {
   "cell_type": "code",
   "execution_count": 9,
   "metadata": {},
   "outputs": [
    {
     "data": {
      "text/plain": [
       "0.10779807183826222"
      ]
     },
     "execution_count": 9,
     "metadata": {},
     "output_type": "execute_result"
    }
   ],
   "source": [
    "(159 / len(unbound_margin.loc[unbound_margin['predicted']==1,'integrated_plasma_activity']))*100"
   ]
  },
  {
   "cell_type": "code",
   "execution_count": 10,
   "metadata": {},
   "outputs": [
    {
     "data": {
      "text/plain": [
       "0.0    47793\n",
       "1.0     1794\n",
       "Name: integrated_plasma_activity, dtype: int64"
      ]
     },
     "execution_count": 10,
     "metadata": {},
     "output_type": "execute_result"
    }
   ],
   "source": [
    "# Fractions active and inactive - measured\n",
    "unbound_margin.loc[unbound_margin['predicted']==0,'integrated_plasma_activity'].value_counts()"
   ]
  },
  {
   "cell_type": "code",
   "execution_count": 11,
   "metadata": {},
   "outputs": [
    {
     "data": {
      "text/plain": [
       "3.617883719523262"
      ]
     },
     "execution_count": 11,
     "metadata": {},
     "output_type": "execute_result"
    }
   ],
   "source": [
    "(1794 / len(unbound_margin.loc[unbound_margin['predicted']==0,'integrated_plasma_activity']))*100"
   ]
  },
  {
   "cell_type": "code",
   "execution_count": 12,
   "metadata": {},
   "outputs": [
    {
     "data": {
      "text/plain": [
       "0.0    195132\n",
       "1.0      1953\n",
       "Name: integrated_plasma_activity, dtype: int64"
      ]
     },
     "execution_count": 12,
     "metadata": {},
     "output_type": "execute_result"
    }
   ],
   "source": [
    "# Fractions active and inactive - measured + predicted\n",
    "unbound_margin['integrated_plasma_activity'].value_counts()"
   ]
  },
  {
   "cell_type": "code",
   "execution_count": 13,
   "metadata": {},
   "outputs": [
    {
     "data": {
      "text/plain": [
       "0.9909429941395844"
      ]
     },
     "execution_count": 13,
     "metadata": {},
     "output_type": "execute_result"
    }
   ],
   "source": [
    "(1953 / len(unbound_margin))*100"
   ]
  },
  {
   "cell_type": "code",
   "execution_count": 29,
   "metadata": {},
   "outputs": [
    {
     "data": {
      "text/plain": [
       "Index(['accession', 'parent_molregno', 'integrated_plasma_activity',\n",
       "       'predicted'],\n",
       "      dtype='object')"
      ]
     },
     "execution_count": 29,
     "metadata": {},
     "output_type": "execute_result"
    }
   ],
   "source": [
    "pchembl6.columns"
   ]
  },
  {
   "cell_type": "code",
   "execution_count": 28,
   "metadata": {},
   "outputs": [
    {
     "data": {
      "text/html": [
       "<div>\n",
       "<style scoped>\n",
       "    .dataframe tbody tr th:only-of-type {\n",
       "        vertical-align: middle;\n",
       "    }\n",
       "\n",
       "    .dataframe tbody tr th {\n",
       "        vertical-align: top;\n",
       "    }\n",
       "\n",
       "    .dataframe thead th {\n",
       "        text-align: right;\n",
       "    }\n",
       "</style>\n",
       "<table border=\"1\" class=\"dataframe\">\n",
       "  <thead>\n",
       "    <tr style=\"text-align: right;\">\n",
       "      <th></th>\n",
       "      <th>parent_molregno</th>\n",
       "      <th>integrated_plasma_activity</th>\n",
       "      <th>predicted</th>\n",
       "    </tr>\n",
       "    <tr>\n",
       "      <th>accession</th>\n",
       "      <th></th>\n",
       "      <th></th>\n",
       "      <th></th>\n",
       "    </tr>\n",
       "  </thead>\n",
       "  <tbody>\n",
       "    <tr>\n",
       "      <th>A5LHX3</th>\n",
       "      <td>447</td>\n",
       "      <td>447</td>\n",
       "      <td>447</td>\n",
       "    </tr>\n",
       "    <tr>\n",
       "      <th>B2RXH2</th>\n",
       "      <td>191</td>\n",
       "      <td>191</td>\n",
       "      <td>191</td>\n",
       "    </tr>\n",
       "    <tr>\n",
       "      <th>O00206</th>\n",
       "      <td>381</td>\n",
       "      <td>381</td>\n",
       "      <td>381</td>\n",
       "    </tr>\n",
       "    <tr>\n",
       "      <th>O00231</th>\n",
       "      <td>474</td>\n",
       "      <td>474</td>\n",
       "      <td>474</td>\n",
       "    </tr>\n",
       "    <tr>\n",
       "      <th>O00232</th>\n",
       "      <td>474</td>\n",
       "      <td>474</td>\n",
       "      <td>474</td>\n",
       "    </tr>\n",
       "    <tr>\n",
       "      <th>...</th>\n",
       "      <td>...</td>\n",
       "      <td>...</td>\n",
       "      <td>...</td>\n",
       "    </tr>\n",
       "    <tr>\n",
       "      <th>Q9Y6E0</th>\n",
       "      <td>2</td>\n",
       "      <td>2</td>\n",
       "      <td>2</td>\n",
       "    </tr>\n",
       "    <tr>\n",
       "      <th>Q9Y6L6</th>\n",
       "      <td>7</td>\n",
       "      <td>7</td>\n",
       "      <td>7</td>\n",
       "    </tr>\n",
       "    <tr>\n",
       "      <th>Q9Y6M4</th>\n",
       "      <td>1</td>\n",
       "      <td>1</td>\n",
       "      <td>1</td>\n",
       "    </tr>\n",
       "    <tr>\n",
       "      <th>Q9Y6Q9</th>\n",
       "      <td>4</td>\n",
       "      <td>4</td>\n",
       "      <td>4</td>\n",
       "    </tr>\n",
       "    <tr>\n",
       "      <th>Q9Y6R4</th>\n",
       "      <td>10</td>\n",
       "      <td>10</td>\n",
       "      <td>10</td>\n",
       "    </tr>\n",
       "  </tbody>\n",
       "</table>\n",
       "<p>1044 rows × 3 columns</p>\n",
       "</div>"
      ],
      "text/plain": [
       "           parent_molregno  integrated_plasma_activity  predicted\n",
       "accession                                                        \n",
       "A5LHX3                 447                         447        447\n",
       "B2RXH2                 191                         191        191\n",
       "O00206                 381                         381        381\n",
       "O00231                 474                         474        474\n",
       "O00232                 474                         474        474\n",
       "...                    ...                         ...        ...\n",
       "Q9Y6E0                   2                           2          2\n",
       "Q9Y6L6                   7                           7          7\n",
       "Q9Y6M4                   1                           1          1\n",
       "Q9Y6Q9                   4                           4          4\n",
       "Q9Y6R4                  10                          10         10\n",
       "\n",
       "[1044 rows x 3 columns]"
      ]
     },
     "execution_count": 28,
     "metadata": {},
     "output_type": "execute_result"
    }
   ],
   "source": [
    "pchembl6.groupby('accession').count()"
   ]
  },
  {
   "cell_type": "code",
   "execution_count": null,
   "metadata": {},
   "outputs": [],
   "source": []
  },
  {
   "cell_type": "code",
   "execution_count": 77,
   "metadata": {},
   "outputs": [],
   "source": [
    "# Margin and no_margin have different nr of datapoints if predictions were used because of margin enabling the use of more predictions.\n",
    "# Margin and no_margin without predictions but min5active also have different nr datapoints due to the min5active\n",
    "# Without min5active nr datapoints is the same"
   ]
  },
  {
   "cell_type": "code",
   "execution_count": 78,
   "metadata": {},
   "outputs": [
    {
     "data": {
      "text/html": [
       "<div>\n",
       "<style scoped>\n",
       "    .dataframe tbody tr th:only-of-type {\n",
       "        vertical-align: middle;\n",
       "    }\n",
       "\n",
       "    .dataframe tbody tr th {\n",
       "        vertical-align: top;\n",
       "    }\n",
       "\n",
       "    .dataframe thead th {\n",
       "        text-align: right;\n",
       "    }\n",
       "</style>\n",
       "<table border=\"1\" class=\"dataframe\">\n",
       "  <thead>\n",
       "    <tr style=\"text-align: right;\">\n",
       "      <th></th>\n",
       "      <th>accession</th>\n",
       "      <th>parent_molregno</th>\n",
       "      <th>integrated_plasma_activity</th>\n",
       "      <th>predicted</th>\n",
       "    </tr>\n",
       "  </thead>\n",
       "  <tbody>\n",
       "    <tr>\n",
       "      <th>0</th>\n",
       "      <td>B2RXH2</td>\n",
       "      <td>97</td>\n",
       "      <td>0.0</td>\n",
       "      <td>0</td>\n",
       "    </tr>\n",
       "    <tr>\n",
       "      <th>1</th>\n",
       "      <td>O15118</td>\n",
       "      <td>97</td>\n",
       "      <td>0.0</td>\n",
       "      <td>0</td>\n",
       "    </tr>\n",
       "    <tr>\n",
       "      <th>2</th>\n",
       "      <td>O15244</td>\n",
       "      <td>97</td>\n",
       "      <td>0.0</td>\n",
       "      <td>0</td>\n",
       "    </tr>\n",
       "    <tr>\n",
       "      <th>3</th>\n",
       "      <td>O15245</td>\n",
       "      <td>97</td>\n",
       "      <td>0.0</td>\n",
       "      <td>0</td>\n",
       "    </tr>\n",
       "    <tr>\n",
       "      <th>4</th>\n",
       "      <td>O75496</td>\n",
       "      <td>97</td>\n",
       "      <td>0.0</td>\n",
       "      <td>0</td>\n",
       "    </tr>\n",
       "  </tbody>\n",
       "</table>\n",
       "</div>"
      ],
      "text/plain": [
       "  accession  parent_molregno  integrated_plasma_activity  predicted\n",
       "0    B2RXH2               97                         0.0          0\n",
       "1    O15118               97                         0.0          0\n",
       "2    O15244               97                         0.0          0\n",
       "3    O15245               97                         0.0          0\n",
       "4    O75496               97                         0.0          0"
      ]
     },
     "execution_count": 78,
     "metadata": {},
     "output_type": "execute_result"
    }
   ],
   "source": [
    "pchembl6.head()"
   ]
  },
  {
   "cell_type": "code",
   "execution_count": 79,
   "metadata": {},
   "outputs": [
    {
     "data": {
      "text/html": [
       "<div>\n",
       "<style scoped>\n",
       "    .dataframe tbody tr th:only-of-type {\n",
       "        vertical-align: middle;\n",
       "    }\n",
       "\n",
       "    .dataframe tbody tr th {\n",
       "        vertical-align: top;\n",
       "    }\n",
       "\n",
       "    .dataframe thead th {\n",
       "        text-align: right;\n",
       "    }\n",
       "</style>\n",
       "<table border=\"1\" class=\"dataframe\">\n",
       "  <thead>\n",
       "    <tr style=\"text-align: right;\">\n",
       "      <th></th>\n",
       "      <th>parent_molregno</th>\n",
       "      <th>accession</th>\n",
       "      <th>integrated_plasma_activity</th>\n",
       "      <th>pref_name</th>\n",
       "      <th>predicted</th>\n",
       "    </tr>\n",
       "  </thead>\n",
       "  <tbody>\n",
       "    <tr>\n",
       "      <th>0</th>\n",
       "      <td>97</td>\n",
       "      <td>B2RXH2</td>\n",
       "      <td>0.0</td>\n",
       "      <td>PRAZOSIN</td>\n",
       "      <td>0</td>\n",
       "    </tr>\n",
       "    <tr>\n",
       "      <th>1</th>\n",
       "      <td>97</td>\n",
       "      <td>O15118</td>\n",
       "      <td>0.0</td>\n",
       "      <td>PRAZOSIN</td>\n",
       "      <td>0</td>\n",
       "    </tr>\n",
       "    <tr>\n",
       "      <th>2</th>\n",
       "      <td>97</td>\n",
       "      <td>O15244</td>\n",
       "      <td>0.0</td>\n",
       "      <td>PRAZOSIN</td>\n",
       "      <td>0</td>\n",
       "    </tr>\n",
       "    <tr>\n",
       "      <th>3</th>\n",
       "      <td>97</td>\n",
       "      <td>O15245</td>\n",
       "      <td>0.0</td>\n",
       "      <td>PRAZOSIN</td>\n",
       "      <td>0</td>\n",
       "    </tr>\n",
       "    <tr>\n",
       "      <th>4</th>\n",
       "      <td>97</td>\n",
       "      <td>O75496</td>\n",
       "      <td>0.0</td>\n",
       "      <td>PRAZOSIN</td>\n",
       "      <td>0</td>\n",
       "    </tr>\n",
       "  </tbody>\n",
       "</table>\n",
       "</div>"
      ],
      "text/plain": [
       "   parent_molregno accession  integrated_plasma_activity pref_name  predicted\n",
       "0               97    B2RXH2                         0.0  PRAZOSIN          0\n",
       "1               97    O15118                         0.0  PRAZOSIN          0\n",
       "2               97    O15244                         0.0  PRAZOSIN          0\n",
       "3               97    O15245                         0.0  PRAZOSIN          0\n",
       "4               97    O75496                         0.0  PRAZOSIN          0"
      ]
     },
     "execution_count": 79,
     "metadata": {},
     "output_type": "execute_result"
    }
   ],
   "source": [
    "total_margin.head()"
   ]
  },
  {
   "cell_type": "code",
   "execution_count": 80,
   "metadata": {},
   "outputs": [
    {
     "data": {
      "text/html": [
       "<div>\n",
       "<style scoped>\n",
       "    .dataframe tbody tr th:only-of-type {\n",
       "        vertical-align: middle;\n",
       "    }\n",
       "\n",
       "    .dataframe tbody tr th {\n",
       "        vertical-align: top;\n",
       "    }\n",
       "\n",
       "    .dataframe thead th {\n",
       "        text-align: right;\n",
       "    }\n",
       "</style>\n",
       "<table border=\"1\" class=\"dataframe\">\n",
       "  <thead>\n",
       "    <tr style=\"text-align: right;\">\n",
       "      <th></th>\n",
       "      <th>parent_molregno</th>\n",
       "      <th>accession</th>\n",
       "      <th>integrated_plasma_activity</th>\n",
       "      <th>pref_name</th>\n",
       "      <th>predicted</th>\n",
       "    </tr>\n",
       "  </thead>\n",
       "  <tbody>\n",
       "    <tr>\n",
       "      <th>0</th>\n",
       "      <td>97</td>\n",
       "      <td>B2RXH2</td>\n",
       "      <td>0.0</td>\n",
       "      <td>PRAZOSIN</td>\n",
       "      <td>0</td>\n",
       "    </tr>\n",
       "    <tr>\n",
       "      <th>1</th>\n",
       "      <td>97</td>\n",
       "      <td>O15118</td>\n",
       "      <td>0.0</td>\n",
       "      <td>PRAZOSIN</td>\n",
       "      <td>0</td>\n",
       "    </tr>\n",
       "    <tr>\n",
       "      <th>2</th>\n",
       "      <td>97</td>\n",
       "      <td>O15244</td>\n",
       "      <td>0.0</td>\n",
       "      <td>PRAZOSIN</td>\n",
       "      <td>0</td>\n",
       "    </tr>\n",
       "    <tr>\n",
       "      <th>3</th>\n",
       "      <td>97</td>\n",
       "      <td>O15245</td>\n",
       "      <td>0.0</td>\n",
       "      <td>PRAZOSIN</td>\n",
       "      <td>0</td>\n",
       "    </tr>\n",
       "    <tr>\n",
       "      <th>4</th>\n",
       "      <td>97</td>\n",
       "      <td>O75496</td>\n",
       "      <td>0.0</td>\n",
       "      <td>PRAZOSIN</td>\n",
       "      <td>0</td>\n",
       "    </tr>\n",
       "  </tbody>\n",
       "</table>\n",
       "</div>"
      ],
      "text/plain": [
       "   parent_molregno accession  integrated_plasma_activity pref_name  predicted\n",
       "0               97    B2RXH2                         0.0  PRAZOSIN          0\n",
       "1               97    O15118                         0.0  PRAZOSIN          0\n",
       "2               97    O15244                         0.0  PRAZOSIN          0\n",
       "3               97    O15245                         0.0  PRAZOSIN          0\n",
       "4               97    O75496                         0.0  PRAZOSIN          0"
      ]
     },
     "execution_count": 80,
     "metadata": {},
     "output_type": "execute_result"
    }
   ],
   "source": [
    "unbound_no_margin.head()"
   ]
  },
  {
   "cell_type": "code",
   "execution_count": 81,
   "metadata": {},
   "outputs": [],
   "source": [
    "merged_total_margin = pchembl6.merge(total_margin, on=['parent_molregno','accession'], suffixes = ['_cutoff', '_changed'])[['parent_molregno', 'pref_name','accession', 'integrated_plasma_activity_cutoff', 'integrated_plasma_activity_changed']]\n",
    "merged_total_no_margin = pchembl6.merge(total_no_margin, on=['parent_molregno','accession'], suffixes = ['_cutoff', '_changed'])[['parent_molregno', 'pref_name','accession', 'integrated_plasma_activity_cutoff', 'integrated_plasma_activity_changed']]"
   ]
  },
  {
   "cell_type": "code",
   "execution_count": null,
   "metadata": {},
   "outputs": [],
   "source": []
  },
  {
   "cell_type": "code",
   "execution_count": 102,
   "metadata": {},
   "outputs": [],
   "source": [
    "merged_unbound_margin = pchembl6.merge(unbound_margin, on=['parent_molregno','accession'], suffixes = ['_cutoff', '_changed'])[['parent_molregno', 'pref_name','accession', 'integrated_plasma_activity_cutoff', 'integrated_plasma_activity_changed']]\n",
    "merged_unbound_no_margin = pchembl6.merge(unbound_no_margin, on=['parent_molregno','accession'], suffixes = ['_cutoff', '_changed'])[['parent_molregno', 'pref_name','accession', 'integrated_plasma_activity_cutoff', 'integrated_plasma_activity_changed']]"
   ]
  },
  {
   "cell_type": "code",
   "execution_count": null,
   "metadata": {},
   "outputs": [],
   "source": []
  },
  {
   "cell_type": "code",
   "execution_count": 83,
   "metadata": {},
   "outputs": [
    {
     "name": "stdout",
     "output_type": "stream",
     "text": [
      "Total margin: 1.013038425412459 \n",
      "\n",
      "Total no margin: 0.6816612977450529 \n",
      "\n",
      "Unbound margin: 0.5904478656403079 \n",
      "\n",
      "Unbound no margin: 0.6241045036207097 \n",
      "\n"
     ]
    }
   ],
   "source": [
    "# Percentage of total datapoints changed by plasma concentrations\n",
    "\n",
    "for df, title in zip([merged_total_margin, merged_total_no_margin, merged_unbound_margin, merged_unbound_no_margin], ['Total margin', 'Total no margin', 'Unbound margin', 'Unbound no margin']):\n",
    "    changed = len(df.loc[df['integrated_plasma_activity_cutoff']!=df['integrated_plasma_activity_changed']])\n",
    "    total = len(df)\n",
    "    perc_changed = (changed / total) * 100\n",
    "    \n",
    "    print(title + ': ' + str(perc_changed) + ' \\n')"
   ]
  },
  {
   "cell_type": "code",
   "execution_count": 84,
   "metadata": {},
   "outputs": [
    {
     "name": "stdout",
     "output_type": "stream",
     "text": [
      "Total margin -  To active: 94.02828706128862; To inactive: 5.971712938711367\n",
      "\n",
      "Total no margin -  To active: 61.18143459915611; To inactive: 38.81856540084388\n",
      "\n",
      "Unbound margin -  To active: 68.46560846560847; To inactive: 31.53439153439154\n",
      "\n",
      "Unbound no margin -  To active: 26.5770423991727; To inactive: 73.4229576008273\n",
      "\n"
     ]
    }
   ],
   "source": [
    "# Direction of change\n",
    "\n",
    "for df, title in zip([merged_total_margin, merged_total_no_margin, merged_unbound_margin, merged_unbound_no_margin], ['Total margin', 'Total no margin', 'Unbound margin', 'Unbound no margin']):\n",
    "    \n",
    "    changed = len(df.loc[df['integrated_plasma_activity_cutoff']!=df['integrated_plasma_activity_changed']])\n",
    "\n",
    "    changed_to_active = len(df.loc[(df['integrated_plasma_activity_cutoff']==0)&(df['integrated_plasma_activity_changed']==1)])\n",
    "    changed_to_inactive = len(df.loc[(df['integrated_plasma_activity_cutoff']==1)&(df['integrated_plasma_activity_changed']==0)])\n",
    "    \n",
    "    perc_changed_to_active = (changed_to_active / changed) * 100\n",
    "    perc_changed_to_inactive = (changed_to_inactive / changed) * 100\n",
    "    \n",
    "    print(title + ' -  To active: ' + str(perc_changed_to_active) + '; To inactive: ' + str(perc_changed_to_inactive) + '\\n')\n"
   ]
  },
  {
   "cell_type": "code",
   "execution_count": 85,
   "metadata": {},
   "outputs": [
    {
     "name": "stdout",
     "output_type": "stream",
     "text": [
      "Total margin: 5.25103638876094\n",
      "\n",
      "Total no margin: 21.9256434699714\n",
      "\n",
      "Unbound margin: 19.25064599483204\n",
      "\n",
      "Unbound no margin: 47.051027170311464\n",
      "\n"
     ]
    }
   ],
   "source": [
    "# Percentage of active datapoint affected\n",
    "\n",
    "for df, title in zip([merged_total_margin, merged_total_no_margin, merged_unbound_margin, merged_unbound_no_margin], ['Total margin', 'Total no margin', 'Unbound margin', 'Unbound no margin']):\n",
    "    active_df = df.loc[df['integrated_plasma_activity_cutoff']==1]\n",
    "    \n",
    "    active_changed = len(active_df.loc[active_df['integrated_plasma_activity_cutoff']!=active_df['integrated_plasma_activity_changed']])\n",
    "    total = len(active_df)\n",
    "    perc_changed = (active_changed / total) * 100\n",
    "    \n",
    "    print(title + ': ' + str(perc_changed) + '\\n')\n"
   ]
  },
  {
   "cell_type": "code",
   "execution_count": 86,
   "metadata": {},
   "outputs": [],
   "source": [
    "# Change in nr/share of active datapoints after integration"
   ]
  },
  {
   "cell_type": "code",
   "execution_count": null,
   "metadata": {},
   "outputs": [],
   "source": []
  },
  {
   "cell_type": "code",
   "execution_count": null,
   "metadata": {},
   "outputs": [],
   "source": []
  },
  {
   "cell_type": "markdown",
   "metadata": {},
   "source": [
    "### Effect of restricting to plasma concentrations on size of dataset"
   ]
  },
  {
   "cell_type": "code",
   "execution_count": 87,
   "metadata": {},
   "outputs": [
    {
     "data": {
      "text/plain": [
       "63.740964358835086"
      ]
     },
     "execution_count": 87,
     "metadata": {},
     "output_type": "execute_result"
    }
   ],
   "source": [
    "# Total plasma conc as % of pchembl dataset - nr of drug-target pairs\n",
    "(len(total_margin) / len(pchembl6)) *100"
   ]
  },
  {
   "cell_type": "code",
   "execution_count": 88,
   "metadata": {},
   "outputs": [
    {
     "data": {
      "text/plain": [
       "95.45060658578856"
      ]
     },
     "execution_count": 88,
     "metadata": {},
     "output_type": "execute_result"
    }
   ],
   "source": [
    "# Total plasma conc as % of pchembl dataset - nr of unique drugs\n",
    "(len(total_margin['parent_molregno'].drop_duplicates()) / len(pchembl6['parent_molregno'].drop_duplicates())) *100"
   ]
  },
  {
   "cell_type": "code",
   "execution_count": 89,
   "metadata": {},
   "outputs": [
    {
     "data": {
      "text/plain": [
       "83.04597701149426"
      ]
     },
     "execution_count": 89,
     "metadata": {},
     "output_type": "execute_result"
    }
   ],
   "source": [
    "# Total plasma conc as % of pchembl dataset - nr of unique targets\n",
    "(len(total_margin['accession'].drop_duplicates()) / len(pchembl6['accession'].drop_duplicates())) *100"
   ]
  },
  {
   "cell_type": "code",
   "execution_count": 90,
   "metadata": {},
   "outputs": [
    {
     "data": {
      "text/plain": [
       "51.46789997075169"
      ]
     },
     "execution_count": 90,
     "metadata": {},
     "output_type": "execute_result"
    }
   ],
   "source": [
    "# Unbound dataset as % of pchembl dataset - nr of drug-target pairs\n",
    "(len(unbound_margin) / len(pchembl6)) *100"
   ]
  },
  {
   "cell_type": "code",
   "execution_count": 91,
   "metadata": {},
   "outputs": [
    {
     "data": {
      "text/plain": [
       "93.89081455805892"
      ]
     },
     "execution_count": 91,
     "metadata": {},
     "output_type": "execute_result"
    }
   ],
   "source": [
    "# Unbound plasma conc as % of pchembl dataset - nr of unique drugs\n",
    "(len(unbound_margin['parent_molregno'].drop_duplicates()) / len(pchembl6['parent_molregno'].drop_duplicates())) *100"
   ]
  },
  {
   "cell_type": "code",
   "execution_count": 92,
   "metadata": {},
   "outputs": [
    {
     "data": {
      "text/plain": [
       "63.601532567049816"
      ]
     },
     "execution_count": 92,
     "metadata": {},
     "output_type": "execute_result"
    }
   ],
   "source": [
    "# Unbound plasma conc as % of pchembl dataset - nr of unique targets\n",
    "(len(unbound_margin['accession'].drop_duplicates()) / len(pchembl6['accession'].drop_duplicates())) *100"
   ]
  },
  {
   "cell_type": "markdown",
   "metadata": {},
   "source": [
    "### Load target class data"
   ]
  },
  {
   "cell_type": "code",
   "execution_count": 30,
   "metadata": {},
   "outputs": [],
   "source": [
    "target_class = pd.read_csv(basedir + '/analysis/data/target_classification_all_levels_r.txt', sep='\\t')"
   ]
  },
  {
   "cell_type": "code",
   "execution_count": 31,
   "metadata": {},
   "outputs": [],
   "source": [
    "def find_integrated(x):\n",
    "    if x['level_2'] == 'Not available':\n",
    "        return x['level_1']\n",
    "    else:\n",
    "        return x['level_2']"
   ]
  },
  {
   "cell_type": "code",
   "execution_count": 32,
   "metadata": {},
   "outputs": [],
   "source": [
    "target_class['integrated_level'] = target_class.apply(find_integrated, axis=1)"
   ]
  },
  {
   "cell_type": "markdown",
   "metadata": {},
   "source": [
    "### Do nr of datapoints differ by target class?"
   ]
  },
  {
   "cell_type": "code",
   "execution_count": 151,
   "metadata": {},
   "outputs": [],
   "source": [
    "unbound_margin_target_class = unbound_margin.merge(target_class, on='accession', how='left')"
   ]
  },
  {
   "cell_type": "code",
   "execution_count": 152,
   "metadata": {},
   "outputs": [],
   "source": [
    "unbound_margin_target_class_active = unbound_margin_target_class.loc[unbound_margin_target_class['integrated_plasma_activity']==1.0]"
   ]
  },
  {
   "cell_type": "code",
   "execution_count": 153,
   "metadata": {},
   "outputs": [],
   "source": [
    "actives_count = pd.DataFrame(unbound_margin_target_class_active.groupby('accession')['integrated_plasma_activity'].value_counts()).merge(target_class, on='accession', how='left')"
   ]
  },
  {
   "cell_type": "code",
   "execution_count": 154,
   "metadata": {},
   "outputs": [
    {
     "data": {
      "text/html": [
       "<div>\n",
       "<style scoped>\n",
       "    .dataframe tbody tr th:only-of-type {\n",
       "        vertical-align: middle;\n",
       "    }\n",
       "\n",
       "    .dataframe tbody tr th {\n",
       "        vertical-align: top;\n",
       "    }\n",
       "\n",
       "    .dataframe thead th {\n",
       "        text-align: right;\n",
       "    }\n",
       "</style>\n",
       "<table border=\"1\" class=\"dataframe\">\n",
       "  <thead>\n",
       "    <tr style=\"text-align: right;\">\n",
       "      <th></th>\n",
       "      <th>accession</th>\n",
       "      <th>integrated_plasma_activity</th>\n",
       "      <th>level_1</th>\n",
       "      <th>level_2</th>\n",
       "      <th>level_3</th>\n",
       "      <th>level_4</th>\n",
       "      <th>level_5</th>\n",
       "      <th>level_6</th>\n",
       "      <th>integrated_level</th>\n",
       "    </tr>\n",
       "  </thead>\n",
       "  <tbody>\n",
       "    <tr>\n",
       "      <th>0</th>\n",
       "      <td>A5LHX3</td>\n",
       "      <td>1</td>\n",
       "      <td>Unclassified protein</td>\n",
       "      <td>Not available</td>\n",
       "      <td>NaN</td>\n",
       "      <td>NaN</td>\n",
       "      <td>NaN</td>\n",
       "      <td>NaN</td>\n",
       "      <td>Unclassified protein</td>\n",
       "    </tr>\n",
       "    <tr>\n",
       "      <th>1</th>\n",
       "      <td>B2RXH2</td>\n",
       "      <td>24</td>\n",
       "      <td>Epigenetic regulator</td>\n",
       "      <td>Eraser</td>\n",
       "      <td>Lysine demethylase</td>\n",
       "      <td>Jumonji domain-containing</td>\n",
       "      <td>NaN</td>\n",
       "      <td>NaN</td>\n",
       "      <td>Eraser</td>\n",
       "    </tr>\n",
       "    <tr>\n",
       "      <th>2</th>\n",
       "      <td>O00231</td>\n",
       "      <td>1</td>\n",
       "      <td>Enzyme</td>\n",
       "      <td>Not available</td>\n",
       "      <td>NaN</td>\n",
       "      <td>NaN</td>\n",
       "      <td>NaN</td>\n",
       "      <td>NaN</td>\n",
       "      <td>Enzyme</td>\n",
       "    </tr>\n",
       "    <tr>\n",
       "      <th>3</th>\n",
       "      <td>O00232</td>\n",
       "      <td>1</td>\n",
       "      <td>Enzyme</td>\n",
       "      <td>Not available</td>\n",
       "      <td>NaN</td>\n",
       "      <td>NaN</td>\n",
       "      <td>NaN</td>\n",
       "      <td>NaN</td>\n",
       "      <td>Enzyme</td>\n",
       "    </tr>\n",
       "    <tr>\n",
       "      <th>4</th>\n",
       "      <td>O00329</td>\n",
       "      <td>2</td>\n",
       "      <td>Enzyme</td>\n",
       "      <td>Not available</td>\n",
       "      <td>NaN</td>\n",
       "      <td>NaN</td>\n",
       "      <td>NaN</td>\n",
       "      <td>NaN</td>\n",
       "      <td>Enzyme</td>\n",
       "    </tr>\n",
       "  </tbody>\n",
       "</table>\n",
       "</div>"
      ],
      "text/plain": [
       "  accession  integrated_plasma_activity               level_1        level_2  \\\n",
       "0    A5LHX3                           1  Unclassified protein  Not available   \n",
       "1    B2RXH2                          24  Epigenetic regulator         Eraser   \n",
       "2    O00231                           1                Enzyme  Not available   \n",
       "3    O00232                           1                Enzyme  Not available   \n",
       "4    O00329                           2                Enzyme  Not available   \n",
       "\n",
       "              level_3                    level_4 level_5 level_6  \\\n",
       "0                 NaN                        NaN     NaN     NaN   \n",
       "1  Lysine demethylase  Jumonji domain-containing     NaN     NaN   \n",
       "2                 NaN                        NaN     NaN     NaN   \n",
       "3                 NaN                        NaN     NaN     NaN   \n",
       "4                 NaN                        NaN     NaN     NaN   \n",
       "\n",
       "       integrated_level  \n",
       "0  Unclassified protein  \n",
       "1                Eraser  \n",
       "2                Enzyme  \n",
       "3                Enzyme  \n",
       "4                Enzyme  "
      ]
     },
     "execution_count": 154,
     "metadata": {},
     "output_type": "execute_result"
    }
   ],
   "source": [
    "actives_count.head()"
   ]
  },
  {
   "cell_type": "code",
   "execution_count": 155,
   "metadata": {},
   "outputs": [
    {
     "data": {
      "text/html": [
       "<div>\n",
       "<style scoped>\n",
       "    .dataframe tbody tr th:only-of-type {\n",
       "        vertical-align: middle;\n",
       "    }\n",
       "\n",
       "    .dataframe tbody tr th {\n",
       "        vertical-align: top;\n",
       "    }\n",
       "\n",
       "    .dataframe thead th {\n",
       "        text-align: right;\n",
       "    }\n",
       "</style>\n",
       "<table border=\"1\" class=\"dataframe\">\n",
       "  <thead>\n",
       "    <tr style=\"text-align: right;\">\n",
       "      <th></th>\n",
       "      <th>count</th>\n",
       "      <th>mean</th>\n",
       "      <th>std</th>\n",
       "      <th>min</th>\n",
       "      <th>25%</th>\n",
       "      <th>50%</th>\n",
       "      <th>75%</th>\n",
       "      <th>max</th>\n",
       "    </tr>\n",
       "    <tr>\n",
       "      <th>integrated_level</th>\n",
       "      <th></th>\n",
       "      <th></th>\n",
       "      <th></th>\n",
       "      <th></th>\n",
       "      <th></th>\n",
       "      <th></th>\n",
       "      <th></th>\n",
       "      <th></th>\n",
       "    </tr>\n",
       "  </thead>\n",
       "  <tbody>\n",
       "    <tr>\n",
       "      <th>Calcium channel auxiliary subunit alpha2delta family</th>\n",
       "      <td>1.0</td>\n",
       "      <td>1.000000</td>\n",
       "      <td>NaN</td>\n",
       "      <td>1.0</td>\n",
       "      <td>1.00</td>\n",
       "      <td>1.0</td>\n",
       "      <td>1.00</td>\n",
       "      <td>1.0</td>\n",
       "    </tr>\n",
       "    <tr>\n",
       "      <th>Cytochrome P450</th>\n",
       "      <td>11.0</td>\n",
       "      <td>3.818182</td>\n",
       "      <td>3.027150</td>\n",
       "      <td>1.0</td>\n",
       "      <td>2.00</td>\n",
       "      <td>3.0</td>\n",
       "      <td>4.50</td>\n",
       "      <td>11.0</td>\n",
       "    </tr>\n",
       "    <tr>\n",
       "      <th>Electrochemical transporter</th>\n",
       "      <td>19.0</td>\n",
       "      <td>6.526316</td>\n",
       "      <td>8.500774</td>\n",
       "      <td>1.0</td>\n",
       "      <td>1.00</td>\n",
       "      <td>3.0</td>\n",
       "      <td>8.50</td>\n",
       "      <td>31.0</td>\n",
       "    </tr>\n",
       "    <tr>\n",
       "      <th>Enzyme</th>\n",
       "      <td>55.0</td>\n",
       "      <td>4.436364</td>\n",
       "      <td>8.337252</td>\n",
       "      <td>1.0</td>\n",
       "      <td>1.00</td>\n",
       "      <td>1.0</td>\n",
       "      <td>2.50</td>\n",
       "      <td>41.0</td>\n",
       "    </tr>\n",
       "    <tr>\n",
       "      <th>Eraser</th>\n",
       "      <td>14.0</td>\n",
       "      <td>6.428571</td>\n",
       "      <td>12.604726</td>\n",
       "      <td>1.0</td>\n",
       "      <td>1.00</td>\n",
       "      <td>2.0</td>\n",
       "      <td>2.75</td>\n",
       "      <td>45.0</td>\n",
       "    </tr>\n",
       "    <tr>\n",
       "      <th>Family A G protein-coupled receptor</th>\n",
       "      <td>61.0</td>\n",
       "      <td>11.426230</td>\n",
       "      <td>10.626161</td>\n",
       "      <td>1.0</td>\n",
       "      <td>1.00</td>\n",
       "      <td>10.0</td>\n",
       "      <td>20.00</td>\n",
       "      <td>38.0</td>\n",
       "    </tr>\n",
       "    <tr>\n",
       "      <th>Family C G protein-coupled receptor</th>\n",
       "      <td>2.0</td>\n",
       "      <td>1.000000</td>\n",
       "      <td>0.000000</td>\n",
       "      <td>1.0</td>\n",
       "      <td>1.00</td>\n",
       "      <td>1.0</td>\n",
       "      <td>1.00</td>\n",
       "      <td>1.0</td>\n",
       "    </tr>\n",
       "    <tr>\n",
       "      <th>Hydrolase</th>\n",
       "      <td>3.0</td>\n",
       "      <td>7.000000</td>\n",
       "      <td>1.732051</td>\n",
       "      <td>6.0</td>\n",
       "      <td>6.00</td>\n",
       "      <td>6.0</td>\n",
       "      <td>7.50</td>\n",
       "      <td>9.0</td>\n",
       "    </tr>\n",
       "    <tr>\n",
       "      <th>Isomerase</th>\n",
       "      <td>1.0</td>\n",
       "      <td>1.000000</td>\n",
       "      <td>NaN</td>\n",
       "      <td>1.0</td>\n",
       "      <td>1.00</td>\n",
       "      <td>1.0</td>\n",
       "      <td>1.00</td>\n",
       "      <td>1.0</td>\n",
       "    </tr>\n",
       "    <tr>\n",
       "      <th>Kinase</th>\n",
       "      <td>26.0</td>\n",
       "      <td>2.307692</td>\n",
       "      <td>3.552680</td>\n",
       "      <td>1.0</td>\n",
       "      <td>1.00</td>\n",
       "      <td>1.0</td>\n",
       "      <td>1.00</td>\n",
       "      <td>18.0</td>\n",
       "    </tr>\n",
       "    <tr>\n",
       "      <th>Ligand-gated ion channel</th>\n",
       "      <td>26.0</td>\n",
       "      <td>2.538462</td>\n",
       "      <td>2.063604</td>\n",
       "      <td>1.0</td>\n",
       "      <td>1.00</td>\n",
       "      <td>1.5</td>\n",
       "      <td>3.00</td>\n",
       "      <td>8.0</td>\n",
       "    </tr>\n",
       "    <tr>\n",
       "      <th>Lyase</th>\n",
       "      <td>12.0</td>\n",
       "      <td>10.000000</td>\n",
       "      <td>3.015113</td>\n",
       "      <td>5.0</td>\n",
       "      <td>8.75</td>\n",
       "      <td>9.5</td>\n",
       "      <td>12.50</td>\n",
       "      <td>14.0</td>\n",
       "    </tr>\n",
       "    <tr>\n",
       "      <th>Membrane receptor</th>\n",
       "      <td>7.0</td>\n",
       "      <td>4.285714</td>\n",
       "      <td>8.260635</td>\n",
       "      <td>1.0</td>\n",
       "      <td>1.00</td>\n",
       "      <td>1.0</td>\n",
       "      <td>1.50</td>\n",
       "      <td>23.0</td>\n",
       "    </tr>\n",
       "    <tr>\n",
       "      <th>Nuclear receptor</th>\n",
       "      <td>8.0</td>\n",
       "      <td>3.625000</td>\n",
       "      <td>3.020761</td>\n",
       "      <td>1.0</td>\n",
       "      <td>1.00</td>\n",
       "      <td>3.5</td>\n",
       "      <td>4.25</td>\n",
       "      <td>10.0</td>\n",
       "    </tr>\n",
       "    <tr>\n",
       "      <th>Other cytosolic protein</th>\n",
       "      <td>5.0</td>\n",
       "      <td>7.800000</td>\n",
       "      <td>13.553597</td>\n",
       "      <td>1.0</td>\n",
       "      <td>1.00</td>\n",
       "      <td>2.0</td>\n",
       "      <td>3.00</td>\n",
       "      <td>32.0</td>\n",
       "    </tr>\n",
       "    <tr>\n",
       "      <th>Oxidoreductase</th>\n",
       "      <td>12.0</td>\n",
       "      <td>3.916667</td>\n",
       "      <td>3.776924</td>\n",
       "      <td>1.0</td>\n",
       "      <td>1.00</td>\n",
       "      <td>3.0</td>\n",
       "      <td>4.25</td>\n",
       "      <td>12.0</td>\n",
       "    </tr>\n",
       "    <tr>\n",
       "      <th>Phosphatase</th>\n",
       "      <td>2.0</td>\n",
       "      <td>1.000000</td>\n",
       "      <td>0.000000</td>\n",
       "      <td>1.0</td>\n",
       "      <td>1.00</td>\n",
       "      <td>1.0</td>\n",
       "      <td>1.00</td>\n",
       "      <td>1.0</td>\n",
       "    </tr>\n",
       "    <tr>\n",
       "      <th>Phosphodiesterase</th>\n",
       "      <td>6.0</td>\n",
       "      <td>1.333333</td>\n",
       "      <td>0.516398</td>\n",
       "      <td>1.0</td>\n",
       "      <td>1.00</td>\n",
       "      <td>1.0</td>\n",
       "      <td>1.75</td>\n",
       "      <td>2.0</td>\n",
       "    </tr>\n",
       "    <tr>\n",
       "      <th>Primary active transporter</th>\n",
       "      <td>6.0</td>\n",
       "      <td>1.833333</td>\n",
       "      <td>0.752773</td>\n",
       "      <td>1.0</td>\n",
       "      <td>1.25</td>\n",
       "      <td>2.0</td>\n",
       "      <td>2.00</td>\n",
       "      <td>3.0</td>\n",
       "    </tr>\n",
       "    <tr>\n",
       "      <th>Protease</th>\n",
       "      <td>22.0</td>\n",
       "      <td>1.772727</td>\n",
       "      <td>1.231794</td>\n",
       "      <td>1.0</td>\n",
       "      <td>1.00</td>\n",
       "      <td>1.0</td>\n",
       "      <td>2.00</td>\n",
       "      <td>6.0</td>\n",
       "    </tr>\n",
       "    <tr>\n",
       "      <th>Reader</th>\n",
       "      <td>8.0</td>\n",
       "      <td>18.250000</td>\n",
       "      <td>19.912308</td>\n",
       "      <td>2.0</td>\n",
       "      <td>3.00</td>\n",
       "      <td>6.0</td>\n",
       "      <td>38.25</td>\n",
       "      <td>45.0</td>\n",
       "    </tr>\n",
       "    <tr>\n",
       "      <th>Secreted protein</th>\n",
       "      <td>4.0</td>\n",
       "      <td>1.750000</td>\n",
       "      <td>0.957427</td>\n",
       "      <td>1.0</td>\n",
       "      <td>1.00</td>\n",
       "      <td>1.5</td>\n",
       "      <td>2.25</td>\n",
       "      <td>3.0</td>\n",
       "    </tr>\n",
       "    <tr>\n",
       "      <th>Structural protein</th>\n",
       "      <td>1.0</td>\n",
       "      <td>2.000000</td>\n",
       "      <td>NaN</td>\n",
       "      <td>2.0</td>\n",
       "      <td>2.00</td>\n",
       "      <td>2.0</td>\n",
       "      <td>2.00</td>\n",
       "      <td>2.0</td>\n",
       "    </tr>\n",
       "    <tr>\n",
       "      <th>Transcription factor</th>\n",
       "      <td>3.0</td>\n",
       "      <td>15.666667</td>\n",
       "      <td>14.843629</td>\n",
       "      <td>3.0</td>\n",
       "      <td>7.50</td>\n",
       "      <td>12.0</td>\n",
       "      <td>22.00</td>\n",
       "      <td>32.0</td>\n",
       "    </tr>\n",
       "    <tr>\n",
       "      <th>Transferase</th>\n",
       "      <td>4.0</td>\n",
       "      <td>1.500000</td>\n",
       "      <td>0.577350</td>\n",
       "      <td>1.0</td>\n",
       "      <td>1.00</td>\n",
       "      <td>1.5</td>\n",
       "      <td>2.00</td>\n",
       "      <td>2.0</td>\n",
       "    </tr>\n",
       "    <tr>\n",
       "      <th>Transmembrane 1-electron transfer carriers</th>\n",
       "      <td>1.0</td>\n",
       "      <td>3.000000</td>\n",
       "      <td>NaN</td>\n",
       "      <td>3.0</td>\n",
       "      <td>3.00</td>\n",
       "      <td>3.0</td>\n",
       "      <td>3.00</td>\n",
       "      <td>3.0</td>\n",
       "    </tr>\n",
       "    <tr>\n",
       "      <th>Transporter</th>\n",
       "      <td>1.0</td>\n",
       "      <td>2.000000</td>\n",
       "      <td>NaN</td>\n",
       "      <td>2.0</td>\n",
       "      <td>2.00</td>\n",
       "      <td>2.0</td>\n",
       "      <td>2.00</td>\n",
       "      <td>2.0</td>\n",
       "    </tr>\n",
       "    <tr>\n",
       "      <th>Unclassified protein</th>\n",
       "      <td>32.0</td>\n",
       "      <td>5.687500</td>\n",
       "      <td>18.408339</td>\n",
       "      <td>1.0</td>\n",
       "      <td>1.00</td>\n",
       "      <td>1.0</td>\n",
       "      <td>2.25</td>\n",
       "      <td>104.0</td>\n",
       "    </tr>\n",
       "    <tr>\n",
       "      <th>Voltage-gated ion channel</th>\n",
       "      <td>11.0</td>\n",
       "      <td>3.909091</td>\n",
       "      <td>4.369314</td>\n",
       "      <td>1.0</td>\n",
       "      <td>1.00</td>\n",
       "      <td>3.0</td>\n",
       "      <td>4.50</td>\n",
       "      <td>16.0</td>\n",
       "    </tr>\n",
       "    <tr>\n",
       "      <th>Writer</th>\n",
       "      <td>5.0</td>\n",
       "      <td>5.600000</td>\n",
       "      <td>6.107373</td>\n",
       "      <td>1.0</td>\n",
       "      <td>2.00</td>\n",
       "      <td>3.0</td>\n",
       "      <td>6.00</td>\n",
       "      <td>16.0</td>\n",
       "    </tr>\n",
       "  </tbody>\n",
       "</table>\n",
       "</div>"
      ],
      "text/plain": [
       "                                                    count       mean  \\\n",
       "integrated_level                                                       \n",
       "Calcium channel auxiliary subunit alpha2delta f...    1.0   1.000000   \n",
       "Cytochrome P450                                      11.0   3.818182   \n",
       "Electrochemical transporter                          19.0   6.526316   \n",
       "Enzyme                                               55.0   4.436364   \n",
       "Eraser                                               14.0   6.428571   \n",
       "Family A G protein-coupled receptor                  61.0  11.426230   \n",
       "Family C G protein-coupled receptor                   2.0   1.000000   \n",
       "Hydrolase                                             3.0   7.000000   \n",
       "Isomerase                                             1.0   1.000000   \n",
       "Kinase                                               26.0   2.307692   \n",
       "Ligand-gated ion channel                             26.0   2.538462   \n",
       "Lyase                                                12.0  10.000000   \n",
       "Membrane receptor                                     7.0   4.285714   \n",
       "Nuclear receptor                                      8.0   3.625000   \n",
       "Other cytosolic protein                               5.0   7.800000   \n",
       "Oxidoreductase                                       12.0   3.916667   \n",
       "Phosphatase                                           2.0   1.000000   \n",
       "Phosphodiesterase                                     6.0   1.333333   \n",
       "Primary active transporter                            6.0   1.833333   \n",
       "Protease                                             22.0   1.772727   \n",
       "Reader                                                8.0  18.250000   \n",
       "Secreted protein                                      4.0   1.750000   \n",
       "Structural protein                                    1.0   2.000000   \n",
       "Transcription factor                                  3.0  15.666667   \n",
       "Transferase                                           4.0   1.500000   \n",
       "Transmembrane 1-electron transfer carriers            1.0   3.000000   \n",
       "Transporter                                           1.0   2.000000   \n",
       "Unclassified protein                                 32.0   5.687500   \n",
       "Voltage-gated ion channel                            11.0   3.909091   \n",
       "Writer                                                5.0   5.600000   \n",
       "\n",
       "                                                          std  min   25%  \\\n",
       "integrated_level                                                           \n",
       "Calcium channel auxiliary subunit alpha2delta f...        NaN  1.0  1.00   \n",
       "Cytochrome P450                                      3.027150  1.0  2.00   \n",
       "Electrochemical transporter                          8.500774  1.0  1.00   \n",
       "Enzyme                                               8.337252  1.0  1.00   \n",
       "Eraser                                              12.604726  1.0  1.00   \n",
       "Family A G protein-coupled receptor                 10.626161  1.0  1.00   \n",
       "Family C G protein-coupled receptor                  0.000000  1.0  1.00   \n",
       "Hydrolase                                            1.732051  6.0  6.00   \n",
       "Isomerase                                                 NaN  1.0  1.00   \n",
       "Kinase                                               3.552680  1.0  1.00   \n",
       "Ligand-gated ion channel                             2.063604  1.0  1.00   \n",
       "Lyase                                                3.015113  5.0  8.75   \n",
       "Membrane receptor                                    8.260635  1.0  1.00   \n",
       "Nuclear receptor                                     3.020761  1.0  1.00   \n",
       "Other cytosolic protein                             13.553597  1.0  1.00   \n",
       "Oxidoreductase                                       3.776924  1.0  1.00   \n",
       "Phosphatase                                          0.000000  1.0  1.00   \n",
       "Phosphodiesterase                                    0.516398  1.0  1.00   \n",
       "Primary active transporter                           0.752773  1.0  1.25   \n",
       "Protease                                             1.231794  1.0  1.00   \n",
       "Reader                                              19.912308  2.0  3.00   \n",
       "Secreted protein                                     0.957427  1.0  1.00   \n",
       "Structural protein                                        NaN  2.0  2.00   \n",
       "Transcription factor                                14.843629  3.0  7.50   \n",
       "Transferase                                          0.577350  1.0  1.00   \n",
       "Transmembrane 1-electron transfer carriers                NaN  3.0  3.00   \n",
       "Transporter                                               NaN  2.0  2.00   \n",
       "Unclassified protein                                18.408339  1.0  1.00   \n",
       "Voltage-gated ion channel                            4.369314  1.0  1.00   \n",
       "Writer                                               6.107373  1.0  2.00   \n",
       "\n",
       "                                                     50%    75%    max  \n",
       "integrated_level                                                        \n",
       "Calcium channel auxiliary subunit alpha2delta f...   1.0   1.00    1.0  \n",
       "Cytochrome P450                                      3.0   4.50   11.0  \n",
       "Electrochemical transporter                          3.0   8.50   31.0  \n",
       "Enzyme                                               1.0   2.50   41.0  \n",
       "Eraser                                               2.0   2.75   45.0  \n",
       "Family A G protein-coupled receptor                 10.0  20.00   38.0  \n",
       "Family C G protein-coupled receptor                  1.0   1.00    1.0  \n",
       "Hydrolase                                            6.0   7.50    9.0  \n",
       "Isomerase                                            1.0   1.00    1.0  \n",
       "Kinase                                               1.0   1.00   18.0  \n",
       "Ligand-gated ion channel                             1.5   3.00    8.0  \n",
       "Lyase                                                9.5  12.50   14.0  \n",
       "Membrane receptor                                    1.0   1.50   23.0  \n",
       "Nuclear receptor                                     3.5   4.25   10.0  \n",
       "Other cytosolic protein                              2.0   3.00   32.0  \n",
       "Oxidoreductase                                       3.0   4.25   12.0  \n",
       "Phosphatase                                          1.0   1.00    1.0  \n",
       "Phosphodiesterase                                    1.0   1.75    2.0  \n",
       "Primary active transporter                           2.0   2.00    3.0  \n",
       "Protease                                             1.0   2.00    6.0  \n",
       "Reader                                               6.0  38.25   45.0  \n",
       "Secreted protein                                     1.5   2.25    3.0  \n",
       "Structural protein                                   2.0   2.00    2.0  \n",
       "Transcription factor                                12.0  22.00   32.0  \n",
       "Transferase                                          1.5   2.00    2.0  \n",
       "Transmembrane 1-electron transfer carriers           3.0   3.00    3.0  \n",
       "Transporter                                          2.0   2.00    2.0  \n",
       "Unclassified protein                                 1.0   2.25  104.0  \n",
       "Voltage-gated ion channel                            3.0   4.50   16.0  \n",
       "Writer                                               3.0   6.00   16.0  "
      ]
     },
     "execution_count": 155,
     "metadata": {},
     "output_type": "execute_result"
    }
   ],
   "source": [
    "actives_count.groupby('integrated_level')['integrated_plasma_activity'].describe()"
   ]
  },
  {
   "cell_type": "code",
   "execution_count": 174,
   "metadata": {},
   "outputs": [],
   "source": [
    "target_size_dict = {}\n",
    "for i, j in zip(actives_count.groupby('integrated_level')['integrated_plasma_activity'].describe().index, actives_count.groupby('integrated_level')['integrated_plasma_activity'].describe()['count']):\n",
    "    target_size_dict[i] = i + ' (n={})'.format(str(int(j)))"
   ]
  },
  {
   "cell_type": "code",
   "execution_count": 175,
   "metadata": {
    "collapsed": true,
    "jupyter": {
     "outputs_hidden": true
    }
   },
   "outputs": [
    {
     "data": {
      "text/plain": [
       "{'Calcium channel auxiliary subunit alpha2delta family': 'Calcium channel auxiliary subunit alpha2delta family (n=1)',\n",
       " 'Cytochrome P450': 'Cytochrome P450 (n=11)',\n",
       " 'Electrochemical transporter': 'Electrochemical transporter (n=19)',\n",
       " 'Enzyme': 'Enzyme (n=55)',\n",
       " 'Eraser': 'Eraser (n=14)',\n",
       " 'Family A G protein-coupled receptor': 'Family A G protein-coupled receptor (n=61)',\n",
       " 'Family C G protein-coupled receptor': 'Family C G protein-coupled receptor (n=2)',\n",
       " 'Hydrolase': 'Hydrolase (n=3)',\n",
       " 'Isomerase': 'Isomerase (n=1)',\n",
       " 'Kinase': 'Kinase (n=26)',\n",
       " 'Ligand-gated ion channel': 'Ligand-gated ion channel (n=26)',\n",
       " 'Lyase': 'Lyase (n=12)',\n",
       " 'Membrane receptor': 'Membrane receptor (n=7)',\n",
       " 'Nuclear receptor': 'Nuclear receptor (n=8)',\n",
       " 'Other cytosolic protein': 'Other cytosolic protein (n=5)',\n",
       " 'Oxidoreductase': 'Oxidoreductase (n=12)',\n",
       " 'Phosphatase': 'Phosphatase (n=2)',\n",
       " 'Phosphodiesterase': 'Phosphodiesterase (n=6)',\n",
       " 'Primary active transporter': 'Primary active transporter (n=6)',\n",
       " 'Protease': 'Protease (n=22)',\n",
       " 'Reader': 'Reader (n=8)',\n",
       " 'Secreted protein': 'Secreted protein (n=4)',\n",
       " 'Structural protein': 'Structural protein (n=1)',\n",
       " 'Transcription factor': 'Transcription factor (n=3)',\n",
       " 'Transferase': 'Transferase (n=4)',\n",
       " 'Transmembrane 1-electron transfer carriers': 'Transmembrane 1-electron transfer carriers (n=1)',\n",
       " 'Transporter': 'Transporter (n=1)',\n",
       " 'Unclassified protein': 'Unclassified protein (n=32)',\n",
       " 'Voltage-gated ion channel': 'Voltage-gated ion channel (n=11)',\n",
       " 'Writer': 'Writer (n=5)'}"
      ]
     },
     "execution_count": 175,
     "metadata": {},
     "output_type": "execute_result"
    }
   ],
   "source": [
    "target_size_dict"
   ]
  },
  {
   "cell_type": "code",
   "execution_count": 179,
   "metadata": {},
   "outputs": [],
   "source": [
    "actives_count = actives_count.loc[~actives_count['integrated_level'].isnull()]"
   ]
  },
  {
   "cell_type": "code",
   "execution_count": 180,
   "metadata": {},
   "outputs": [
    {
     "name": "stderr",
     "output_type": "stream",
     "text": [
      "/scratch/ias41/envs/release/lib/python3.6/site-packages/ipykernel_launcher.py:1: SettingWithCopyWarning: \n",
      "A value is trying to be set on a copy of a slice from a DataFrame.\n",
      "Try using .loc[row_indexer,col_indexer] = value instead\n",
      "\n",
      "See the caveats in the documentation: http://pandas.pydata.org/pandas-docs/stable/user_guide/indexing.html#returning-a-view-versus-a-copy\n",
      "  \"\"\"Entry point for launching an IPython kernel.\n"
     ]
    }
   ],
   "source": [
    "actives_count['integrated_level_n'] = actives_count['integrated_level'].apply(lambda x: target_size_dict[x])"
   ]
  },
  {
   "cell_type": "code",
   "execution_count": 181,
   "metadata": {},
   "outputs": [],
   "source": [
    "actives_target_count = actives_count.groupby('integrated_level_n').count()"
   ]
  },
  {
   "cell_type": "code",
   "execution_count": 182,
   "metadata": {
    "collapsed": true,
    "jupyter": {
     "outputs_hidden": true
    }
   },
   "outputs": [
    {
     "data": {
      "text/html": [
       "<div>\n",
       "<style scoped>\n",
       "    .dataframe tbody tr th:only-of-type {\n",
       "        vertical-align: middle;\n",
       "    }\n",
       "\n",
       "    .dataframe tbody tr th {\n",
       "        vertical-align: top;\n",
       "    }\n",
       "\n",
       "    .dataframe thead th {\n",
       "        text-align: right;\n",
       "    }\n",
       "</style>\n",
       "<table border=\"1\" class=\"dataframe\">\n",
       "  <thead>\n",
       "    <tr style=\"text-align: right;\">\n",
       "      <th></th>\n",
       "      <th>accession</th>\n",
       "      <th>integrated_plasma_activity</th>\n",
       "      <th>level_1</th>\n",
       "      <th>level_2</th>\n",
       "      <th>level_3</th>\n",
       "      <th>level_4</th>\n",
       "      <th>level_5</th>\n",
       "      <th>level_6</th>\n",
       "      <th>integrated_level</th>\n",
       "    </tr>\n",
       "    <tr>\n",
       "      <th>integrated_level_n</th>\n",
       "      <th></th>\n",
       "      <th></th>\n",
       "      <th></th>\n",
       "      <th></th>\n",
       "      <th></th>\n",
       "      <th></th>\n",
       "      <th></th>\n",
       "      <th></th>\n",
       "      <th></th>\n",
       "    </tr>\n",
       "  </thead>\n",
       "  <tbody>\n",
       "    <tr>\n",
       "      <th>Family A G protein-coupled receptor (n=61)</th>\n",
       "      <td>61</td>\n",
       "      <td>61</td>\n",
       "      <td>61</td>\n",
       "      <td>61</td>\n",
       "      <td>61</td>\n",
       "      <td>61</td>\n",
       "      <td>61</td>\n",
       "      <td>0</td>\n",
       "      <td>61</td>\n",
       "    </tr>\n",
       "    <tr>\n",
       "      <th>Enzyme (n=55)</th>\n",
       "      <td>55</td>\n",
       "      <td>55</td>\n",
       "      <td>55</td>\n",
       "      <td>55</td>\n",
       "      <td>0</td>\n",
       "      <td>0</td>\n",
       "      <td>0</td>\n",
       "      <td>0</td>\n",
       "      <td>55</td>\n",
       "    </tr>\n",
       "    <tr>\n",
       "      <th>Unclassified protein (n=32)</th>\n",
       "      <td>32</td>\n",
       "      <td>32</td>\n",
       "      <td>32</td>\n",
       "      <td>32</td>\n",
       "      <td>0</td>\n",
       "      <td>0</td>\n",
       "      <td>0</td>\n",
       "      <td>0</td>\n",
       "      <td>32</td>\n",
       "    </tr>\n",
       "    <tr>\n",
       "      <th>Kinase (n=26)</th>\n",
       "      <td>26</td>\n",
       "      <td>26</td>\n",
       "      <td>26</td>\n",
       "      <td>26</td>\n",
       "      <td>26</td>\n",
       "      <td>26</td>\n",
       "      <td>26</td>\n",
       "      <td>6</td>\n",
       "      <td>26</td>\n",
       "    </tr>\n",
       "    <tr>\n",
       "      <th>Ligand-gated ion channel (n=26)</th>\n",
       "      <td>26</td>\n",
       "      <td>26</td>\n",
       "      <td>26</td>\n",
       "      <td>26</td>\n",
       "      <td>26</td>\n",
       "      <td>14</td>\n",
       "      <td>0</td>\n",
       "      <td>0</td>\n",
       "      <td>26</td>\n",
       "    </tr>\n",
       "    <tr>\n",
       "      <th>Protease (n=22)</th>\n",
       "      <td>22</td>\n",
       "      <td>22</td>\n",
       "      <td>22</td>\n",
       "      <td>22</td>\n",
       "      <td>22</td>\n",
       "      <td>22</td>\n",
       "      <td>22</td>\n",
       "      <td>0</td>\n",
       "      <td>22</td>\n",
       "    </tr>\n",
       "    <tr>\n",
       "      <th>Electrochemical transporter (n=19)</th>\n",
       "      <td>19</td>\n",
       "      <td>19</td>\n",
       "      <td>19</td>\n",
       "      <td>19</td>\n",
       "      <td>19</td>\n",
       "      <td>19</td>\n",
       "      <td>2</td>\n",
       "      <td>0</td>\n",
       "      <td>19</td>\n",
       "    </tr>\n",
       "    <tr>\n",
       "      <th>Eraser (n=14)</th>\n",
       "      <td>14</td>\n",
       "      <td>14</td>\n",
       "      <td>14</td>\n",
       "      <td>14</td>\n",
       "      <td>14</td>\n",
       "      <td>14</td>\n",
       "      <td>0</td>\n",
       "      <td>0</td>\n",
       "      <td>14</td>\n",
       "    </tr>\n",
       "    <tr>\n",
       "      <th>Oxidoreductase (n=12)</th>\n",
       "      <td>12</td>\n",
       "      <td>12</td>\n",
       "      <td>12</td>\n",
       "      <td>12</td>\n",
       "      <td>0</td>\n",
       "      <td>0</td>\n",
       "      <td>0</td>\n",
       "      <td>0</td>\n",
       "      <td>12</td>\n",
       "    </tr>\n",
       "    <tr>\n",
       "      <th>Lyase (n=12)</th>\n",
       "      <td>12</td>\n",
       "      <td>12</td>\n",
       "      <td>12</td>\n",
       "      <td>12</td>\n",
       "      <td>0</td>\n",
       "      <td>0</td>\n",
       "      <td>0</td>\n",
       "      <td>0</td>\n",
       "      <td>12</td>\n",
       "    </tr>\n",
       "    <tr>\n",
       "      <th>Voltage-gated ion channel (n=11)</th>\n",
       "      <td>11</td>\n",
       "      <td>11</td>\n",
       "      <td>11</td>\n",
       "      <td>11</td>\n",
       "      <td>11</td>\n",
       "      <td>3</td>\n",
       "      <td>0</td>\n",
       "      <td>0</td>\n",
       "      <td>11</td>\n",
       "    </tr>\n",
       "    <tr>\n",
       "      <th>Cytochrome P450 (n=11)</th>\n",
       "      <td>11</td>\n",
       "      <td>11</td>\n",
       "      <td>11</td>\n",
       "      <td>11</td>\n",
       "      <td>11</td>\n",
       "      <td>11</td>\n",
       "      <td>11</td>\n",
       "      <td>0</td>\n",
       "      <td>11</td>\n",
       "    </tr>\n",
       "    <tr>\n",
       "      <th>Nuclear receptor (n=8)</th>\n",
       "      <td>8</td>\n",
       "      <td>8</td>\n",
       "      <td>8</td>\n",
       "      <td>8</td>\n",
       "      <td>8</td>\n",
       "      <td>8</td>\n",
       "      <td>8</td>\n",
       "      <td>0</td>\n",
       "      <td>8</td>\n",
       "    </tr>\n",
       "    <tr>\n",
       "      <th>Reader (n=8)</th>\n",
       "      <td>8</td>\n",
       "      <td>8</td>\n",
       "      <td>8</td>\n",
       "      <td>8</td>\n",
       "      <td>8</td>\n",
       "      <td>3</td>\n",
       "      <td>0</td>\n",
       "      <td>0</td>\n",
       "      <td>8</td>\n",
       "    </tr>\n",
       "    <tr>\n",
       "      <th>Membrane receptor (n=7)</th>\n",
       "      <td>7</td>\n",
       "      <td>7</td>\n",
       "      <td>7</td>\n",
       "      <td>7</td>\n",
       "      <td>0</td>\n",
       "      <td>0</td>\n",
       "      <td>0</td>\n",
       "      <td>0</td>\n",
       "      <td>7</td>\n",
       "    </tr>\n",
       "    <tr>\n",
       "      <th>Phosphodiesterase (n=6)</th>\n",
       "      <td>6</td>\n",
       "      <td>6</td>\n",
       "      <td>6</td>\n",
       "      <td>6</td>\n",
       "      <td>6</td>\n",
       "      <td>6</td>\n",
       "      <td>0</td>\n",
       "      <td>0</td>\n",
       "      <td>6</td>\n",
       "    </tr>\n",
       "    <tr>\n",
       "      <th>Primary active transporter (n=6)</th>\n",
       "      <td>6</td>\n",
       "      <td>6</td>\n",
       "      <td>6</td>\n",
       "      <td>6</td>\n",
       "      <td>6</td>\n",
       "      <td>6</td>\n",
       "      <td>0</td>\n",
       "      <td>0</td>\n",
       "      <td>6</td>\n",
       "    </tr>\n",
       "    <tr>\n",
       "      <th>Writer (n=5)</th>\n",
       "      <td>5</td>\n",
       "      <td>5</td>\n",
       "      <td>5</td>\n",
       "      <td>5</td>\n",
       "      <td>5</td>\n",
       "      <td>3</td>\n",
       "      <td>0</td>\n",
       "      <td>0</td>\n",
       "      <td>5</td>\n",
       "    </tr>\n",
       "    <tr>\n",
       "      <th>Other cytosolic protein (n=5)</th>\n",
       "      <td>5</td>\n",
       "      <td>5</td>\n",
       "      <td>5</td>\n",
       "      <td>5</td>\n",
       "      <td>0</td>\n",
       "      <td>0</td>\n",
       "      <td>0</td>\n",
       "      <td>0</td>\n",
       "      <td>5</td>\n",
       "    </tr>\n",
       "    <tr>\n",
       "      <th>Secreted protein (n=4)</th>\n",
       "      <td>4</td>\n",
       "      <td>4</td>\n",
       "      <td>4</td>\n",
       "      <td>4</td>\n",
       "      <td>0</td>\n",
       "      <td>0</td>\n",
       "      <td>0</td>\n",
       "      <td>0</td>\n",
       "      <td>4</td>\n",
       "    </tr>\n",
       "    <tr>\n",
       "      <th>Transferase (n=4)</th>\n",
       "      <td>4</td>\n",
       "      <td>4</td>\n",
       "      <td>4</td>\n",
       "      <td>4</td>\n",
       "      <td>0</td>\n",
       "      <td>0</td>\n",
       "      <td>0</td>\n",
       "      <td>0</td>\n",
       "      <td>4</td>\n",
       "    </tr>\n",
       "    <tr>\n",
       "      <th>Transcription factor (n=3)</th>\n",
       "      <td>3</td>\n",
       "      <td>3</td>\n",
       "      <td>3</td>\n",
       "      <td>3</td>\n",
       "      <td>0</td>\n",
       "      <td>0</td>\n",
       "      <td>0</td>\n",
       "      <td>0</td>\n",
       "      <td>3</td>\n",
       "    </tr>\n",
       "    <tr>\n",
       "      <th>Hydrolase (n=3)</th>\n",
       "      <td>3</td>\n",
       "      <td>3</td>\n",
       "      <td>3</td>\n",
       "      <td>3</td>\n",
       "      <td>0</td>\n",
       "      <td>0</td>\n",
       "      <td>0</td>\n",
       "      <td>0</td>\n",
       "      <td>3</td>\n",
       "    </tr>\n",
       "    <tr>\n",
       "      <th>Phosphatase (n=2)</th>\n",
       "      <td>2</td>\n",
       "      <td>2</td>\n",
       "      <td>2</td>\n",
       "      <td>2</td>\n",
       "      <td>2</td>\n",
       "      <td>2</td>\n",
       "      <td>0</td>\n",
       "      <td>0</td>\n",
       "      <td>2</td>\n",
       "    </tr>\n",
       "    <tr>\n",
       "      <th>Family C G protein-coupled receptor (n=2)</th>\n",
       "      <td>2</td>\n",
       "      <td>2</td>\n",
       "      <td>2</td>\n",
       "      <td>2</td>\n",
       "      <td>2</td>\n",
       "      <td>2</td>\n",
       "      <td>2</td>\n",
       "      <td>0</td>\n",
       "      <td>2</td>\n",
       "    </tr>\n",
       "    <tr>\n",
       "      <th>Isomerase (n=1)</th>\n",
       "      <td>1</td>\n",
       "      <td>1</td>\n",
       "      <td>1</td>\n",
       "      <td>1</td>\n",
       "      <td>0</td>\n",
       "      <td>0</td>\n",
       "      <td>0</td>\n",
       "      <td>0</td>\n",
       "      <td>1</td>\n",
       "    </tr>\n",
       "    <tr>\n",
       "      <th>Structural protein (n=1)</th>\n",
       "      <td>1</td>\n",
       "      <td>1</td>\n",
       "      <td>1</td>\n",
       "      <td>1</td>\n",
       "      <td>0</td>\n",
       "      <td>0</td>\n",
       "      <td>0</td>\n",
       "      <td>0</td>\n",
       "      <td>1</td>\n",
       "    </tr>\n",
       "    <tr>\n",
       "      <th>Transmembrane 1-electron transfer carriers (n=1)</th>\n",
       "      <td>1</td>\n",
       "      <td>1</td>\n",
       "      <td>1</td>\n",
       "      <td>1</td>\n",
       "      <td>0</td>\n",
       "      <td>0</td>\n",
       "      <td>0</td>\n",
       "      <td>0</td>\n",
       "      <td>1</td>\n",
       "    </tr>\n",
       "    <tr>\n",
       "      <th>Transporter (n=1)</th>\n",
       "      <td>1</td>\n",
       "      <td>1</td>\n",
       "      <td>1</td>\n",
       "      <td>1</td>\n",
       "      <td>0</td>\n",
       "      <td>0</td>\n",
       "      <td>0</td>\n",
       "      <td>0</td>\n",
       "      <td>1</td>\n",
       "    </tr>\n",
       "    <tr>\n",
       "      <th>Calcium channel auxiliary subunit alpha2delta family (n=1)</th>\n",
       "      <td>1</td>\n",
       "      <td>1</td>\n",
       "      <td>1</td>\n",
       "      <td>1</td>\n",
       "      <td>0</td>\n",
       "      <td>0</td>\n",
       "      <td>0</td>\n",
       "      <td>0</td>\n",
       "      <td>1</td>\n",
       "    </tr>\n",
       "  </tbody>\n",
       "</table>\n",
       "</div>"
      ],
      "text/plain": [
       "                                                    accession  \\\n",
       "integrated_level_n                                              \n",
       "Family A G protein-coupled receptor (n=61)                 61   \n",
       "Enzyme (n=55)                                              55   \n",
       "Unclassified protein (n=32)                                32   \n",
       "Kinase (n=26)                                              26   \n",
       "Ligand-gated ion channel (n=26)                            26   \n",
       "Protease (n=22)                                            22   \n",
       "Electrochemical transporter (n=19)                         19   \n",
       "Eraser (n=14)                                              14   \n",
       "Oxidoreductase (n=12)                                      12   \n",
       "Lyase (n=12)                                               12   \n",
       "Voltage-gated ion channel (n=11)                           11   \n",
       "Cytochrome P450 (n=11)                                     11   \n",
       "Nuclear receptor (n=8)                                      8   \n",
       "Reader (n=8)                                                8   \n",
       "Membrane receptor (n=7)                                     7   \n",
       "Phosphodiesterase (n=6)                                     6   \n",
       "Primary active transporter (n=6)                            6   \n",
       "Writer (n=5)                                                5   \n",
       "Other cytosolic protein (n=5)                               5   \n",
       "Secreted protein (n=4)                                      4   \n",
       "Transferase (n=4)                                           4   \n",
       "Transcription factor (n=3)                                  3   \n",
       "Hydrolase (n=3)                                             3   \n",
       "Phosphatase (n=2)                                           2   \n",
       "Family C G protein-coupled receptor (n=2)                   2   \n",
       "Isomerase (n=1)                                             1   \n",
       "Structural protein (n=1)                                    1   \n",
       "Transmembrane 1-electron transfer carriers (n=1)            1   \n",
       "Transporter (n=1)                                           1   \n",
       "Calcium channel auxiliary subunit alpha2delta f...          1   \n",
       "\n",
       "                                                    integrated_plasma_activity  \\\n",
       "integrated_level_n                                                               \n",
       "Family A G protein-coupled receptor (n=61)                                  61   \n",
       "Enzyme (n=55)                                                               55   \n",
       "Unclassified protein (n=32)                                                 32   \n",
       "Kinase (n=26)                                                               26   \n",
       "Ligand-gated ion channel (n=26)                                             26   \n",
       "Protease (n=22)                                                             22   \n",
       "Electrochemical transporter (n=19)                                          19   \n",
       "Eraser (n=14)                                                               14   \n",
       "Oxidoreductase (n=12)                                                       12   \n",
       "Lyase (n=12)                                                                12   \n",
       "Voltage-gated ion channel (n=11)                                            11   \n",
       "Cytochrome P450 (n=11)                                                      11   \n",
       "Nuclear receptor (n=8)                                                       8   \n",
       "Reader (n=8)                                                                 8   \n",
       "Membrane receptor (n=7)                                                      7   \n",
       "Phosphodiesterase (n=6)                                                      6   \n",
       "Primary active transporter (n=6)                                             6   \n",
       "Writer (n=5)                                                                 5   \n",
       "Other cytosolic protein (n=5)                                                5   \n",
       "Secreted protein (n=4)                                                       4   \n",
       "Transferase (n=4)                                                            4   \n",
       "Transcription factor (n=3)                                                   3   \n",
       "Hydrolase (n=3)                                                              3   \n",
       "Phosphatase (n=2)                                                            2   \n",
       "Family C G protein-coupled receptor (n=2)                                    2   \n",
       "Isomerase (n=1)                                                              1   \n",
       "Structural protein (n=1)                                                     1   \n",
       "Transmembrane 1-electron transfer carriers (n=1)                             1   \n",
       "Transporter (n=1)                                                            1   \n",
       "Calcium channel auxiliary subunit alpha2delta f...                           1   \n",
       "\n",
       "                                                    level_1  level_2  level_3  \\\n",
       "integrated_level_n                                                              \n",
       "Family A G protein-coupled receptor (n=61)               61       61       61   \n",
       "Enzyme (n=55)                                            55       55        0   \n",
       "Unclassified protein (n=32)                              32       32        0   \n",
       "Kinase (n=26)                                            26       26       26   \n",
       "Ligand-gated ion channel (n=26)                          26       26       26   \n",
       "Protease (n=22)                                          22       22       22   \n",
       "Electrochemical transporter (n=19)                       19       19       19   \n",
       "Eraser (n=14)                                            14       14       14   \n",
       "Oxidoreductase (n=12)                                    12       12        0   \n",
       "Lyase (n=12)                                             12       12        0   \n",
       "Voltage-gated ion channel (n=11)                         11       11       11   \n",
       "Cytochrome P450 (n=11)                                   11       11       11   \n",
       "Nuclear receptor (n=8)                                    8        8        8   \n",
       "Reader (n=8)                                              8        8        8   \n",
       "Membrane receptor (n=7)                                   7        7        0   \n",
       "Phosphodiesterase (n=6)                                   6        6        6   \n",
       "Primary active transporter (n=6)                          6        6        6   \n",
       "Writer (n=5)                                              5        5        5   \n",
       "Other cytosolic protein (n=5)                             5        5        0   \n",
       "Secreted protein (n=4)                                    4        4        0   \n",
       "Transferase (n=4)                                         4        4        0   \n",
       "Transcription factor (n=3)                                3        3        0   \n",
       "Hydrolase (n=3)                                           3        3        0   \n",
       "Phosphatase (n=2)                                         2        2        2   \n",
       "Family C G protein-coupled receptor (n=2)                 2        2        2   \n",
       "Isomerase (n=1)                                           1        1        0   \n",
       "Structural protein (n=1)                                  1        1        0   \n",
       "Transmembrane 1-electron transfer carriers (n=1)          1        1        0   \n",
       "Transporter (n=1)                                         1        1        0   \n",
       "Calcium channel auxiliary subunit alpha2delta f...        1        1        0   \n",
       "\n",
       "                                                    level_4  level_5  level_6  \\\n",
       "integrated_level_n                                                              \n",
       "Family A G protein-coupled receptor (n=61)               61       61        0   \n",
       "Enzyme (n=55)                                             0        0        0   \n",
       "Unclassified protein (n=32)                               0        0        0   \n",
       "Kinase (n=26)                                            26       26        6   \n",
       "Ligand-gated ion channel (n=26)                          14        0        0   \n",
       "Protease (n=22)                                          22       22        0   \n",
       "Electrochemical transporter (n=19)                       19        2        0   \n",
       "Eraser (n=14)                                            14        0        0   \n",
       "Oxidoreductase (n=12)                                     0        0        0   \n",
       "Lyase (n=12)                                              0        0        0   \n",
       "Voltage-gated ion channel (n=11)                          3        0        0   \n",
       "Cytochrome P450 (n=11)                                   11       11        0   \n",
       "Nuclear receptor (n=8)                                    8        8        0   \n",
       "Reader (n=8)                                              3        0        0   \n",
       "Membrane receptor (n=7)                                   0        0        0   \n",
       "Phosphodiesterase (n=6)                                   6        0        0   \n",
       "Primary active transporter (n=6)                          6        0        0   \n",
       "Writer (n=5)                                              3        0        0   \n",
       "Other cytosolic protein (n=5)                             0        0        0   \n",
       "Secreted protein (n=4)                                    0        0        0   \n",
       "Transferase (n=4)                                         0        0        0   \n",
       "Transcription factor (n=3)                                0        0        0   \n",
       "Hydrolase (n=3)                                           0        0        0   \n",
       "Phosphatase (n=2)                                         2        0        0   \n",
       "Family C G protein-coupled receptor (n=2)                 2        2        0   \n",
       "Isomerase (n=1)                                           0        0        0   \n",
       "Structural protein (n=1)                                  0        0        0   \n",
       "Transmembrane 1-electron transfer carriers (n=1)          0        0        0   \n",
       "Transporter (n=1)                                         0        0        0   \n",
       "Calcium channel auxiliary subunit alpha2delta f...        0        0        0   \n",
       "\n",
       "                                                    integrated_level  \n",
       "integrated_level_n                                                    \n",
       "Family A G protein-coupled receptor (n=61)                        61  \n",
       "Enzyme (n=55)                                                     55  \n",
       "Unclassified protein (n=32)                                       32  \n",
       "Kinase (n=26)                                                     26  \n",
       "Ligand-gated ion channel (n=26)                                   26  \n",
       "Protease (n=22)                                                   22  \n",
       "Electrochemical transporter (n=19)                                19  \n",
       "Eraser (n=14)                                                     14  \n",
       "Oxidoreductase (n=12)                                             12  \n",
       "Lyase (n=12)                                                      12  \n",
       "Voltage-gated ion channel (n=11)                                  11  \n",
       "Cytochrome P450 (n=11)                                            11  \n",
       "Nuclear receptor (n=8)                                             8  \n",
       "Reader (n=8)                                                       8  \n",
       "Membrane receptor (n=7)                                            7  \n",
       "Phosphodiesterase (n=6)                                            6  \n",
       "Primary active transporter (n=6)                                   6  \n",
       "Writer (n=5)                                                       5  \n",
       "Other cytosolic protein (n=5)                                      5  \n",
       "Secreted protein (n=4)                                             4  \n",
       "Transferase (n=4)                                                  4  \n",
       "Transcription factor (n=3)                                         3  \n",
       "Hydrolase (n=3)                                                    3  \n",
       "Phosphatase (n=2)                                                  2  \n",
       "Family C G protein-coupled receptor (n=2)                          2  \n",
       "Isomerase (n=1)                                                    1  \n",
       "Structural protein (n=1)                                           1  \n",
       "Transmembrane 1-electron transfer carriers (n=1)                   1  \n",
       "Transporter (n=1)                                                  1  \n",
       "Calcium channel auxiliary subunit alpha2delta f...                 1  "
      ]
     },
     "execution_count": 182,
     "metadata": {},
     "output_type": "execute_result"
    }
   ],
   "source": [
    "actives_target_count.sort_values(by='accession', ascending=False)"
   ]
  },
  {
   "cell_type": "code",
   "execution_count": 184,
   "metadata": {},
   "outputs": [],
   "source": [
    "biggest_10_classes = list(actives_target_count.sort_values(by='accession', ascending=False).head(10).index)"
   ]
  },
  {
   "cell_type": "code",
   "execution_count": 185,
   "metadata": {},
   "outputs": [
    {
     "data": {
      "text/plain": [
       "['Family A G protein-coupled receptor (n=61)',\n",
       " 'Enzyme (n=55)',\n",
       " 'Unclassified protein (n=32)',\n",
       " 'Kinase (n=26)',\n",
       " 'Ligand-gated ion channel (n=26)',\n",
       " 'Protease (n=22)',\n",
       " 'Electrochemical transporter (n=19)',\n",
       " 'Eraser (n=14)',\n",
       " 'Oxidoreductase (n=12)',\n",
       " 'Lyase (n=12)']"
      ]
     },
     "execution_count": 185,
     "metadata": {},
     "output_type": "execute_result"
    }
   ],
   "source": [
    "biggest_10_classes"
   ]
  },
  {
   "cell_type": "code",
   "execution_count": 187,
   "metadata": {},
   "outputs": [],
   "source": [
    "median_order = actives_count.loc[actives_count['integrated_level_n'].isin(biggest_10_classes)].groupby('integrated_level_n')['integrated_plasma_activity'].median().sort_values(ascending=False).index"
   ]
  },
  {
   "cell_type": "code",
   "execution_count": 192,
   "metadata": {},
   "outputs": [
    {
     "data": {
      "image/png": "[encoded data removed]",
      "text/plain": [
       "<Figure size 720x576 with 1 Axes>"
      ]
     },
     "metadata": {
      "needs_background": "light"
     },
     "output_type": "display_data"
    }
   ],
   "source": [
    "plt.figure(figsize=(10,8))\n",
    "sns.set_context('paper', font_scale = 2)\n",
    "ax = sns.boxplot(y='integrated_level_n', x='integrated_plasma_activity', data=actives_count.loc[actives_count['integrated_level_n'].isin(biggest_10_classes)], color='lightgrey', showfliers=False, order=median_order)\n",
    "ax.set_ylabel('Target Class')\n",
    "ax.set_xlabel('Number of active calls per target')\n",
    "plt.axvline(5)\n",
    "\n",
    "plt.savefig(basedir + '/integration_bioact_plasma_conc/figures/nr_actives_boxplot_10largetsTCs_unbound.png', dpi=100, bbox_inches='tight')\n"
   ]
  },
  {
   "cell_type": "markdown",
   "metadata": {},
   "source": [
    "### Do pchembl values differ by target class? "
   ]
  },
  {
   "cell_type": "code",
   "execution_count": 84,
   "metadata": {},
   "outputs": [],
   "source": [
    "bioact_medians = pd.read_csv(basedir + '/bioactivities/results/bioact_medians_ae_drugs.txt', sep='\\t')"
   ]
  },
  {
   "cell_type": "code",
   "execution_count": 85,
   "metadata": {},
   "outputs": [],
   "source": [
    "bioact_medians_tc = bioact_medians.merge(target_class, on='accession', how='left')"
   ]
  },
  {
   "cell_type": "code",
   "execution_count": 86,
   "metadata": {},
   "outputs": [
    {
     "name": "stderr",
     "output_type": "stream",
     "text": [
      "/scratch/ias41/envs/release/lib/python3.6/site-packages/ipykernel_launcher.py:2: SettingWithCopyWarning: \n",
      "A value is trying to be set on a copy of a slice from a DataFrame.\n",
      "Try using .loc[row_indexer,col_indexer] = value instead\n",
      "\n",
      "See the caveats in the documentation: http://pandas.pydata.org/pandas-docs/stable/user_guide/indexing.html#returning-a-view-versus-a-copy\n",
      "  \n"
     ]
    }
   ],
   "source": [
    "bioact_numeric = bioact_medians_tc.loc[bioact_medians_tc['summary']!='inactive']\n",
    "bioact_numeric['summary'] = bioact_numeric['summary'].astype(float)"
   ]
  },
  {
   "cell_type": "code",
   "execution_count": 87,
   "metadata": {},
   "outputs": [],
   "source": [
    "numeric_counts = bioact_numeric.groupby('integrated_level').count()"
   ]
  },
  {
   "cell_type": "code",
   "execution_count": 88,
   "metadata": {},
   "outputs": [],
   "source": [
    "biggest_20_classes = list(numeric_counts.sort_values(by='parent_molregno', ascending=False).head(20).index)"
   ]
  },
  {
   "cell_type": "code",
   "execution_count": 89,
   "metadata": {},
   "outputs": [],
   "source": [
    "medians_order = list(bioact_numeric.loc[bioact_numeric['integrated_level'].isin(biggest_20_classes)].groupby('integrated_level').median().sort_values(by='summary', ascending=False).index)"
   ]
  },
  {
   "cell_type": "code",
   "execution_count": 90,
   "metadata": {},
   "outputs": [
    {
     "data": {
      "text/html": [
       "<div>\n",
       "<style scoped>\n",
       "    .dataframe tbody tr th:only-of-type {\n",
       "        vertical-align: middle;\n",
       "    }\n",
       "\n",
       "    .dataframe tbody tr th {\n",
       "        vertical-align: top;\n",
       "    }\n",
       "\n",
       "    .dataframe thead th {\n",
       "        text-align: right;\n",
       "    }\n",
       "</style>\n",
       "<table border=\"1\" class=\"dataframe\">\n",
       "  <thead>\n",
       "    <tr style=\"text-align: right;\">\n",
       "      <th></th>\n",
       "      <th>parent_molregno</th>\n",
       "      <th>summary</th>\n",
       "    </tr>\n",
       "    <tr>\n",
       "      <th>integrated_level</th>\n",
       "      <th></th>\n",
       "      <th></th>\n",
       "    </tr>\n",
       "  </thead>\n",
       "  <tbody>\n",
       "    <tr>\n",
       "      <th>Cytochrome P450</th>\n",
       "      <td>88819</td>\n",
       "      <td>5.8950</td>\n",
       "    </tr>\n",
       "    <tr>\n",
       "      <th>Electrochemical transporter</th>\n",
       "      <td>48849</td>\n",
       "      <td>5.5525</td>\n",
       "    </tr>\n",
       "    <tr>\n",
       "      <th>Enzyme</th>\n",
       "      <td>73548</td>\n",
       "      <td>4.7500</td>\n",
       "    </tr>\n",
       "    <tr>\n",
       "      <th>Eraser</th>\n",
       "      <td>85029</td>\n",
       "      <td>4.6500</td>\n",
       "    </tr>\n",
       "    <tr>\n",
       "      <th>Family A G protein-coupled receptor</th>\n",
       "      <td>37266</td>\n",
       "      <td>6.2400</td>\n",
       "    </tr>\n",
       "    <tr>\n",
       "      <th>Hydrolase</th>\n",
       "      <td>36662</td>\n",
       "      <td>5.1300</td>\n",
       "    </tr>\n",
       "    <tr>\n",
       "      <th>Kinase</th>\n",
       "      <td>112655</td>\n",
       "      <td>5.9200</td>\n",
       "    </tr>\n",
       "    <tr>\n",
       "      <th>Ligand-gated ion channel</th>\n",
       "      <td>16654</td>\n",
       "      <td>6.1200</td>\n",
       "    </tr>\n",
       "    <tr>\n",
       "      <th>Lyase</th>\n",
       "      <td>67010</td>\n",
       "      <td>6.2200</td>\n",
       "    </tr>\n",
       "    <tr>\n",
       "      <th>Membrane receptor</th>\n",
       "      <td>64285</td>\n",
       "      <td>6.5475</td>\n",
       "    </tr>\n",
       "    <tr>\n",
       "      <th>Nuclear receptor</th>\n",
       "      <td>122396</td>\n",
       "      <td>6.5650</td>\n",
       "    </tr>\n",
       "    <tr>\n",
       "      <th>Other cytosolic protein</th>\n",
       "      <td>52874</td>\n",
       "      <td>5.3300</td>\n",
       "    </tr>\n",
       "    <tr>\n",
       "      <th>Oxidoreductase</th>\n",
       "      <td>51056</td>\n",
       "      <td>5.7300</td>\n",
       "    </tr>\n",
       "    <tr>\n",
       "      <th>Primary active transporter</th>\n",
       "      <td>72873</td>\n",
       "      <td>4.8000</td>\n",
       "    </tr>\n",
       "    <tr>\n",
       "      <th>Protease</th>\n",
       "      <td>213505</td>\n",
       "      <td>5.1450</td>\n",
       "    </tr>\n",
       "    <tr>\n",
       "      <th>Reader</th>\n",
       "      <td>61289</td>\n",
       "      <td>4.9125</td>\n",
       "    </tr>\n",
       "    <tr>\n",
       "      <th>Transcription factor</th>\n",
       "      <td>65494</td>\n",
       "      <td>5.0000</td>\n",
       "    </tr>\n",
       "    <tr>\n",
       "      <th>Unclassified protein</th>\n",
       "      <td>62817</td>\n",
       "      <td>4.9500</td>\n",
       "    </tr>\n",
       "    <tr>\n",
       "      <th>Voltage-gated ion channel</th>\n",
       "      <td>36662</td>\n",
       "      <td>5.2525</td>\n",
       "    </tr>\n",
       "    <tr>\n",
       "      <th>Writer</th>\n",
       "      <td>54722</td>\n",
       "      <td>4.5900</td>\n",
       "    </tr>\n",
       "  </tbody>\n",
       "</table>\n",
       "</div>"
      ],
      "text/plain": [
       "                                     parent_molregno  summary\n",
       "integrated_level                                             \n",
       "Cytochrome P450                                88819   5.8950\n",
       "Electrochemical transporter                    48849   5.5525\n",
       "Enzyme                                         73548   4.7500\n",
       "Eraser                                         85029   4.6500\n",
       "Family A G protein-coupled receptor            37266   6.2400\n",
       "Hydrolase                                      36662   5.1300\n",
       "Kinase                                        112655   5.9200\n",
       "Ligand-gated ion channel                       16654   6.1200\n",
       "Lyase                                          67010   6.2200\n",
       "Membrane receptor                              64285   6.5475\n",
       "Nuclear receptor                              122396   6.5650\n",
       "Other cytosolic protein                        52874   5.3300\n",
       "Oxidoreductase                                 51056   5.7300\n",
       "Primary active transporter                     72873   4.8000\n",
       "Protease                                      213505   5.1450\n",
       "Reader                                         61289   4.9125\n",
       "Transcription factor                           65494   5.0000\n",
       "Unclassified protein                           62817   4.9500\n",
       "Voltage-gated ion channel                      36662   5.2525\n",
       "Writer                                         54722   4.5900"
      ]
     },
     "execution_count": 90,
     "metadata": {},
     "output_type": "execute_result"
    }
   ],
   "source": [
    "bioact_numeric.loc[bioact_numeric['integrated_level'].isin(biggest_20_classes)].groupby('integrated_level').median()"
   ]
  },
  {
   "cell_type": "code",
   "execution_count": 91,
   "metadata": {},
   "outputs": [
    {
     "data": {
      "text/plain": [
       "<matplotlib.lines.Line2D at 0x7f63a8120208>"
      ]
     },
     "execution_count": 91,
     "metadata": {},
     "output_type": "execute_result"
    },
    {
     "data": {
      "image/png": "[encoded data removed]",
      "text/plain": [
       "<Figure size 576x432 with 1 Axes>"
      ]
     },
     "metadata": {
      "needs_background": "light"
     },
     "output_type": "display_data"
    }
   ],
   "source": [
    "plt.figure(figsize=(8,6))\n",
    "sns.set_context('paper', font_scale = 2)\n",
    "ax = sns.boxplot(y='integrated_level', x='summary', data=bioact_numeric.loc[bioact_numeric['integrated_level'].isin(biggest_20_classes)], color='lightgrey', order=medians_order)\n",
    "ax.set_ylabel('Target Class')\n",
    "ax.set_xlabel('pchembl values')\n",
    "plt.axvline(6)\n",
    "\n",
    "#plt.savefig(basedir + '/integration_bioact_plasma_conc/figures/pchembl_boxplot_by_target_class.png', dpi=100, bbox_inches='tight')\n"
   ]
  },
  {
   "cell_type": "markdown",
   "metadata": {},
   "source": [
    "### Is reduced dataset representative of complete in terms of target classes? (Peter discussion)"
   ]
  },
  {
   "cell_type": "code",
   "execution_count": 92,
   "metadata": {},
   "outputs": [],
   "source": [
    "pchembl_all_tc = pchembl6.merge(target_class, on='accession', how='left')"
   ]
  },
  {
   "cell_type": "code",
   "execution_count": 93,
   "metadata": {},
   "outputs": [],
   "source": [
    "pchembl_target_classes = pchembl_all_tc.groupby('integrated_level').count()[['accession']]\n",
    "pchembl_target_classes['% datapoints'] = pchembl_target_classes['accession'].apply(lambda x: (x/sum(pchembl_target_classes['accession']))*100)"
   ]
  },
  {
   "cell_type": "code",
   "execution_count": 94,
   "metadata": {},
   "outputs": [],
   "source": [
    "unbound_margin_target_classes = unbound_margin.merge(target_class, on='accession', how='left')"
   ]
  },
  {
   "cell_type": "code",
   "execution_count": 95,
   "metadata": {},
   "outputs": [],
   "source": [
    "unbound_margin_target_classes = unbound_margin_target_classes.groupby('integrated_level').count()[['accession']]\n",
    "unbound_margin_target_classes['% datapoints'] = unbound_margin_target_classes['accession'].apply(lambda x: (x/sum(unbound_margin_target_classes['accession']))*100)"
   ]
  },
  {
   "cell_type": "code",
   "execution_count": 96,
   "metadata": {},
   "outputs": [],
   "source": [
    "compare_percentages = unbound_margin_target_classes[['% datapoints']].merge(pchembl_target_classes[['% datapoints']], on='integrated_level', suffixes = ['_unbound', '_pchembl'])"
   ]
  },
  {
   "cell_type": "code",
   "execution_count": 97,
   "metadata": {},
   "outputs": [
    {
     "name": "stderr",
     "output_type": "stream",
     "text": [
      "/scratch/ias41/envs/release/lib/python3.6/site-packages/ipykernel_launcher.py:2: SettingWithCopyWarning: \n",
      "A value is trying to be set on a copy of a slice from a DataFrame\n",
      "\n",
      "See the caveats in the documentation: http://pandas.pydata.org/pandas-docs/stable/user_guide/indexing.html#returning-a-view-versus-a-copy\n",
      "  \n",
      "/scratch/ias41/envs/release/lib/python3.6/site-packages/pandas/core/frame.py:4238: SettingWithCopyWarning: \n",
      "A value is trying to be set on a copy of a slice from a DataFrame\n",
      "\n",
      "See the caveats in the documentation: http://pandas.pydata.org/pandas-docs/stable/user_guide/indexing.html#returning-a-view-versus-a-copy\n",
      "  return super().rename(**kwargs)\n"
     ]
    }
   ],
   "source": [
    "compare_percentages_selected = compare_percentages.loc[(compare_percentages['% datapoints_unbound']>1)&(compare_percentages['% datapoints_pchembl']>1)]\n",
    "compare_percentages_selected.sort_values(by='% datapoints_pchembl', inplace=True)\n",
    "compare_percentages_selected.rename(columns={'% datapoints_unbound': 'Subset with unbound plasma concentrations available', '% datapoints_pchembl': 'All bioactivities (drug-target pairs)'}, inplace=True)"
   ]
  },
  {
   "cell_type": "code",
   "execution_count": 98,
   "metadata": {},
   "outputs": [
    {
     "data": {
      "text/plain": [
       "Text(0.5, 0, 'Drug-target pairs (%)')"
      ]
     },
     "execution_count": 98,
     "metadata": {},
     "output_type": "execute_result"
    },
    {
     "data": {
      "image/png": "[encoded data removed]",
      "text/plain": [
       "<Figure size 864x936 with 1 Axes>"
      ]
     },
     "metadata": {
      "needs_background": "light"
     },
     "output_type": "display_data"
    }
   ],
   "source": [
    "ax = compare_percentages_selected.reindex(compare_percentages_selected.index).plot(kind='barh', figsize=(12,13), color=['steelblue', 'lightgrey'], edgecolor='black')\n",
    "handles, labels = plt.gca().get_legend_handles_labels()\n",
    "order = [1,0]\n",
    "plt.legend([handles[idx] for idx in order],[labels[idx] for idx in order])\n",
    "ax.set_ylabel('Target class')\n",
    "ax.set_xlabel('Drug-target pairs (%)')\n",
    "\n",
    "#plt.savefig(basedir + '/integration_bioact_plasma_conc/figures/complete_vs_subset_unbound.png', dpi=100, bbox_inches='tight')\n"
   ]
  },
  {
   "cell_type": "code",
   "execution_count": 99,
   "metadata": {},
   "outputs": [
    {
     "name": "stderr",
     "output_type": "stream",
     "text": [
      "/scratch/ias41/envs/release/lib/python3.6/site-packages/ipykernel_launcher.py:1: SettingWithCopyWarning: \n",
      "A value is trying to be set on a copy of a slice from a DataFrame\n",
      "\n",
      "See the caveats in the documentation: http://pandas.pydata.org/pandas-docs/stable/user_guide/indexing.html#returning-a-view-versus-a-copy\n",
      "  \"\"\"Entry point for launching an IPython kernel.\n"
     ]
    },
    {
     "data": {
      "text/plain": [
       "Text(0, 0.5, 'Drug-target pairs (%)')"
      ]
     },
     "execution_count": 99,
     "metadata": {},
     "output_type": "execute_result"
    },
    {
     "data": {
      "image/png": "[encoded data removed]",
      "text/plain": [
       "<Figure size 936x576 with 1 Axes>"
      ]
     },
     "metadata": {
      "needs_background": "light"
     },
     "output_type": "display_data"
    }
   ],
   "source": [
    "\n",
    "compare_percentages_selected.sort_values(by='All bioactivities (drug-target pairs)', ascending=False, inplace=True)\n",
    "ax = compare_percentages_selected.reindex(compare_percentages_selected.index).plot(kind='bar', figsize=(13,8), color=['steelblue', 'lightgrey'], edgecolor='black')\n",
    "handles, labels = plt.gca().get_legend_handles_labels()\n",
    "order = [1,0]\n",
    "plt.legend([handles[idx] for idx in order],[labels[idx] for idx in order])\n",
    "ax.set_xlabel('Target class')\n",
    "ax.set_ylabel('Drug-target pairs (%)')\n",
    "#plt.savefig(basedir + '/integration_bioact_plasma_conc/figures/complete_vs_subset_unbound_horizontal.png', dpi=100, bbox_inches='tight')\n"
   ]
  },
  {
   "cell_type": "markdown",
   "metadata": {},
   "source": [
    "### Bar plot of Unbound dataset % (upper bar) compared to changes (Peter discussion)"
   ]
  },
  {
   "cell_type": "code",
   "execution_count": 103,
   "metadata": {},
   "outputs": [],
   "source": [
    "merged_unbound_changed = merged_unbound_margin.loc[merged_unbound_margin['integrated_plasma_activity_cutoff']!=merged_unbound_margin['integrated_plasma_activity_changed']]\n",
    "merged_unbound_changed_tc = merged_unbound_changed.merge(target_class, on='accession', how='left')"
   ]
  },
  {
   "cell_type": "code",
   "execution_count": 104,
   "metadata": {},
   "outputs": [],
   "source": [
    "merged_unbound_changed_by_activity = pd.DataFrame(merged_unbound_changed_tc.groupby(['integrated_level','integrated_plasma_activity_changed'])['accession'].count()).unstack()\n",
    "merged_unbound_changed_by_activity.rename(columns={'accession': 'counts'}, inplace=True)\n",
    "merged_unbound_changed_by_activity.fillna(0, inplace=True)"
   ]
  },
  {
   "cell_type": "code",
   "execution_count": 105,
   "metadata": {},
   "outputs": [],
   "source": [
    "merged_unbound_changed_by_activity[('percentages',0.0)] = merged_unbound_changed_by_activity[('counts',0.0)].apply(lambda x: (x/(sum(merged_unbound_changed_by_activity[('counts',1.0)])+sum(merged_unbound_changed_by_activity[('counts',0.0)])))*100)\n",
    "merged_unbound_changed_by_activity[('percentages',1.0)] = merged_unbound_changed_by_activity[('counts',1.0)].apply(lambda x: (x/(sum(merged_unbound_changed_by_activity[('counts',1.0)])+sum(merged_unbound_changed_by_activity[('counts',0.0)])))*100)"
   ]
  },
  {
   "cell_type": "code",
   "execution_count": 106,
   "metadata": {},
   "outputs": [],
   "source": [
    "unbound_margin_all = unbound_margin.merge(target_class, on='accession', how='left')\n",
    "unbound_margin_all_by_activity = pd.DataFrame(unbound_margin_all.groupby(['integrated_level','integrated_plasma_activity'])['accession'].count()).unstack()\n",
    "unbound_margin_all_by_activity.rename(columns={'accession': 'counts'}, inplace=True)\n",
    "unbound_margin_all_by_activity.fillna(0, inplace=True)"
   ]
  },
  {
   "cell_type": "code",
   "execution_count": 107,
   "metadata": {},
   "outputs": [],
   "source": [
    "unbound_margin_all_by_activity[('percentages',0.0)] = unbound_margin_all_by_activity[('counts',0.0)].apply(lambda x: (x/(sum(unbound_margin_all_by_activity[('counts',1.0)])+sum(unbound_margin_all_by_activity[('counts',0.0)])))*100)\n",
    "unbound_margin_all_by_activity[('percentages',1.0)] = unbound_margin_all_by_activity[('counts',1.0)].apply(lambda x: (x/(sum(unbound_margin_all_by_activity[('counts',1.0)])+sum(unbound_margin_all_by_activity[('counts',0.0)])))*100)"
   ]
  },
  {
   "cell_type": "code",
   "execution_count": 108,
   "metadata": {},
   "outputs": [],
   "source": [
    "merged_unbound_changed_by_activity.index.name = 'Target class'\n",
    "unbound_margin_all_by_activity.index.name = 'Target class'"
   ]
  },
  {
   "cell_type": "code",
   "execution_count": 120,
   "metadata": {},
   "outputs": [
    {
     "data": {
      "text/html": [
       "<div>\n",
       "<style scoped>\n",
       "    .dataframe tbody tr th:only-of-type {\n",
       "        vertical-align: middle;\n",
       "    }\n",
       "\n",
       "    .dataframe tbody tr th {\n",
       "        vertical-align: top;\n",
       "    }\n",
       "\n",
       "    .dataframe thead tr th {\n",
       "        text-align: left;\n",
       "    }\n",
       "\n",
       "    .dataframe thead tr:last-of-type th {\n",
       "        text-align: right;\n",
       "    }\n",
       "</style>\n",
       "<table border=\"1\" class=\"dataframe\">\n",
       "  <thead>\n",
       "    <tr>\n",
       "      <th></th>\n",
       "      <th colspan=\"2\" halign=\"left\">counts</th>\n",
       "      <th colspan=\"2\" halign=\"left\">percentages</th>\n",
       "    </tr>\n",
       "    <tr>\n",
       "      <th>integrated_plasma_activity_changed</th>\n",
       "      <th>0.0</th>\n",
       "      <th>1.0</th>\n",
       "      <th>0.0</th>\n",
       "      <th>1.0</th>\n",
       "    </tr>\n",
       "    <tr>\n",
       "      <th>Target class</th>\n",
       "      <th></th>\n",
       "      <th></th>\n",
       "      <th></th>\n",
       "      <th></th>\n",
       "    </tr>\n",
       "  </thead>\n",
       "  <tbody>\n",
       "    <tr>\n",
       "      <th>Cytochrome P450</th>\n",
       "      <td>18.0</td>\n",
       "      <td>8.0</td>\n",
       "      <td>1.875000</td>\n",
       "      <td>0.833333</td>\n",
       "    </tr>\n",
       "    <tr>\n",
       "      <th>Electrochemical transporter</th>\n",
       "      <td>21.0</td>\n",
       "      <td>55.0</td>\n",
       "      <td>2.187500</td>\n",
       "      <td>5.729167</td>\n",
       "    </tr>\n",
       "    <tr>\n",
       "      <th>Enzyme</th>\n",
       "      <td>12.0</td>\n",
       "      <td>148.0</td>\n",
       "      <td>1.250000</td>\n",
       "      <td>15.416667</td>\n",
       "    </tr>\n",
       "    <tr>\n",
       "      <th>Eraser</th>\n",
       "      <td>1.0</td>\n",
       "      <td>27.0</td>\n",
       "      <td>0.104167</td>\n",
       "      <td>2.812500</td>\n",
       "    </tr>\n",
       "    <tr>\n",
       "      <th>Family A G protein-coupled receptor</th>\n",
       "      <td>157.0</td>\n",
       "      <td>91.0</td>\n",
       "      <td>16.354167</td>\n",
       "      <td>9.479167</td>\n",
       "    </tr>\n",
       "    <tr>\n",
       "      <th>Family C G protein-coupled receptor</th>\n",
       "      <td>0.0</td>\n",
       "      <td>2.0</td>\n",
       "      <td>0.000000</td>\n",
       "      <td>0.208333</td>\n",
       "    </tr>\n",
       "    <tr>\n",
       "      <th>Hydrolase</th>\n",
       "      <td>3.0</td>\n",
       "      <td>10.0</td>\n",
       "      <td>0.312500</td>\n",
       "      <td>1.041667</td>\n",
       "    </tr>\n",
       "    <tr>\n",
       "      <th>Isomerase</th>\n",
       "      <td>3.0</td>\n",
       "      <td>0.0</td>\n",
       "      <td>0.312500</td>\n",
       "      <td>0.000000</td>\n",
       "    </tr>\n",
       "    <tr>\n",
       "      <th>Kinase</th>\n",
       "      <td>8.0</td>\n",
       "      <td>31.0</td>\n",
       "      <td>0.833333</td>\n",
       "      <td>3.229167</td>\n",
       "    </tr>\n",
       "    <tr>\n",
       "      <th>Ligand-gated ion channel</th>\n",
       "      <td>3.0</td>\n",
       "      <td>15.0</td>\n",
       "      <td>0.312500</td>\n",
       "      <td>1.562500</td>\n",
       "    </tr>\n",
       "    <tr>\n",
       "      <th>Lyase</th>\n",
       "      <td>0.0</td>\n",
       "      <td>39.0</td>\n",
       "      <td>0.000000</td>\n",
       "      <td>4.062500</td>\n",
       "    </tr>\n",
       "    <tr>\n",
       "      <th>Membrane receptor</th>\n",
       "      <td>6.0</td>\n",
       "      <td>7.0</td>\n",
       "      <td>0.625000</td>\n",
       "      <td>0.729167</td>\n",
       "    </tr>\n",
       "    <tr>\n",
       "      <th>Nuclear receptor</th>\n",
       "      <td>8.0</td>\n",
       "      <td>9.0</td>\n",
       "      <td>0.833333</td>\n",
       "      <td>0.937500</td>\n",
       "    </tr>\n",
       "    <tr>\n",
       "      <th>Other cytosolic protein</th>\n",
       "      <td>3.0</td>\n",
       "      <td>7.0</td>\n",
       "      <td>0.312500</td>\n",
       "      <td>0.729167</td>\n",
       "    </tr>\n",
       "    <tr>\n",
       "      <th>Oxidoreductase</th>\n",
       "      <td>2.0</td>\n",
       "      <td>21.0</td>\n",
       "      <td>0.208333</td>\n",
       "      <td>2.187500</td>\n",
       "    </tr>\n",
       "    <tr>\n",
       "      <th>Phosphatase</th>\n",
       "      <td>0.0</td>\n",
       "      <td>1.0</td>\n",
       "      <td>0.000000</td>\n",
       "      <td>0.104167</td>\n",
       "    </tr>\n",
       "    <tr>\n",
       "      <th>Phosphodiesterase</th>\n",
       "      <td>1.0</td>\n",
       "      <td>1.0</td>\n",
       "      <td>0.104167</td>\n",
       "      <td>0.104167</td>\n",
       "    </tr>\n",
       "    <tr>\n",
       "      <th>Primary active transporter</th>\n",
       "      <td>4.0</td>\n",
       "      <td>8.0</td>\n",
       "      <td>0.416667</td>\n",
       "      <td>0.833333</td>\n",
       "    </tr>\n",
       "    <tr>\n",
       "      <th>Protease</th>\n",
       "      <td>0.0</td>\n",
       "      <td>15.0</td>\n",
       "      <td>0.000000</td>\n",
       "      <td>1.562500</td>\n",
       "    </tr>\n",
       "    <tr>\n",
       "      <th>Reader</th>\n",
       "      <td>3.0</td>\n",
       "      <td>35.0</td>\n",
       "      <td>0.312500</td>\n",
       "      <td>3.645833</td>\n",
       "    </tr>\n",
       "    <tr>\n",
       "      <th>Secreted protein</th>\n",
       "      <td>1.0</td>\n",
       "      <td>2.0</td>\n",
       "      <td>0.104167</td>\n",
       "      <td>0.208333</td>\n",
       "    </tr>\n",
       "    <tr>\n",
       "      <th>Transcription factor</th>\n",
       "      <td>8.0</td>\n",
       "      <td>16.0</td>\n",
       "      <td>0.833333</td>\n",
       "      <td>1.666667</td>\n",
       "    </tr>\n",
       "    <tr>\n",
       "      <th>Transferase</th>\n",
       "      <td>0.0</td>\n",
       "      <td>2.0</td>\n",
       "      <td>0.000000</td>\n",
       "      <td>0.208333</td>\n",
       "    </tr>\n",
       "    <tr>\n",
       "      <th>Transporter</th>\n",
       "      <td>3.0</td>\n",
       "      <td>2.0</td>\n",
       "      <td>0.312500</td>\n",
       "      <td>0.208333</td>\n",
       "    </tr>\n",
       "    <tr>\n",
       "      <th>Unclassified protein</th>\n",
       "      <td>22.0</td>\n",
       "      <td>70.0</td>\n",
       "      <td>2.291667</td>\n",
       "      <td>7.291667</td>\n",
       "    </tr>\n",
       "    <tr>\n",
       "      <th>Voltage-gated ion channel</th>\n",
       "      <td>15.0</td>\n",
       "      <td>27.0</td>\n",
       "      <td>1.562500</td>\n",
       "      <td>2.812500</td>\n",
       "    </tr>\n",
       "    <tr>\n",
       "      <th>Writer</th>\n",
       "      <td>0.0</td>\n",
       "      <td>9.0</td>\n",
       "      <td>0.000000</td>\n",
       "      <td>0.937500</td>\n",
       "    </tr>\n",
       "  </tbody>\n",
       "</table>\n",
       "</div>"
      ],
      "text/plain": [
       "                                    counts        percentages           \n",
       "integrated_plasma_activity_changed     0.0    1.0         0.0        1.0\n",
       "Target class                                                            \n",
       "Cytochrome P450                       18.0    8.0    1.875000   0.833333\n",
       "Electrochemical transporter           21.0   55.0    2.187500   5.729167\n",
       "Enzyme                                12.0  148.0    1.250000  15.416667\n",
       "Eraser                                 1.0   27.0    0.104167   2.812500\n",
       "Family A G protein-coupled receptor  157.0   91.0   16.354167   9.479167\n",
       "Family C G protein-coupled receptor    0.0    2.0    0.000000   0.208333\n",
       "Hydrolase                              3.0   10.0    0.312500   1.041667\n",
       "Isomerase                              3.0    0.0    0.312500   0.000000\n",
       "Kinase                                 8.0   31.0    0.833333   3.229167\n",
       "Ligand-gated ion channel               3.0   15.0    0.312500   1.562500\n",
       "Lyase                                  0.0   39.0    0.000000   4.062500\n",
       "Membrane receptor                      6.0    7.0    0.625000   0.729167\n",
       "Nuclear receptor                       8.0    9.0    0.833333   0.937500\n",
       "Other cytosolic protein                3.0    7.0    0.312500   0.729167\n",
       "Oxidoreductase                         2.0   21.0    0.208333   2.187500\n",
       "Phosphatase                            0.0    1.0    0.000000   0.104167\n",
       "Phosphodiesterase                      1.0    1.0    0.104167   0.104167\n",
       "Primary active transporter             4.0    8.0    0.416667   0.833333\n",
       "Protease                               0.0   15.0    0.000000   1.562500\n",
       "Reader                                 3.0   35.0    0.312500   3.645833\n",
       "Secreted protein                       1.0    2.0    0.104167   0.208333\n",
       "Transcription factor                   8.0   16.0    0.833333   1.666667\n",
       "Transferase                            0.0    2.0    0.000000   0.208333\n",
       "Transporter                            3.0    2.0    0.312500   0.208333\n",
       "Unclassified protein                  22.0   70.0    2.291667   7.291667\n",
       "Voltage-gated ion channel             15.0   27.0    1.562500   2.812500\n",
       "Writer                                 0.0    9.0    0.000000   0.937500"
      ]
     },
     "execution_count": 120,
     "metadata": {},
     "output_type": "execute_result"
    }
   ],
   "source": [
    "merged_unbound_changed_by_activity"
   ]
  },
  {
   "cell_type": "code",
   "execution_count": 123,
   "metadata": {},
   "outputs": [
    {
     "data": {
      "text/html": [
       "<div>\n",
       "<style scoped>\n",
       "    .dataframe tbody tr th:only-of-type {\n",
       "        vertical-align: middle;\n",
       "    }\n",
       "\n",
       "    .dataframe tbody tr th {\n",
       "        vertical-align: top;\n",
       "    }\n",
       "\n",
       "    .dataframe thead tr th {\n",
       "        text-align: left;\n",
       "    }\n",
       "\n",
       "    .dataframe thead tr:last-of-type th {\n",
       "        text-align: right;\n",
       "    }\n",
       "</style>\n",
       "<table border=\"1\" class=\"dataframe\">\n",
       "  <thead>\n",
       "    <tr>\n",
       "      <th></th>\n",
       "      <th colspan=\"2\" halign=\"left\">counts</th>\n",
       "      <th colspan=\"2\" halign=\"left\">percentages</th>\n",
       "    </tr>\n",
       "    <tr>\n",
       "      <th>integrated_plasma_activity</th>\n",
       "      <th>0.0</th>\n",
       "      <th>1.0</th>\n",
       "      <th>0.0</th>\n",
       "      <th>1.0</th>\n",
       "    </tr>\n",
       "    <tr>\n",
       "      <th>Target class</th>\n",
       "      <th></th>\n",
       "      <th></th>\n",
       "      <th></th>\n",
       "      <th></th>\n",
       "    </tr>\n",
       "  </thead>\n",
       "  <tbody>\n",
       "    <tr>\n",
       "      <th>Calcium channel auxiliary subunit alpha2delta family</th>\n",
       "      <td>483.0</td>\n",
       "      <td>1.0</td>\n",
       "      <td>0.239405</td>\n",
       "      <td>0.000496</td>\n",
       "    </tr>\n",
       "    <tr>\n",
       "      <th>Cytochrome P450</th>\n",
       "      <td>7017.0</td>\n",
       "      <td>42.0</td>\n",
       "      <td>3.478067</td>\n",
       "      <td>0.020818</td>\n",
       "    </tr>\n",
       "    <tr>\n",
       "      <th>Electrochemical transporter</th>\n",
       "      <td>4690.0</td>\n",
       "      <td>124.0</td>\n",
       "      <td>2.324659</td>\n",
       "      <td>0.061462</td>\n",
       "    </tr>\n",
       "    <tr>\n",
       "      <th>Enzyme</th>\n",
       "      <td>15415.0</td>\n",
       "      <td>244.0</td>\n",
       "      <td>7.640644</td>\n",
       "      <td>0.120942</td>\n",
       "    </tr>\n",
       "    <tr>\n",
       "      <th>Eraser</th>\n",
       "      <td>6959.0</td>\n",
       "      <td>60.0</td>\n",
       "      <td>3.449318</td>\n",
       "      <td>0.029740</td>\n",
       "    </tr>\n",
       "    <tr>\n",
       "      <th>Family A G protein-coupled receptor</th>\n",
       "      <td>49085.0</td>\n",
       "      <td>697.0</td>\n",
       "      <td>24.329616</td>\n",
       "      <td>0.345477</td>\n",
       "    </tr>\n",
       "    <tr>\n",
       "      <th>Family B G protein-coupled receptor</th>\n",
       "      <td>1147.0</td>\n",
       "      <td>0.0</td>\n",
       "      <td>0.568525</td>\n",
       "      <td>0.000000</td>\n",
       "    </tr>\n",
       "    <tr>\n",
       "      <th>Family C G protein-coupled receptor</th>\n",
       "      <td>624.0</td>\n",
       "      <td>2.0</td>\n",
       "      <td>0.309294</td>\n",
       "      <td>0.000991</td>\n",
       "    </tr>\n",
       "    <tr>\n",
       "      <th>Hydrolase</th>\n",
       "      <td>2116.0</td>\n",
       "      <td>21.0</td>\n",
       "      <td>1.048823</td>\n",
       "      <td>0.010409</td>\n",
       "    </tr>\n",
       "    <tr>\n",
       "      <th>Isomerase</th>\n",
       "      <td>1250.0</td>\n",
       "      <td>1.0</td>\n",
       "      <td>0.619579</td>\n",
       "      <td>0.000496</td>\n",
       "    </tr>\n",
       "    <tr>\n",
       "      <th>Kinase</th>\n",
       "      <td>37635.0</td>\n",
       "      <td>60.0</td>\n",
       "      <td>18.654275</td>\n",
       "      <td>0.029740</td>\n",
       "    </tr>\n",
       "    <tr>\n",
       "      <th>Ligand-gated ion channel</th>\n",
       "      <td>7427.0</td>\n",
       "      <td>66.0</td>\n",
       "      <td>3.681289</td>\n",
       "      <td>0.032714</td>\n",
       "    </tr>\n",
       "    <tr>\n",
       "      <th>Lyase</th>\n",
       "      <td>5106.0</td>\n",
       "      <td>120.0</td>\n",
       "      <td>2.530855</td>\n",
       "      <td>0.059480</td>\n",
       "    </tr>\n",
       "    <tr>\n",
       "      <th>Membrane receptor</th>\n",
       "      <td>3992.0</td>\n",
       "      <td>30.0</td>\n",
       "      <td>1.978686</td>\n",
       "      <td>0.014870</td>\n",
       "    </tr>\n",
       "    <tr>\n",
       "      <th>Nuclear receptor</th>\n",
       "      <td>6917.0</td>\n",
       "      <td>29.0</td>\n",
       "      <td>3.428501</td>\n",
       "      <td>0.014374</td>\n",
       "    </tr>\n",
       "    <tr>\n",
       "      <th>Other cytosolic protein</th>\n",
       "      <td>2900.0</td>\n",
       "      <td>23.0</td>\n",
       "      <td>1.437423</td>\n",
       "      <td>0.011400</td>\n",
       "    </tr>\n",
       "    <tr>\n",
       "      <th>Other ion channel</th>\n",
       "      <td>1.0</td>\n",
       "      <td>0.0</td>\n",
       "      <td>0.000496</td>\n",
       "      <td>0.000000</td>\n",
       "    </tr>\n",
       "    <tr>\n",
       "      <th>Other membrane protein</th>\n",
       "      <td>11.0</td>\n",
       "      <td>0.0</td>\n",
       "      <td>0.005452</td>\n",
       "      <td>0.000000</td>\n",
       "    </tr>\n",
       "    <tr>\n",
       "      <th>Oxidoreductase</th>\n",
       "      <td>6583.0</td>\n",
       "      <td>47.0</td>\n",
       "      <td>3.262949</td>\n",
       "      <td>0.023296</td>\n",
       "    </tr>\n",
       "    <tr>\n",
       "      <th>Phosphatase</th>\n",
       "      <td>1147.0</td>\n",
       "      <td>2.0</td>\n",
       "      <td>0.568525</td>\n",
       "      <td>0.000991</td>\n",
       "    </tr>\n",
       "    <tr>\n",
       "      <th>Phosphodiesterase</th>\n",
       "      <td>5934.0</td>\n",
       "      <td>8.0</td>\n",
       "      <td>2.941264</td>\n",
       "      <td>0.003965</td>\n",
       "    </tr>\n",
       "    <tr>\n",
       "      <th>Primary active transporter</th>\n",
       "      <td>787.0</td>\n",
       "      <td>11.0</td>\n",
       "      <td>0.390087</td>\n",
       "      <td>0.005452</td>\n",
       "    </tr>\n",
       "    <tr>\n",
       "      <th>Protease</th>\n",
       "      <td>14981.0</td>\n",
       "      <td>39.0</td>\n",
       "      <td>7.425527</td>\n",
       "      <td>0.019331</td>\n",
       "    </tr>\n",
       "    <tr>\n",
       "      <th>Reader</th>\n",
       "      <td>2776.0</td>\n",
       "      <td>77.0</td>\n",
       "      <td>1.375960</td>\n",
       "      <td>0.038166</td>\n",
       "    </tr>\n",
       "    <tr>\n",
       "      <th>Secreted protein</th>\n",
       "      <td>192.0</td>\n",
       "      <td>7.0</td>\n",
       "      <td>0.095167</td>\n",
       "      <td>0.003470</td>\n",
       "    </tr>\n",
       "    <tr>\n",
       "      <th>Structural protein</th>\n",
       "      <td>274.0</td>\n",
       "      <td>2.0</td>\n",
       "      <td>0.135812</td>\n",
       "      <td>0.000991</td>\n",
       "    </tr>\n",
       "    <tr>\n",
       "      <th>Toll-like and Il-1 receptors</th>\n",
       "      <td>361.0</td>\n",
       "      <td>0.0</td>\n",
       "      <td>0.178934</td>\n",
       "      <td>0.000000</td>\n",
       "    </tr>\n",
       "    <tr>\n",
       "      <th>Transcription factor</th>\n",
       "      <td>410.0</td>\n",
       "      <td>31.0</td>\n",
       "      <td>0.203222</td>\n",
       "      <td>0.015366</td>\n",
       "    </tr>\n",
       "    <tr>\n",
       "      <th>Transferase</th>\n",
       "      <td>1597.0</td>\n",
       "      <td>6.0</td>\n",
       "      <td>0.791574</td>\n",
       "      <td>0.002974</td>\n",
       "    </tr>\n",
       "    <tr>\n",
       "      <th>Transmembrane 1-electron transfer carriers</th>\n",
       "      <td>491.0</td>\n",
       "      <td>3.0</td>\n",
       "      <td>0.243371</td>\n",
       "      <td>0.001487</td>\n",
       "    </tr>\n",
       "    <tr>\n",
       "      <th>Transporter</th>\n",
       "      <td>21.0</td>\n",
       "      <td>2.0</td>\n",
       "      <td>0.010409</td>\n",
       "      <td>0.000991</td>\n",
       "    </tr>\n",
       "    <tr>\n",
       "      <th>Unclassified protein</th>\n",
       "      <td>5791.0</td>\n",
       "      <td>182.0</td>\n",
       "      <td>2.870384</td>\n",
       "      <td>0.090211</td>\n",
       "    </tr>\n",
       "    <tr>\n",
       "      <th>Voltage-gated ion channel</th>\n",
       "      <td>3942.0</td>\n",
       "      <td>43.0</td>\n",
       "      <td>1.953903</td>\n",
       "      <td>0.021314</td>\n",
       "    </tr>\n",
       "    <tr>\n",
       "      <th>Writer</th>\n",
       "      <td>1685.0</td>\n",
       "      <td>23.0</td>\n",
       "      <td>0.835192</td>\n",
       "      <td>0.011400</td>\n",
       "    </tr>\n",
       "  </tbody>\n",
       "</table>\n",
       "</div>"
      ],
      "text/plain": [
       "                                                     counts         \\\n",
       "integrated_plasma_activity                              0.0    1.0   \n",
       "Target class                                                         \n",
       "Calcium channel auxiliary subunit alpha2delta f...    483.0    1.0   \n",
       "Cytochrome P450                                      7017.0   42.0   \n",
       "Electrochemical transporter                          4690.0  124.0   \n",
       "Enzyme                                              15415.0  244.0   \n",
       "Eraser                                               6959.0   60.0   \n",
       "Family A G protein-coupled receptor                 49085.0  697.0   \n",
       "Family B G protein-coupled receptor                  1147.0    0.0   \n",
       "Family C G protein-coupled receptor                   624.0    2.0   \n",
       "Hydrolase                                            2116.0   21.0   \n",
       "Isomerase                                            1250.0    1.0   \n",
       "Kinase                                              37635.0   60.0   \n",
       "Ligand-gated ion channel                             7427.0   66.0   \n",
       "Lyase                                                5106.0  120.0   \n",
       "Membrane receptor                                    3992.0   30.0   \n",
       "Nuclear receptor                                     6917.0   29.0   \n",
       "Other cytosolic protein                              2900.0   23.0   \n",
       "Other ion channel                                       1.0    0.0   \n",
       "Other membrane protein                                 11.0    0.0   \n",
       "Oxidoreductase                                       6583.0   47.0   \n",
       "Phosphatase                                          1147.0    2.0   \n",
       "Phosphodiesterase                                    5934.0    8.0   \n",
       "Primary active transporter                            787.0   11.0   \n",
       "Protease                                            14981.0   39.0   \n",
       "Reader                                               2776.0   77.0   \n",
       "Secreted protein                                      192.0    7.0   \n",
       "Structural protein                                    274.0    2.0   \n",
       "Toll-like and Il-1 receptors                          361.0    0.0   \n",
       "Transcription factor                                  410.0   31.0   \n",
       "Transferase                                          1597.0    6.0   \n",
       "Transmembrane 1-electron transfer carriers            491.0    3.0   \n",
       "Transporter                                            21.0    2.0   \n",
       "Unclassified protein                                 5791.0  182.0   \n",
       "Voltage-gated ion channel                            3942.0   43.0   \n",
       "Writer                                               1685.0   23.0   \n",
       "\n",
       "                                                   percentages            \n",
       "integrated_plasma_activity                                 0.0       1.0  \n",
       "Target class                                                              \n",
       "Calcium channel auxiliary subunit alpha2delta f...    0.239405  0.000496  \n",
       "Cytochrome P450                                       3.478067  0.020818  \n",
       "Electrochemical transporter                           2.324659  0.061462  \n",
       "Enzyme                                                7.640644  0.120942  \n",
       "Eraser                                                3.449318  0.029740  \n",
       "Family A G protein-coupled receptor                  24.329616  0.345477  \n",
       "Family B G protein-coupled receptor                   0.568525  0.000000  \n",
       "Family C G protein-coupled receptor                   0.309294  0.000991  \n",
       "Hydrolase                                             1.048823  0.010409  \n",
       "Isomerase                                             0.619579  0.000496  \n",
       "Kinase                                               18.654275  0.029740  \n",
       "Ligand-gated ion channel                              3.681289  0.032714  \n",
       "Lyase                                                 2.530855  0.059480  \n",
       "Membrane receptor                                     1.978686  0.014870  \n",
       "Nuclear receptor                                      3.428501  0.014374  \n",
       "Other cytosolic protein                               1.437423  0.011400  \n",
       "Other ion channel                                     0.000496  0.000000  \n",
       "Other membrane protein                                0.005452  0.000000  \n",
       "Oxidoreductase                                        3.262949  0.023296  \n",
       "Phosphatase                                           0.568525  0.000991  \n",
       "Phosphodiesterase                                     2.941264  0.003965  \n",
       "Primary active transporter                            0.390087  0.005452  \n",
       "Protease                                              7.425527  0.019331  \n",
       "Reader                                                1.375960  0.038166  \n",
       "Secreted protein                                      0.095167  0.003470  \n",
       "Structural protein                                    0.135812  0.000991  \n",
       "Toll-like and Il-1 receptors                          0.178934  0.000000  \n",
       "Transcription factor                                  0.203222  0.015366  \n",
       "Transferase                                           0.791574  0.002974  \n",
       "Transmembrane 1-electron transfer carriers            0.243371  0.001487  \n",
       "Transporter                                           0.010409  0.000991  \n",
       "Unclassified protein                                  2.870384  0.090211  \n",
       "Voltage-gated ion channel                             1.953903  0.021314  \n",
       "Writer                                                0.835192  0.011400  "
      ]
     },
     "execution_count": 123,
     "metadata": {},
     "output_type": "execute_result"
    }
   ],
   "source": [
    "unbound_margin_all_by_activity"
   ]
  },
  {
   "cell_type": "code",
   "execution_count": 109,
   "metadata": {},
   "outputs": [],
   "source": [
    "combined_percentages = unbound_margin_all_by_activity['percentages'].merge(merged_unbound_changed_by_activity['percentages'], on='Target class', how='outer', suffixes=['_unbound_all', '_changed'])\n",
    "combined_percentages.fillna(0, inplace=True)\n",
    "combined_percentages['cumulative'] = combined_percentages['1.0_unbound_all'] + combined_percentages['0.0_unbound_all']"
   ]
  },
  {
   "cell_type": "code",
   "execution_count": 110,
   "metadata": {},
   "outputs": [],
   "source": [
    "combined_percentages_selected = combined_percentages.loc[combined_percentages['cumulative']>1].sort_values(by='cumulative')"
   ]
  },
  {
   "cell_type": "code",
   "execution_count": 111,
   "metadata": {},
   "outputs": [
    {
     "data": {
      "text/plain": [
       "Index(['0.0_unbound_all', '1.0_unbound_all', '0.0_changed', '1.0_changed',\n",
       "       'cumulative'],\n",
       "      dtype='object')"
      ]
     },
     "execution_count": 111,
     "metadata": {},
     "output_type": "execute_result"
    }
   ],
   "source": [
    "combined_percentages_selected.columns"
   ]
  },
  {
   "cell_type": "code",
   "execution_count": 112,
   "metadata": {},
   "outputs": [],
   "source": [
    "pchembl_active = combined_percentages_selected['1.0_unbound_all']\n",
    "pchembl_inactive = combined_percentages_selected['0.0_unbound_all']\n",
    "unbound_active = combined_percentages_selected['1.0_changed']\n",
    "unbound_inactive = combined_percentages_selected['0.0_changed']"
   ]
  },
  {
   "cell_type": "code",
   "execution_count": 114,
   "metadata": {},
   "outputs": [],
   "source": [
    "N = len(combined_percentages_selected.index)\n",
    "ind = np.arange(N) \n",
    "width = 0.3"
   ]
  },
  {
   "cell_type": "code",
   "execution_count": 115,
   "metadata": {},
   "outputs": [
    {
     "data": {
      "text/plain": [
       "Text(0, 0.5, 'Target class')"
      ]
     },
     "execution_count": 115,
     "metadata": {},
     "output_type": "execute_result"
    },
    {
     "data": {
      "image/png": "[encoded data removed]",
      "text/plain": [
       "<Figure size 864x936 with 1 Axes>"
      ]
     },
     "metadata": {
      "needs_background": "light"
     },
     "output_type": "display_data"
    }
   ],
   "source": [
    "plt.figure(figsize=(12,13))\n",
    "p1 = plt.barh(ind + width/2, pchembl_active, width, color='#a6611a', edgecolor='black')\n",
    "p2 = plt.barh(ind + width/2, pchembl_inactive, width, color='#dfc27d', left=pchembl_active, edgecolor='black')\n",
    "\n",
    "p3 = plt.barh(ind - width/2, unbound_active, width, color='#018571',edgecolor='black')\n",
    "p4 = plt.barh(ind - width/2, unbound_inactive, width, color='#80cdc1', left=unbound_active, edgecolor='black')\n",
    "\n",
    "plt.yticks(ind, combined_percentages_selected.index)\n",
    "\n",
    "title_proxy = plt.Rectangle((0,0), 0, 0, color='w')\n",
    "\n",
    "rc('text', usetex=True)\n",
    "plt.legend([title_proxy, p1,p2, title_proxy, p3,p4], \n",
    "           [r\"\\textbf{All datapoints with unbound concentration}\", \"Active\", \"Inactive\",r\"\\textbf{Activity calls changed by unbound plasma concentration}\", \"New label: Active\",\"New label: Inactive\"])\n",
    "rc('text', usetex=False)\n",
    "\n",
    "plt.xlabel('Drug-target pairs (%)')\n",
    "plt.ylabel('Target class')\n",
    "\n",
    "#plt.savefig(basedir + '/integration_bioact_plasma_conc/figures/all_unbound_vs_changed_stacked.png', dpi=100, bbox_inches='tight')\n",
    "\n"
   ]
  },
  {
   "cell_type": "markdown",
   "metadata": {},
   "source": [
    "### I want to quantify how set of actives was affected"
   ]
  },
  {
   "cell_type": "code",
   "execution_count": 124,
   "metadata": {},
   "outputs": [],
   "source": [
    "# Change in active datapoints"
   ]
  },
  {
   "cell_type": "code",
   "execution_count": 125,
   "metadata": {},
   "outputs": [
    {
     "data": {
      "text/plain": [
       "Index(['accession', 'parent_molregno', 'integrated_plasma_activity',\n",
       "       'predicted'],\n",
       "      dtype='object')"
      ]
     },
     "execution_count": 125,
     "metadata": {},
     "output_type": "execute_result"
    }
   ],
   "source": [
    "pchembl6.columns"
   ]
  },
  {
   "cell_type": "code",
   "execution_count": 126,
   "metadata": {},
   "outputs": [
    {
     "data": {
      "text/plain": [
       "Index(['parent_molregno', 'pref_name', 'accession',\n",
       "       'integrated_plasma_activity_cutoff',\n",
       "       'integrated_plasma_activity_changed'],\n",
       "      dtype='object')"
      ]
     },
     "execution_count": 126,
     "metadata": {},
     "output_type": "execute_result"
    }
   ],
   "source": [
    "merged_unbound_margin.columns"
   ]
  },
  {
   "cell_type": "code",
   "execution_count": 127,
   "metadata": {},
   "outputs": [
    {
     "data": {
      "text/plain": [
       "0.9672098370488854"
      ]
     },
     "execution_count": 127,
     "metadata": {},
     "output_type": "execute_result"
    }
   ],
   "source": [
    "# % of unbound fraction of active datapoints\n",
    "(len(merged_unbound_margin.loc[merged_unbound_margin['integrated_plasma_activity_cutoff']==1.0]) / len(merged_unbound_margin)) * 100"
   ]
  },
  {
   "cell_type": "code",
   "execution_count": 128,
   "metadata": {},
   "outputs": [
    {
     "data": {
      "text/plain": [
       "1.1852694191742477"
      ]
     },
     "execution_count": 128,
     "metadata": {},
     "output_type": "execute_result"
    }
   ],
   "source": [
    "# % of unbound fraction of active datapoints\n",
    "(len(merged_unbound_margin.loc[merged_unbound_margin['integrated_plasma_activity_changed']==1.0]) / len(merged_unbound_margin)) * 100"
   ]
  },
  {
   "cell_type": "code",
   "execution_count": 129,
   "metadata": {},
   "outputs": [
    {
     "data": {
      "text/plain": [
       "1.3028558893577906"
      ]
     },
     "execution_count": 129,
     "metadata": {},
     "output_type": "execute_result"
    }
   ],
   "source": [
    "# % of pchembl active datapoints\n",
    "(len(pchembl6.loc[pchembl6['integrated_plasma_activity']==1.0]) / len(pchembl6)) * 100"
   ]
  },
  {
   "cell_type": "code",
   "execution_count": null,
   "metadata": {},
   "outputs": [],
   "source": []
  },
  {
   "cell_type": "code",
   "execution_count": 130,
   "metadata": {},
   "outputs": [],
   "source": [
    "# Change in set of actives"
   ]
  },
  {
   "cell_type": "code",
   "execution_count": 131,
   "metadata": {},
   "outputs": [
    {
     "data": {
      "text/html": [
       "<div>\n",
       "<style scoped>\n",
       "    .dataframe tbody tr th:only-of-type {\n",
       "        vertical-align: middle;\n",
       "    }\n",
       "\n",
       "    .dataframe tbody tr th {\n",
       "        vertical-align: top;\n",
       "    }\n",
       "\n",
       "    .dataframe thead th {\n",
       "        text-align: right;\n",
       "    }\n",
       "</style>\n",
       "<table border=\"1\" class=\"dataframe\">\n",
       "  <thead>\n",
       "    <tr style=\"text-align: right;\">\n",
       "      <th></th>\n",
       "      <th>parent_molregno</th>\n",
       "      <th>pref_name</th>\n",
       "      <th>accession</th>\n",
       "      <th>integrated_plasma_activity_cutoff</th>\n",
       "      <th>integrated_plasma_activity_changed</th>\n",
       "    </tr>\n",
       "  </thead>\n",
       "  <tbody>\n",
       "    <tr>\n",
       "      <th>0</th>\n",
       "      <td>97</td>\n",
       "      <td>PRAZOSIN</td>\n",
       "      <td>B2RXH2</td>\n",
       "      <td>0.0</td>\n",
       "      <td>0.0</td>\n",
       "    </tr>\n",
       "    <tr>\n",
       "      <th>1</th>\n",
       "      <td>97</td>\n",
       "      <td>PRAZOSIN</td>\n",
       "      <td>O15118</td>\n",
       "      <td>0.0</td>\n",
       "      <td>0.0</td>\n",
       "    </tr>\n",
       "    <tr>\n",
       "      <th>2</th>\n",
       "      <td>97</td>\n",
       "      <td>PRAZOSIN</td>\n",
       "      <td>O15244</td>\n",
       "      <td>0.0</td>\n",
       "      <td>0.0</td>\n",
       "    </tr>\n",
       "    <tr>\n",
       "      <th>3</th>\n",
       "      <td>97</td>\n",
       "      <td>PRAZOSIN</td>\n",
       "      <td>O15245</td>\n",
       "      <td>0.0</td>\n",
       "      <td>0.0</td>\n",
       "    </tr>\n",
       "    <tr>\n",
       "      <th>4</th>\n",
       "      <td>97</td>\n",
       "      <td>PRAZOSIN</td>\n",
       "      <td>O75496</td>\n",
       "      <td>0.0</td>\n",
       "      <td>0.0</td>\n",
       "    </tr>\n",
       "  </tbody>\n",
       "</table>\n",
       "</div>"
      ],
      "text/plain": [
       "   parent_molregno pref_name accession  integrated_plasma_activity_cutoff  \\\n",
       "0               97  PRAZOSIN    B2RXH2                                0.0   \n",
       "1               97  PRAZOSIN    O15118                                0.0   \n",
       "2               97  PRAZOSIN    O15244                                0.0   \n",
       "3               97  PRAZOSIN    O15245                                0.0   \n",
       "4               97  PRAZOSIN    O75496                                0.0   \n",
       "\n",
       "   integrated_plasma_activity_changed  \n",
       "0                                 0.0  \n",
       "1                                 0.0  \n",
       "2                                 0.0  \n",
       "3                                 0.0  \n",
       "4                                 0.0  "
      ]
     },
     "execution_count": 131,
     "metadata": {},
     "output_type": "execute_result"
    }
   ],
   "source": [
    "merged_unbound_margin.head()"
   ]
  },
  {
   "cell_type": "code",
   "execution_count": 132,
   "metadata": {},
   "outputs": [],
   "source": [
    "merged_unbound_margin_cutoff_actives = merged_unbound_margin.loc[merged_unbound_margin['integrated_plasma_activity_cutoff']==1]\n",
    "merged_unbound_margin_plasma_actives = merged_unbound_margin.loc[merged_unbound_margin['integrated_plasma_activity_changed']==1]"
   ]
  },
  {
   "cell_type": "code",
   "execution_count": 133,
   "metadata": {},
   "outputs": [],
   "source": [
    "cutoff_active_pairs = [(x,y) for x, y in zip(merged_unbound_margin_cutoff_actives['accession'], merged_unbound_margin_cutoff_actives['parent_molregno'])] \n",
    "plasma_active_pairs = [(x,y) for x, y in zip(merged_unbound_margin_plasma_actives['accession'], merged_unbound_margin_plasma_actives['parent_molregno'])] "
   ]
  },
  {
   "cell_type": "code",
   "execution_count": 134,
   "metadata": {},
   "outputs": [
    {
     "data": {
      "text/plain": [
       "(1548, 1897)"
      ]
     },
     "execution_count": 134,
     "metadata": {},
     "output_type": "execute_result"
    }
   ],
   "source": [
    "len(cutoff_active_pairs), len(plasma_active_pairs)"
   ]
  },
  {
   "cell_type": "code",
   "execution_count": 135,
   "metadata": {},
   "outputs": [
    {
     "data": {
      "text/plain": [
       "1250"
      ]
     },
     "execution_count": 135,
     "metadata": {},
     "output_type": "execute_result"
    }
   ],
   "source": [
    "len(set(cutoff_active_pairs) & set(plasma_active_pairs))"
   ]
  },
  {
   "cell_type": "code",
   "execution_count": null,
   "metadata": {},
   "outputs": [],
   "source": []
  },
  {
   "cell_type": "code",
   "execution_count": 136,
   "metadata": {},
   "outputs": [
    {
     "data": {
      "image/png": "[encoded data removed]",
      "text/plain": [
       "<Figure size 432x288 with 1 Axes>"
      ]
     },
     "metadata": {},
     "output_type": "display_data"
    }
   ],
   "source": [
    "fig, ax = plt.subplots()\n",
    "v = venn2(subsets = ((1548-1250),(1897-1250),1250), set_labels=[\"pChEMBL cut-off\", \"Unbound integration\"])\n",
    "v.get_patch_by_id('100').set_color('white')\n",
    "v.get_patch_by_id('010').set_color('white')\n",
    "c=venn2_circles(subsets = ((1548-1250),(1897-1250),1250), linewidth=1, color=\"grey\")\n",
    "v.get_patch_by_id('11').set_color('white')\n",
    "for text in v.set_labels:\n",
    "    text.set_fontsize(14)\n",
    "for text in v.subset_labels:\n",
    "    text.set_fontsize(16)\n",
    "fig.savefig(basedir + '/integration_bioact_plasma_conc/figures/venn_active_set.png', dpi=100, bbox_inches='tight')\n"
   ]
  },
  {
   "cell_type": "code",
   "execution_count": null,
   "metadata": {},
   "outputs": [],
   "source": []
  },
  {
   "cell_type": "markdown",
   "metadata": {},
   "source": [
    "### Overall dataset counts for next analysis?"
   ]
  },
  {
   "cell_type": "markdown",
   "metadata": {},
   "source": [
    "Find nr of drug-target pairs in FAERS and SIDER datasets"
   ]
  },
  {
   "cell_type": "code",
   "execution_count": 137,
   "metadata": {},
   "outputs": [],
   "source": [
    "# AE datasets\n",
    "\n",
    "# FAERS\n",
    "with open(basedir + '/faers_aes/results/20200108_PSM_molregno2aes_PRR2_chi4_faers_min5drugs_all_random_controls.pkl', 'rb') as f:\n",
    "    molregno2aes_faers_all = pickle.load(f)\n",
    "\n",
    "# SIDER\n",
    "with open(basedir + '/sider/results/20191215_molregno2aes_sider_min5drugs.pkl', 'rb') as f:\n",
    "    molregno2aes_sider_all = pickle.load(f)"
   ]
  },
  {
   "cell_type": "code",
   "execution_count": 138,
   "metadata": {},
   "outputs": [],
   "source": [
    "# Find compounds with no significantly associated AEs\n",
    "no_info_molregnos = [molregno for molregno in molregno2aes_faers_all if len(molregno2aes_faers_all[molregno])==0]\n",
    "nr_compounds_without_aes = len(no_info_molregnos)\n",
    "# Restrict to drugs with at least one AE\n",
    "molregno2aes_faers = molregno2aes_faers_all.copy()\n",
    "for molregno in no_info_molregnos:\n",
    "    del(molregno2aes[molregno])\n",
    "assert nr_compounds_without_aes == len(molregno2aes_faers_all) - len(molregno2aes_faers)"
   ]
  },
  {
   "cell_type": "code",
   "execution_count": 139,
   "metadata": {},
   "outputs": [],
   "source": [
    "# Find compounds with no significantly associated AEs\n",
    "no_info_molregnos = [molregno for molregno in molregno2aes_sider_all if len(molregno2aes_sider_all[molregno])==0]\n",
    "nr_compounds_without_aes = len(no_info_molregnos)\n",
    "# Restrict to drugs with at least one AE\n",
    "molregno2aes_sider = molregno2aes_sider_all.copy()\n",
    "for molregno in no_info_molregnos:\n",
    "    del(molregno2aes[molregno])\n",
    "assert nr_compounds_without_aes == len(molregno2aes_sider_all) - len(molregno2aes_sider)"
   ]
  },
  {
   "cell_type": "code",
   "execution_count": 141,
   "metadata": {},
   "outputs": [],
   "source": [
    "# Load datafiles which - restricted to min_n\n",
    "pchembl6_min5 = pd.read_csv(basedir + '/integration_bioact_plasma_conc/results/pchembl6_tp_cutoff_median_min5active.txt', sep='\\t')\n",
    "unbound_margin_min5 = pd.read_csv(basedir + '/integration_bioact_plasma_conc/results/unbound_median_margin_min5active_added_preds_measured_proteins.txt', sep='\\t')\n"
   ]
  },
  {
   "cell_type": "code",
   "execution_count": 142,
   "metadata": {},
   "outputs": [],
   "source": [
    "# Restrict bioactivity to dataset to those compounds in the current dataset (sider/faers) and at least one AE\n",
    "bioact_df_unbound_sider = unbound_margin_min5.loc[unbound_margin_min5['parent_molregno'].isin(molregno2aes_sider.keys()),:]"
   ]
  },
  {
   "cell_type": "code",
   "execution_count": 143,
   "metadata": {},
   "outputs": [
    {
     "data": {
      "text/plain": [
       "(27063, 27063)"
      ]
     },
     "execution_count": 143,
     "metadata": {},
     "output_type": "execute_result"
    }
   ],
   "source": [
    "len(bioact_df_unbound_sider), len(bioact_df_unbound_sider[['parent_molregno', 'accession']].drop_duplicates())"
   ]
  },
  {
   "cell_type": "code",
   "execution_count": 144,
   "metadata": {},
   "outputs": [
    {
     "data": {
      "text/plain": [
       "873"
      ]
     },
     "execution_count": 144,
     "metadata": {},
     "output_type": "execute_result"
    }
   ],
   "source": [
    "len(bioact_df_unbound_sider['parent_molregno'].drop_duplicates())"
   ]
  },
  {
   "cell_type": "code",
   "execution_count": 145,
   "metadata": {},
   "outputs": [
    {
     "data": {
      "text/plain": [
       "104"
      ]
     },
     "execution_count": 145,
     "metadata": {},
     "output_type": "execute_result"
    }
   ],
   "source": [
    "len(bioact_df_unbound_sider['accession'].drop_duplicates())"
   ]
  },
  {
   "cell_type": "code",
   "execution_count": 146,
   "metadata": {},
   "outputs": [],
   "source": [
    "bioact_df_unbound_faers = unbound_margin_min5.loc[unbound_margin_min5['parent_molregno'].isin(molregno2aes_faers.keys()),:]"
   ]
  },
  {
   "cell_type": "code",
   "execution_count": 147,
   "metadata": {},
   "outputs": [
    {
     "data": {
      "text/plain": [
       "(27063, 34247)"
      ]
     },
     "execution_count": 147,
     "metadata": {},
     "output_type": "execute_result"
    }
   ],
   "source": [
    "len(bioact_df_unbound_sider), len(bioact_df_unbound_faers)"
   ]
  },
  {
   "cell_type": "code",
   "execution_count": 148,
   "metadata": {},
   "outputs": [
    {
     "data": {
      "text/plain": [
       "(34247, 34247)"
      ]
     },
     "execution_count": 148,
     "metadata": {},
     "output_type": "execute_result"
    }
   ],
   "source": [
    "len(bioact_df_unbound_faers), len(bioact_df_unbound_faers[['parent_molregno', 'accession']])"
   ]
  },
  {
   "cell_type": "code",
   "execution_count": 149,
   "metadata": {},
   "outputs": [],
   "source": [
    "# Restrict bioactivity to dataset to those compounds in the current dataset (sider/faers) and at least one AE\n",
    "bioact_df_pchembl_sider = pchembl6_min5.loc[pchembl6_min5['parent_molregno'].isin(molregno2aes_sider.keys()),:]"
   ]
  },
  {
   "cell_type": "code",
   "execution_count": 150,
   "metadata": {},
   "outputs": [
    {
     "data": {
      "text/plain": [
       "(70953, 70953)"
      ]
     },
     "execution_count": 150,
     "metadata": {},
     "output_type": "execute_result"
    }
   ],
   "source": [
    "len(bioact_df_pchembl_sider), len(bioact_df_pchembl_sider[['parent_molregno', 'accession']])"
   ]
  },
  {
   "cell_type": "code",
   "execution_count": 151,
   "metadata": {},
   "outputs": [
    {
     "data": {
      "text/plain": [
       "234"
      ]
     },
     "execution_count": 151,
     "metadata": {},
     "output_type": "execute_result"
    }
   ],
   "source": [
    "len(bioact_df_pchembl_sider['accession'].drop_duplicates())"
   ]
  },
  {
   "cell_type": "code",
   "execution_count": 152,
   "metadata": {},
   "outputs": [
    {
     "data": {
      "text/plain": [
       "1001"
      ]
     },
     "execution_count": 152,
     "metadata": {},
     "output_type": "execute_result"
    }
   ],
   "source": [
    "len(bioact_df_pchembl_sider['parent_molregno'].drop_duplicates())"
   ]
  },
  {
   "cell_type": "code",
   "execution_count": 153,
   "metadata": {},
   "outputs": [],
   "source": [
    "# Restrict bioactivity to dataset to those compounds in the current dataset (sider/faers) and at least one AE\n",
    "bioact_df_pchembl_faers = pchembl6_min5.loc[pchembl6_min5['parent_molregno'].isin(molregno2aes_faers.keys()),:]"
   ]
  },
  {
   "cell_type": "code",
   "execution_count": 154,
   "metadata": {},
   "outputs": [
    {
     "data": {
      "text/plain": [
       "(85155, 85155)"
      ]
     },
     "execution_count": 154,
     "metadata": {},
     "output_type": "execute_result"
    }
   ],
   "source": [
    "len(bioact_df_pchembl_faers), len(bioact_df_pchembl_faers[['parent_molregno', 'accession']])"
   ]
  },
  {
   "cell_type": "code",
   "execution_count": 155,
   "metadata": {},
   "outputs": [
    {
     "data": {
      "text/plain": [
       "234"
      ]
     },
     "execution_count": 155,
     "metadata": {},
     "output_type": "execute_result"
    }
   ],
   "source": [
    "len(bioact_df_pchembl_faers['accession'].drop_duplicates())"
   ]
  },
  {
   "cell_type": "code",
   "execution_count": 156,
   "metadata": {},
   "outputs": [
    {
     "data": {
      "text/plain": [
       "1173"
      ]
     },
     "execution_count": 156,
     "metadata": {},
     "output_type": "execute_result"
    }
   ],
   "source": [
    "len(bioact_df_pchembl_faers['parent_molregno'].drop_duplicates())"
   ]
  },
  {
   "cell_type": "markdown",
   "metadata": {},
   "source": [
    "### Target class bar plots at this stage? - % of drug target pairs"
   ]
  },
  {
   "cell_type": "code",
   "execution_count": 157,
   "metadata": {},
   "outputs": [],
   "source": [
    "# compare bioact_df_unbound_faers and bioact_df_unbound_sider"
   ]
  },
  {
   "cell_type": "code",
   "execution_count": 179,
   "metadata": {},
   "outputs": [],
   "source": [
    "bioact_df_unbound_faers_tc = bioact_df_unbound_faers.merge(target_class, on='accession', how='left')\n",
    "bioact_df_unbound_faers_grouped = bioact_df_unbound_faers_tc.groupby('integrated_level').count()[['accession']]\n",
    "bioact_df_unbound_faers_grouped['% datapoints'] = bioact_df_unbound_faers_grouped['accession'].apply(lambda x: (x/sum(bioact_df_unbound_faers_grouped['accession']))*100)"
   ]
  },
  {
   "cell_type": "code",
   "execution_count": 180,
   "metadata": {},
   "outputs": [],
   "source": [
    "bioact_df_unbound_sider_tc = bioact_df_unbound_sider.merge(target_class, on='accession', how='left')\n",
    "bioact_df_unbound_sider_grouped = bioact_df_unbound_sider_tc.groupby('integrated_level').count()[['accession']]\n",
    "bioact_df_unbound_sider_grouped['% datapoints'] = bioact_df_unbound_sider_grouped['accession'].apply(lambda x: (x/sum(bioact_df_unbound_sider_grouped['accession']))*100)"
   ]
  },
  {
   "cell_type": "code",
   "execution_count": 181,
   "metadata": {},
   "outputs": [],
   "source": [
    "compare_percentages_classes_unbound = bioact_df_unbound_sider_grouped[['% datapoints']].merge(bioact_df_unbound_faers_grouped[['% datapoints']], on='integrated_level', suffixes = ['_sider', '_faers'])\n",
    "compare_percentages_classes_unbound = compare_percentages_classes_unbound.loc[(compare_percentages_classes_unbound['% datapoints_faers']>1)&(compare_percentages_classes_unbound['% datapoints_sider']>1)]\n",
    "compare_percentages_classes_unbound.sort_values(by='% datapoints_sider', inplace=True)\n",
    "compare_percentages_classes_unbound.rename(columns={'% datapoints_sider': 'SIDER','% datapoints_faers': 'FAERS'}, inplace=True)"
   ]
  },
  {
   "cell_type": "code",
   "execution_count": 182,
   "metadata": {},
   "outputs": [
    {
     "data": {
      "text/html": [
       "<div>\n",
       "<style scoped>\n",
       "    .dataframe tbody tr th:only-of-type {\n",
       "        vertical-align: middle;\n",
       "    }\n",
       "\n",
       "    .dataframe tbody tr th {\n",
       "        vertical-align: top;\n",
       "    }\n",
       "\n",
       "    .dataframe thead th {\n",
       "        text-align: right;\n",
       "    }\n",
       "</style>\n",
       "<table border=\"1\" class=\"dataframe\">\n",
       "  <thead>\n",
       "    <tr style=\"text-align: right;\">\n",
       "      <th></th>\n",
       "      <th>SIDER</th>\n",
       "      <th>FAERS</th>\n",
       "    </tr>\n",
       "    <tr>\n",
       "      <th>integrated_level</th>\n",
       "      <th></th>\n",
       "      <th></th>\n",
       "    </tr>\n",
       "  </thead>\n",
       "  <tbody>\n",
       "    <tr>\n",
       "      <th>Nuclear receptor</th>\n",
       "      <td>1.133606</td>\n",
       "      <td>1.200549</td>\n",
       "    </tr>\n",
       "    <tr>\n",
       "      <th>Eraser</th>\n",
       "      <td>1.162580</td>\n",
       "      <td>1.231992</td>\n",
       "    </tr>\n",
       "    <tr>\n",
       "      <th>Unclassified protein</th>\n",
       "      <td>1.187932</td>\n",
       "      <td>1.263435</td>\n",
       "    </tr>\n",
       "    <tr>\n",
       "      <th>Writer</th>\n",
       "      <td>1.564594</td>\n",
       "      <td>1.589298</td>\n",
       "    </tr>\n",
       "    <tr>\n",
       "      <th>Membrane receptor</th>\n",
       "      <td>1.821738</td>\n",
       "      <td>1.800823</td>\n",
       "    </tr>\n",
       "    <tr>\n",
       "      <th>Reader</th>\n",
       "      <td>2.133208</td>\n",
       "      <td>2.258175</td>\n",
       "    </tr>\n",
       "    <tr>\n",
       "      <th>Voltage-gated ion channel</th>\n",
       "      <td>2.611278</td>\n",
       "      <td>2.715527</td>\n",
       "    </tr>\n",
       "    <tr>\n",
       "      <th>Ligand-gated ion channel</th>\n",
       "      <td>2.629387</td>\n",
       "      <td>2.755545</td>\n",
       "    </tr>\n",
       "    <tr>\n",
       "      <th>Enzyme</th>\n",
       "      <td>3.161783</td>\n",
       "      <td>3.301509</td>\n",
       "    </tr>\n",
       "    <tr>\n",
       "      <th>Hydrolase</th>\n",
       "      <td>3.683315</td>\n",
       "      <td>3.753144</td>\n",
       "    </tr>\n",
       "    <tr>\n",
       "      <th>Cytochrome P450</th>\n",
       "      <td>4.313498</td>\n",
       "      <td>4.301967</td>\n",
       "    </tr>\n",
       "    <tr>\n",
       "      <th>Oxidoreductase</th>\n",
       "      <td>4.824164</td>\n",
       "      <td>4.802195</td>\n",
       "    </tr>\n",
       "    <tr>\n",
       "      <th>Kinase</th>\n",
       "      <td>4.911086</td>\n",
       "      <td>4.859364</td>\n",
       "    </tr>\n",
       "    <tr>\n",
       "      <th>Electrochemical transporter</th>\n",
       "      <td>5.291369</td>\n",
       "      <td>5.219529</td>\n",
       "    </tr>\n",
       "    <tr>\n",
       "      <th>Lyase</th>\n",
       "      <td>10.086560</td>\n",
       "      <td>10.101761</td>\n",
       "    </tr>\n",
       "    <tr>\n",
       "      <th>Family A G protein-coupled receptor</th>\n",
       "      <td>48.303212</td>\n",
       "      <td>47.610336</td>\n",
       "    </tr>\n",
       "  </tbody>\n",
       "</table>\n",
       "</div>"
      ],
      "text/plain": [
       "                                         SIDER      FAERS\n",
       "integrated_level                                         \n",
       "Nuclear receptor                      1.133606   1.200549\n",
       "Eraser                                1.162580   1.231992\n",
       "Unclassified protein                  1.187932   1.263435\n",
       "Writer                                1.564594   1.589298\n",
       "Membrane receptor                     1.821738   1.800823\n",
       "Reader                                2.133208   2.258175\n",
       "Voltage-gated ion channel             2.611278   2.715527\n",
       "Ligand-gated ion channel              2.629387   2.755545\n",
       "Enzyme                                3.161783   3.301509\n",
       "Hydrolase                             3.683315   3.753144\n",
       "Cytochrome P450                       4.313498   4.301967\n",
       "Oxidoreductase                        4.824164   4.802195\n",
       "Kinase                                4.911086   4.859364\n",
       "Electrochemical transporter           5.291369   5.219529\n",
       "Lyase                                10.086560  10.101761\n",
       "Family A G protein-coupled receptor  48.303212  47.610336"
      ]
     },
     "execution_count": 182,
     "metadata": {},
     "output_type": "execute_result"
    }
   ],
   "source": [
    "compare_percentages_classes_unbound"
   ]
  },
  {
   "cell_type": "code",
   "execution_count": 183,
   "metadata": {},
   "outputs": [
    {
     "data": {
      "image/png": "[encoded data removed]",
      "text/plain": [
       "<Figure size 432x576 with 1 Axes>"
      ]
     },
     "metadata": {
      "needs_background": "light"
     },
     "output_type": "display_data"
    }
   ],
   "source": [
    "ax5 = compare_percentages_classes_unbound.reindex(compare_percentages_classes_unbound.index).plot(kind='barh', figsize=(6,8), color=['darkslateblue', 'sandybrown'],fontsize=18)\n",
    "handles, labels = plt.gca().get_legend_handles_labels()\n",
    "order = [1,0]\n",
    "plt.legend([handles[idx] for idx in order],[labels[idx] for idx in order], fontsize=18, loc=4)\n",
    "ax5.set_ylabel('Target class', fontsize=18)\n",
    "ax5.set_xlabel('Drug-target pairs (%)', fontsize=18)\n",
    "ax5.xaxis.grid(True, which='major', linestyle='-', linewidth=0.5)\n",
    "\n",
    "#plt.savefig(basedir + '/integration_bioact_plasma_conc/figures/target_classes_FvS_unbound.png', dpi=100, bbox_inches='tight')\n"
   ]
  },
  {
   "cell_type": "code",
   "execution_count": 192,
   "metadata": {},
   "outputs": [
    {
     "data": {
      "text/plain": [
       "[Text(0, 0, 'Family A G protein-coupled receptor'),\n",
       " Text(0, 0, 'Lyase'),\n",
       " Text(0, 0, 'Electrochemical transporter'),\n",
       " Text(0, 0, 'Kinase'),\n",
       " Text(0, 0, 'Oxidoreductase'),\n",
       " Text(0, 0, 'Cytochrome P450'),\n",
       " Text(0, 0, 'Hydrolase'),\n",
       " Text(0, 0, 'Enzyme'),\n",
       " Text(0, 0, 'Ligand-gated ion channel'),\n",
       " Text(0, 0, 'Voltage-gated ion channel'),\n",
       " Text(0, 0, 'Reader'),\n",
       " Text(0, 0, 'Membrane receptor'),\n",
       " Text(0, 0, 'Writer'),\n",
       " Text(0, 0, 'Unclassified protein'),\n",
       " Text(0, 0, 'Eraser'),\n",
       " Text(0, 0, 'Nuclear receptor')]"
      ]
     },
     "execution_count": 192,
     "metadata": {},
     "output_type": "execute_result"
    },
    {
     "data": {
      "image/png": "[encoded data removed]",
      "text/plain": [
       "<Figure size 576x360 with 1 Axes>"
      ]
     },
     "metadata": {
      "needs_background": "light"
     },
     "output_type": "display_data"
    }
   ],
   "source": [
    "compare_percentages_classes_unbound.sort_values(by='FAERS', inplace=True, ascending=False)\n",
    "\n",
    "ax5 = compare_percentages_classes_unbound.reindex(compare_percentages_classes_unbound.index).plot(kind='bar', figsize=(8,5), color=['darkslateblue', 'sandybrown'],fontsize=18)\n",
    "handles, labels = plt.gca().get_legend_handles_labels()\n",
    "order = [0,1]\n",
    "plt.legend([handles[idx] for idx in order],[labels[idx] for idx in order], fontsize=18, loc=1)\n",
    "ax5.set_xlabel('Target class', fontsize=18)\n",
    "ax5.set_ylabel('Drug-target pairs (%)', fontsize=18)\n",
    "ax5.yaxis.grid(True, which='major', linestyle='-', linewidth=0.5)\n",
    "ax5.set_xticklabels(ax5.get_xticklabels(), rotation=45, horizontalalignment='right')\n",
    "\n",
    "#plt.savefig(basedir + '/integration_bioact_plasma_conc/figures/target_classes_FvS_unbound.png', dpi=100, bbox_inches='tight')\n"
   ]
  },
  {
   "cell_type": "code",
   "execution_count": 174,
   "metadata": {},
   "outputs": [],
   "source": [
    "# compare bioact_df_pchembl_faers and bioact_df_pchembl_sider"
   ]
  },
  {
   "cell_type": "code",
   "execution_count": 193,
   "metadata": {},
   "outputs": [],
   "source": [
    "bioact_df_pchembl_faers_tc = bioact_df_pchembl_faers.merge(target_class, on='accession', how='left')\n",
    "bioact_df_pchembl_faers_grouped = bioact_df_pchembl_faers_tc.groupby('integrated_level').count()[['accession']]\n",
    "bioact_df_pchembl_faers_grouped['% datapoints'] = bioact_df_pchembl_faers_grouped['accession'].apply(lambda x: (x/sum(bioact_df_pchembl_faers_grouped['accession']))*100)"
   ]
  },
  {
   "cell_type": "code",
   "execution_count": 194,
   "metadata": {},
   "outputs": [],
   "source": [
    "bioact_df_pchembl_sider_tc = bioact_df_pchembl_sider.merge(target_class, on='accession', how='left')\n",
    "bioact_df_pchembl_sider_grouped = bioact_df_pchembl_sider_tc.groupby('integrated_level').count()[['accession']]\n",
    "bioact_df_pchembl_sider_grouped['% datapoints'] = bioact_df_pchembl_sider_grouped['accession'].apply(lambda x: (x/sum(bioact_df_pchembl_sider_grouped['accession']))*100)"
   ]
  },
  {
   "cell_type": "code",
   "execution_count": 195,
   "metadata": {},
   "outputs": [],
   "source": [
    "compare_percentages_classes_pchembl = bioact_df_pchembl_sider_grouped[['% datapoints']].merge(bioact_df_pchembl_faers_grouped[['% datapoints']], on='integrated_level', suffixes = ['_sider', '_faers'])\n",
    "compare_percentages_classes_pchembl = compare_percentages_classes_pchembl.loc[(compare_percentages_classes_pchembl['% datapoints_sider']>1)&(compare_percentages_classes_pchembl['% datapoints_faers']>1)]\n",
    "compare_percentages_classes_pchembl.sort_values(by='% datapoints_faers', inplace=True)\n",
    "compare_percentages_classes_pchembl.rename(columns={'% datapoints_faers': 'FAERS', '% datapoints_sider': 'SIDER'}, inplace=True)"
   ]
  },
  {
   "cell_type": "code",
   "execution_count": 196,
   "metadata": {},
   "outputs": [
    {
     "data": {
      "text/html": [
       "<div>\n",
       "<style scoped>\n",
       "    .dataframe tbody tr th:only-of-type {\n",
       "        vertical-align: middle;\n",
       "    }\n",
       "\n",
       "    .dataframe tbody tr th {\n",
       "        vertical-align: top;\n",
       "    }\n",
       "\n",
       "    .dataframe thead th {\n",
       "        text-align: right;\n",
       "    }\n",
       "</style>\n",
       "<table border=\"1\" class=\"dataframe\">\n",
       "  <thead>\n",
       "    <tr style=\"text-align: right;\">\n",
       "      <th></th>\n",
       "      <th>SIDER</th>\n",
       "      <th>FAERS</th>\n",
       "    </tr>\n",
       "    <tr>\n",
       "      <th>integrated_level</th>\n",
       "      <th></th>\n",
       "      <th></th>\n",
       "    </tr>\n",
       "  </thead>\n",
       "  <tbody>\n",
       "    <tr>\n",
       "      <th>Membrane receptor</th>\n",
       "      <td>1.392447</td>\n",
       "      <td>1.374778</td>\n",
       "    </tr>\n",
       "    <tr>\n",
       "      <th>Hydrolase</th>\n",
       "      <td>1.875627</td>\n",
       "      <td>1.835747</td>\n",
       "    </tr>\n",
       "    <tr>\n",
       "      <th>Voltage-gated ion channel</th>\n",
       "      <td>1.902083</td>\n",
       "      <td>1.932120</td>\n",
       "    </tr>\n",
       "    <tr>\n",
       "      <th>Electrochemical transporter</th>\n",
       "      <td>2.615016</td>\n",
       "      <td>2.676405</td>\n",
       "    </tr>\n",
       "    <tr>\n",
       "      <th>Eraser</th>\n",
       "      <td>2.868442</td>\n",
       "      <td>2.769295</td>\n",
       "    </tr>\n",
       "    <tr>\n",
       "      <th>Protease</th>\n",
       "      <td>3.163640</td>\n",
       "      <td>3.095573</td>\n",
       "    </tr>\n",
       "    <tr>\n",
       "      <th>Enzyme</th>\n",
       "      <td>3.992147</td>\n",
       "      <td>3.951325</td>\n",
       "    </tr>\n",
       "    <tr>\n",
       "      <th>Ligand-gated ion channel</th>\n",
       "      <td>4.171772</td>\n",
       "      <td>4.118528</td>\n",
       "    </tr>\n",
       "    <tr>\n",
       "      <th>Cytochrome P450</th>\n",
       "      <td>4.465579</td>\n",
       "      <td>4.714188</td>\n",
       "    </tr>\n",
       "    <tr>\n",
       "      <th>Oxidoreductase</th>\n",
       "      <td>4.731536</td>\n",
       "      <td>4.774567</td>\n",
       "    </tr>\n",
       "    <tr>\n",
       "      <th>Nuclear receptor</th>\n",
       "      <td>5.626880</td>\n",
       "      <td>5.653542</td>\n",
       "    </tr>\n",
       "    <tr>\n",
       "      <th>Lyase</th>\n",
       "      <td>5.760555</td>\n",
       "      <td>5.710437</td>\n",
       "    </tr>\n",
       "    <tr>\n",
       "      <th>Kinase</th>\n",
       "      <td>22.222068</td>\n",
       "      <td>21.666686</td>\n",
       "    </tr>\n",
       "    <tr>\n",
       "      <th>Family A G protein-coupled receptor</th>\n",
       "      <td>30.742453</td>\n",
       "      <td>31.284326</td>\n",
       "    </tr>\n",
       "  </tbody>\n",
       "</table>\n",
       "</div>"
      ],
      "text/plain": [
       "                                         SIDER      FAERS\n",
       "integrated_level                                         \n",
       "Membrane receptor                     1.392447   1.374778\n",
       "Hydrolase                             1.875627   1.835747\n",
       "Voltage-gated ion channel             1.902083   1.932120\n",
       "Electrochemical transporter           2.615016   2.676405\n",
       "Eraser                                2.868442   2.769295\n",
       "Protease                              3.163640   3.095573\n",
       "Enzyme                                3.992147   3.951325\n",
       "Ligand-gated ion channel              4.171772   4.118528\n",
       "Cytochrome P450                       4.465579   4.714188\n",
       "Oxidoreductase                        4.731536   4.774567\n",
       "Nuclear receptor                      5.626880   5.653542\n",
       "Lyase                                 5.760555   5.710437\n",
       "Kinase                               22.222068  21.666686\n",
       "Family A G protein-coupled receptor  30.742453  31.284326"
      ]
     },
     "execution_count": 196,
     "metadata": {},
     "output_type": "execute_result"
    }
   ],
   "source": [
    "compare_percentages_classes_pchembl"
   ]
  },
  {
   "cell_type": "code",
   "execution_count": 197,
   "metadata": {},
   "outputs": [
    {
     "data": {
      "image/png": "[encoded data removed]",
      "text/plain": [
       "<Figure size 432x576 with 1 Axes>"
      ]
     },
     "metadata": {
      "needs_background": "light"
     },
     "output_type": "display_data"
    }
   ],
   "source": [
    "ax6 = compare_percentages_classes_pchembl.reindex(compare_percentages_classes_pchembl.index).plot(kind='barh', figsize=(6,8), color=['darkslateblue','sandybrown'], fontsize=18)\n",
    "handles, labels = plt.gca().get_legend_handles_labels()\n",
    "order = [1,0]\n",
    "plt.legend([handles[idx] for idx in order],[labels[idx] for idx in order], fontsize=12)\n",
    "ax6.set_ylabel('Target class', fontsize=18)\n",
    "ax6.set_xlabel('Drug-target pairs (%)', fontsize=18)\n",
    "ax6.xaxis.grid(True, which='major', linestyle='-', linewidth=0.5)\n",
    "\n",
    "#plt.savefig(basedir + '/integration_bioact_plasma_conc/figures/target_classes_FvS_pchembl.png', dpi=100, bbox_inches='tight')\n"
   ]
  },
  {
   "cell_type": "code",
   "execution_count": null,
   "metadata": {},
   "outputs": [],
   "source": []
  },
  {
   "cell_type": "code",
   "execution_count": 198,
   "metadata": {},
   "outputs": [],
   "source": [
    "compare_percentages_classes_unbound.sort_values(by='FAERS', inplace=True, ascending=False)\n",
    "compare_percentages_classes_pchembl.sort_values(by='FAERS', inplace=True, ascending=False)\n"
   ]
  },
  {
   "cell_type": "code",
   "execution_count": 260,
   "metadata": {},
   "outputs": [
    {
     "data": {
      "text/plain": [
       "16"
      ]
     },
     "execution_count": 260,
     "metadata": {},
     "output_type": "execute_result"
    }
   ],
   "source": [
    "len(compare_percentages_classes_unbound)"
   ]
  },
  {
   "cell_type": "code",
   "execution_count": 299,
   "metadata": {},
   "outputs": [
    {
     "data": {
      "image/png": "[encoded data removed]",
      "text/plain": [
       "<Figure size 1296x360 with 2 Axes>"
      ]
     },
     "metadata": {
      "needs_background": "light"
     },
     "output_type": "display_data"
    }
   ],
   "source": [
    "f, (ax6, ax5) = plt.subplots(1,2, figsize=(18,5), gridspec_kw={'width_ratios': [1,1], 'height_ratios': [1]})\n",
    "\n",
    "\n",
    "compare_percentages_classes_unbound.reindex(compare_percentages_classes_unbound.index).plot(kind='bar', color=['steelblue', 'sandybrown'],fontsize=18, ax=ax5, edgecolor='white')\n",
    "\n",
    "#plt.legend([handles[idx] for idx in order],[labels[idx] for idx in order], fontsize=18, loc=1)\n",
    "ax5.set_xlabel('', fontsize=18)\n",
    "#ax5.set_ylabel('Drug-target pairs (%)', fontsize=18)\n",
    "ax5.yaxis.grid(True, which='major', linestyle='-', linewidth=0.5)\n",
    "ax5.set_xticklabels(ax5.get_xticklabels(), rotation=45, horizontalalignment='right')\n",
    "#ax5.legend_.remove()\n",
    "#ax5.set_title('Plasma concentration integration', ha='center')\n",
    "\n",
    "bars = ax5.patches\n",
    "patterns =('//', '')\n",
    "hatches = [p for p in patterns for i in range(len(compare_percentages_classes_unbound))]\n",
    "for bar, hatch in zip(bars, hatches):\n",
    "    bar.set_hatch(hatch)\n",
    "handles, labels = plt.gca().get_legend_handles_labels()\n",
    "order = [0,1]\n",
    "\n",
    "ax5.legend()\n",
    "\n",
    "compare_percentages_classes_pchembl.reindex(compare_percentages_classes_pchembl.index).plot(kind='bar', color=['steelblue', 'sandybrown'],fontsize=18, ax=ax6, edgecolor='white')\n",
    "handles, labels = plt.gca().get_legend_handles_labels()\n",
    "order = [0,1]\n",
    "#plt.legend([handles[idx] for idx in order],[labels[idx] for idx in order], fontsize=18, loc=1)\n",
    "ax6.set_xlabel('', fontsize=18)\n",
    "ax6.set_ylabel('Drug-target pairs (%)', fontsize=23)\n",
    "ax6.yaxis.grid(True, which='major', linestyle='-', linewidth=0.5)\n",
    "ax6.set_xticklabels(ax6.get_xticklabels(), rotation=45, horizontalalignment='right')\n",
    "\n",
    "bars = ax6.patches\n",
    "patterns =('//', '')\n",
    "hatches = [p for p in patterns for i in range(len(compare_percentages_classes_pchembl))]\n",
    "for bar, hatch in zip(bars, hatches):\n",
    "    bar.set_hatch(hatch)\n",
    "#ax6.legend(bbox_to_anchor=(1.325,1.2), ncol=2)\n",
    "#ax6.set_title('pChEMBL cut-off', ha='center')\n",
    "\n",
    "ax6.legend()\n",
    "\n",
    "f.text(0.5, -0.65, 'Target class', ha='center', fontsize=23)\n",
    "\n",
    "plt.savefig(basedir + '/integration_bioact_plasma_conc/figures/target_classes_FvS_unbound_twin.png', dpi=100, bbox_inches='tight')\n"
   ]
  },
  {
   "cell_type": "code",
   "execution_count": null,
   "metadata": {},
   "outputs": [],
   "source": []
  }
 ],
 "metadata": {
  "kernelspec": {
   "display_name": "Python [conda env:ias41-release] *",
   "language": "python",
   "name": "conda-env-ias41-release-py"
  },
  "language_info": {
   "codemirror_mode": {
    "name": "ipython",
    "version": 3
   },
   "file_extension": ".py",
   "mimetype": "text/x-python",
   "name": "python",
   "nbconvert_exporter": "python",
   "pygments_lexer": "ipython3",
   "version": "3.6.7"
  }
 },
 "nbformat": 4,
 "nbformat_minor": 4
}
