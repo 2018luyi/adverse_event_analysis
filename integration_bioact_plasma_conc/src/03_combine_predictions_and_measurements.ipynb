{
 "cells": [
  {
   "cell_type": "code",
   "execution_count": 1,
   "metadata": {},
   "outputs": [
    {
     "data": {
      "text/plain": [
       "'Have measured bioactivity data integrated with plasma concentrations, and target predictions integrated with plasma concentrations.\\nCombine datasets, accepting predictions only where there are no measured bioactivities.'"
      ]
     },
     "execution_count": 1,
     "metadata": {},
     "output_type": "execute_result"
    }
   ],
   "source": [
    "\"\"\"Have measured bioactivity data integrated with plasma concentrations, and target predictions integrated with plasma concentrations.\n",
    "Combine datasets, accepting predictions only where there are no measured bioactivities.\"\"\""
   ]
  },
  {
   "cell_type": "code",
   "execution_count": 2,
   "metadata": {},
   "outputs": [],
   "source": [
    "import pandas as pd"
   ]
  },
  {
   "cell_type": "code",
   "execution_count": 3,
   "metadata": {},
   "outputs": [],
   "source": [
    "basedir = '/scratch/ias41/ae_code'"
   ]
  },
  {
   "cell_type": "code",
   "execution_count": 4,
   "metadata": {},
   "outputs": [],
   "source": [
    "measured_unbound_margin = pd.read_csv(basedir + '/integration_bioact_plasma_conc/results/unbound_median_margin.txt', sep='\\t')\n",
    "measured_unbound_no_margin = pd.read_csv(basedir + '/integration_bioact_plasma_conc/results/unbound_median_no_margin.txt', sep='\\t')\n",
    "measured_total_margin = pd.read_csv(basedir + '/integration_bioact_plasma_conc/results/total_median_margin.txt', sep='\\t')\n",
    "measured_total_no_margin = pd.read_csv(basedir + '/integration_bioact_plasma_conc/results/total_median_no_margin.txt', sep='\\t')"
   ]
  },
  {
   "cell_type": "code",
   "execution_count": 7,
   "metadata": {},
   "outputs": [
    {
     "name": "stderr",
     "output_type": "stream",
     "text": [
      "/scratch/ias41/envs/release/lib/python3.6/site-packages/IPython/core/interactiveshell.py:3058: DtypeWarning: Columns (7,9,10,15) have mixed types. Specify dtype option on import or set low_memory=False.\n",
      "  interactivity=interactivity, compiler=compiler, result=result)\n"
     ]
    }
   ],
   "source": [
    "predicted_unbound_margin = pd.read_csv(basedir + '/integration_bioact_plasma_conc/results/unbound_target_prediction_integrated_plasma_margin.txt', sep='\\t')\n",
    "predicted_unbound_no_margin = pd.read_csv(basedir + '/integration_bioact_plasma_conc/results/unbound_target_prediction_integrated_plasma_no_margin.txt', sep='\\t')\n",
    "predicted_total_margin = pd.read_csv(basedir + '/integration_bioact_plasma_conc/results/total_target_prediction_integrated_plasma_margin.txt', sep='\\t')\n",
    "predicted_total_no_margin = pd.read_csv(basedir + '/integration_bioact_plasma_conc/results/total_target_prediction_integrated_plasma_no_margin.txt', sep='\\t')"
   ]
  },
  {
   "cell_type": "code",
   "execution_count": 7,
   "metadata": {},
   "outputs": [],
   "source": [
    "def combine_measured_and_predicted(measured_df, predicted_df):\n",
    "    measured_targets = set(measured_df['accession'])\n",
    "    \n",
    "    #only include targets for which there is a measurement (all measured proteins only)\n",
    "    predicted_selected = predicted_df.loc[(~predicted_df['integrated_plasma_activity'].isnull())&(predicted_df['accession'].isin(measured_targets)),:]\n",
    "        \n",
    "    measured_pairs = set([(i,j) for i,j in zip(measured_df['parent_molregno'],measured_df['accession'])])\n",
    "    def find_measured(x):\n",
    "        if (x['molregno'],x['accession']) in measured_pairs:\n",
    "            return 1\n",
    "        else:\n",
    "            return 0\n",
    "    \n",
    "    predicted_selected['already measured'] = predicted_selected.apply(find_measured, axis=1)\n",
    "    \n",
    "    not_measured = predicted_selected.loc[predicted_selected['already measured']==0]\n",
    "    not_measured.rename(columns={'molregno': 'parent_molregno'}, inplace=True)\n",
    "    not_measured['predicted'] = 1\n",
    "    \n",
    "    measured_df_copy = measured_df.copy()\n",
    "    measured_df['predicted'] = 0\n",
    "    \n",
    "    combined = pd.concat([measured_df, not_measured], sort=False)\n",
    "    combined.drop(labels='already measured', axis=1, inplace=True)\n",
    "    \n",
    "    combined_selected = combined[['parent_molregno', 'accession', 'integrated_plasma_activity', 'pref_name','predicted']]\n",
    "    return combined_selected"
   ]
  },
  {
   "cell_type": "code",
   "execution_count": 53,
   "metadata": {},
   "outputs": [],
   "source": [
    "def restrict_min_n(integrated_df):\n",
    "    \"\"\"Return copies of dataframe with bioactivities with less than 5 compounds and less than 5 active compounds removed.\n",
    "    kwargs: integrated_df -- dataframe with integrated bioact&plasma concentration\"\"\"\n",
    "    \n",
    "    # Find which targets have less than 5 compounds associated\n",
    "    targets_without_5_compounds = list()\n",
    "    for group in integrated_df.groupby('accession'):\n",
    "        if len(group[1]['parent_molregno'].drop_duplicates()) < 5:\n",
    "            targets_without_5_compounds.append(group[0])\n",
    "            \n",
    "    # Find which targets have less than 5 active compounds associated\n",
    "    targets_without_5_active_compounds = list()    \n",
    "    for group in integrated_df.groupby('accession'):\n",
    "        temp_df = group[1]\n",
    "        target = group[0]\n",
    "        if len(temp_df.loc[temp_df['integrated_plasma_activity']==1,:]) < 5:\n",
    "            targets_without_5_active_compounds.append(target)\n",
    "               \n",
    "    chembl_plasma_margin_minimum5 = integrated_df.loc[~integrated_df['accession'].isin(targets_without_5_compounds),:]\n",
    "    chembl_plasma_margin_minimum5active = integrated_df.loc[~integrated_df['accession'].isin(targets_without_5_active_compounds),:]\n",
    "    \n",
    "    return chembl_plasma_margin_minimum5, chembl_plasma_margin_minimum5active"
   ]
  },
  {
   "cell_type": "code",
   "execution_count": null,
   "metadata": {},
   "outputs": [],
   "source": [
    "# Do integration\n",
    "\n",
    "combined_margin_unbound = combine_measured_and_predicted(measured_unbound_margin, predicted_unbound_margin)\n",
    "combined_no_margin_unbound = combine_measured_and_predicted(measured_unbound_no_margin, predicted_unbound_no_margin)\n",
    "combined_margin_total = combine_measured_and_predicted(measured_total_margin, predicted_total_margin)\n",
    "combined_no_margin_total = combine_measured_and_predicted(measured_total_no_margin, predicted_total_no_margin)\n",
    "\n",
    "\n",
    "unbound_median_margin_min5, unbound_median_margin_min5active = restrict_min_n(combined_margin_unbound)\n",
    "unbound_median_no_margin_min5, unbound_median_no_margin_min5active = restrict_min_n(combined_no_margin_unbound)\n",
    "total_median_margin_min5, total_median_margin_min5active = restrict_min_n(combined_margin_total)\n",
    "total_median_no_margin_min5, total_median_no_margin_min5active = restrict_min_n(combined_no_margin_total)"
   ]
  },
  {
   "cell_type": "code",
   "execution_count": null,
   "metadata": {},
   "outputs": [],
   "source": [
    "# Save files without min5active\n",
    "combined_margin_unbound.to_csv(basedir + '/integration_bioact_plasma_conc/results/unbound_median_margin_added_preds_measured_proteins.txt', sep = '\\t', index=False)\n",
    "combined_no_margin_unbound.to_csv(basedir + '/integration_bioact_plasma_conc/results/unbound_median_no_margin_added_preds_measured_proteins.txt', sep = '\\t', index=False)\n",
    "combined_margin_total.to_csv(basedir + '/integration_bioact_plasma_conc/results/total_median_margin_added_preds_measured_proteins.txt', sep = '\\t', index=False)\n",
    "combined_no_margin_total.to_csv(basedir + '/integration_bioact_plasma_conc/results/total_median_no_margin_added_preds_measured_proteins.txt', sep = '\\t', index=False)"
   ]
  },
  {
   "cell_type": "code",
   "execution_count": null,
   "metadata": {},
   "outputs": [],
   "source": [
    "# Save files with min5active\n",
    "unbound_median_margin_min5active.to_csv(basedir + '/integration_bioact_plasma_conc/results/unbound_median_margin_min5active_added_preds_measured_proteins.txt', sep = '\\t', index=False)\n",
    "unbound_median_no_margin_min5active.to_csv(basedir + '/integration_bioact_plasma_conc/results/unbound_median_no_margin_min5active_added_preds_measured_proteins.txt', sep = '\\t', index=False)\n",
    "total_median_margin_min5active.to_csv(basedir + '/integration_bioact_plasma_conc/results/total_median_margin_min5active_added_preds_measured_proteins.txt', sep = '\\t', index=False)\n",
    "total_median_no_margin_min5active.to_csv(basedir + '/integration_bioact_plasma_conc/results/total_median_no_margin_min5active_added_preds_measured_proteins.txt', sep = '\\t', index=False)"
   ]
  }
 ],
 "metadata": {
  "kernelspec": {
   "display_name": "Python 3",
   "language": "python",
   "name": "python3"
  },
  "language_info": {
   "codemirror_mode": {
    "name": "ipython",
    "version": 3
   },
   "file_extension": ".py",
   "mimetype": "text/x-python",
   "name": "python",
   "nbconvert_exporter": "python",
   "pygments_lexer": "ipython3",
   "version": "3.6.7"
  }
 },
 "nbformat": 4,
 "nbformat_minor": 4
}
