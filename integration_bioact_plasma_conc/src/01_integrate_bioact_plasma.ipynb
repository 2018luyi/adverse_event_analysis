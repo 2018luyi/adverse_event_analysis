{
 "cells": [
  {
   "cell_type": "code",
   "execution_count": 1,
   "metadata": {},
   "outputs": [
    {
     "data": {
      "text/plain": [
       "'There are files with bioactivity data and those with plasma conc. data. Need to integrate these files.\\nWrite a file with integrated plasma concentration/activity'"
      ]
     },
     "execution_count": 1,
     "metadata": {},
     "output_type": "execute_result"
    }
   ],
   "source": [
    "\"\"\"There are files with bioactivity data and those with plasma conc. data. Need to integrate these files.\n",
    "Write a file with integrated plasma concentration/activity\"\"\""
   ]
  },
  {
   "cell_type": "code",
   "execution_count": 2,
   "metadata": {},
   "outputs": [],
   "source": [
    "import pandas as pd"
   ]
  },
  {
   "cell_type": "code",
   "execution_count": 6,
   "metadata": {},
   "outputs": [],
   "source": [
    "basedir = '/scratch/ias41/ae_code'"
   ]
  },
  {
   "cell_type": "code",
   "execution_count": 16,
   "metadata": {},
   "outputs": [],
   "source": [
    "# Open files\n",
    "\n",
    "# Bioactivity data\n",
    "median_bioact = pd.read_csv(basedir + '/bioactivities/results/bioact_medians_ae_drugs.txt', sep='\\t')\n",
    "\n",
    "# Total plasma concentration data\n",
    "median_plasma = pd.read_csv(basedir + '/plasma_concentrations/results/molregno2median_plasma_total_unbound.txt', sep='\\t')\n",
    "median_plasma.rename(columns={'molregno': 'parent_molregno'}, inplace=True)"
   ]
  },
  {
   "cell_type": "code",
   "execution_count": 19,
   "metadata": {},
   "outputs": [],
   "source": [
    "# Defining the way that plasma concentrations will be integrated\n",
    "\n",
    "# We want the bioactivity concentration to be higher than the plasma concentration \n",
    "# To achieve that, the pMolar plasma concentration value should be higher than the pchembl_value \n",
    "# This is the case when the Ratio pIC50/pCmax > 1, in other words the Difference of pchembl-pmolar is positive (pchembl is higher than pmolar, so bioactivity concentration is lower than cmax)\n",
    "# to accept upto 10-fold difference in the other direction, which is when difference of pchembl-pmolar is negative (pchembl is lower than pmolar, so bioactivity concentration higher than plasma concentration)\n",
    "# Difference of pchembl-pmolar must be 1 or less (if negative), i.e. between 0 and -1\n",
    "\n",
    "def define_integrated_activity(x, margin):\n",
    "    \"\"\"Integrate the plasma concentration with the bioactivity data to an 'integrated_plasma_activity', which is binary.\n",
    "    The 'margin' is whether to accept a 1-log unit/10-fold margin in case the Ratio of IC50/Cmax is not above 1. (plasma concentration is lower than IC50).\n",
    "    kwargs -- x, dataframe\n",
    "    margin -- True or False\"\"\"\n",
    "    \n",
    "    if margin == True:\n",
    "    \n",
    "        if x['Ratio'] > 1:\n",
    "            return 1\n",
    "        elif ((x['Difference']<0)&(x['Difference']>-1)) == True:\n",
    "            return 1\n",
    "        else:\n",
    "            return 0\n",
    "        \n",
    "    if margin == False:\n",
    "        if x['Ratio'] > 1:\n",
    "            return 1\n",
    "        else:\n",
    "            return 0"
   ]
  },
  {
   "cell_type": "code",
   "execution_count": 25,
   "metadata": {},
   "outputs": [],
   "source": [
    "def integrate_plasma(bioact_df, plasma_concentrations, plasma_column_name, margin):\n",
    "    \"\"\"Merge bioactivity and plasma concentration files, and compute IC50/Cmax Ratio. \n",
    "    Return dataframe with integrated plasma activity (binary) per compound-target combo.\n",
    "    kwargs:\n",
    "    bioact_df -- bioactivity dataframe\n",
    "    plasma_concentrations -- dataframe with plasma concentrations\n",
    "    plasma_column_name -- name of pMolar (log units) total conc. or unbound conc. column in plasma dataframe\n",
    "    margin -- True or False, whether to use 1-log unit margin for difference between ic50 and cmax\n",
    "    \"\"\"\n",
    "    \n",
    "    # extract relevant columns \n",
    "    bioact_slim = bioact_df[['parent_molregno', 'accession', 'summary']]\n",
    "    bioact_numeric = bioact_slim.loc[bioact_slim['summary']!='inactive',:]\n",
    "    bioact_numeric['summary'] = bioact_numeric['summary'].astype('float')\n",
    "    bioact_qualitative = bioact_slim.loc[bioact_slim['summary']=='inactive',:]\n",
    "    \n",
    "    # merge plasma concentrations with bioactivity and compoute Ratio, Difference, and integrated_plasma_activity\n",
    "    plasma_concentrations_selected = plasma_concentrations.loc[~plasma_concentrations[plasma_column_name].isnull()]\n",
    "    \n",
    "    merged = plasma_concentrations_selected.merge(bioact_numeric, on = 'parent_molregno')    \n",
    "    merged['Ratio'] = merged['summary'] / merged[plasma_column_name]\n",
    "    merged['Difference'] = merged['summary'] - merged[plasma_column_name]\n",
    "    merged['integrated_plasma_activity'] = merged.apply(define_integrated_activity, axis=1, margin=margin)\n",
    "    \n",
    "    # for qualitative inactive data, set integrated_plasma_activity to 0\n",
    "    bioact_qualitative['integrated_plasma_activity'] = 0\n",
    "    \n",
    "    # Concatenate numeric and inactive data again\n",
    "    merged_inactive = pd.concat([merged, bioact_qualitative], sort=False)\n",
    "            \n",
    "    return merged_inactive"
   ]
  },
  {
   "cell_type": "code",
   "execution_count": 43,
   "metadata": {},
   "outputs": [],
   "source": [
    "def restrict_min_n(integrated_df):\n",
    "    \"\"\"Return copies of dataframe with bioactivities with less than 5 compounds and less than 5 active compounds removed.\n",
    "    kwargs: integrated_df -- dataframe with integrated bioact&plasma concentration\"\"\"\n",
    "    \n",
    "    # Find which targets have less than 5 compounds associated\n",
    "    targets_without_5_compounds = list()\n",
    "    for group in integrated_df.groupby('accession'):\n",
    "        if len(group[1]['parent_molregno'].drop_duplicates()) < 5:\n",
    "            targets_without_5_compounds.append(group[0])\n",
    "            \n",
    "    # Find which targets have less than 5 active compounds associated\n",
    "    targets_without_5_active_compounds = list()    \n",
    "    for group in integrated_df.groupby('accession'):\n",
    "        if len(group[1].loc[group[1]['integrated_plasma_activity']==1,:]) < 5:\n",
    "            targets_without_5_active_compounds.append(group[0])\n",
    "               \n",
    "    chembl_plasma_margin_minimum5 = integrated_df.loc[~integrated_df['accession'].isin(targets_without_5_compounds),:]\n",
    "    chembl_plasma_margin_minimum5active = integrated_df.loc[~integrated_df['accession'].isin(targets_without_5_active_compounds),:]\n",
    "    \n",
    "    return chembl_plasma_margin_minimum5, chembl_plasma_margin_minimum5active"
   ]
  },
  {
   "cell_type": "code",
   "execution_count": 33,
   "metadata": {},
   "outputs": [
    {
     "name": "stderr",
     "output_type": "stream",
     "text": [
      "/scratch/ias41/envs/release/lib/python3.6/site-packages/ipykernel_launcher.py:14: SettingWithCopyWarning: \n",
      "A value is trying to be set on a copy of a slice from a DataFrame.\n",
      "Try using .loc[row_indexer,col_indexer] = value instead\n",
      "\n",
      "See the caveats in the documentation: http://pandas.pydata.org/pandas-docs/stable/user_guide/indexing.html#returning-a-view-versus-a-copy\n",
      "  \n",
      "/scratch/ias41/envs/release/lib/python3.6/site-packages/ipykernel_launcher.py:26: SettingWithCopyWarning: \n",
      "A value is trying to be set on a copy of a slice from a DataFrame.\n",
      "Try using .loc[row_indexer,col_indexer] = value instead\n",
      "\n",
      "See the caveats in the documentation: http://pandas.pydata.org/pandas-docs/stable/user_guide/indexing.html#returning-a-view-versus-a-copy\n"
     ]
    }
   ],
   "source": [
    "# Do integration - not restricted by minimum n\n",
    "\n",
    "total_median_margin = integrate_plasma(bioact_df = median_bioact, plasma_concentrations = median_plasma, plasma_column_name='median pMolar total plasma concentration', margin=True)\n",
    "total_median_no_margin = integrate_plasma(bioact_df = median_bioact, plasma_concentrations = median_plasma, plasma_column_name='median pMolar total plasma concentration', margin=False)\n",
    "\n",
    "unbound_median_margin = integrate_plasma(bioact_df = median_bioact, plasma_concentrations = median_plasma, plasma_column_name='median pMolar unbound plasma concentration', margin=True)\n",
    "unbound_median_no_margin = integrate_plasma(bioact_df = median_bioact, plasma_concentrations = median_plasma, plasma_column_name='median pMolar unbound plasma concentration', margin=False)"
   ]
  },
  {
   "cell_type": "code",
   "execution_count": 40,
   "metadata": {},
   "outputs": [],
   "source": [
    "# Save files not restricted by min 5 - so that can combine with target predictions and then do cut off min_n later\n",
    "total_median_margin.to_csv(basedir + '/integration_bioact_plasma_conc/results/total_median_margin.txt', sep = '\\t', index=False)\n",
    "total_median_no_margin.to_csv(basedir + '/integration_bioact_plasma_conc/results/total_median_no_margin.txt', sep = '\\t', index=False)\n",
    "\n",
    "unbound_median_margin.to_csv(basedir + '/integration_bioact_plasma_conc/results/unbound_median_margin.txt', sep = '\\t', index=False)\n",
    "unbound_median_no_margin.to_csv(basedir + '/integration_bioact_plasma_conc/results/unbound_median_no_margin.txt', sep = '\\t', index=False)"
   ]
  },
  {
   "cell_type": "code",
   "execution_count": 46,
   "metadata": {},
   "outputs": [],
   "source": [
    "# Do integration - restricted by min n\n",
    "\n",
    "total_median_margin_min5, total_median_margin_min5active = restrict_min_n(total_median_margin)\n",
    "total_median_no_margin_min5, total_median_no_margin_min5active = restrict_min_n(total_median_no_margin)\n",
    "\n",
    "unbound_median_margin_min5, unbound_median_margin_min5active = restrict_min_n(unbound_median_margin)\n",
    "unbound_median_no_margin_min5, unbound_median_no_margin_min5active = restrict_min_n(unbound_median_no_margin)"
   ]
  },
  {
   "cell_type": "code",
   "execution_count": 47,
   "metadata": {},
   "outputs": [],
   "source": [
    "# Save files min5\n",
    "\n",
    "# Files restricted by min_n\n",
    "total_median_margin_min5active.to_csv(basedir + '/integration_bioact_plasma_conc/results/total_median_margin_min5active.txt', sep = '\\t', index=False)\n",
    "total_median_no_margin_min5active.to_csv(basedir + '/integration_bioact_plasma_conc/results/total_median_no_margin_min5active.txt', sep = '\\t', index=False)\n",
    "\n",
    "unbound_median_margin_min5active.to_csv(basedir + '/integration_bioact_plasma_conc/results/unbound_median_margin_min5active.txt', sep = '\\t', index=False)\n",
    "unbound_median_no_margin_min5active.to_csv(basedir + '/integration_bioact_plasma_conc/results/unbound_median_no_margin_min5active.txt', sep = '\\t', index=False)"
   ]
  }
 ],
 "metadata": {
  "kernelspec": {
   "display_name": "Python 3",
   "language": "python",
   "name": "python3"
  },
  "language_info": {
   "codemirror_mode": {
    "name": "ipython",
    "version": 3
   },
   "file_extension": ".py",
   "mimetype": "text/x-python",
   "name": "python",
   "nbconvert_exporter": "python",
   "pygments_lexer": "ipython3",
   "version": "3.6.7"
  }
 },
 "nbformat": 4,
 "nbformat_minor": 4
}
