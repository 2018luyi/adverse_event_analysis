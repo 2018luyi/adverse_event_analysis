{
 "cells": [
  {
   "cell_type": "code",
   "execution_count": 1,
   "metadata": {},
   "outputs": [],
   "source": [
    "import pandas as pd\n",
    "import seaborn as sns\n",
    "import matplotlib.pyplot as plt\n",
    "import numpy as np"
   ]
  },
  {
   "cell_type": "code",
   "execution_count": 2,
   "metadata": {},
   "outputs": [],
   "source": [
    "pd.set_option('display.max_rows',1000)"
   ]
  },
  {
   "cell_type": "code",
   "execution_count": 3,
   "metadata": {},
   "outputs": [],
   "source": [
    "basedir = '/scratch/ias41/ae_code'"
   ]
  },
  {
   "cell_type": "code",
   "execution_count": 4,
   "metadata": {},
   "outputs": [],
   "source": [
    "# applicability domain 70, performance filter TSSCV PRAUC 0.7"
   ]
  },
  {
   "cell_type": "code",
   "execution_count": 4,
   "metadata": {},
   "outputs": [],
   "source": [
    "tp = pd.read_csv(basedir + '/bioactivities/data/pidgin_input.smi_out_predictions_20200108-164123_ad70pr0.7.txt', sep='\\t')\n",
    "tp.set_index('Compound', inplace=True)"
   ]
  },
  {
   "cell_type": "code",
   "execution_count": 8,
   "metadata": {},
   "outputs": [],
   "source": [
    "median_plasma = pd.read_csv(basedir + '/plasma_concentrations/results/molregno2median_plasma_total_unbound.txt', sep='\\t')"
   ]
  },
  {
   "cell_type": "code",
   "execution_count": 11,
   "metadata": {},
   "outputs": [],
   "source": [
    "# Reformat dataframe\n",
    "\n",
    "all_compound_target_combinations = [(compound,target) for compound in tp.index for target in set([i.split('_')[0] for i in tp.columns])]\n",
    "conc_data = dict()\n",
    "for item in all_compound_target_combinations:\n",
    "    compound = item[0]\n",
    "    target = item[1]\n",
    "    conc_data[(compound,target)] = {'Target': target, 'Compound': compound, 7: np.nan, 6: np.nan, 5: np.nan, 4: np.nan}\n",
    "\n",
    "pconc = {'0.1': 7, '1': 6, '10': 5, '100': 4}\n",
    "for row in tp.iterrows():\n",
    "    compound = row[0]\n",
    "    for column, value in zip(row[1].index, row[1].values):\n",
    "        target = column.split('_')[0]\n",
    "        concentration = column.split('_')[1]\n",
    "        conc_data[(compound,target)][pconc[concentration]] = value\n",
    "tp_pivoted = pd.DataFrame(list(conc_data.values()))"
   ]
  },
  {
   "cell_type": "code",
   "execution_count": 12,
   "metadata": {},
   "outputs": [],
   "source": [
    "def is_negative_prediction(x):\n",
    "    if np.isnan(x):\n",
    "        return False\n",
    "    if x < 0.4:\n",
    "        return True\n",
    "    else: \n",
    "        return False\n",
    "def is_positive_prediction(x):\n",
    "    if np.isnan(x):\n",
    "        return False\n",
    "    if x > 0.6:\n",
    "        return True\n",
    "    else: \n",
    "        return False"
   ]
  },
  {
   "cell_type": "code",
   "execution_count": 13,
   "metadata": {},
   "outputs": [],
   "source": [
    "def make_no_data_summary(x):\n",
    "    if all(np.isnan(i) for i in [x[7], x[6], x[5], x[4]]):\n",
    "        return 'no information'\n",
    "    else:\n",
    "        return np.nan\n",
    "def find_negative_predictions(x):\n",
    "    if any(is_negative_prediction(i) for i in [x[7], x[6], x[5], x[4]]):\n",
    "        return 'negative prediction'\n",
    "    else:\n",
    "        return np.nan\n",
    "def find_positive_predictions(x):\n",
    "    if any(is_positive_prediction(i) for i in [x[7], x[6], x[5], x[4]]):\n",
    "        return 'positive prediction'\n",
    "    else:\n",
    "        return np.nan"
   ]
  },
  {
   "cell_type": "code",
   "execution_count": 68,
   "metadata": {},
   "outputs": [],
   "source": [
    "# Restrict to those rows with at least one active/inactive prediction\n",
    "tp_pivoted['no information'] = tp_pivoted.apply(make_no_data_summary, axis=1)\n",
    "tp_pivoted = tp_pivoted.loc[tp_pivoted['no information'].isnull()]\n",
    "\n",
    "# Identify rows with positive and rows with negative predictions\n",
    "tp_pivoted['negative prediction'] = tp_pivoted.apply(find_negative_predictions, axis=1)\n",
    "tp_pivoted['positive prediction'] = tp_pivoted.apply(find_positive_predictions, axis=1)"
   ]
  },
  {
   "cell_type": "code",
   "execution_count": 74,
   "metadata": {},
   "outputs": [],
   "source": [
    "def find_active_unreliable_predictions(x):\n",
    "    values = [i for i in [x[7], x[6], x[5], x[4]] if not np.isnan(i)]\n",
    "    if len(values) == 1:\n",
    "        return np.nan\n",
    "    if any(is_positive_prediction(i) for i in values) and any(is_negative_prediction(i) for i in values):\n",
    "        if [round(i,1) for i in values] == sorted([round(i,1) for i in values]):\n",
    "            return 'OK'\n",
    "        else:\n",
    "            return 'not OK'\n",
    "    else:\n",
    "        return np.nan\n",
    "\n",
    "def determine_lowest_active(x):\n",
    "    \n",
    "    for conc in [7,6,5,4]:\n",
    "        if np.isnan(x[conc]):\n",
    "            continue\n",
    "        if x[conc] >= 0.6:\n",
    "            lowest_predicted_active = conc\n",
    "            return lowest_predicted_active    \n",
    "\n",
    "def determine_highest_inactive(x):\n",
    "    highest_predicted_inactive = np.nan\n",
    "    \n",
    "    for conc in [7,6,5,4]:\n",
    "        if np.isnan(x[conc]):\n",
    "            continue\n",
    "        if x[conc] <= 0.4:\n",
    "            highest_predicted_inactive = conc\n",
    "    \n",
    "    return highest_predicted_inactive"
   ]
  },
  {
   "cell_type": "markdown",
   "metadata": {},
   "source": [
    "1. Exclude rows with 'not OK' trend (unreliable predicted active)\n",
    "2. if active and inactive predictions: check lowest active prediction, should be lower than plasma conc. or within 1log unit range. Else inactive.\n",
    "3. if only negative predictions: take highest predicted inactive, should be higher than plasma conc or in range. else no data\n",
    "4. if only positive predictions: take lowest predicted active, should be lower than plasma conc or within 1log unit range. else: no data"
   ]
  },
  {
   "cell_type": "code",
   "execution_count": 80,
   "metadata": {},
   "outputs": [],
   "source": [
    "def integrate_plasma_conc_and_prediction(x, plasma_column, margin=True):\n",
    "    \n",
    "    # There are both positive and negative predictions depending on concentration\n",
    "    if (x['positive prediction'] == 'positive prediction' and x['negative prediction'] == 'negative prediction'):\n",
    "        \n",
    "        # Lowest active prediction should be lower (higher pconc value) than plasma concentration or within 1 log unit range.\n",
    "        # Logic is that if predicted active at a low concentration, should be active at higher concentration too.\n",
    "        # Else inactive because there is a negative prediction, so any concentration lower should also be inactive.\n",
    "        if x['lowest predicted active'] > x[plasma_column]:\n",
    "            return 1\n",
    "        elif x[plasma_column] - x['lowest predicted active'] < 1:\n",
    "            if margin == True:\n",
    "                return 1\n",
    "            elif margin == False:\n",
    "                return 0\n",
    "        else:\n",
    "            return 0\n",
    "        \n",
    "    # If there are only negative predictions\n",
    "    if (x['positive prediction'] != 'positive prediction' and x['negative prediction'] == 'negative prediction'):\n",
    "        # Highest predicted inactive should be higher (lower pconc value) than plasma conc or within 1 log unit range. Else no data.\n",
    "        # Logic is that if predicted inactive at a concentration higher than plasma concentration, lower concentrations should be inactive too.\n",
    "        if x['highest predicted inactive'] < x[plasma_column]:\n",
    "            return 0\n",
    "        elif x['highest predicted inactive'] - x[plasma_column] < 1:\n",
    "            if margin == True: \n",
    "                return 0\n",
    "            elif margin == False:\n",
    "                return np.nan\n",
    "        else:\n",
    "            return np.nan\n",
    "        \n",
    "    # If there are only positive predictions\n",
    "    if (x['positive prediction'] == 'positive prediction' and x['negative prediction'] != 'negative prediction'):\n",
    "        # Lowest active prediction should be lower (higher pconc value) than plasma concentration or within 1 log unit range. Else \n",
    "        # Logic is that if predicted active at a low concentration, should be active at higher concentration too.\n",
    "\n",
    "\n",
    "        if x['lowest predicted active'] > x[plasma_column]:\n",
    "            return 1\n",
    "        elif x[plasma_column] - x['lowest predicted active'] < 1:\n",
    "            if margin == True:\n",
    "                return 1\n",
    "            elif margin == False:\n",
    "                return np.nan\n",
    "        else:\n",
    "            return np.nan"
   ]
  },
  {
   "cell_type": "code",
   "execution_count": 55,
   "metadata": {},
   "outputs": [],
   "source": [
    "def do_target_prediction_plasma_conc_merge(tp_pivoted, plasma_concentrations_df, plasma_column):\n",
    "    \n",
    "    all_negative_predictions = tp_pivoted.loc[(~tp_pivoted['Compound'].isin(set(plasma_concentrations_df['molregno'])))&(tp_pivoted[7]<0.4)&(tp_pivoted[6]<0.4)&(tp_pivoted[5]<0.4)&(tp_pivoted[4]<0.4),:]\n",
    "    all_negative_predictions.drop(labels='no information', axis=1, inplace=True)\n",
    "    all_negative_predictions['integrated_plasma_activity'] = 0\n",
    "    all_negative_predictions.rename(columns={'Compound': 'molregno'}, inplace=True)\n",
    "    \n",
    "    tp_merged = tp_pivoted.merge(plasma_concentrations_df, left_on='Compound', right_on='molregno')\n",
    "    tp_merged.drop(labels=['no information'], axis=1, inplace=True)\n",
    "    tp_merged['trend'] = tp_merged.apply(find_active_unreliable_predictions, axis=1)\n",
    "    \n",
    "    # What is % of rows 'not OK', counter-intuitive dose-response?'\n",
    "    affected = len(tp_merged.loc[tp_merged['trend']=='not OK',:])\n",
    "    total_len = len(tp_merged)\n",
    "    percentage = (affected / total_len) * 100\n",
    "    with open(basedir + '/integration_bioact_plasma_conc/results/not_ok_rows.txt', 'w') as f:\n",
    "        f.write(f\"Rows with 'not OK', counter-intuitive dose-response make up {affected} out of {total_len} rows, which is {percentage}%\")\n",
    "\n",
    "    #Exclude cases that are 'not ok' \n",
    "    tp_merged = tp_merged.loc[tp_merged['trend']!='not OK',:]\n",
    "    \n",
    "    tp_merged['lowest predicted active'] = tp_merged.apply(determine_lowest_active, axis=1)\n",
    "    tp_merged['highest predicted inactive'] = tp_merged.apply(determine_highest_inactive, axis=1)\n",
    "    \n",
    "    tp_merged['prediction plasma integrated margin'] = tp_merged.apply(integrate_plasma_conc_and_prediction, plasma_column=plasma_column, margin=True, axis=1)\n",
    "    tp_merged['prediction plasma integrated no margin'] = tp_merged.apply(integrate_plasma_conc_and_prediction, plasma_column=plasma_column, margin=False, axis=1)\n",
    "    \n",
    "    tp_merged_margin = tp_merged.drop(labels='prediction plasma integrated no margin', axis=1)\n",
    "    tp_merged_margin.rename(columns={'prediction plasma integrated margin': 'integrated_plasma_activity'}, inplace=True)\n",
    "    tp_merged_margin.dropna(subset=['integrated_plasma_activity'], axis=0, inplace=True)\n",
    "    tp_merged_margin_plus_negative = pd.concat([tp_merged_margin, all_negative_predictions], sort=False)\n",
    "    tp_merged_margin_plus_negative.rename(columns={'Target': 'accession'}, inplace=True)\n",
    "\n",
    "    tp_merged_no_margin = tp_merged.drop(labels='prediction plasma integrated margin', axis=1)\n",
    "    tp_merged_no_margin.rename(columns={'prediction plasma integrated no margin': 'integrated_plasma_activity'}, inplace=True)\n",
    "    tp_merged_no_margin.dropna(subset=['integrated_plasma_activity'], axis=0, inplace=True)\n",
    "    tp_merged_no_margin_plus_negative = pd.concat([tp_merged_no_margin, all_negative_predictions], sort=False)\n",
    "    tp_merged_no_margin_plus_negative.rename(columns={'Target': 'accession'}, inplace=True)\n",
    "\n",
    "    return tp_merged_margin_plus_negative, tp_merged_no_margin_plus_negative"
   ]
  },
  {
   "cell_type": "code",
   "execution_count": null,
   "metadata": {},
   "outputs": [],
   "source": [
    "plasma_total = median_plasma.loc[~median_plasma['median pMolar total plasma concentration'].isnull()]\n",
    "integrated_total_margin, integrated_total_no_margin = do_target_prediction_plasma_conc_merge(tp_pivoted=tp_pivoted, plasma_concentrations_df=plasma_total, plasma_column='median pMolar total plasma concentration')\n",
    "\n",
    "integrated_total_margin.to_csv(basedir + '/integration_bioact_plasma_conc/results/total_target_prediction_integrated_plasma_margin.txt', sep='\\t', index=False)\n",
    "integrated_total_no_margin.to_csv(basedir + '/integration_bioact_plasma_conc/results/total_target_prediction_integrated_plasma_no_margin.txt', sep='\\t', index=False)\n",
    "\n",
    "# Not needed any more\n",
    "del(integrated_total_margin)\n",
    "del(integrated_total_no_margin)"
   ]
  },
  {
   "cell_type": "code",
   "execution_count": null,
   "metadata": {},
   "outputs": [],
   "source": [
    "plasma_unbound = median_plasma.loc[~median_plasma['median pMolar unbound plasma concentration'].isnull()]\n",
    "integrated_unbound_margin, integrated_unbound_no_margin = do_target_prediction_plasma_conc_merge(tp_pivoted=tp_pivoted, plasma_concentrations_df=plasma_unbound, plasma_column='median pMolar unbound plasma concentration')\n",
    "\n",
    "integrated_unbound_margin.to_csv(basedir + '/integration_bioact_plasma_conc/results/unbound_target_prediction_integrated_plasma_margin.txt', sep='\\t', index=False)\n",
    "integrated_unbound_no_margin.to_csv(basedir + '/integration_bioact_plasma_conc/results/unbound_target_prediction_integrated_plasma_no_margin.txt', sep='\\t', index=False)"
   ]
  }
 ],
 "metadata": {
  "kernelspec": {
   "display_name": "Python [conda env:ias41-release] *",
   "language": "python",
   "name": "conda-env-ias41-release-py"
  },
  "language_info": {
   "codemirror_mode": {
    "name": "ipython",
    "version": 3
   },
   "file_extension": ".py",
   "mimetype": "text/x-python",
   "name": "python",
   "nbconvert_exporter": "python",
   "pygments_lexer": "ipython3",
   "version": "3.6.7"
  }
 },
 "nbformat": 4,
 "nbformat_minor": 4
}
