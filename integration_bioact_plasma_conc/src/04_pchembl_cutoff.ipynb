{
 "cells": [
  {
   "cell_type": "code",
   "execution_count": null,
   "metadata": {},
   "outputs": [],
   "source": [
    "\"\"\"To compare the effect of integrating with plasma concentrations, here we use cutoff of pchembl 6 instead.\"\"\""
   ]
  },
  {
   "cell_type": "code",
   "execution_count": 7,
   "metadata": {},
   "outputs": [],
   "source": [
    "import pandas as pd\n",
    "import numpy as np"
   ]
  },
  {
   "cell_type": "code",
   "execution_count": 8,
   "metadata": {},
   "outputs": [],
   "source": [
    "basedir = '/scratch/ias41/ae_code'"
   ]
  },
  {
   "cell_type": "code",
   "execution_count": 9,
   "metadata": {},
   "outputs": [],
   "source": [
    "# Bioactivity data\n",
    "median_bioact = pd.read_csv(basedir + '/bioactivities/results/bioact_medians_ae_drugs.txt', sep='\\t')\n",
    "bioact_slim = median_bioact[['parent_molregno', 'accession', 'summary']]"
   ]
  },
  {
   "cell_type": "code",
   "execution_count": 10,
   "metadata": {},
   "outputs": [],
   "source": [
    "def determine_activity(x):\n",
    "    if x['summary'] == 'inactive':\n",
    "        return 0\n",
    "    elif float(x['summary']) >= 6:\n",
    "        return 1\n",
    "    else:\n",
    "        return 0"
   ]
  },
  {
   "cell_type": "code",
   "execution_count": 11,
   "metadata": {},
   "outputs": [
    {
     "name": "stderr",
     "output_type": "stream",
     "text": [
      "/scratch/ias41/envs/release/lib/python3.6/site-packages/ipykernel_launcher.py:2: SettingWithCopyWarning: \n",
      "A value is trying to be set on a copy of a slice from a DataFrame.\n",
      "Try using .loc[row_indexer,col_indexer] = value instead\n",
      "\n",
      "See the caveats in the documentation: http://pandas.pydata.org/pandas-docs/stable/user_guide/indexing.html#returning-a-view-versus-a-copy\n",
      "  \n"
     ]
    }
   ],
   "source": [
    "# This is not actually the integrated plasma activity but the column name it's hardcoded in the subsequent scripts, so will use same name instead.. \n",
    "bioact_slim['integrated_plasma_activity'] = bioact_slim.apply(determine_activity, axis=1)"
   ]
  },
  {
   "cell_type": "code",
   "execution_count": 12,
   "metadata": {},
   "outputs": [],
   "source": [
    "def restrict_min_n(integrated_df):\n",
    "    \"\"\"Return copies of dataframe with bioactivities with less than 5 compounds and less than 5 active compounds removed.\n",
    "    kwargs: integrated_df -- dataframe with integrated bioact&plasma concentration\"\"\"\n",
    "    \n",
    "    # Find which targets have less than 5 compounds associated\n",
    "    targets_without_5_compounds = list()\n",
    "    for group in integrated_df.groupby('accession'):\n",
    "        if len(group[1]['parent_molregno'].drop_duplicates()) < 5:\n",
    "            targets_without_5_compounds.append(group[0])\n",
    "            \n",
    "    # Find which targets have less than 5 active compounds associated\n",
    "    targets_without_5_active_compounds = list()    \n",
    "    for group in integrated_df.groupby('accession'):\n",
    "        if len(group[1].loc[group[1]['integrated_plasma_activity']==1,:]) < 5:\n",
    "            targets_without_5_active_compounds.append(group[0])\n",
    "               \n",
    "    chembl_plasma_margin_minimum5 = integrated_df.loc[~integrated_df['accession'].isin(targets_without_5_compounds),:]\n",
    "    chembl_plasma_margin_minimum5active = integrated_df.loc[~integrated_df['accession'].isin(targets_without_5_active_compounds),:]\n",
    "    \n",
    "    return chembl_plasma_margin_minimum5, chembl_plasma_margin_minimum5active"
   ]
  },
  {
   "cell_type": "code",
   "execution_count": 13,
   "metadata": {},
   "outputs": [],
   "source": [
    "chembl_data_select_0 = bioact_slim[['accession','parent_molregno','integrated_plasma_activity']].drop_duplicates()\n",
    "chembl_data_select_0['predicted'] = 0                                                                                                             "
   ]
  },
  {
   "cell_type": "code",
   "execution_count": 14,
   "metadata": {},
   "outputs": [],
   "source": [
    "pchembl_df_min5, pchembl_df_min5_active = restrict_min_n(chembl_data_select_0)"
   ]
  },
  {
   "cell_type": "code",
   "execution_count": 15,
   "metadata": {},
   "outputs": [
    {
     "data": {
      "text/plain": [
       "(55127, 54000, 30742)"
      ]
     },
     "execution_count": 15,
     "metadata": {},
     "output_type": "execute_result"
    }
   ],
   "source": [
    "len(chembl_data_select_0), len(pchembl_df_min5), len(pchembl_df_min5_active)"
   ]
  },
  {
   "cell_type": "code",
   "execution_count": 15,
   "metadata": {},
   "outputs": [
    {
     "name": "stderr",
     "output_type": "stream",
     "text": [
      "/scratch/ias41/envs/pydb/lib/python3.6/site-packages/pandas/core/frame.py:4025: SettingWithCopyWarning: \n",
      "A value is trying to be set on a copy of a slice from a DataFrame\n",
      "\n",
      "See the caveats in the documentation: http://pandas.pydata.org/pandas-docs/stable/indexing.html#indexing-view-versus-copy\n",
      "  return super(DataFrame, self).rename(**kwargs)\n"
     ]
    }
   ],
   "source": [
    "# pchembl_df_min5_active.rename(columns={'molregno': 'parent_molregno'}, inplace=True)\n",
    "# pchembl_df_min5_active.to_csv(basedir + '/ae_target_links/data/pchembl5_cutoff_median.txt', sep = '\\t', index=False)"
   ]
  },
  {
   "cell_type": "code",
   "execution_count": null,
   "metadata": {},
   "outputs": [],
   "source": [
    "chembl_data_select_0.to_csv(basedir + '/integration_bioact_plasma_conc/results/pchembl6_cutoff_median.txt', sep = '\\t', index=False)"
   ]
  },
  {
   "cell_type": "code",
   "execution_count": 16,
   "metadata": {},
   "outputs": [],
   "source": [
    "pchembl_df_min5_active.to_csv(basedir + '/integration_bioact_plasma_conc/results/pchembl6_cutoff_median_min5active.txt', sep = '\\t', index=False)"
   ]
  },
  {
   "cell_type": "markdown",
   "metadata": {},
   "source": [
    "### Target predictions"
   ]
  },
  {
   "cell_type": "code",
   "execution_count": 91,
   "metadata": {},
   "outputs": [],
   "source": [
    "measured_targets = set(bioact_slim['accession'])"
   ]
  },
  {
   "cell_type": "code",
   "execution_count": 98,
   "metadata": {},
   "outputs": [],
   "source": [
    "measured_pairs = set([(i,j) for i,j in zip(bioact_slim['parent_molregno'],bioact_slim['accession'])])\n",
    "def find_measured(x):\n",
    "    if (x['Compound'],x['Target']) in measured_pairs:\n",
    "        return 1\n",
    "    else:\n",
    "        return 0 "
   ]
  },
  {
   "cell_type": "code",
   "execution_count": 94,
   "metadata": {},
   "outputs": [],
   "source": [
    "tp = pd.read_csv(basedir + '/bioactivities/data/pidgin_input.smi_out_predictions_20200108-164123_ad70pr0.7.txt', sep='\\t')\n",
    "tp.set_index('Compound', inplace=True)"
   ]
  },
  {
   "cell_type": "code",
   "execution_count": 95,
   "metadata": {},
   "outputs": [],
   "source": [
    "# Reformat dataframe\n",
    "\n",
    "all_compound_target_combinations = [(compound,target) for compound in tp.index for target in set([i.split('_')[0] for i in tp.columns])]\n",
    "conc_data = dict()\n",
    "for item in all_compound_target_combinations:\n",
    "    compound = item[0]\n",
    "    target = item[1]\n",
    "    conc_data[(compound,target)] = {'Target': target, 'Compound': compound, 7: np.nan, 6: np.nan, 5: np.nan, 4: np.nan}\n",
    "\n",
    "pconc = {'0.1': 7, '1': 6, '10': 5, '100': 4}\n",
    "for row in tp.iterrows():\n",
    "    compound = row[0]\n",
    "    for column, value in zip(row[1].index, row[1].values):\n",
    "        target = column.split('_')[0]\n",
    "        concentration = column.split('_')[1]\n",
    "        conc_data[(compound,target)][pconc[concentration]] = value\n",
    "tp_pivoted = pd.DataFrame(list(conc_data.values()))"
   ]
  },
  {
   "cell_type": "code",
   "execution_count": 96,
   "metadata": {},
   "outputs": [
    {
     "data": {
      "text/html": [
       "<div>\n",
       "<style scoped>\n",
       "    .dataframe tbody tr th:only-of-type {\n",
       "        vertical-align: middle;\n",
       "    }\n",
       "\n",
       "    .dataframe tbody tr th {\n",
       "        vertical-align: top;\n",
       "    }\n",
       "\n",
       "    .dataframe thead th {\n",
       "        text-align: right;\n",
       "    }\n",
       "</style>\n",
       "<table border=\"1\" class=\"dataframe\">\n",
       "  <thead>\n",
       "    <tr style=\"text-align: right;\">\n",
       "      <th></th>\n",
       "      <th>Target</th>\n",
       "      <th>Compound</th>\n",
       "      <th>7</th>\n",
       "      <th>6</th>\n",
       "      <th>5</th>\n",
       "      <th>4</th>\n",
       "    </tr>\n",
       "  </thead>\n",
       "  <tbody>\n",
       "    <tr>\n",
       "      <th>0</th>\n",
       "      <td>O15554</td>\n",
       "      <td>675206</td>\n",
       "      <td>0.001000</td>\n",
       "      <td>0.001000</td>\n",
       "      <td>NaN</td>\n",
       "      <td>NaN</td>\n",
       "    </tr>\n",
       "    <tr>\n",
       "      <th>1</th>\n",
       "      <td>P51686</td>\n",
       "      <td>675206</td>\n",
       "      <td>0.009091</td>\n",
       "      <td>NaN</td>\n",
       "      <td>NaN</td>\n",
       "      <td>NaN</td>\n",
       "    </tr>\n",
       "    <tr>\n",
       "      <th>2</th>\n",
       "      <td>P11509</td>\n",
       "      <td>675206</td>\n",
       "      <td>NaN</td>\n",
       "      <td>NaN</td>\n",
       "      <td>NaN</td>\n",
       "      <td>NaN</td>\n",
       "    </tr>\n",
       "    <tr>\n",
       "      <th>3</th>\n",
       "      <td>P42892</td>\n",
       "      <td>675206</td>\n",
       "      <td>0.215789</td>\n",
       "      <td>0.113636</td>\n",
       "      <td>0.136364</td>\n",
       "      <td>0.147368</td>\n",
       "    </tr>\n",
       "    <tr>\n",
       "      <th>4</th>\n",
       "      <td>P15907</td>\n",
       "      <td>675206</td>\n",
       "      <td>NaN</td>\n",
       "      <td>NaN</td>\n",
       "      <td>NaN</td>\n",
       "      <td>0.001000</td>\n",
       "    </tr>\n",
       "  </tbody>\n",
       "</table>\n",
       "</div>"
      ],
      "text/plain": [
       "   Target  Compound         7         6         5         4\n",
       "0  O15554    675206  0.001000  0.001000       NaN       NaN\n",
       "1  P51686    675206  0.009091       NaN       NaN       NaN\n",
       "2  P11509    675206       NaN       NaN       NaN       NaN\n",
       "3  P42892    675206  0.215789  0.113636  0.136364  0.147368\n",
       "4  P15907    675206       NaN       NaN       NaN  0.001000"
      ]
     },
     "execution_count": 96,
     "metadata": {},
     "output_type": "execute_result"
    }
   ],
   "source": [
    "tp_pivoted.head()"
   ]
  },
  {
   "cell_type": "code",
   "execution_count": null,
   "metadata": {},
   "outputs": [],
   "source": [
    "# Restrict to targets with a measurement\n",
    "tp_pivoted = tp_pivoted.loc[tp_pivoted['Target'].isin(measured_targets),:]"
   ]
  },
  {
   "cell_type": "code",
   "execution_count": null,
   "metadata": {},
   "outputs": [],
   "source": [
    "# Restrict to where no measurement is available\n",
    "tp_pivoted['already measured'] = tp_pivoted.apply(find_measured, axis=1)"
   ]
  },
  {
   "cell_type": "code",
   "execution_count": null,
   "metadata": {},
   "outputs": [],
   "source": [
    "tp_pivoted = tp_pivoted.loc[tp_pivoted['already measured']==0]"
   ]
  },
  {
   "cell_type": "code",
   "execution_count": 32,
   "metadata": {},
   "outputs": [],
   "source": [
    "def make_no_data_summary(x):\n",
    "    if all(np.isnan(i) for i in [x[7], x[6], x[5], x[4]]):\n",
    "        return 'no information'\n",
    "    else:\n",
    "        return np.nan\n",
    "# Restrict to those rows with at least one active/inactive prediction\n",
    "tp_pivoted['no information'] = tp_pivoted.apply(make_no_data_summary, axis=1)\n",
    "tp_pivoted = tp_pivoted.loc[tp_pivoted['no information'].isnull()]\n",
    "tp_pivoted.drop(labels='no information', axis=1, inplace=True)"
   ]
  },
  {
   "cell_type": "code",
   "execution_count": 30,
   "metadata": {},
   "outputs": [],
   "source": [
    "def is_negative_prediction(x):\n",
    "    if np.isnan(x):\n",
    "        return False\n",
    "    if x < 0.4:\n",
    "        return True\n",
    "    else: \n",
    "        return False\n",
    "def is_positive_prediction(x):\n",
    "    if np.isnan(x):\n",
    "        return False\n",
    "    if x > 0.6:\n",
    "        return True\n",
    "    else: \n",
    "        return False"
   ]
  },
  {
   "cell_type": "code",
   "execution_count": 35,
   "metadata": {},
   "outputs": [],
   "source": [
    "def find_active_unreliable_predictions(x):\n",
    "    values = [i for i in [x[7], x[6], x[5], x[4]] if not np.isnan(i)]\n",
    "    if len(values) == 1:\n",
    "        return np.nan\n",
    "    if any(is_positive_prediction(i) for i in values) and any(is_negative_prediction(i) for i in values):\n",
    "        if [round(i,1) for i in values] == sorted([round(i,1) for i in values]):\n",
    "            return 'OK'\n",
    "        else:\n",
    "            return 'not OK'\n",
    "    else:\n",
    "        return np.nan\n",
    "\n",
    "tp_pivoted['trend'] = tp_pivoted.apply(find_active_unreliable_predictions, axis=1)"
   ]
  },
  {
   "cell_type": "code",
   "execution_count": 38,
   "metadata": {},
   "outputs": [],
   "source": [
    "#Exclude cases that are 'not ok'\n",
    "tp_pivoted = tp_pivoted.loc[tp_pivoted['trend']!='not OK',:]"
   ]
  },
  {
   "cell_type": "code",
   "execution_count": 41,
   "metadata": {},
   "outputs": [],
   "source": [
    "tp_pivoted.drop(labels='trend', axis=1, inplace=True)"
   ]
  },
  {
   "cell_type": "code",
   "execution_count": 42,
   "metadata": {},
   "outputs": [
    {
     "data": {
      "text/html": [
       "<div>\n",
       "<style scoped>\n",
       "    .dataframe tbody tr th:only-of-type {\n",
       "        vertical-align: middle;\n",
       "    }\n",
       "\n",
       "    .dataframe tbody tr th {\n",
       "        vertical-align: top;\n",
       "    }\n",
       "\n",
       "    .dataframe thead th {\n",
       "        text-align: right;\n",
       "    }\n",
       "</style>\n",
       "<table border=\"1\" class=\"dataframe\">\n",
       "  <thead>\n",
       "    <tr style=\"text-align: right;\">\n",
       "      <th></th>\n",
       "      <th>Target</th>\n",
       "      <th>Compound</th>\n",
       "      <th>7</th>\n",
       "      <th>6</th>\n",
       "      <th>5</th>\n",
       "      <th>4</th>\n",
       "    </tr>\n",
       "  </thead>\n",
       "  <tbody>\n",
       "    <tr>\n",
       "      <th>0</th>\n",
       "      <td>O15554</td>\n",
       "      <td>675206</td>\n",
       "      <td>0.001000</td>\n",
       "      <td>0.001000</td>\n",
       "      <td>NaN</td>\n",
       "      <td>NaN</td>\n",
       "    </tr>\n",
       "    <tr>\n",
       "      <th>1</th>\n",
       "      <td>P51686</td>\n",
       "      <td>675206</td>\n",
       "      <td>0.009091</td>\n",
       "      <td>NaN</td>\n",
       "      <td>NaN</td>\n",
       "      <td>NaN</td>\n",
       "    </tr>\n",
       "    <tr>\n",
       "      <th>3</th>\n",
       "      <td>P42892</td>\n",
       "      <td>675206</td>\n",
       "      <td>0.215789</td>\n",
       "      <td>0.113636</td>\n",
       "      <td>0.136364</td>\n",
       "      <td>0.147368</td>\n",
       "    </tr>\n",
       "    <tr>\n",
       "      <th>4</th>\n",
       "      <td>P15907</td>\n",
       "      <td>675206</td>\n",
       "      <td>NaN</td>\n",
       "      <td>NaN</td>\n",
       "      <td>NaN</td>\n",
       "      <td>0.001000</td>\n",
       "    </tr>\n",
       "    <tr>\n",
       "      <th>5</th>\n",
       "      <td>O14684</td>\n",
       "      <td>675206</td>\n",
       "      <td>0.006250</td>\n",
       "      <td>0.015385</td>\n",
       "      <td>0.020000</td>\n",
       "      <td>0.007692</td>\n",
       "    </tr>\n",
       "  </tbody>\n",
       "</table>\n",
       "</div>"
      ],
      "text/plain": [
       "   Target  Compound         7         6         5         4\n",
       "0  O15554    675206  0.001000  0.001000       NaN       NaN\n",
       "1  P51686    675206  0.009091       NaN       NaN       NaN\n",
       "3  P42892    675206  0.215789  0.113636  0.136364  0.147368\n",
       "4  P15907    675206       NaN       NaN       NaN  0.001000\n",
       "5  O14684    675206  0.006250  0.015385  0.020000  0.007692"
      ]
     },
     "execution_count": 42,
     "metadata": {},
     "output_type": "execute_result"
    }
   ],
   "source": [
    "tp_pivoted.head()"
   ]
  },
  {
   "cell_type": "code",
   "execution_count": 44,
   "metadata": {},
   "outputs": [
    {
     "data": {
      "text/html": [
       "<div>\n",
       "<style scoped>\n",
       "    .dataframe tbody tr th:only-of-type {\n",
       "        vertical-align: middle;\n",
       "    }\n",
       "\n",
       "    .dataframe tbody tr th {\n",
       "        vertical-align: top;\n",
       "    }\n",
       "\n",
       "    .dataframe thead th {\n",
       "        text-align: right;\n",
       "    }\n",
       "</style>\n",
       "<table border=\"1\" class=\"dataframe\">\n",
       "  <thead>\n",
       "    <tr style=\"text-align: right;\">\n",
       "      <th></th>\n",
       "      <th>Target</th>\n",
       "      <th>Compound</th>\n",
       "      <th>7</th>\n",
       "      <th>6</th>\n",
       "      <th>5</th>\n",
       "      <th>4</th>\n",
       "    </tr>\n",
       "  </thead>\n",
       "  <tbody>\n",
       "  </tbody>\n",
       "</table>\n",
       "</div>"
      ],
      "text/plain": [
       "Empty DataFrame\n",
       "Columns: [Target, Compound, 7, 6, 5, 4]\n",
       "Index: []"
      ]
     },
     "execution_count": 44,
     "metadata": {},
     "output_type": "execute_result"
    }
   ],
   "source": [
    "tp_pivoted.loc[(tp_pivoted[7]>0.6)&(tp_pivoted[6]<0.4)]"
   ]
  },
  {
   "cell_type": "code",
   "execution_count": 45,
   "metadata": {},
   "outputs": [],
   "source": [
    "def determine_prediction_activity_call(x):\n",
    "    if x[7] >= 0.6 or x[6] >= 0.6:\n",
    "        return 1\n",
    "    elif x[6] <= 0.4:\n",
    "        return 0"
   ]
  },
  {
   "cell_type": "code",
   "execution_count": 51,
   "metadata": {},
   "outputs": [],
   "source": [
    "tp_pivoted['integrated_plasma_activity'] = tp_pivoted.apply(determine_prediction_activity_call, axis=1)"
   ]
  },
  {
   "cell_type": "code",
   "execution_count": null,
   "metadata": {},
   "outputs": [],
   "source": [
    "tp_select = tp_pivoted.loc[~tp_pivoted['integrated_plasma_activity'].isnull(),['Target','Compound','integrated_plasma_activity']].drop_duplicates()\n",
    "tp_select.columns = ['accession', 'parent_molregno', 'integrated_plasma_activity']\n",
    "tp_select['predicted'] = 1\n",
    "\n",
    "chembl_data_select = bioact_slim[['accession','parent_molregno','integrated_plasma_activity']].drop_duplicates()\n",
    "chembl_data_select['predicted'] = 0                                                                                                             \n",
    "\n",
    "concat_df = pd.concat([chembl_data_select, tp_select])"
   ]
  },
  {
   "cell_type": "code",
   "execution_count": 61,
   "metadata": {},
   "outputs": [],
   "source": [
    "def restrict_min_n(integrated_df):\n",
    "    \"\"\"Return copies of dataframe with bioactivities with less than 5 compounds and less than 5 active compounds removed.\n",
    "    kwargs: integrated_df -- dataframe with integrated bioact&plasma concentration\"\"\"\n",
    "    \n",
    "    # Find which targets have less than 5 compounds associated\n",
    "    targets_without_5_compounds = list()\n",
    "    for group in integrated_df.groupby('accession'):\n",
    "        if len(group[1]['parent_molregno'].drop_duplicates()) < 5:\n",
    "            targets_without_5_compounds.append(group[0])\n",
    "            \n",
    "    # Find which targets have less than 5 active compounds associated\n",
    "    targets_without_5_active_compounds = list()    \n",
    "    for group in integrated_df.groupby('accession'):\n",
    "        if len(group[1].loc[group[1]['integrated_plasma_activity']==1,:]) < 5:\n",
    "            targets_without_5_active_compounds.append(group[0])\n",
    "               \n",
    "    chembl_plasma_margin_minimum5 = integrated_df.loc[~integrated_df['accession'].isin(targets_without_5_compounds),:]\n",
    "    chembl_plasma_margin_minimum5active = integrated_df.loc[~integrated_df['accession'].isin(targets_without_5_active_compounds),:]\n",
    "    \n",
    "    return chembl_plasma_margin_minimum5, chembl_plasma_margin_minimum5active"
   ]
  },
  {
   "cell_type": "code",
   "execution_count": null,
   "metadata": {},
   "outputs": [],
   "source": [
    "concat_df_min5, concat_df_min5active = restrict_min_n(concat_df)\n",
    "\n",
    "concat_df_min5active.rename(columns={'molregno': 'parent_molregno'}, inplace=True)\n",
    "\n",
    "concat_df.rename(columns={'molregno': 'parent_molregno'}, inplace=True)\n",
    "concat_df.to_csv(basedir + '/integration_bioact_plasma_conc/results/pchembl6_tp_cutoff_median.txt', sep = '\\t', index=False)\n",
    "\n",
    "concat_df_min5active.to_csv(basedir + '/integration_bioact_plasma_conc/results/pchembl6_tp_cutoff_median_min5active.txt', sep = '\\t', index=False)"
   ]
  }
 ],
 "metadata": {
  "kernelspec": {
   "display_name": "Python 3",
   "language": "python",
   "name": "python3"
  },
  "language_info": {
   "codemirror_mode": {
    "name": "ipython",
    "version": 3
   },
   "file_extension": ".py",
   "mimetype": "text/x-python",
   "name": "python",
   "nbconvert_exporter": "python",
   "pygments_lexer": "ipython3",
   "version": "3.6.7"
  }
 },
 "nbformat": 4,
 "nbformat_minor": 4
}
